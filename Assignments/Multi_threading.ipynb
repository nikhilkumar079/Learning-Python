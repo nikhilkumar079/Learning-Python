{
 "cells": [
  {
   "cell_type": "markdown",
   "id": "02756987-d61b-4eab-b7e7-f349816c5ba1",
   "metadata": {},
   "source": [
    "Q1. What is multithreading in python? Why is it used? Name the module used to handle threads in python."
   ]
  },
  {
   "cell_type": "markdown",
   "id": "b0f206c5-976c-460d-94f2-fbb86bdae86d",
   "metadata": {},
   "source": [
    "Multithreading in Python is a well-known technique in which multiple threads in a process share their data space \n",
    "\n",
    "with the main thread which makes information sharing and communication within threads easy and efficient. The purpose of \n",
    "\n",
    "multithreading is to run multiple tasks and function cells at the same time. The 'threading' module is used for creating, \n",
    "\n",
    "controlling and managing threads in python."
   ]
  },
  {
   "cell_type": "code",
   "execution_count": null,
   "id": "c5f9fe06-3288-48a1-9f38-359d0a076d81",
   "metadata": {},
   "outputs": [],
   "source": []
  },
  {
   "cell_type": "markdown",
   "id": "083af031-c70d-44f6-9f7a-bcbe910ff4f0",
   "metadata": {},
   "source": [
    "Q2. Why threading module used? Write the use of the following functions:\n",
    "1. activeCount()\n",
    "2. currentThread()\n",
    "3. enumerate()"
   ]
  },
  {
   "cell_type": "markdown",
   "id": "830eb670-3fe3-4a7f-994c-ee9f813b75d2",
   "metadata": {},
   "source": [
    "The threading module is a high-level implementation of multithreading used to deploy an application in Python. To use \n",
    "\n",
    "multithreading, we need to import the threading module in Python.\n",
    "\n",
    "activeCount() - This function returns the count of Thread objects which are still alive.\n",
    "\n",
    "currentThread() - It returns the current object of the Thread class.\n",
    "\n",
    "enumerate() - It lists all active Thread objects."
   ]
  },
  {
   "cell_type": "code",
   "execution_count": null,
   "id": "204d1353-e502-4ec3-81b8-b89fe64d8372",
   "metadata": {},
   "outputs": [],
   "source": []
  },
  {
   "cell_type": "markdown",
   "id": "2a1860af-7c6c-4913-89c6-f8e1382fb3be",
   "metadata": {},
   "source": [
    "Q3. Explain the following functions:\n",
    "1. run()\n",
    "2. start()\n",
    "3. join()\n",
    "4. isAlive()"
   ]
  },
  {
   "cell_type": "markdown",
   "id": "6e298dd6-1ae2-474c-bfe4-d1810dab099e",
   "metadata": {},
   "source": [
    "run() - The run() executes any target function belonging to a given thread object that is now active.\n",
    "\n",
    "start() - Starts the activity of a thread. It must be called only once for each thread because it will throw a runtime error \n",
    "\n",
    "if called multiple times.\n",
    "\n",
    "join() - It blocks the execution of other code until the thread on which the join() method was called gets terminated.\n",
    "\n",
    "isAlive() - This function returns true if the thread is still alive.\n",
    "\n",
    "Also, Once a thread object has been made, the start() method can be used to begin the execution of this activity and the \n",
    "\n",
    "join() method can be used to block all other code till the current activity finishes."
   ]
  },
  {
   "cell_type": "code",
   "execution_count": null,
   "id": "7d71c4d9-ac0a-4bb7-84ea-ba2ef05ebbf8",
   "metadata": {},
   "outputs": [],
   "source": []
  },
  {
   "cell_type": "markdown",
   "id": "f7b16d87-e1eb-400e-880a-a8f78fc42ffd",
   "metadata": {},
   "source": [
    "Q4. Write a python program to create two threads. Thread one must print the list of squares and thread two must print the list of cubes."
   ]
  },
  {
   "cell_type": "code",
   "execution_count": 13,
   "id": "7b99ccc5-f2e9-4b5b-a526-4e75fa90dfb0",
   "metadata": {},
   "outputs": [
    {
     "name": "stdout",
     "output_type": "stream",
     "text": [
      "[1, 4, 9, 16, 25, 36, 49, 64, 81, 100]\n",
      "[1, 8, 27, 64, 125, 216, 343, 512, 729, 1000]\n"
     ]
    }
   ],
   "source": [
    "import threading\n",
    "\n",
    "def Cubes(n):\n",
    "    ls = []\n",
    "    for i in range(1,n+1):\n",
    "        ls.append(i**3)    \n",
    "    print(ls)\n",
    "    \n",
    "def Squares(n):\n",
    "    ls1 = []\n",
    "    for i in range(1,n+1):\n",
    "        ls1.append(i**2)\n",
    "    print(ls1)\n",
    "\n",
    "if __name__ ==\"__main__\":\n",
    "\n",
    "    t1 = threading.Thread(target=Squares, args = (10,))\n",
    "    t2 = threading.Thread(target=Cubes, args=(10,))\n",
    "    \n",
    "    t1.start()\n",
    "    t2.start()\n",
    "    t1.join()\n",
    "    t2.join()"
   ]
  },
  {
   "cell_type": "code",
   "execution_count": null,
   "id": "0b7aa6c3-65c5-4a72-bb13-f9aefaed1669",
   "metadata": {},
   "outputs": [],
   "source": []
  },
  {
   "cell_type": "markdown",
   "id": "f0c58d25-8144-47fb-b4cf-5ea576644c2a",
   "metadata": {},
   "source": [
    "Q5. State advantages and disadvantages of multithreading."
   ]
  },
  {
   "cell_type": "markdown",
   "id": "0e797d17-001c-43e4-9c32-c18e1471f9bb",
   "metadata": {},
   "source": [
    "Advantages:\n",
    "\n",
    "1. Multithreaded applications are more responsive.\n",
    "2. It shares resources and its state with sub-threads (child) which makes it more economical.\n",
    "3. It saves time by executing multiple threads at the same time.\n",
    "4. The system does not require too much memory to store multiple threads.\n",
    "\n",
    "Disadvantages:\n",
    "1. It needs more careful synchronization.\n",
    "2. It can consume a large space of stocks of blocked threads.\n",
    "3. It needs support for thread or process."
   ]
  },
  {
   "cell_type": "code",
   "execution_count": null,
   "id": "fa01196f-5ed1-4c65-ac23-c578f268e05e",
   "metadata": {},
   "outputs": [],
   "source": []
  },
  {
   "cell_type": "markdown",
   "id": "8508f04d-3664-444f-8f04-ce13840fe826",
   "metadata": {},
   "source": [
    "Q6. Explain deadlocks and race conditions."
   ]
  },
  {
   "cell_type": "markdown",
   "id": "7c955b18-b4bd-4384-be4e-89c809b819a0",
   "metadata": {},
   "source": [
    "A deadlock occurs when different threads or processes try to acquire the shared system resources at the same time. As a \n",
    "\n",
    "result, none of the processes get a chance to execute as they are waiting for another resource held by some other process.\n",
    "\n",
    "Race Condtion happens when threads or processes attempt to simultaneously access a shared resource, and the accesses can \n",
    "\n",
    "result in an error, we often say the program has a race condition, because the threads or processes are in a “race” to carry \n",
    "\n",
    "out an operation."
   ]
  },
  {
   "cell_type": "code",
   "execution_count": null,
   "id": "cbb95b8f-2bef-4797-afde-f043d7e0fad6",
   "metadata": {},
   "outputs": [],
   "source": []
  }
 ],
 "metadata": {
  "kernelspec": {
   "display_name": "Python 3 (ipykernel)",
   "language": "python",
   "name": "python3"
  },
  "language_info": {
   "codemirror_mode": {
    "name": "ipython",
    "version": 3
   },
   "file_extension": ".py",
   "mimetype": "text/x-python",
   "name": "python",
   "nbconvert_exporter": "python",
   "pygments_lexer": "ipython3",
   "version": "3.10.8"
  }
 },
 "nbformat": 4,
 "nbformat_minor": 5
}
