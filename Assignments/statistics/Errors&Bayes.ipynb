{
 "cells": [
  {
   "cell_type": "markdown",
   "id": "72a8c4f1-7ec1-41a2-b5fa-99b570cd4d1b",
   "metadata": {},
   "source": [
    "Q1. What is the difference between a t-test and a z-test? Provide an example scenario where you would\n",
    "use each type of test."
   ]
  },
  {
   "cell_type": "markdown",
   "id": "fb52c548-7976-4053-b9c2-5a75dc536648",
   "metadata": {},
   "source": [
    "A z-test is used when the population standard deviation is known, or when the sample size is large enough to assume the sample standard deviation is a good estimate of the population standard deviation. A t-test is used when the population standard deviation is unknown, and the sample size is small.\n",
    "\n",
    "Scenario: A company wants to determine whether their employees' salaries are significantly different from the national average.\n",
    "\n",
    "Z-test: The national average salary for the company's industry is known to be Rs.70,000 per year, and the standard deviation is Rs.10,000. The company samples a large enough group of employees (say, 100) and finds that their average salary is Rs.72,000 per year. In this case, the company can use a z-test to determine whether the difference between the sample mean and the population mean is statistically significant.\n",
    "\n",
    "T-test: The company only has a small sample size (say, 10), and they do not know the population standard deviation. In this case, they would use a t-test to determine whether the difference between the sample mean and the population mean is statistically significant. For example, if the sample mean is Rs.72,000 and the sample standard deviation is Rs.8,000, they could use a t-test to determine whether this difference is significant."
   ]
  },
  {
   "cell_type": "code",
   "execution_count": null,
   "id": "fb9168e5-f5c0-4a9f-8557-25cc43b7c4a5",
   "metadata": {},
   "outputs": [],
   "source": []
  },
  {
   "cell_type": "markdown",
   "id": "03ea528b-c0f6-44d4-bacd-0688bea294a5",
   "metadata": {},
   "source": [
    "Q2. Differentiate between one-tailed and two-tailed tests."
   ]
  },
  {
   "cell_type": "markdown",
   "id": "10bef326-7ea4-4258-bb79-f77fabbd5b31",
   "metadata": {},
   "source": [
    "A one-tailed test, also known as a directional test, is a statistical test that is designed to test a specific directional hypothesis. It assumes that the effect of the independent variable will be in a specific direction, either positive or negative. In this type of test, the rejection region is located in one tail of the distribution, either the upper or lower tail, depending on the direction of the hypothesis. For example, a one-tailed test could be used to test the hypothesis that a new drug will increase the average response time of participants.\n",
    "\n",
    "A two-tailed test, also known as a non-directional test, is a statistical test that is designed to test a hypothesis that does not specify the direction of the effect of the independent variable. In this type of test, the rejection region is split equally between the upper and lower tails of the distribution. This type of test is commonly used when the hypothesis is that there is a difference between two groups or conditions, but it is unclear in which direction the difference lies. For example, a two-tailed test could be used to test the hypothesis that there is a difference in the average response time of participants who receive a new drug compared to those who receive a placebo."
   ]
  },
  {
   "cell_type": "code",
   "execution_count": null,
   "id": "f029da01-0020-4761-997d-e678c7907aad",
   "metadata": {},
   "outputs": [],
   "source": []
  },
  {
   "cell_type": "markdown",
   "id": "6e603aac-2fa9-453c-a7a0-5a5232faa5e3",
   "metadata": {},
   "source": [
    "Q3. Explain the concept of Type 1 and Type 2 errors in hypothesis testing. Provide an example scenario for\n",
    "each type of error."
   ]
  },
  {
   "cell_type": "markdown",
   "id": "688408e4-cedf-4b80-ad6f-3fa758c700fd",
   "metadata": {},
   "source": [
    "Type 1 error occurs when we reject a null hypothesis that is actually true. In other words, we conclude that there is a significant effect or difference when there is no such effect or difference in reality.\n",
    "\n",
    "An example of a Type 1 error scenario is a drug trial where the null hypothesis is that the drug has no effect on the disease. Suppose the researchers reject the null hypothesis and conclude that the drug is effective in treating the disease, when in fact, the drug has no effect. This is a Type 1 error, as the null hypothesis is true, but the researchers have wrongly rejected it.\n",
    "\n",
    "Type 2 error, on the other hand, occurs when we fail to reject a null hypothesis that is actually false. In other words, we fail to detect a significant effect or difference when there is such an effect or difference in reality.\n",
    "\n",
    "An example of a Type 2 error scenario is a medical test where the null hypothesis is that a patient is healthy. Suppose the patient is actually sick, but the test fails to detect the illness, and the null hypothesis is not rejected. This is a Type 2 error, as the null hypothesis is false, but we have failed to reject it."
   ]
  },
  {
   "cell_type": "code",
   "execution_count": null,
   "id": "ba45b12d-1e56-4415-84de-85fe9f5f7711",
   "metadata": {},
   "outputs": [],
   "source": []
  },
  {
   "cell_type": "markdown",
   "id": "0ceb45be-b39d-41c4-acaf-03aea7ff0527",
   "metadata": {},
   "source": [
    "Q4. Explain Bayes's theorem with an example."
   ]
  },
  {
   "cell_type": "markdown",
   "id": "486f741d-c50d-4930-9169-b43109e7ee7c",
   "metadata": {},
   "source": [
    "Bayes's theorem is a mathematical formula that describes the probability of an event based on prior knowledge or beliefs. \n",
    "The formula for Bayes's theorem is:\n",
    "\n",
    "P(A|B) = P(B|A) * P(A) / P(B)\n",
    "\n",
    "Where:\n",
    "\n",
    "P(A|B) is the probability of event A given that event B has occurred\n",
    "\n",
    "P(B|A) is the probability of event B given that event A has occurred\n",
    "\n",
    "P(A) is the prior probability of event A\n",
    "\n",
    "P(B) is the prior probability of event B\n",
    "\n",
    "Here's an example to illustrate how Bayes's theorem can be applied:\n",
    "\n",
    "Suppose there is a medical test to detect a rare disease. The test is known to be 95% accurate, meaning that if a person has the disease, there is a 95% chance that the test will be positive, and if a person does not have the disease, there is a 95% chance that the test will be negative. The prevalence of the disease in the population is 1%.\n",
    "\n",
    "We can use Bayes's theorem to calculate the probability of a person having the disease given a positive test result.\n",
    "\n",
    "Let's define the events as follows:\n",
    "\n",
    "A: The person has the disease\n",
    "\n",
    "B: The test result is positive\n",
    "\n",
    "Using Bayes's theorem, we can calculate:\n",
    "\n",
    "P(A|B) = P(B|A) * P(A) / P(B)\n",
    "\n",
    "P(A) = 0.01 (prevalence of the disease)\n",
    "\n",
    "P(B|A) = 0.95 (sensitivity of the test)\n",
    "\n",
    "P(B|not A) = 0.05 (specificity of the test)\n",
    "\n",
    "P(not A) = 0.99 (complement of the prevalence)\n",
    "\n",
    "P(B) = P(B|A) * P(A) + P(B|not A) * P(not A) = 0.95 * 0.01 + 0.05 * 0.99 = 0.0595\n",
    "\n",
    "Therefore:\n",
    "\n",
    "P(A|B) = 0.95 * 0.01 / 0.0595 = 0.16\n",
    "\n",
    "This means that even if a person tests positive for the disease, there is only a 16% chance that they actually have the disease. In other words, the positive test result is not very conclusive in this case, given the low prevalence of the disease in the population."
   ]
  },
  {
   "cell_type": "code",
   "execution_count": null,
   "id": "ac7921c3-79bb-4e47-9acb-2965fbad7242",
   "metadata": {},
   "outputs": [],
   "source": []
  },
  {
   "cell_type": "markdown",
   "id": "da5e759e-bba3-4929-b975-fa100a537043",
   "metadata": {},
   "source": [
    "Q5. What is a confidence interval? How to calculate the confidence interval, explain with an example."
   ]
  },
  {
   "cell_type": "markdown",
   "id": "d14ab000-9b40-4abd-b7c1-bf0cbd0d51a9",
   "metadata": {},
   "source": [
    "Confidence interval is a range of values that is likely to contain the true population parameter with a specified degree of confidence.\n",
    "\n",
    "Suppose we want to estimate the average height of a population of 500 individuals. We take a random sample of 50 individuals from the population and measure their heights. The sample mean height is 170 cm, and the sample standard deviation is 10 cm.\n",
    "\n",
    "To calculate the 95% confidence interval for the population mean height, we use the following formula:\n",
    "\n",
    "Confidence interval = sample mean ± (z-value * standard error)\n",
    "\n",
    "where the standard error is the standard deviation of the sample divided by the square root of the sample size, and the z-value is the critical value from the standard normal distribution corresponding to the desired confidence level (in this case, 1.96 for a 95% confidence level).\n",
    "\n",
    "Plugging in the values, we get:\n",
    "\n",
    "Confidence interval = 170 ± (1.96 * 10/√50) = (164.6, 175.4)\n",
    "\n",
    "This means that we can be 95% confident that the true population mean height falls within the range of 164.6 to 175.4 cm."
   ]
  },
  {
   "cell_type": "code",
   "execution_count": null,
   "id": "a20a50bc-67e4-41e4-a84b-9e280e7a2474",
   "metadata": {},
   "outputs": [],
   "source": []
  },
  {
   "cell_type": "markdown",
   "id": "ede19712-3f27-4597-8e25-ac03e344f1f1",
   "metadata": {},
   "source": [
    "Q6. Use Bayes' Theorem to calculate the probability of an event occurring given prior knowledge of the\n",
    "event's probability and new evidence. Provide a sample problem and solution."
   ]
  },
  {
   "cell_type": "markdown",
   "id": "e12b607b-1db7-44e8-8c2d-7c6f86ff5bdd",
   "metadata": {},
   "source": [
    "Suppose there is a rare disease that affects 1% of the population. There is a test for the disease that is 99% accurate, meaning that if a person has the disease, the test will be positive with 99% probability, and if a person does not have the disease, the test will be negative with 99% probability. You take the test and it comes back positive. What is the probability that you have the disease?\n",
    "\n",
    "Let's define the events as follows:\n",
    "\n",
    "A: The person has the disease\n",
    "\n",
    "B: The test result is positive\n",
    "\n",
    "Using Bayes' Theorem, we can calculate:\n",
    "\n",
    "P(A|B) = P(B|A) * P(A) / P(B)\n",
    "\n",
    "where:\n",
    "\n",
    "P(A|B) is the probability of having the disease given a positive test result\n",
    "\n",
    "P(B|A) is the probability of a positive test result given that the person has the disease, which is 0.99\n",
    "\n",
    "P(A) is the prior probability of having the disease, which is 0.01\n",
    "\n",
    "P(B) is the probability of a positive test result, which can be calculated as:\n",
    "\n",
    "P(B) = P(B|A) * P(A) + P(B|not A) * P(not A)\n",
    "= 0.99 * 0.01 + 0.01 * 0.99\n",
    "= 0.0198\n",
    "\n",
    "Therefore:\n",
    "\n",
    "P(A|B) = P(B|A) * P(A) / P(B)\n",
    "= 0.99 * 0.01 / 0.0198\n",
    "= 0.5\n",
    "\n",
    "So the probability that you have the disease given a positive test result is 50%. Despite the test being highly accurate, the low prevalence of the disease means that even with a positive test result, there is still a significant chance that you do not actually have the disease."
   ]
  },
  {
   "cell_type": "code",
   "execution_count": null,
   "id": "2d2d87d4-7abb-4465-a746-7e7b871f6763",
   "metadata": {},
   "outputs": [],
   "source": []
  },
  {
   "cell_type": "markdown",
   "id": "544c2021-be9d-4a71-b414-0390d1eb50d5",
   "metadata": {},
   "source": [
    "Q7. Calculate the 95% confidence interval for a sample of data with a mean of 50 and a standard deviation\n",
    "of 5. Interpret the results."
   ]
  },
  {
   "cell_type": "markdown",
   "id": "86651081-2f64-48c1-ad86-fde4f2d91d92",
   "metadata": {},
   "source": [
    "For a 95% confidence interval, the z-value is 1.96. So we have:\n",
    "\n",
    "Confidence interval = 50 ± (1.96 * 5 / √n)\n",
    "\n",
    "where n is the sample size.\n",
    "\n",
    "Assuming a sample size of n = 100, we get:\n",
    "\n",
    "Confidence interval = 50 ± (1.96 * 5 / √100) = (48.02, 51.98)\n",
    "\n",
    "We can say that we are 95% confident that the true population mean falls within the range of 48.02 to 51.98 based on the given sample."
   ]
  },
  {
   "cell_type": "code",
   "execution_count": null,
   "id": "e9102b19-efac-43ba-90fc-28ad7ad08e68",
   "metadata": {},
   "outputs": [],
   "source": []
  },
  {
   "cell_type": "markdown",
   "id": "ad7bed35-f766-488b-be63-df5d007dc700",
   "metadata": {},
   "source": [
    "Q8. What is the margin of error in a confidence interval? How does sample size affect the margin of error?\n",
    "Provide an example of a scenario where a larger sample size would result in a smaller margin of error."
   ]
  },
  {
   "cell_type": "markdown",
   "id": "1df07ed2-0c63-45a6-a04d-d0c8f2d489d3",
   "metadata": {},
   "source": [
    "The margin of error in a confidence interval is the amount of uncertainty or error that we allow for when estimating the population parameter based on a sample. \n",
    "\n",
    "Generally, a larger sample size will result in a smaller margin of error, assuming everything else is held constant. This is because as the sample size increases, the sample statistic becomes more representative of the population, and there is less variability in the estimate.\n",
    "\n",
    "For example, suppose we want to estimate the proportion of voters who support a particular candidate in a given population. We take a random sample of 100 voters and find that 60% of them support the candidate. If we calculate a 95% confidence interval for the population proportion, assuming a normal distribution and a standard error of 0.05, we get:\n",
    "\n",
    "Margin of error = 1.96 * 0.05 = 0.098\n",
    "\n",
    "Confidence interval = 0.60 ± 0.098 = (0.502, 0.698)\n",
    "\n",
    "Now suppose we take a larger sample of 1000 voters and find that 60% of them support the candidate. If we calculate a 95% confidence interval using the same assumptions, we get:\n",
    "\n",
    "Margin of error = 1.96 * 0.016 = 0.031\n",
    "\n",
    "Confidence interval = 0.60 ± 0.031 = (0.569, 0.631)\n",
    "\n",
    "In this scenario, a larger sample size has resulted in a smaller margin of error and a narrower confidence interval. This means that we can be more confident in our estimate of the population proportion based on the larger sample, as the estimate is likely to be closer to the true value."
   ]
  },
  {
   "cell_type": "code",
   "execution_count": null,
   "id": "794e26e8-e870-4852-b649-f8194d580862",
   "metadata": {},
   "outputs": [],
   "source": []
  },
  {
   "cell_type": "markdown",
   "id": "28ce5d80-7593-457a-89fa-67a418ec0636",
   "metadata": {},
   "source": [
    "Q9. Calculate the z-score for a data point with a value of 75, a population mean of 70, and a population\n",
    "standard deviation of 5. Interpret the results."
   ]
  },
  {
   "cell_type": "markdown",
   "id": "bb993625-7e96-4722-8143-5017cebbef02",
   "metadata": {},
   "source": [
    "Z-Score, z = (x - μ) / σ\n",
    "\n",
    "where x is the data point, μ is the population mean, and σ is the population standard deviation.\n",
    "\n",
    "Substituting the given values, we get:\n",
    "\n",
    "z = (75 - 70) / 5 = 1\n",
    "\n",
    "Interpreting the result, a z-score of 1 means that the data point is one standard deviation above the population mean. In other words, the value of 75 is relatively high compared to the rest of the population data, and it is located one standard deviation above the mean. The sign of the z-score (+1 in this case) indicates the direction of the deviation, meaning that the value of 75 is above the mean."
   ]
  },
  {
   "cell_type": "code",
   "execution_count": null,
   "id": "52d89653-2d61-4ceb-bea4-69770ea54f38",
   "metadata": {},
   "outputs": [],
   "source": []
  },
  {
   "cell_type": "markdown",
   "id": "23801f4e-7f0d-435d-b7db-96d8d4e734ae",
   "metadata": {},
   "source": [
    "Q10. In a study of the effectiveness of a new weight loss drug, a sample of 50 participants lost an average\n",
    "of 6 pounds with a standard deviation of 2.5 pounds. Conduct a hypothesis test to determine if the drug is\n",
    "significantly effective at a 95% confidence level using a t-test."
   ]
  },
  {
   "cell_type": "markdown",
   "id": "4f09d7e2-3def-4ba0-a219-41016e126166",
   "metadata": {},
   "source": [
    "Null hypothesis: The weight loss drug has no significant effect on weight loss.\n",
    "\n",
    "Alternative hypothesis: The weight loss drug has a significant effect on weight loss.\n",
    "\n",
    "significance level (alpha) of 0.05 \n",
    "\n",
    "degrees of freedom (df) of n-1 = 49.\n",
    "\n",
    "The critical value for a one-tailed t-test with alpha = 0.05 and df = 49 is 1.677 (from a t-distribution table or calculator).\n",
    "\n",
    "t-test statistic,\n",
    "t = (x̄ - μ) / (s / √n)\n",
    "where x̄ is the sample mean weight loss, μ is the hypothesized population mean weight loss (0 pounds), s is the sample standard deviation, and n is the sample size.\n",
    "\n",
    "Substituting the given values, we get:\n",
    "\n",
    "t = (6 - 0) / (2.5 / √50) = 12\n",
    "\n",
    "The calculated t-value of 12 is much larger than the critical value of 1.677, we can conclude that there is evidence to suggest that the weight loss drug has a significant effect on weight loss."
   ]
  },
  {
   "cell_type": "code",
   "execution_count": null,
   "id": "1d352b26-51ec-481f-a27b-6c6503b9ae09",
   "metadata": {},
   "outputs": [],
   "source": []
  },
  {
   "cell_type": "markdown",
   "id": "9beb93a7-a1d7-4f86-9822-e17ca7d94d29",
   "metadata": {},
   "source": [
    "Q11. In a survey of 500 people, 65% reported being satisfied with their current job. Calculate the 95%\n",
    "confidence interval for the true proportion of people who are satisfied with their job."
   ]
  },
  {
   "cell_type": "markdown",
   "id": "57b0c8cc-b271-4d3a-a47c-8b59879f2f5f",
   "metadata": {},
   "source": [
    "CI = p ± z * (sqrt(p * (1 - p) / n))\n",
    "\n",
    "where CI is the confidence interval, p is the sample proportion, z is the critical value for the desired confidence level (in this case, 1.96 for a 95% confidence level), and n is the sample size.\n",
    "\n",
    "Substituting the given values, we get:\n",
    "\n",
    "CI = 0.65 ± 1.96 * (sqrt(0.65 * (1 - 0.65) / 500))\n",
    "\n",
    "Simplifying the expression, we get:\n",
    "\n",
    "CI = 0.65 ± 0.045\n",
    "\n",
    "This means that we are 95% confident that the true proportion of people who are satisfied with their job falls between 0.605 and 0.695."
   ]
  },
  {
   "cell_type": "code",
   "execution_count": null,
   "id": "488176fa-4466-4f52-9201-406ce73ee02b",
   "metadata": {},
   "outputs": [],
   "source": []
  },
  {
   "cell_type": "markdown",
   "id": "55c35e22-df39-409e-a2d6-0f72cedadccb",
   "metadata": {},
   "source": [
    "Q12. A researcher is testing the effectiveness of two different teaching methods on student performance.\n",
    "Sample A has a mean score of 85 with a standard deviation of 6, while sample B has a mean score of 82\n",
    "with a standard deviation of 5. Conduct a hypothesis test to determine if the two teaching methods have a\n",
    "significant difference in student performance using a t-test with a significance level of 0.01."
   ]
  },
  {
   "cell_type": "markdown",
   "id": "b5ba11f2-0f10-4ccc-9d58-f3f63224239e",
   "metadata": {},
   "source": [
    "Assuming sample size of A as 10 and B as 12.\n",
    "\n",
    "Null hypothesis: There is no significant difference in student performance between the two teaching methods. The mean score for sample A is equal to the mean score for sample B. H0: μA = μB\n",
    "\n",
    "Alternative hypothesis: There is a significant difference in student performance between the two teaching methods. The mean score for sample A is not equal to the mean score for sample B. Ha: μA ≠ μB\n",
    "\n",
    "We will use a two-sample t-test with a significance level (alpha) of 0.01 and degrees of freedom (df) of (nA + nB) - 2 = (10 + 12) - 2 = 20.\n",
    "\n",
    "The critical value for a two-tailed t-test with alpha = 0.01 and df = 20 is ±2.845 (from a t-distribution table or calculator).\n",
    "\n",
    "The pooled standard deviation is calculated as:\n",
    "\n",
    "sp = sqrt(((nA - 1) * sA^2 + (nB - 1) * sB^2) / (nA + nB - 2))\n",
    "\n",
    "where sA is the standard deviation of sample A, sB is the standard deviation of sample B, and nA and nB are the sample sizes.\n",
    "\n",
    "Substituting the given values, we get:\n",
    "\n",
    "sp = sqrt(((10 - 1) * 6^2 + (12 - 1) * 5^2) / (10 + 12 - 2)) = 5.416\n",
    "\n",
    "t-test statistic,\n",
    "\n",
    "t = (x̄A - x̄B) / (sp * sqrt(1/nA + 1/nB))\n",
    "\n",
    "where x̄A is the sample mean score for sample A, x̄B is the sample mean score for sample B, sp is the pooled standard deviation, and nA and nB are the sample sizes.\n",
    "\n",
    "Substituting the given values, we get:\n",
    "\n",
    "t = (85 - 82) / (5.416 * sqrt(1/10 + 1/12)) = 1.358\n",
    "\n",
    "The calculated t-value of 1.358 is less than the critical value of ±2.845, indicating that we cannot reject the null hypothesis and we can conclude that there is not enough evidence to suggest that there is a significant difference in student performance between the two teaching methods at a 99% confidence level."
   ]
  },
  {
   "cell_type": "code",
   "execution_count": null,
   "id": "f073bfcb-3f72-43e6-a935-27045037c5ba",
   "metadata": {},
   "outputs": [],
   "source": []
  },
  {
   "cell_type": "markdown",
   "id": "80b7f20a-399f-4c9c-a01e-8dbbddd5cfcd",
   "metadata": {},
   "source": [
    "Q13. A population has a mean of 60 and a standard deviation of 8. A sample of 50 observations has a mean\n",
    "of 65. Calculate the 90% confidence interval for the true population mean."
   ]
  },
  {
   "cell_type": "markdown",
   "id": "6f31fb34-837b-4a30-ac4c-7a2d6ab75aa5",
   "metadata": {},
   "source": [
    "CI = X̄ ± Z(α/2) * (σ/√n)\n",
    "\n",
    "Where:\n",
    "X̄ = sample mean = 65\n",
    "Z(α/2) = z-score at alpha level divided by 2. \n",
    "\n",
    "At 90% confidence level, α = 0.10, so α/2 = 0.05. Looking up z-score from z-table or calculator, we get z(0.05) = 1.645\n",
    "\n",
    "σ = population standard deviation = 8\n",
    "\n",
    "n = sample size = 50\n",
    "\n",
    "Substituting the values in the formula, we get:\n",
    "\n",
    "CI = 65 ± 1.645 * (8/√50)\n",
    "CI = 65 ± 1.845\n",
    "CI = (63.155, 66.845)\n",
    "\n",
    "Interpretation:\n",
    "We are 90% confident that the true population mean falls between 63.155 and 66.845."
   ]
  },
  {
   "cell_type": "code",
   "execution_count": null,
   "id": "fe731f90-072e-444f-94f4-0f570b50e4f7",
   "metadata": {},
   "outputs": [],
   "source": []
  },
  {
   "cell_type": "markdown",
   "id": "557af635-c82b-438f-a6fd-5ba41b55a7d8",
   "metadata": {},
   "source": [
    "Q14. In a study of the effects of caffeine on reaction time, a sample of 30 participants had an average\n",
    "reaction time of 0.25 seconds with a standard deviation of 0.05 seconds. Conduct a hypothesis test to\n",
    "determine if the caffeine has a significant effect on reaction time at a 90% confidence level using a t-test."
   ]
  },
  {
   "cell_type": "markdown",
   "id": "d47224a3-4ab3-4edc-89b7-692c4cdc6fcc",
   "metadata": {},
   "source": [
    "H0: µ = 0.25 (caffeine has no significant effect on reaction time)\n",
    "Ha: µ ≠ 0.25 (caffeine has a significant effect on reaction time)\n",
    "\n",
    "The test statistic is calculated as:\n",
    "\n",
    "t = (X̄ - µ) / (s / √n)\n",
    "\n",
    "Where:\n",
    "X̄ = sample mean = 0.25\n",
    "\n",
    "µ = hypothesized population mean = 0.25\n",
    "\n",
    "s = sample standard deviation = 0.05\n",
    "\n",
    "n = sample size = 30\n",
    "\n",
    "Substituting the values, we get:\n",
    "\n",
    "t = (0.25 - 0.25) / (0.05 / √30)\n",
    "t = 0 / 0.00914\n",
    "t = 0\n",
    "\n",
    "The critical t-value at a significance level of 0.10 and 28 degrees of freedom (n-1) is ±1.701.\n",
    "\n",
    "Since the calculated t-value (0) is within the range of -1.701 to 1.701, we fail to reject the null hypothesis and therefore, we can conclude that there is no significant difference in reaction time between participants who consume caffeine and those who do not."
   ]
  },
  {
   "cell_type": "code",
   "execution_count": null,
   "id": "8b2f4bab-63a0-45cb-9966-c793e0679f1b",
   "metadata": {},
   "outputs": [],
   "source": []
  }
 ],
 "metadata": {
  "kernelspec": {
   "display_name": "Python 3 (ipykernel)",
   "language": "python",
   "name": "python3"
  },
  "language_info": {
   "codemirror_mode": {
    "name": "ipython",
    "version": 3
   },
   "file_extension": ".py",
   "mimetype": "text/x-python",
   "name": "python",
   "nbconvert_exporter": "python",
   "pygments_lexer": "ipython3",
   "version": "3.10.8"
  }
 },
 "nbformat": 4,
 "nbformat_minor": 5
}
