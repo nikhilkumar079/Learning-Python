{
 "cells": [
  {
   "cell_type": "markdown",
   "id": "22c12a68-8100-45a4-b46b-55160aef4b14",
   "metadata": {},
   "source": [
    "Q1. What are the Probability Mass Function (PMF) and Probability Density Function (PDF)? Explain with\n",
    "an example."
   ]
  },
  {
   "cell_type": "markdown",
   "id": "8b064d88-2901-46b0-96ad-7cc15bad77f6",
   "metadata": {},
   "source": [
    "PMF is a function that describes the probability distribution of a discrete random variable. It gives the probability of each possible outcome in a discrete set of values. \n",
    "\n",
    "For instance, consider a random variable X representing the outcome of a fair six-sided die roll. The PMF of X can be represented as:\n",
    "\n",
    "PMF(X=x) = 1/6 for x ∈ {1,2,3,4,5,6}\n",
    "\n",
    "PDF is a function that describes the probability distribution of a continuous random variable. It gives the probability density at each point in the continuous set of values. \n",
    "\n",
    "For instance, consider a random variable Y representing the time it takes for a customer to complete a transaction at a store. The PDF of Y can be represented as:\n",
    "\n",
    "PDF(Y=y) = 1/20 e^(-y/20) for y ≥ 0\n",
    "\n",
    "Here, the PDF gives the probability density of each possible value of Y, which is exponentially decreasing with time. The area under the PDF curve represents the total probability, which is always equal to 1."
   ]
  },
  {
   "cell_type": "code",
   "execution_count": null,
   "id": "e9124e14-4951-4271-8d41-245e83f9870a",
   "metadata": {},
   "outputs": [],
   "source": []
  },
  {
   "cell_type": "markdown",
   "id": "4b47c669-59b3-4b05-b0ce-82ba05a37e69",
   "metadata": {},
   "source": [
    "Q2. What is Cumulative Density Function (CDF)? Explain with an example. Why CDF is used?"
   ]
  },
  {
   "cell_type": "markdown",
   "id": "ab2f29f2-6eda-41d6-8de8-17d8ec2b609a",
   "metadata": {},
   "source": [
    "CDF gives the probability that a random variable takes on a value less than or equal to a given value.\n",
    "\n",
    "For a continuous random variable, the CDF is obtained by integrating the PDF from negative infinity to the given value. For a discrete random variable, the CDF is obtained by adding up the PMF values for all values less than or equal to the given value.\n",
    "\n",
    "For example, we have a random variable X that represents the number of heads obtained when flipping a fair coin three times. The PMF of X is:\n",
    "\n",
    "PMF(X = 0) = 1/8\n",
    "PMF(X = 1) = 3/8\n",
    "PMF(X = 2) = 3/8\n",
    "PMF(X = 3) = 1/8\n",
    "\n",
    "To find the CDF at x = 2, we add up the probabilities of X taking on the values 0, 1, or 2:\n",
    "\n",
    "CDF(X ≤ 2) = PMF(X = 0) + PMF(X = 1) + PMF(X = 2) = 1/8 + 3/8 + 3/8 = 7/8\n",
    "\n",
    "The CDF at x = 2 gives the probability that the number of heads obtained is less than or equal to 2 when flipping a coin three times.\n",
    "\n",
    "CDF is used for a variety of statistical applications, such as hypothesis testing, confidence interval estimation, and simulation. The CDF provides a useful tool for calculating probabilities and making statistical inferences based on the probability distribution of a random variable. Additionally, CDF can be used to obtain other useful quantities, such as the mean and variance of a random variable."
   ]
  },
  {
   "cell_type": "code",
   "execution_count": null,
   "id": "d80039cb-ce28-4791-9317-c9f76919fd4a",
   "metadata": {},
   "outputs": [],
   "source": []
  },
  {
   "cell_type": "markdown",
   "id": "d7f2ff3c-2992-4515-8e16-b383a10a7016",
   "metadata": {},
   "source": [
    "Q3. What are some examples of situations where the normal distribution might be used as a model?\n",
    "Explain how the parameters of the normal distribution relate to the shape of the distribution."
   ]
  },
  {
   "cell_type": "markdown",
   "id": "625bab54-43ad-4ae9-80be-694c2704ab06",
   "metadata": {},
   "source": [
    "Some examples of situations where the normal distribution might be used as a model:\n",
    "1. Exam scores: In a large class of students, exam scores may be approximately normally distributed.\n",
    "2. Medical measurements: Some medical measurements, such as blood pressure or heart rate, may follow a normal distribution.\n",
    "3. Financial returns: The returns of financial investments may be modeled using the normal distribution, assuming they are independent and identically distributed.\n",
    "\n",
    "The normal distribution is characterized by two parameters: the mean (μ) and the standard deviation (σ). The mean determines the center of the distribution, while the standard deviation controls the spread of the distribution.\n",
    "\n",
    "If μ=0 and σ=1, the normal distribution is known as the standard normal distribution. In this case, the distribution has a bell-shaped curve with the highest point at the mean, which is zero. Approximately 68% of the data will fall within one standard deviation of the mean, 95% within two standard deviations, and 99.7% within three standard deviations.\n",
    "\n",
    "If μ is greater than zero, the distribution will be shifted to the right, and if it is less than zero, it will be shifted to the left. If σ is small, the distribution will be narrow and peaked, while if σ is large, the distribution will be wide and flattened."
   ]
  },
  {
   "cell_type": "code",
   "execution_count": null,
   "id": "ca2bfb12-32ed-4b99-8f39-6e5ab800090d",
   "metadata": {},
   "outputs": [],
   "source": []
  },
  {
   "cell_type": "markdown",
   "id": "27ea7288-8412-471d-a235-cdf85ddd4122",
   "metadata": {},
   "source": [
    "Q4. Explain the importance of Normal Distribution. Give a few real-life examples of Normal\n",
    "Distribution."
   ]
  },
  {
   "cell_type": "markdown",
   "id": "b7a60479-5dfd-434b-9f4e-e9deed98d916",
   "metadata": {},
   "source": [
    "Some reasons why the normal distribution is important:\n",
    "\n",
    "1. It is a commonly occurring distribution: The normal distribution is found in many natural phenomena, such as the heights and weights of individuals, test scores, and errors in measurements. Thus, it is important to understand and model these phenomena using the normal distribution.\n",
    "\n",
    "2. It simplifies statistical analysis: The normal distribution is mathematically tractable and has many analytical properties, making it easy to analyze statistically. This simplifies many statistical analyses, such as hypothesis testing and parameter estimation.\n",
    "\n",
    "3. It forms the basis of many statistical techniques: Many statistical techniques, such as linear regression and ANOVA, assume the normal distribution for the errors or residuals. Therefore, understanding the normal distribution is critical for understanding and applying these techniques.\n",
    "\n",
    "Few Real World Examples:\n",
    "\n",
    "Heights of adults: The heights of adults are approximately normally distributed, with a mean of around 5'7\" and a standard deviation of around 2.5\".\n",
    "\n",
    "IQ scores: IQ scores are approximately normally distributed, with a mean of 100 and a standard deviation of 15.\n",
    "\n",
    "Blood pressure: Blood pressure readings in a population can be modeled by a normal distribution, with mean and standard deviation varying based on the population.\n",
    "\n",
    "Stock prices: Stock prices are often assumed to follow a log-normal distribution, which is a related distribution to the normal distribution.\n",
    "\n",
    "Test scores: The scores on many standardized tests, such as the SAT or GRE, are approximately normally distributed, with a mean and standard deviation varying by the specific test."
   ]
  },
  {
   "cell_type": "code",
   "execution_count": null,
   "id": "e181f8eb-48f4-42e1-aea9-bf72165363f2",
   "metadata": {},
   "outputs": [],
   "source": []
  },
  {
   "cell_type": "markdown",
   "id": "d5cfc94f-26f9-4763-aa7d-bc03f9f94a8e",
   "metadata": {},
   "source": [
    "Q5. What is Bernaulli Distribution? Give an Example. What is the difference between Bernoulli\n",
    "Distribution and Binomial Distribution?"
   ]
  },
  {
   "cell_type": "markdown",
   "id": "ad79aa08-6914-4af0-9c33-ad77a1f0f4bf",
   "metadata": {},
   "source": [
    "Bernoulli distribution is a probability distribution that models the probability of a binary event, where the outcome can be either a success or a failure.\n",
    "\n",
    "For example, Suppose a coin is flipped, and we are interested in the probability of getting heads. We can model this using the Bernoulli distribution, where the outcome is heads (success) with probability p = 0.5 and tails (failure) with probability 1-p = 0.5\n",
    "\n",
    "The difference is Bernoulli distribution is a probability distribution that models the probability of a binary event, while the binomial distribution models the number of successes in a fixed number of independent trials. The Bernoulli distribution is a special case of the binomial distribution, with n=1.\n"
   ]
  },
  {
   "cell_type": "code",
   "execution_count": null,
   "id": "8fdba66f-cdf6-49ed-9239-8c4204914991",
   "metadata": {},
   "outputs": [],
   "source": []
  },
  {
   "cell_type": "markdown",
   "id": "bd62e00e-e548-439a-957b-e4864d2c23f4",
   "metadata": {},
   "source": [
    "Q6. Consider a dataset with a mean of 50 and a standard deviation of 10. If we assume that the dataset\n",
    "is normally distributed, what is the probability that a randomly selected observation will be greater\n",
    "than 60? Use the appropriate formula and show your calculations."
   ]
  },
  {
   "cell_type": "markdown",
   "id": "940b696d-2a48-4d10-90e2-57b418572261",
   "metadata": {},
   "source": [
    "The Z-Score should be calculated in order to find probability that a randomly selected observation will be greater than 60.\n",
    "\n",
    "Z = x-mean/(std)\n",
    "x = 60\n",
    "mean = 50\n",
    "std = 10\n",
    "\n",
    "Z = 60-50/10 = 1\n",
    "\n",
    "And from Z table for Z = 1 the value of probability is 0.84134. But, we need probability greater than 60.\n",
    "\n",
    "Therefore, the value of probability is 1 - 0.84134 = 0.15865"
   ]
  },
  {
   "cell_type": "code",
   "execution_count": 5,
   "id": "cba6958b-5dc9-49c9-8e49-dec6982d2851",
   "metadata": {},
   "outputs": [
    {
     "name": "stdout",
     "output_type": "stream",
     "text": [
      "The probability of a randomly selected observation being greater than 60 is: 0.15865525393145707\n"
     ]
    }
   ],
   "source": [
    "# The python code to calculate the probability that a randomly selected observation will be greater than 60\n",
    "import scipy.stats as stats\n",
    "\n",
    "mean = 50\n",
    "std = 10\n",
    "x = 60\n",
    "\n",
    "z = (x - mean) / std\n",
    "prob = 1 - stats.norm.cdf(z)\n",
    "\n",
    "print(\"The probability of a randomly selected observation being greater than 60 is:\", prob)"
   ]
  },
  {
   "cell_type": "code",
   "execution_count": null,
   "id": "50ba9b79-3150-4521-8ae8-22964a74ce82",
   "metadata": {},
   "outputs": [],
   "source": []
  },
  {
   "cell_type": "markdown",
   "id": "e78486dc-6de6-4c58-b63a-bda27211a55a",
   "metadata": {},
   "source": [
    "Q7. Explain uniform Distribution with an example."
   ]
  },
  {
   "cell_type": "markdown",
   "id": "3fe1ae32-80ba-46d5-ad2e-e15c3f797558",
   "metadata": {},
   "source": [
    "Uniform distribution is a probability distribution where all possible outcomes are equally likely.\n",
    "\n",
    "For example, the rolling of a fair die. In this case, the distribution of the outcome is uniform, as all six possible outcomes (1, 2, 3, 4, 5, 6) are equally likely. Each outcome has a probability of 1/6, which is the same for all outcomes."
   ]
  },
  {
   "cell_type": "code",
   "execution_count": null,
   "id": "09eaef79-5672-4753-98e9-5332fe2d4c8f",
   "metadata": {},
   "outputs": [],
   "source": []
  },
  {
   "cell_type": "markdown",
   "id": "37708581-3ded-42ea-a82b-bcd725ea6611",
   "metadata": {},
   "source": [
    "Q8. What is the z score? State the importance of the z score."
   ]
  },
  {
   "cell_type": "markdown",
   "id": "bb21e5ff-e332-44f8-a32b-23ed00b86433",
   "metadata": {},
   "source": [
    "The z-score is a statistical measure that indicates how many standard deviations a data point is away from the mean of a dataset. The importance of the z-score lies in its ability to standardize data, making it easier to compare and interpret values from different datasets. Also, z-score can be used to identify outliers in a dataset. Data points that have a z-score that is significantly higher or lower than the mean can be considered outliers, which may indicate an error in the data or a unique data point that requires further investigation."
   ]
  },
  {
   "cell_type": "code",
   "execution_count": null,
   "id": "5c1eb7ce-b528-45c8-a5f9-7f46f822cb4a",
   "metadata": {},
   "outputs": [],
   "source": []
  },
  {
   "cell_type": "markdown",
   "id": "3a5524aa-9a04-4e8c-b777-c5728cc78f3a",
   "metadata": {},
   "source": [
    "Q9. What is Central Limit Theorem? State the significance of the Central Limit Theorem."
   ]
  },
  {
   "cell_type": "markdown",
   "id": "86d892df-182a-408b-9d5b-15bf55b1de62",
   "metadata": {},
   "source": [
    "The CLT is a statistical theory that states that - if you take a sufficiently large sample size from a population with a finite level of variance, the mean of all samples from that population will be roughly equal to the population mean.\n",
    "\n",
    "In other words, the CLT tells us that if we take multiple samples of the same size from a population and calculate the mean of each sample, the distribution of these sample means will be approximately normal, even if the population distribution is not normal.\n",
    "\n",
    "The CLT allows us to make inferences about the population from a relatively small sample size, as the sample mean provides a good estimate of the population mean. This is particularly useful when studying large populations that are difficult or expensive to measure in their entirety.\n",
    "\n",
    "To understand assume, election polling. These polls are used to estimate the number of people who support a specific candidate. You may have seen these results with confidence intervals on news channels. The CLT aids in this calculation."
   ]
  },
  {
   "cell_type": "code",
   "execution_count": null,
   "id": "702063e5-4379-441d-8464-a9817e1795eb",
   "metadata": {},
   "outputs": [],
   "source": []
  },
  {
   "cell_type": "markdown",
   "id": "f043864d-5f19-4009-afef-27a3428b40f9",
   "metadata": {},
   "source": [
    "Q10. State the assumptions of the Central Limit Theorem."
   ]
  },
  {
   "cell_type": "markdown",
   "id": "3918f5f2-67c5-4267-a4d8-3445d9d1b598",
   "metadata": {},
   "source": [
    "1. The sample size should be sufficiently large: The CLT assumes that the sample size is large enough to ensure that the sample mean is normally distributed, regardless of the underlying distribution of the population. A sample size of at least 30 is generally considered sufficient for the CLT to apply.\n",
    "\n",
    "2. The data must be independent and identically distributed (i.i.d): The CLT assumes that the data is sampled randomly and each observation is independent of the others, meaning that the outcome of one observation does not influence the outcome of another. Additionally, the CLT assumes that each observation is drawn from the same probability distribution.\n",
    "\n",
    "3. The population should have a finite variance: The CLT assumes that the population from which the sample is drawn has a finite variance, which is a measure of how spread out the data is around the mean. If the population variance is infinite, the CLT may not apply.\n",
    "\n",
    "4. Outliers should be minimized: The CLT assumes that the sample does not contain significant outliers or extreme values, which can distort the distribution of the sample mean."
   ]
  },
  {
   "cell_type": "code",
   "execution_count": null,
   "id": "c7a914d4-d807-4b12-ae6d-76e73cfc59e4",
   "metadata": {},
   "outputs": [],
   "source": []
  }
 ],
 "metadata": {
  "kernelspec": {
   "display_name": "Python 3 (ipykernel)",
   "language": "python",
   "name": "python3"
  },
  "language_info": {
   "codemirror_mode": {
    "name": "ipython",
    "version": 3
   },
   "file_extension": ".py",
   "mimetype": "text/x-python",
   "name": "python",
   "nbconvert_exporter": "python",
   "pygments_lexer": "ipython3",
   "version": "3.10.8"
  }
 },
 "nbformat": 4,
 "nbformat_minor": 5
}
