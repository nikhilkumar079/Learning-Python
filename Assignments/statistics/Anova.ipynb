{
 "cells": [
  {
   "cell_type": "markdown",
   "id": "42bd7b57-adbc-40ea-9a9a-b3b7797cc3f3",
   "metadata": {},
   "source": [
    "Q1. Explain the assumptions required to use ANOVA and provide examples of violations that could impact\n",
    "the validity of the results."
   ]
  },
  {
   "cell_type": "markdown",
   "id": "f4936fe9-eb5e-4ae5-8208-330a3c9758c0",
   "metadata": {},
   "source": [
    "The assumptions required to use ANOVA are:\n",
    "\n",
    "1. Independence: The observations in each group are independent of each other. In other words, the value of one observation should not affect the value of another observation within the same group.\n",
    "\n",
    "2. Normality: The distribution of the data within each group is normally distributed. This means that the data should follow a bell-shaped curve.\n",
    "\n",
    "3. Homogeneity of variance: The variance of the data within each group is equal. This means that the spread of the data should be consistent across all groups.\n",
    "\n",
    "If any of these assumptions are violated, the validity of the results can be impacted. \n",
    "\n",
    "Here are some examples of violations that could occur:\n",
    "\n",
    "Violation of independence: This can occur if the observations within each group are not truly independent. For example, if participants in one group influence each other's responses, this could violate the independence assumption.\n",
    "\n",
    "Violation of normality: This can occur if the data within each group is not normally distributed. For example, if the data is skewed or has outliers, this could violate the normality assumption.\n",
    "\n",
    "Violation of homogeneity of variance: This can occur if the variance of the data within each group is not equal. For example, if one group has a much larger variance than the others, this could violate the homogeneity of variance assumption.\n",
    "\n",
    "When these assumptions are violated, it can affect the accuracy and reliability of the ANOVA results. For example, if the assumption of normality is violated, the ANOVA results may not accurately reflect the true differences between the groups, and may lead to false conclusions. Similarly, if the assumption of independence is violated, it can lead to biased results. Therefore, it is important to carefully check the assumptions before using ANOVA, and to consider alternative methods if any assumptions are violated."
   ]
  },
  {
   "cell_type": "code",
   "execution_count": null,
   "id": "59584938-b5fa-4158-bb51-c1b102d6362f",
   "metadata": {},
   "outputs": [],
   "source": []
  },
  {
   "cell_type": "markdown",
   "id": "344d5218-cf0c-435b-b77f-30830d7821ee",
   "metadata": {},
   "source": [
    "Q2. What are the three types of ANOVA, and in what situations would each be used?"
   ]
  },
  {
   "cell_type": "markdown",
   "id": "92865b4d-591c-426b-8d71-657928f5eb28",
   "metadata": {},
   "source": [
    "The three types of ANOVA are:\n",
    "1. One-way ANOVA: It is used when there is one independent variable (also called a factor) with three or more levels or groups, and one dependent variable. For example, a one-way ANOVA might be used to compare the mean scores of students from different schools on a math test. The independent variable would be school (with three or more levels, such as School A, School B, and School C), and the dependent variable would be math test score.\n",
    "\n",
    "2. Repeated measures ANOVA: Repeated measures ANOVA is used when you want to test for differences in means across multiple time points or conditions for the same group of participants. For example, a repeated measures ANOVA might be used to test for differences in blood pressure at different time points before and after an exercise program.\n",
    "\n",
    "3. Factorial ANOVA: Factorial ANOVA is used when there are two or more independent variables, and one dependent variable. For example, a factorial ANOVA might be used to test for the effect of both gender and age on job satisfaction. In this case, gender would be one independent variable (with two levels: male and female), and age would be the other independent variable (with three levels: 20s, 30s, and 40s). The dependent variable would be job satisfaction."
   ]
  },
  {
   "cell_type": "code",
   "execution_count": null,
   "id": "d3141dea-7194-42aa-8156-2edfed5ca695",
   "metadata": {},
   "outputs": [],
   "source": []
  },
  {
   "cell_type": "markdown",
   "id": "8649185b-2dcd-4f5d-8576-c8daa14af1c9",
   "metadata": {},
   "source": [
    "Q3. What is the partitioning of variance in ANOVA, and why is it important to understand this concept?"
   ]
  },
  {
   "cell_type": "markdown",
   "id": "2fb118b9-39a0-419c-8004-3e1dc61b31bf",
   "metadata": {},
   "source": [
    "The partitioning of variance in ANOVA refers to the process of breaking down the total variance in the data into different sources of variation. In ANOVA, the total variance in the data is partitioned into two types of variance: \n",
    "\n",
    "1. between-group variance: It represents the variation between the means of the different groups being compared, and is calculated as the sum of the squared differences between the group means and the overall mean, weighted by the number of observations in each group.. \n",
    "2. within-group variance: It represents the variation within each group, and is calculated as the sum of the squared differences between each observation and its respective group mean.\n",
    "\n",
    "Partitioning of variance in ANOVA, helps us to quantify the amount of variation in the data that can be attributed to differences between the groups being compared, and the amount that is due to individual differences within each group. This information can be useful in interpreting the results of the analysis and in identifying potential sources of variation that may be contributing to the differences between the groups.\n",
    "\n",
    "Also, it provides a basis for calculating the F-statistic, which is used to test the null hypothesis that there are no significant differences between the group means. The F-statistic is calculated as the ratio of the between-group variance to the within-group variance, and is used to determine whether the observed differences between the groups are larger than what would be expected due to chance.\n",
    "\n",
    "Finally, understanding the partitioning of variance can help us to identify potential sources of error or bias in the data, which can impact the validity of the results. For example, if there is a large amount of within-group variance relative to the between-group variance, this could indicate that there is a significant amount of individual variation that is not accounted for in the analysis, or that there are other factors that are influencing the dependent variable that are not being considered in the study design.\n",
    "\n",
    "In summary, the partitioning of variance in ANOVA is an important concept that helps us to understand the sources of variation in the data and how these sources of variation contribute to the observed differences between the groups. It provides a basis for calculating the F-statistic and testing the null hypothesis, and can help us to identify potential sources of error or bias in the data."
   ]
  },
  {
   "cell_type": "code",
   "execution_count": null,
   "id": "bd57a1c6-c0c8-4cc3-b3f1-8bd3290ad26f",
   "metadata": {},
   "outputs": [],
   "source": []
  },
  {
   "cell_type": "markdown",
   "id": "7144c707-e22c-4acf-b0cb-3e4f5ce67c3c",
   "metadata": {},
   "source": [
    "Q4. How would you calculate the total sum of squares (SST), explained sum of squares (SSE), and residual\n",
    "sum of squares (SSR) in a one-way ANOVA using Python?"
   ]
  },
  {
   "cell_type": "code",
   "execution_count": 10,
   "id": "7b7726aa-de6a-4141-90f4-5907c0a29fd4",
   "metadata": {},
   "outputs": [
    {
     "name": "stdout",
     "output_type": "stream",
     "text": [
      "SST: 230.89\n",
      "SSE: 81.33\n",
      "SSR: 149.56\n"
     ]
    }
   ],
   "source": [
    "import pandas as pd\n",
    "import statsmodels.api as sm\n",
    "from statsmodels.formula.api import ols\n",
    "\n",
    "# create example data\n",
    "data = {'group': ['A', 'A', 'A', 'B', 'B', 'B', 'C', 'C', 'C'],\n",
    "        'score': [80, 85, 90, 75, 78, 80, 70, 72, 76]}\n",
    "df = pd.DataFrame(data)\n",
    "\n",
    "# fit ANOVA model\n",
    "model = ols('score ~ group', data=df).fit()\n",
    "anova_table = sm.stats.anova_lm(model, typ=2)\n",
    "\n",
    "# extract sums of squares\n",
    "SST = anova_table['sum_sq'][0]\n",
    "SSE = anova_table['sum_sq'][1]\n",
    "SSR = SST - SSE\n",
    "\n",
    "print('SST:', round(SST,2))\n",
    "print('SSE:', round(SSE,2))\n",
    "print('SSR:', round(SSR,2))"
   ]
  },
  {
   "cell_type": "code",
   "execution_count": null,
   "id": "33c705a3-920c-45bc-bb91-839f2ece959c",
   "metadata": {},
   "outputs": [],
   "source": []
  },
  {
   "cell_type": "markdown",
   "id": "729f8491-45cd-45ab-ad76-1024f9a5dce3",
   "metadata": {},
   "source": [
    "Q5. In a two-way ANOVA, how would you calculate the main effects and interaction effects using Python?"
   ]
  },
  {
   "cell_type": "code",
   "execution_count": 24,
   "id": "322fe304-a93f-46d4-bd0d-391ea49cee2a",
   "metadata": {},
   "outputs": [
    {
     "name": "stdout",
     "output_type": "stream",
     "text": [
      "                                 sum_sq    df             F    PR(>F)\n",
      "C(Fertilizer)              4.390651e-13   1.0  1.589719e-13  1.000000\n",
      "C(Watering)                8.630952e-02   1.0  3.125000e-02  0.860956\n",
      "C(Fertilizer):C(Watering)  3.333333e-02   1.0  1.206897e-02  0.913305\n",
      "Residual                   7.733333e+01  28.0           NaN       NaN\n"
     ]
    }
   ],
   "source": [
    "# Importing libraries\n",
    "import statsmodels.api as sm\n",
    "from statsmodels.formula.api import ols\n",
    "\n",
    "# Create a dataframe\n",
    "df = pd.DataFrame({'Fertilizer': np.repeat(['daily', 'weekly'], 15), 'Watering': np.repeat(['daily', 'weekly'], 15),\n",
    "                        'height': [14, 16, 15, 15, 16, 13, 12, 11,\n",
    "                                    14, 15, 16, 16, 17, 18, 14, 13,\n",
    "                                    14, 14, 14, 15, 16, 16, 17, 18,\n",
    "                                    14, 13, 14, 14, 14, 15]})\n",
    "\n",
    "\n",
    "# Performing two-way ANOVA\n",
    "model = ols('height ~ C(Fertilizer) + C(Watering) + C(Fertilizer):C(Watering)', data=df).fit()\n",
    "result = sm.stats.anova_lm(model, typ=2)\n",
    "\n",
    "# Print the result\n",
    "print(result)\n"
   ]
  },
  {
   "cell_type": "code",
   "execution_count": null,
   "id": "9417157c-5b7b-4ccf-8007-bc9659d44642",
   "metadata": {},
   "outputs": [],
   "source": []
  },
  {
   "cell_type": "markdown",
   "id": "212e40d3-090b-4e50-9c21-fc1ad0c5caea",
   "metadata": {},
   "source": [
    "Q6. Suppose you conducted a one-way ANOVA and obtained an F-statistic of 5.23 and a p-value of 0.02.\n",
    "What can you conclude about the differences between the groups, and how would you interpret these\n",
    "results?"
   ]
  },
  {
   "cell_type": "markdown",
   "id": "21f41805-79a3-4692-be61-013ef82b7483",
   "metadata": {},
   "source": [
    "The F-statistic measures the ratio of variation between groups to variation within groups. A larger F-statistic indicates a greater amount of variation between the groups relative to the variation within the groups. In this case, the F-statistic of 5.23 suggests that there is a significant difference between the groups.\n",
    "\n",
    "The p-value of 0.02 indicates the probability of observing such a large F-statistic by chance alone. Typically, a p-value below 0.05 is considered statistically significant, which means there is less than a 5% chance of observing the result by chance alone. In this case, the p-value of 0.02 suggests that there is a statistically significant difference between the groups.\n",
    "\n",
    "To interpret these results, you can conclude that there is a significant difference between the groups in terms of the variable being measured."
   ]
  },
  {
   "cell_type": "code",
   "execution_count": null,
   "id": "25c324be-13a6-4e3c-8664-4d44f1570c50",
   "metadata": {},
   "outputs": [],
   "source": []
  },
  {
   "cell_type": "markdown",
   "id": "5caa5b21-d4be-4a8e-b2fa-762555f698f0",
   "metadata": {},
   "source": [
    "Q7. In a repeated measures ANOVA, how would you handle missing data, and what are the potential\n",
    "consequences of using different methods to handle missing data?"
   ]
  },
  {
   "cell_type": "markdown",
   "id": "ed00b270-04f0-4d25-a9af-ac1e08e507c4",
   "metadata": {},
   "source": [
    "In a repeated measures ANOVA, missing data can be handled in several ways. Here are some common methods:\n",
    "\n",
    "1. Pairwise deletion: This method involves removing cases with missing data on a variable-by-variable basis. For example, if a participant has missing data on one of the measures, their data can still be included in the analysis for the other measures.\n",
    "\n",
    "2. Listwise deletion: This method involves removing cases with missing data on any of the variables.\n",
    "\n",
    "3. Imputation: This method involves replacing missing values with estimated values based on the available data. There are several methods of imputation, including mean imputation, regression imputation, and multiple imputation.\n",
    "\n",
    "The potential consequences of using different methods to handle missing data are that it can affect the power, precision, and bias of the results. Pairwise deletion can reduce power and precision, while listwise deletion can reduce power even more. Imputation can increase power and precision, but it may introduce bias if the imputation model is misspecified or the assumptions about the missing data are not met."
   ]
  },
  {
   "cell_type": "code",
   "execution_count": null,
   "id": "3bce727a-5285-411a-bd68-aade856b4146",
   "metadata": {},
   "outputs": [],
   "source": []
  },
  {
   "cell_type": "markdown",
   "id": "fe3996de-6194-436f-a4dc-9d4fa31281de",
   "metadata": {},
   "source": [
    "Q8. What are some common post-hoc tests used after ANOVA, and when would you use each one? Provide\n",
    "an example of a situation where a post-hoc test might be necessary."
   ]
  },
  {
   "cell_type": "markdown",
   "id": "5926bb1e-7bc6-4baa-b4d7-43bc02aea672",
   "metadata": {},
   "source": [
    "Post-hoc tests are used to determine which groups in an ANOVA are significantly different from each other after a statistically significant omnibus ANOVA test result. Here are some common post-hoc tests used after ANOVA:\n",
    "\n",
    "1. Tukey's HSD: This test compares all possible pairs of means and calculates a single p-value for each comparison. This test is appropriate when there are more than two groups and the sample sizes are equal. It is often considered the most conservative of the post-hoc tests.\n",
    "\n",
    "2. Bonferroni correction: This test adjusts the alpha level for multiple comparisons. This test is appropriate when there are more than two groups and the sample sizes are equal. It is more conservative than Tukey's HSD and is often used to control for type I error rates.\n",
    "\n",
    "3. Scheffe's method: This test is similar to Bonferroni correction, but it is more powerful and less conservative. It is appropriate when the sample sizes are unequal or the variances are unequal.\n",
    "\n",
    "4. Dunnett's test: This test compares each group mean to a control group mean. It is appropriate when there is a control group and the other groups are being compared to the control group.\n",
    "\n",
    "5. Games-Howell test: This test is similar to Tukey's HSD, but it does not assume equal variances or sample sizes. It is appropriate when the variances and sample sizes are unequal.\n",
    "\n",
    "For example, suppose a researcher is conducting a study on the effectiveness of three different therapies for treating depression. They conduct an ANOVA and find a statistically significant difference between the three groups. To determine which therapies are significantly different from each other, the researcher might use a post-hoc test such as Tukey's HSD or Bonferroni correction."
   ]
  },
  {
   "cell_type": "code",
   "execution_count": null,
   "id": "6d0a1289-2e24-458c-90d9-e2eca73ed180",
   "metadata": {},
   "outputs": [],
   "source": []
  },
  {
   "cell_type": "markdown",
   "id": "1bb9f5c0-baa5-47c1-b8f8-604607da76d9",
   "metadata": {},
   "source": [
    "Q9. A researcher wants to compare the mean weight loss of three diets: A, B, and C. They collect data from\n",
    "50 participants who were randomly assigned to one of the diets. Conduct a one-way ANOVA using Python\n",
    "to determine if there are any significant differences between the mean weight loss of the three diets.\n",
    "Report the F-statistic and p-value, and interpret the results."
   ]
  },
  {
   "cell_type": "code",
   "execution_count": 29,
   "id": "e51872d9-0bd6-42a9-8cbb-bf069e7fc38e",
   "metadata": {},
   "outputs": [
    {
     "name": "stdout",
     "output_type": "stream",
     "text": [
      "F-statistic: 8.607816506474096\n",
      "p-value: 0.0002916476260397513\n"
     ]
    }
   ],
   "source": [
    "import numpy as np\n",
    "from scipy.stats import f_oneway\n",
    "\n",
    "# Create sample data\n",
    "diet_a = np.random.normal(5, 2, 50)\n",
    "diet_b = np.random.normal(4, 2, 50)\n",
    "diet_c = np.random.normal(6, 2, 50)\n",
    "\n",
    "# Conduct one-way ANOVA\n",
    "f_statistic, p_value = f_oneway(diet_a, diet_b, diet_c)\n",
    "\n",
    "# Report results\n",
    "print(\"F-statistic:\", f_statistic)\n",
    "print(\"p-value:\", p_value)"
   ]
  },
  {
   "cell_type": "markdown",
   "id": "34f66d45-f466-4d41-a5c8-8c5db6c5975c",
   "metadata": {},
   "source": [
    "For the above randomly generated data we can conclude the results as follows:\n",
    "\n",
    "The F-statistic is 8.60 and the p-value is 0.0003, which is less than the alpha level of 0.05 typically used for hypothesis testing. This indicates that there is a statistically significant difference between the mean weight loss of the three diets.\n",
    "We can conclude that at least one of the diets (A, B, or C) has a significantly different mean weight loss than the others."
   ]
  },
  {
   "cell_type": "code",
   "execution_count": null,
   "id": "e14a0815-dfe5-4251-ac92-a445eea75076",
   "metadata": {},
   "outputs": [],
   "source": []
  },
  {
   "cell_type": "markdown",
   "id": "165760b6-7753-402b-9e76-25e66535baf6",
   "metadata": {},
   "source": [
    "Q10. A company wants to know if there are any significant differences in the average time it takes to\n",
    "complete a task using three different software programs: Program A, Program B, and Program C. They\n",
    "randomly assign 30 employees to one of the programs and record the time it takes each employee to\n",
    "complete the task. Conduct a two-way ANOVA using Python to determine if there are any main effects or\n",
    "interaction effects between the software programs and employee experience level (novice vs.\n",
    "experienced). Report the F-statistics and p-values, and interpret the results."
   ]
  },
  {
   "cell_type": "code",
   "execution_count": 63,
   "id": "23fb9f93-7b8d-4723-95f9-1cecf722afb0",
   "metadata": {},
   "outputs": [
    {
     "name": "stdout",
     "output_type": "stream",
     "text": [
      "                                sum_sq    df         F    PR(>F)\n",
      "C(Software)                 580.384286   2.0  1.353281  0.277408\n",
      "C(Experience)               177.005714   1.0  0.825448  0.372626\n",
      "C(Software):C(Experience)   367.830000   2.0  0.857668  0.436745\n",
      "Residual                   5146.464286  24.0       NaN       NaN\n"
     ]
    }
   ],
   "source": [
    "import pandas as pd\n",
    "import statsmodels.api as sm\n",
    "from statsmodels.formula.api import ols\n",
    "\n",
    "# Create sample data\n",
    "data = pd.DataFrame({\n",
    "    'Software': ['A', 'A', 'B', 'B', 'C', 'C'] * 5,\n",
    "    'Experience': np.random.choice(np.array([\"Novice\", \"Experienced\"]), size=30),\n",
    "    'Time': np.random.randint(low=15, high=61, size=30)})\n",
    "# Conduct two-way ANOVA\n",
    "model = ols('Time ~ C(Software) + C(Experience) + C(Software):C(Experience)', data=data).fit()\n",
    "table = sm.stats.anova_lm(model, typ=2)\n",
    "\n",
    "# Report results\n",
    "print(table)"
   ]
  },
  {
   "cell_type": "markdown",
   "id": "7251dc72-b099-49c8-9746-8a00c05723d5",
   "metadata": {},
   "source": [
    "The first row shows the results for the main effect of \"Software\". The sum of squares for \"Software\" is 580.384, and there are 2 degrees of freedom associated with this factor. The F-statistic is 1.353 and the p-value is 0.277, which indicates that there is not enough evidence to reject the null hypothesis of no significant difference between the mean times to complete the task for the three software programs.\n",
    "\n",
    "The second row shows the results for the main effect of \"Experience\". The sum of squares for \"Experience\" is 177.006, and there is 1 degree of freedom associated with this factor. The F-statistic is 0.825 and the p-value is 0.373, which indicates that there is not enough evidence to reject the null hypothesis of no significant difference between the mean times to complete the task for the novice and experienced employees.\n",
    "\n",
    "The third row shows the results for the interaction effect between \"Software\" and \"Experience\". The sum of squares for the interaction effect is 367.830, and there are 2 degrees of freedom associated with this factor. The F-statistic is 0.858 and the p-value is 0.437, which indicates that there is not enough evidence to reject the null hypothesis of no significant interaction effect between the two factors.\n",
    "\n",
    "The last row shows the results for the residual or error term, which is the variation in the data that is not explained by the factors or their interaction. The sum of squares for the residual is 5146.464, and there are 24 degrees of freedom associated with this term.\n",
    "\n",
    "Overall, based on these results, there is no evidence of a significant difference in the mean times to complete the task between the three software programs or between novice and experienced employees, and there is no significant interaction effect between the two factors."
   ]
  },
  {
   "cell_type": "code",
   "execution_count": null,
   "id": "2c01a7f8-1f89-49b7-a8db-558455630fef",
   "metadata": {},
   "outputs": [],
   "source": []
  },
  {
   "cell_type": "markdown",
   "id": "c7d87639-acf7-4ae8-b2d1-466884146a30",
   "metadata": {},
   "source": [
    "Q11. An educational researcher is interested in whether a new teaching method improves student test\n",
    "scores. They randomly assign 100 students to either the control group (traditional teaching method) or the\n",
    "experimental group (new teaching method) and administer a test at the end of the semester. Conduct a\n",
    "two-sample t-test using Python to determine if there are any significant differences in test scores\n",
    "between the two groups. If the results are significant, follow up with a post-hoc test to determine which\n",
    "group(s) differ significantly from each other."
   ]
  },
  {
   "cell_type": "code",
   "execution_count": 67,
   "id": "2415d5ff-2578-4000-8ed4-cbe1cffde260",
   "metadata": {},
   "outputs": [
    {
     "name": "stdout",
     "output_type": "stream",
     "text": [
      "t-statistic: -3.032\n",
      "p-value: 0.003\n"
     ]
    }
   ],
   "source": [
    "import numpy as np\n",
    "from scipy.stats import ttest_ind\n",
    "\n",
    "# generate data\n",
    "np.random.seed(123)\n",
    "control_scores = np.random.normal(75, 10, size=100)\n",
    "experimental_scores = np.random.normal(80, 10, size=100)\n",
    "\n",
    "# conduct t-test\n",
    "t_stat, p_val = ttest_ind(control_scores, experimental_scores)\n",
    "\n",
    "# report results\n",
    "print(\"t-statistic: {:.3f}\".format(t_stat))\n",
    "print(\"p-value: {:.3f}\".format(p_val))"
   ]
  },
  {
   "cell_type": "markdown",
   "id": "69a1cef4-88a3-4dc9-afdf-6b69d24758f5",
   "metadata": {},
   "source": [
    "Assuming a significance level of 0.05, as the p-value is less than 0.05, we reject the null hypothesis and conclude that there is a significant difference in test scores between the two groups."
   ]
  },
  {
   "cell_type": "code",
   "execution_count": 68,
   "id": "48969a89-85f6-41f2-8557-479d4d9b1325",
   "metadata": {},
   "outputs": [
    {
     "name": "stdout",
     "output_type": "stream",
     "text": [
      "   Multiple Comparison of Means - Tukey HSD, FWER=0.05   \n",
      "=========================================================\n",
      " group1    group2    meandiff p-adj  lower  upper  reject\n",
      "---------------------------------------------------------\n",
      "Control Experimental   4.5336 0.0028 1.5846 7.4826   True\n",
      "---------------------------------------------------------\n"
     ]
    }
   ],
   "source": [
    "from statsmodels.stats.multicomp import pairwise_tukeyhsd\n",
    "\n",
    "# combine scores and group labels\n",
    "all_scores = np.concatenate((control_scores, experimental_scores))\n",
    "group_labels = np.concatenate((np.repeat(\"Control\", 100), np.repeat(\"Experimental\", 100)))\n",
    "\n",
    "# perform Tukey's HSD test\n",
    "tukey_results = pairwise_tukeyhsd(all_scores, group_labels, alpha=0.05)\n",
    "\n",
    "# print results\n",
    "print(tukey_results)"
   ]
  },
  {
   "cell_type": "markdown",
   "id": "3e9d8722-db3e-4005-82cb-f7362e469293",
   "metadata": {},
   "source": [
    "Q12. A researcher wants to know if there are any significant differences in the average daily sales of three\n",
    "retail stores: Store A, Store B, and Store C. They randomly select 30 days and record the sales for each store\n",
    "on those days. Conduct a repeated measures ANOVA using Python to determine if there are any\n",
    "significant differences in sales between the three stores. If the results are significant, follow up with a post-\n",
    "hoc test to determine which store(s) differ significantly from each other."
   ]
  },
  {
   "cell_type": "code",
   "execution_count": 90,
   "id": "2118de80-bc71-4ddb-9087-10d1f35339dd",
   "metadata": {},
   "outputs": [
    {
     "data": {
      "text/html": [
       "<div>\n",
       "<style scoped>\n",
       "    .dataframe tbody tr th:only-of-type {\n",
       "        vertical-align: middle;\n",
       "    }\n",
       "\n",
       "    .dataframe tbody tr th {\n",
       "        vertical-align: top;\n",
       "    }\n",
       "\n",
       "    .dataframe thead th {\n",
       "        text-align: right;\n",
       "    }\n",
       "</style>\n",
       "<table border=\"1\" class=\"dataframe\">\n",
       "  <thead>\n",
       "    <tr style=\"text-align: right;\">\n",
       "      <th></th>\n",
       "      <th>Store A</th>\n",
       "      <th>Store B</th>\n",
       "      <th>Store C</th>\n",
       "    </tr>\n",
       "  </thead>\n",
       "  <tbody>\n",
       "    <tr>\n",
       "      <th>0</th>\n",
       "      <td>4005</td>\n",
       "      <td>2515</td>\n",
       "      <td>3925</td>\n",
       "    </tr>\n",
       "    <tr>\n",
       "      <th>1</th>\n",
       "      <td>3205</td>\n",
       "      <td>3128</td>\n",
       "      <td>3366</td>\n",
       "    </tr>\n",
       "    <tr>\n",
       "      <th>2</th>\n",
       "      <td>2250</td>\n",
       "      <td>4186</td>\n",
       "      <td>2792</td>\n",
       "    </tr>\n",
       "    <tr>\n",
       "      <th>3</th>\n",
       "      <td>4927</td>\n",
       "      <td>2769</td>\n",
       "      <td>2750</td>\n",
       "    </tr>\n",
       "    <tr>\n",
       "      <th>4</th>\n",
       "      <td>2279</td>\n",
       "      <td>2143</td>\n",
       "      <td>2859</td>\n",
       "    </tr>\n",
       "  </tbody>\n",
       "</table>\n",
       "</div>"
      ],
      "text/plain": [
       "   Store A  Store B  Store C\n",
       "0     4005     2515     3925\n",
       "1     3205     3128     3366\n",
       "2     2250     4186     2792\n",
       "3     4927     2769     2750\n",
       "4     2279     2143     2859"
      ]
     },
     "execution_count": 90,
     "metadata": {},
     "output_type": "execute_result"
    }
   ],
   "source": [
    "import numpy as np\n",
    "import pandas as pd\n",
    "from scipy import stats\n",
    "\n",
    "# Generate random sales data for Store A, Store B, and Store C\n",
    "np.random.seed(125)\n",
    "store_a_sales = np.random.randint(1000, 5000, 30)\n",
    "store_b_sales = np.random.randint(1500, 4500, 30)\n",
    "store_c_sales = np.random.randint(2000, 4000, 30)\n",
    "\n",
    "# Create a pandas dataframe\n",
    "df = pd.DataFrame({'Store A': store_a_sales, 'Store B': store_b_sales, 'Store C': store_c_sales})\n",
    "df.head()"
   ]
  },
  {
   "cell_type": "code",
   "execution_count": 91,
   "id": "2358958b-ad7d-405e-96cf-fad8a70a4e6d",
   "metadata": {},
   "outputs": [
    {
     "data": {
      "text/html": [
       "<div>\n",
       "<style scoped>\n",
       "    .dataframe tbody tr th:only-of-type {\n",
       "        vertical-align: middle;\n",
       "    }\n",
       "\n",
       "    .dataframe tbody tr th {\n",
       "        vertical-align: top;\n",
       "    }\n",
       "\n",
       "    .dataframe thead th {\n",
       "        text-align: right;\n",
       "    }\n",
       "</style>\n",
       "<table border=\"1\" class=\"dataframe\">\n",
       "  <thead>\n",
       "    <tr style=\"text-align: right;\">\n",
       "      <th></th>\n",
       "      <th>Day</th>\n",
       "      <th>Store</th>\n",
       "      <th>Sales</th>\n",
       "    </tr>\n",
       "  </thead>\n",
       "  <tbody>\n",
       "    <tr>\n",
       "      <th>0</th>\n",
       "      <td>0</td>\n",
       "      <td>Store A</td>\n",
       "      <td>4005</td>\n",
       "    </tr>\n",
       "    <tr>\n",
       "      <th>1</th>\n",
       "      <td>1</td>\n",
       "      <td>Store A</td>\n",
       "      <td>3205</td>\n",
       "    </tr>\n",
       "    <tr>\n",
       "      <th>2</th>\n",
       "      <td>2</td>\n",
       "      <td>Store A</td>\n",
       "      <td>2250</td>\n",
       "    </tr>\n",
       "    <tr>\n",
       "      <th>3</th>\n",
       "      <td>3</td>\n",
       "      <td>Store A</td>\n",
       "      <td>4927</td>\n",
       "    </tr>\n",
       "    <tr>\n",
       "      <th>4</th>\n",
       "      <td>4</td>\n",
       "      <td>Store A</td>\n",
       "      <td>2279</td>\n",
       "    </tr>\n",
       "  </tbody>\n",
       "</table>\n",
       "</div>"
      ],
      "text/plain": [
       "   Day    Store  Sales\n",
       "0    0  Store A   4005\n",
       "1    1  Store A   3205\n",
       "2    2  Store A   2250\n",
       "3    3  Store A   4927\n",
       "4    4  Store A   2279"
      ]
     },
     "execution_count": 91,
     "metadata": {},
     "output_type": "execute_result"
    }
   ],
   "source": [
    "# Reshape the dataframe\n",
    "df = pd.melt(df.reset_index(), id_vars=['index'], value_vars=['Store A', 'Store B', 'Store C'])\n",
    "df.columns = ['Day', 'Store', 'Sales']\n",
    "df.head()"
   ]
  },
  {
   "cell_type": "code",
   "execution_count": 92,
   "id": "f7558462-4b10-4780-9f93-0fdd5637f976",
   "metadata": {},
   "outputs": [
    {
     "name": "stdout",
     "output_type": "stream",
     "text": [
      "                     sum_sq    df         F    PR(>F)\n",
      "C(Store, Sum)  1.231069e+04   2.0  0.008232  0.991802\n",
      "Residual       6.505191e+07  87.0       NaN       NaN\n"
     ]
    }
   ],
   "source": [
    "import statsmodels.api as sm\n",
    "from statsmodels.formula.api import ols\n",
    "\n",
    "# Fit the repeated measures ANOVA model\n",
    "model = ols('Sales ~ C(Store, Sum)', data=df).fit()\n",
    "anova_table = sm.stats.anova_lm(model, typ=2)\n",
    "\n",
    "# Print the ANOVA table\n",
    "print(anova_table)"
   ]
  },
  {
   "cell_type": "markdown",
   "id": "fcf9ffb6-6674-4e5c-89f2-15c6e21b10c3",
   "metadata": {},
   "source": [
    "The results of the repeated measures ANOVA show a non-significant effect of the store on sales, with an F-statistic of 0.008 and a p-value of 0.992. This suggests that there is no significant difference in the average daily sales between the three stores.\n",
    "\n",
    "Since the ANOVA did not yield a significant result, there is no need for a post-hoc test to determine which stores differ significantly from each other."
   ]
  },
  {
   "cell_type": "code",
   "execution_count": null,
   "id": "b8482221-f888-4787-8311-fb12a12d898d",
   "metadata": {},
   "outputs": [],
   "source": []
  }
 ],
 "metadata": {
  "kernelspec": {
   "display_name": "Python 3 (ipykernel)",
   "language": "python",
   "name": "python3"
  },
  "language_info": {
   "codemirror_mode": {
    "name": "ipython",
    "version": 3
   },
   "file_extension": ".py",
   "mimetype": "text/x-python",
   "name": "python",
   "nbconvert_exporter": "python",
   "pygments_lexer": "ipython3",
   "version": "3.10.8"
  }
 },
 "nbformat": 4,
 "nbformat_minor": 5
}
