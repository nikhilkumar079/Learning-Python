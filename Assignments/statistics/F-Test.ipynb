{
 "cells": [
  {
   "cell_type": "markdown",
   "id": "f21545b3-053f-48aa-ba4b-74b00987e456",
   "metadata": {},
   "source": [
    "Q1. Write a Python function that takes in two arrays of data and calculates the F-value for a variance ratio\n",
    "test. The function should return the F-value and the corresponding p-value for the test."
   ]
  },
  {
   "cell_type": "code",
   "execution_count": 8,
   "id": "651abf7c-c26d-471f-83a3-ad6a714356d7",
   "metadata": {},
   "outputs": [],
   "source": [
    "import numpy as np\n",
    "from scipy import stats\n",
    "\n",
    "def f_test(arr1, arr2):\n",
    "    n1 = len(arr1)\n",
    "    n2 = len(arr2)\n",
    "    s1 = np.var(arr1, ddof=1)\n",
    "    s2 = np.var(arr2, ddof=1)\n",
    "    f_value = s1 / s2\n",
    "    df1 = n1 - 1\n",
    "    df2 = n2 - 1\n",
    "    p_value = stats.f.sf(f_value, df1, df2)\n",
    "    return round(f_value,3), round(p_value,3)"
   ]
  },
  {
   "cell_type": "code",
   "execution_count": 9,
   "id": "19420d1d-53de-466d-a96f-0cca541737ec",
   "metadata": {},
   "outputs": [
    {
     "data": {
      "text/plain": [
       "(0.27, 0.883)"
      ]
     },
     "execution_count": 9,
     "metadata": {},
     "output_type": "execute_result"
    }
   ],
   "source": [
    "arr1 = [10, 21, 35, 49, 51]\n",
    "arr2 = [61, 27, 78, 19, 100]\n",
    "f_test(arr1,arr2)"
   ]
  },
  {
   "cell_type": "code",
   "execution_count": null,
   "id": "3f97b45b-adac-48b2-aae8-a55c2d7821a9",
   "metadata": {},
   "outputs": [],
   "source": []
  },
  {
   "cell_type": "markdown",
   "id": "4127f5aa-a59c-45d2-89ed-9a05056026c9",
   "metadata": {},
   "source": [
    "Q2. Given a significance level of 0.05 and the degrees of freedom for the numerator and denominator of an\n",
    "F-distribution, write a Python function that returns the critical F-value for a two-tailed test."
   ]
  },
  {
   "cell_type": "code",
   "execution_count": 10,
   "id": "e32f4325-d485-4c27-82bd-7078e0861f2c",
   "metadata": {},
   "outputs": [],
   "source": [
    "from scipy.stats import f\n",
    "def critical_f_value(numerator_df, denominator_df, alpha=0.05):\n",
    "    return f.ppf(1 - alpha/2, numerator_df, denominator_df)"
   ]
  },
  {
   "cell_type": "code",
   "execution_count": 12,
   "id": "c9fb9dd2-cbc2-4b29-b2f9-9a5d319f8b1a",
   "metadata": {},
   "outputs": [
    {
     "data": {
      "text/plain": [
       "3.511776736314822"
      ]
     },
     "execution_count": 12,
     "metadata": {},
     "output_type": "execute_result"
    }
   ],
   "source": [
    "numerator_df = 8\n",
    "denominator_df = 12\n",
    "alpha = 0.05\n",
    "\n",
    "critical_f_value(numerator_df, denominator_df, alpha)"
   ]
  },
  {
   "cell_type": "code",
   "execution_count": null,
   "id": "a1d177d4-9366-4ce0-9d1b-b78b58883cae",
   "metadata": {},
   "outputs": [],
   "source": []
  },
  {
   "cell_type": "markdown",
   "id": "fade87ae-295c-4223-8cd4-e5ddb5c12a46",
   "metadata": {},
   "source": [
    "Q3. Write a Python program that generates random samples from two normal distributions with known\n",
    "variances and uses an F-test to determine if the variances are equal. The program should output the F-\n",
    "value, degrees of freedom, and p-value for the test."
   ]
  },
  {
   "cell_type": "code",
   "execution_count": 26,
   "id": "ec252c0e-3c58-40f5-8c10-29424384d5f8",
   "metadata": {},
   "outputs": [
    {
     "name": "stdout",
     "output_type": "stream",
     "text": [
      "F-value: 0.37\n",
      "Degrees of freedom: 9, 11\n",
      "p-value: 0.1432\n"
     ]
    }
   ],
   "source": [
    "import numpy as np\n",
    "from scipy.stats import f\n",
    "\n",
    "# Set the seed for reproducibility\n",
    "np.random.seed(123)\n",
    "\n",
    "# Set the parameters for the normal distributions\n",
    "mu1 = 0\n",
    "mu2 = 0\n",
    "sigma1 = 1\n",
    "sigma2 = 2\n",
    "\n",
    "# Generate random samples from the two normal distributions\n",
    "n1 = 10\n",
    "n2 = 12\n",
    "x1 = np.random.normal(mu1, sigma1, n1)\n",
    "x2 = np.random.normal(mu2, sigma2, n2)\n",
    "\n",
    "# Calculate the F-value and p-value using an F-test\n",
    "df1 = n1 - 1\n",
    "df2 = n2 - 1\n",
    "F = np.var(x1, ddof=1) / np.var(x2, ddof=1)\n",
    "p_value = 2 * min(f.cdf(F, df1, df2), 1 - f.cdf(F, df1, df2))\n",
    "\n",
    "# Output the results of the F-test\n",
    "print(\"F-value: {:.2f}\".format(F))\n",
    "print(\"Degrees of freedom: {:d}, {:d}\".format(df1, df2))\n",
    "print(\"p-value: {:.4f}\".format(p_value))"
   ]
  },
  {
   "cell_type": "code",
   "execution_count": null,
   "id": "1ee4688f-f706-4336-8070-158b72c0a841",
   "metadata": {},
   "outputs": [],
   "source": []
  },
  {
   "cell_type": "markdown",
   "id": "3dff7f79-cbb6-4c7d-9d1c-c00bd1310080",
   "metadata": {},
   "source": [
    "Q4. The variances of two populations are known to be 10 and 15. A sample of 12 observations is taken from\n",
    "each population. Conduct an F-test at the 5% significance level to determine if the variances are\n",
    "significantly different."
   ]
  },
  {
   "cell_type": "markdown",
   "id": "b4b263cc-d946-4c43-9666-99b40522e0cf",
   "metadata": {},
   "source": [
    "Null hypothesis: The variances of the two populations are equal.\n",
    "\n",
    "Alternative hypothesis: The variances of the two populations are not equal."
   ]
  },
  {
   "cell_type": "code",
   "execution_count": 32,
   "id": "8fbfa6c2-fe68-44ae-901c-ec73bc923248",
   "metadata": {},
   "outputs": [
    {
     "name": "stdout",
     "output_type": "stream",
     "text": [
      "F-value: 0.78\n",
      "Degrees of freedom: 11, 11\n",
      "p-value: 0.6892\n",
      "The variances are not significantly different.\n"
     ]
    }
   ],
   "source": [
    "import numpy as np\n",
    "from scipy.stats import f\n",
    "\n",
    "# Set the seed for reproducibility\n",
    "np.random.seed(123)\n",
    "\n",
    "# Set the known variances of the two populations\n",
    "var1 = 10\n",
    "var2 = 15\n",
    "\n",
    "# Generate random samples from the two populations\n",
    "n1 = 12\n",
    "n2 = 12\n",
    "x1 = np.random.normal(0, np.sqrt(var1), n1)\n",
    "x2 = np.random.normal(0, np.sqrt(var2), n2)\n",
    "\n",
    "# Calculate the F-value and p-value using an F-test\n",
    "df1 = n1 - 1\n",
    "df2 = n2 - 1\n",
    "F = np.var(x1, ddof=1) / np.var(x2, ddof=1)\n",
    "p_value = 2 * min(f.cdf(F, df1, df2), 1 - f.cdf(F, df1, df2))\n",
    "\n",
    "# Output the results of the F-test\n",
    "alpha = 0.05\n",
    "print(\"F-value: {:.2f}\".format(F))\n",
    "print(\"Degrees of freedom: {:d}, {:d}\".format(df1, df2))\n",
    "print(\"p-value: {:.4f}\".format(p_value))\n",
    "if p_value < alpha:\n",
    "    print(\"The variances are significantly different.\")\n",
    "else:\n",
    "    print(\"The variances are not significantly different.\")"
   ]
  },
  {
   "cell_type": "code",
   "execution_count": null,
   "id": "5609f469-8111-45c1-a091-58767c673159",
   "metadata": {},
   "outputs": [],
   "source": []
  },
  {
   "cell_type": "markdown",
   "id": "e4c0e5d7-bfb9-4c78-a32c-5d3070903f89",
   "metadata": {},
   "source": [
    "Q5. A manufacturer claims that the variance of the diameter of a certain product is 0.005. A sample of 25\n",
    "products is taken, and the sample variance is found to be 0.006. Conduct an F-test at the 1% significance\n",
    "level to determine if the claim is justified."
   ]
  },
  {
   "cell_type": "markdown",
   "id": "ded58795-ad24-4729-ae04-f3883d0fb0da",
   "metadata": {},
   "source": [
    "Null hypothesis: The population variance of the diameter of the product is equal to 0.005.\n",
    "Alternative hypothesis: The population variance of the diameter of the product is greater than 0.005.\n",
    "\n",
    "The F-statistic is calculated as:\n",
    "\n",
    "F = (sample variance / population variance) = 0.006 / 0.005 = 1.2\n",
    "\n",
    "The degrees of freedom for the numerator and denominator are 24 and 25, respectively (since we have a sample size of 25).\n",
    "\n",
    "Using an F-table with 24 and 25 degrees of freedom, and a 1% significance level, we find the critical value to be 3.86.\n",
    "\n",
    "Since our calculated F-statistic (1.2) is less than the critical value (3.86), we fail to reject the null hypothesis. \n",
    "\n",
    "Therefore, we do not have enough evidence to conclude that the population variance of the diameter of the product is greater than 0.005. We can conclude that the manufacturer's claim is justified at the 1% significance level."
   ]
  },
  {
   "cell_type": "code",
   "execution_count": null,
   "id": "ea089f6b-c167-495e-9732-30718d253dce",
   "metadata": {},
   "outputs": [],
   "source": []
  },
  {
   "cell_type": "markdown",
   "id": "1104b8d8-b6d5-45e9-9270-e63829c73a57",
   "metadata": {},
   "source": [
    "Q6. Write a Python function that takes in the degrees of freedom for the numerator and denominator of an\n",
    "F-distribution and calculates the mean and variance of the distribution. The function should return the\n",
    "mean and variance as a tuple."
   ]
  },
  {
   "cell_type": "code",
   "execution_count": 35,
   "id": "6bf34a2f-c04a-4b0f-a633-311b33508b48",
   "metadata": {},
   "outputs": [],
   "source": [
    "import scipy.stats as stats\n",
    "\n",
    "def mean_var(df_n, df_d):\n",
    "    \n",
    "    mean = df_d / (df_d - 2)\n",
    "    variance = (2 * df_d ** 2 * (df_n + df_d - 2)) / (df_n * (df_d - 2) ** 2 * (df_d - 4))\n",
    "    \n",
    "    return (round(mean,4), round(variance,4))\n"
   ]
  },
  {
   "cell_type": "code",
   "execution_count": 36,
   "id": "1df56a45-258a-48e6-b98c-d30981476802",
   "metadata": {},
   "outputs": [
    {
     "data": {
      "text/plain": [
       "(1.6667, 7.2222)"
      ]
     },
     "execution_count": 36,
     "metadata": {},
     "output_type": "execute_result"
    }
   ],
   "source": [
    "mean_var(10,5)"
   ]
  },
  {
   "cell_type": "code",
   "execution_count": null,
   "id": "e44841d4-7dfc-49c1-8773-e3fcdf9b72dc",
   "metadata": {},
   "outputs": [],
   "source": []
  },
  {
   "cell_type": "markdown",
   "id": "3a482b76-2574-4cf7-9208-3c2bbee8d647",
   "metadata": {},
   "source": [
    "Q7. A random sample of 10 measurements is taken from a normal population with unknown variance. The\n",
    "sample variance is found to be 25. Another random sample of 15 measurements is taken from another\n",
    "normal population with unknown variance, and the sample variance is found to be 20. Conduct an F-test\n",
    "at the 10% significance level to determine if the variances are significantly different."
   ]
  },
  {
   "cell_type": "markdown",
   "id": "6efb2681-52be-4b68-bbc5-afdccc22c9d9",
   "metadata": {},
   "source": [
    "Null hypothesis: The population variances of the two populations are equal.\n",
    "\n",
    "Alternative hypothesis: The population variances of the two populations are different.\n",
    "\n",
    "The F-statistic is calculated as:\n",
    "\n",
    "F = (larger sample variance / smaller sample variance) = 25 / 20 = 1.25\n",
    "\n",
    "Since we are testing if the variances are different, we will use a two-tailed test. Using an F-table or calculator with 9 and 14 degrees of freedom (for a sample size of 10 and 15, respectively), and a 10% significance level, we find the critical values to be 0.405 and 2.942.\n",
    "\n",
    "Since our calculated F-statistic (1.25) is greater than the lower critical value (0.405) but less than the upper critical value (2.942), we fail to reject the null hypothesis. Therefore, we do not have enough evidence to conclude that the population variances of the two populations are significantly different at the 10% significance level."
   ]
  },
  {
   "cell_type": "code",
   "execution_count": null,
   "id": "f6f4e2ee-66c9-4bbc-a131-8572f933fabc",
   "metadata": {},
   "outputs": [],
   "source": []
  },
  {
   "cell_type": "markdown",
   "id": "b93aa94a-44a3-4f39-8106-5b2754bbd3fe",
   "metadata": {},
   "source": [
    "Q8. The following data represent the waiting times in minutes at two different restaurants on a Saturday\n",
    "night: Restaurant A: 24, 25, 28, 23, 22, 20, 27; Restaurant B: 31, 33, 35, 30, 32, 36. Conduct an F-test at the 5%\n",
    "significance level to determine if the variances are significantly different."
   ]
  },
  {
   "cell_type": "code",
   "execution_count": 52,
   "id": "69868748-b4c4-4398-84c6-05066661f830",
   "metadata": {},
   "outputs": [
    {
     "name": "stdout",
     "output_type": "stream",
     "text": [
      "The variances are not significantly different.\n"
     ]
    }
   ],
   "source": [
    "import numpy as np\n",
    "from scipy import stats\n",
    "\n",
    "def f_test(arr1, arr2):\n",
    "    n1 = len(arr1)\n",
    "    n2 = len(arr2)\n",
    "    alpha = 0.05\n",
    "    s1 = np.var(arr1, ddof=1)\n",
    "    s2 = np.var(arr2, ddof=1)\n",
    "    f_value = s1 / s2\n",
    "    df1 = n1 - 1\n",
    "    df2 = n2 - 1\n",
    "    p_value = stats.f.sf(f_value, df1, df2)\n",
    "    return round(f_value,3), round(p_value,3)"
   ]
  },
  {
   "cell_type": "code",
   "execution_count": 50,
   "id": "97291b6f-0a3b-49b5-bdf3-d1b7110d29c2",
   "metadata": {},
   "outputs": [],
   "source": [
    "arr1, arr2 = [24, 25, 28, 23, 22, 20, 27], [31, 33, 35, 30, 32, 36]"
   ]
  },
  {
   "cell_type": "code",
   "execution_count": 51,
   "id": "c08b0c77-6e61-470b-b2b1-9f83dd304d8f",
   "metadata": {},
   "outputs": [
    {
     "data": {
      "text/plain": [
       "(1.455, 0.349)"
      ]
     },
     "execution_count": 51,
     "metadata": {},
     "output_type": "execute_result"
    }
   ],
   "source": [
    "f_test(arr1,arr2)"
   ]
  },
  {
   "cell_type": "code",
   "execution_count": 53,
   "id": "5802abf1-4d18-4082-abc5-88dd654b2c87",
   "metadata": {},
   "outputs": [
    {
     "name": "stdout",
     "output_type": "stream",
     "text": [
      "The variances are not significantly different.\n"
     ]
    }
   ],
   "source": [
    "if p_value < alpha:\n",
    "    print(\"The variances are significantly different.\")\n",
    "else:\n",
    "    print(\"The variances are not significantly different.\")"
   ]
  },
  {
   "cell_type": "code",
   "execution_count": null,
   "id": "3a3bb26b-18e5-477e-abab-4ab8122932ee",
   "metadata": {},
   "outputs": [],
   "source": []
  },
  {
   "cell_type": "markdown",
   "id": "4dcc4a0a-e2ed-46e0-b5ca-ffe681c0ad68",
   "metadata": {},
   "source": [
    "Q9. The following data represent the test scores of two groups of students: Group A: 80, 85, 90, 92, 87, 83;\n",
    "Group B: 75, 78, 82, 79, 81, 84. Conduct an F-test at the 1% significance level to determine if the variances\n",
    "are significantly different."
   ]
  },
  {
   "cell_type": "code",
   "execution_count": 56,
   "id": "9d7b2c17-1481-4c37-bad8-411fcbf55839",
   "metadata": {},
   "outputs": [
    {
     "data": {
      "text/plain": [
       "(1.944, 0.242)"
      ]
     },
     "execution_count": 56,
     "metadata": {},
     "output_type": "execute_result"
    }
   ],
   "source": [
    "# using above created function\n",
    "alpha = 0.01\n",
    "arr1, arr2 = [80, 85, 90, 92, 87, 83], [75, 78, 82, 79, 81, 84]\n",
    "f_test(arr1,arr2)"
   ]
  },
  {
   "cell_type": "code",
   "execution_count": 57,
   "id": "7de8fc9c-89ed-488f-842d-715a96b248ce",
   "metadata": {},
   "outputs": [
    {
     "name": "stdout",
     "output_type": "stream",
     "text": [
      "The variances are not significantly different.\n"
     ]
    }
   ],
   "source": [
    "if p_value < alpha:\n",
    "    print(\"The variances are significantly different.\")\n",
    "else:\n",
    "    print(\"The variances are not significantly different.\")"
   ]
  },
  {
   "cell_type": "code",
   "execution_count": null,
   "id": "1cd63a1f-8b48-41f7-afe9-e31ad661fe70",
   "metadata": {},
   "outputs": [],
   "source": []
  }
 ],
 "metadata": {
  "kernelspec": {
   "display_name": "Python 3 (ipykernel)",
   "language": "python",
   "name": "python3"
  },
  "language_info": {
   "codemirror_mode": {
    "name": "ipython",
    "version": 3
   },
   "file_extension": ".py",
   "mimetype": "text/x-python",
   "name": "python",
   "nbconvert_exporter": "python",
   "pygments_lexer": "ipython3",
   "version": "3.10.8"
  }
 },
 "nbformat": 4,
 "nbformat_minor": 5
}
