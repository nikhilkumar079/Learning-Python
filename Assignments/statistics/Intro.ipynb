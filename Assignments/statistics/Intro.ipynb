{
 "cells": [
  {
   "cell_type": "markdown",
   "id": "c11c12f2-cabe-49c8-8603-5f16aa60f785",
   "metadata": {},
   "source": [
    "Q1. What is Statistics?"
   ]
  },
  {
   "cell_type": "markdown",
   "id": "c573eefb-8449-4ab3-87cf-bc2f9a4f7e8d",
   "metadata": {},
   "source": [
    "Statistics is the branch of mathematics that deals with the collection, analysis, interpretation, presentation, and organization of data. It is a crucial tool for making sense of the world and understanding the relationships and patterns that exist within it."
   ]
  },
  {
   "cell_type": "code",
   "execution_count": null,
   "id": "90bacdca-a60c-413c-9304-6d3241eb4527",
   "metadata": {},
   "outputs": [],
   "source": []
  },
  {
   "cell_type": "markdown",
   "id": "5fe1f9db-37a9-4127-9af9-a8e7b896284f",
   "metadata": {},
   "source": [
    "Define the different types of statistics and give an example of when each type might be used."
   ]
  },
  {
   "cell_type": "markdown",
   "id": "afce896f-ec30-42df-9af4-5658eb893d81",
   "metadata": {},
   "source": [
    "The different types of statistics:\n",
    "1. Descriptive statistics:\n",
    "It involves the collection, analysis, and presentation of data to summarize and describe the features of a dataset. It is used to provide a general overview of the data and to identify patterns and trends.\n",
    "\n",
    "Example: Suppose you want to summarize the age of the students in a school. You could calculate the mean, median, and standard deviation of the ages of all the students in the school. This would give you an idea of the average age of the students, the age at which most of the students are, and how much the ages of the students vary from the average age.\n",
    "\n",
    "2. Inferential statistics\n",
    "It is used to make predictions and draw conclusions about a population based on a sample of data.\n",
    "\n",
    "Example: Suppose you want to know if the average age of the students in a school is different from the average age of students in another school. You could randomly select a sample of students from both schools and calculate the mean age of each sample. You could then use inferential statistics to test if there is a statistically significant difference between the two means, and if so, conclude that the average age of the students in the two schools is different."
   ]
  },
  {
   "cell_type": "code",
   "execution_count": null,
   "id": "b2c41cdb-2660-48d7-8341-850848a00040",
   "metadata": {},
   "outputs": [],
   "source": []
  },
  {
   "cell_type": "markdown",
   "id": "0881b22e-1bb5-412f-9c60-c7da1f389b33",
   "metadata": {},
   "source": [
    "Q3. What are the different types of data and how do they differ from each other? Provide an example of each type of data."
   ]
  },
  {
   "cell_type": "markdown",
   "id": "73b213f4-fdd6-4eb1-b6f3-eadb88d82891",
   "metadata": {},
   "source": [
    "The data is classified as follows:"
   ]
  },
  {
   "attachments": {
    "ce7e43ca-24fc-47ef-8826-47a613f46408.png": {
     "image/png": "[encoded data removed]"
    }
   },
   "cell_type": "markdown",
   "id": "883fc812-db36-40e0-adb4-196df6c9ac91",
   "metadata": {},
   "source": [
    "![types-of-data-.png](attachment:ce7e43ca-24fc-47ef-8826-47a613f46408.png)"
   ]
  },
  {
   "cell_type": "markdown",
   "id": "d1ae2164-f474-483a-8e4e-a03e641b010f",
   "metadata": {},
   "source": [
    "Qualitative or Categorical Data is data that can’t be measured or counted in the form of numbers.\n",
    "\n",
    "Example: Opinion on something (agree, disagree, or neutral).\n",
    "\n",
    "The Qualitative data are further classified into two parts :\n",
    "\n",
    "a. Nominal Data: It is used to label variables without any order or quantitative value. The color of hair can be considered nominal data, as one color can’t be compared with another color.\n",
    "\n",
    "b. Ordinal data: It has natural ordering where a number is present in some kind of order by their position on the scale. These data are used for observation like customer satisfaction, happiness, etc., but we can’t do any arithmetical tasks on them."
   ]
  },
  {
   "cell_type": "markdown",
   "id": "3215dac7-83b7-467e-8721-23371c3e1466",
   "metadata": {},
   "source": [
    "Quantitative data can be expressed in numerical values, making it countable and including statistical data analysis. \n",
    "\n",
    "Example: Height or weight of a person or object.\n",
    "\n",
    "The Quantitative data are further classified into two parts:\n",
    "\n",
    "a. Discrete Data: The term discrete means distinct or separate. The discrete data contain the values that fall under integers or whole numbers. The total number of students in a class is an example of discrete data. These data can’t be broken into decimal or fraction values.\n",
    "\n",
    "b. Continuous data: It is in the form of fractional numbers. It can be the version of an android phone, the height of a person, the length of an object, etc. Continuous data represents information that can be divided into smaller levels. The continuous variable can take any value within a range. "
   ]
  },
  {
   "cell_type": "code",
   "execution_count": null,
   "id": "a826a80d-d1db-49c6-aa55-0a3adb606344",
   "metadata": {},
   "outputs": [],
   "source": []
  },
  {
   "cell_type": "markdown",
   "id": "076212a5-6141-4023-99a3-4bb1b5fa64be",
   "metadata": {},
   "source": [
    "Q4. Categorise the following datasets with respect to quantitative and qualitative data types:\n",
    "\n",
    "(i) Grading in exam: A+, A, B+, B, C+, C, D, E \n",
    "\n",
    "(ii) Colour of mangoes: yellow, green, orange, red \n",
    "\n",
    "(iii) Height data of a class: [178.9, 179, 179.5, 176, 177.2, 178.3, 175.8,...] \n",
    "\n",
    "(iv) Number of mangoes exported by a farm: [500, 600, 478, 672, ...]"
   ]
  },
  {
   "cell_type": "markdown",
   "id": "05dee2e9-a00d-4cb5-bcdc-d0de436c1fda",
   "metadata": {},
   "source": [
    "(i) Qualitative - Ordinal\n",
    "\n",
    "(ii) Qualitative - Nominal\n",
    "\n",
    "(iii) Quantitative - Continuous\n",
    "\n",
    "(iv)  Quantitative - Discrete"
   ]
  },
  {
   "cell_type": "code",
   "execution_count": null,
   "id": "031db705-f686-4787-a91a-a1b9a5c642e6",
   "metadata": {},
   "outputs": [],
   "source": []
  },
  {
   "cell_type": "markdown",
   "id": "09f0ea28-3841-47f6-ad76-a88629395220",
   "metadata": {},
   "source": [
    "Q5. Explain the concept of levels of measurement and give an example of a variable for each level."
   ]
  },
  {
   "cell_type": "markdown",
   "id": "9f1cbb68-28a7-42b7-acf2-149dad1d865e",
   "metadata": {},
   "source": [
    "Levels of measurement, also known as scales of measurement, refer to the ways in which data can be measured and categorized. There are four commonly recognized levels of measurement: nominal, ordinal, interval, and ratio."
   ]
  },
  {
   "cell_type": "markdown",
   "id": "8928fe15-9d84-4793-b206-a1013dd2197f",
   "metadata": {},
   "source": [
    "1. Nominal level of measurement: This level of measurement involves the simplest form of categorization, where data is divided into categories without any order or ranking.\n",
    "Examples of nominal level variables include gender (male/female), marital status (single/married/divorced)."
   ]
  },
  {
   "cell_type": "markdown",
   "id": "b7361e47-71e9-4f9e-aa0a-8dff550136ce",
   "metadata": {},
   "source": [
    "2. Ordinal level of measurement: This level of measurement involves data that can be ordered or ranked according to some criteria, but the intervals between categories are not necessarily equal. This means that there is no way to determine the exact difference between each category. \n",
    "Examples of ordinal level variables include socioeconomic status (low/middle/high), education level (elementary school/middle school/high school/college), and movie ratings (poor/fair/good/excellent)."
   ]
  },
  {
   "cell_type": "markdown",
   "id": "ba77a798-dae1-48ea-96c6-7789a134d05d",
   "metadata": {},
   "source": [
    "3. Interval level of measurement: This level of measurement involves data that can be ordered and the intervals between categories are equal. However, there is no true zero point, meaning that the absence of the variable does not equate to a value of zero. \n",
    "Examples of interval level variables include temperature measured in degrees Celsius or Fahrenheit, and dates on a calendar."
   ]
  },
  {
   "cell_type": "markdown",
   "id": "9df064df-9871-43db-8f4f-a37faad84c90",
   "metadata": {},
   "source": [
    "4. Ratio level of measurement: This level of measurement involves data that can be ordered, the intervals between categories are equal, and there is a true zero point, meaning that a value of zero represents the complete absence of the variable being measured. \n",
    "Examples of ratio level variables include height, weight, and age."
   ]
  },
  {
   "cell_type": "code",
   "execution_count": null,
   "id": "ceeefda2-bb86-49e6-9273-fd1967ba2fab",
   "metadata": {},
   "outputs": [],
   "source": []
  },
  {
   "cell_type": "markdown",
   "id": "3d59f53d-ba97-4975-ac81-355bb2a58585",
   "metadata": {},
   "source": [
    "Q6. Why is it important to understand the level of measurement when analyzing data? Provide an example to illustrate your answer."
   ]
  },
  {
   "cell_type": "markdown",
   "id": "56600ee6-c985-4d61-af4f-def45ab59cac",
   "metadata": {},
   "source": [
    "The understanding the level of measurement is crucial for selecting the appropriate statistical techniques, ensuring accurate interpretation of results, and avoiding errors and biases in data analysis.\n",
    "\n",
    "For example, if we have a nominal variable such as gender, we can only use frequency counts and proportions to summarize the data, as there is no meaningful way to calculate measures of central tendency or variability. Similarly, we cannot calculate a correlation coefficient or use regression analysis for nominal variables.\n",
    "\n",
    "In contrast, if we have a ratio variable such as height, we can use a wide range of statistical techniques including mean, standard deviation, correlation, regression, and ANOVA. However, if we mistakenly treat a nominal variable as a ratio variable, we may end up making incorrect conclusions and drawing inappropriate inferences from the data."
   ]
  },
  {
   "cell_type": "code",
   "execution_count": null,
   "id": "2dd6fcdf-06ea-4fe4-86d7-99971841d1e2",
   "metadata": {},
   "outputs": [],
   "source": []
  },
  {
   "cell_type": "markdown",
   "id": "77a7d8f7-23e1-4477-9c90-1cbf8cd05808",
   "metadata": {},
   "source": [
    "Q7. How nominal data type is different from ordinal data type."
   ]
  },
  {
   "cell_type": "markdown",
   "id": "dfdcdbd8-168d-4558-8408-a57cf55986c6",
   "metadata": {},
   "source": [
    "While both nominal and ordinal data involve categorical variables, nominal data has no order or ranking of categories, while ordinal data does have a ranking or order, but the intervals between categories may not be equal. The level of measurement for nominal data is considered to be at the nominal level, while the level of measurement for ordinal data is considered to be at the ordinal level."
   ]
  },
  {
   "cell_type": "code",
   "execution_count": null,
   "id": "037666a4-443c-4e17-b5c2-e88b50864c18",
   "metadata": {},
   "outputs": [],
   "source": []
  },
  {
   "cell_type": "markdown",
   "id": "d1159588-2b0a-4d98-8353-66963a9d622a",
   "metadata": {},
   "source": [
    "Q8. Which type of plot can be used to display data in terms of range?"
   ]
  },
  {
   "cell_type": "markdown",
   "id": "34e40ac0-558e-45be-be03-cb6cff8bf8ae",
   "metadata": {},
   "source": [
    "A box plot, also known as a box-and-whisker plot, is a type of plot that can be used to display data in terms of range. The box plot displays the distribution of a dataset by showing the median, quartiles, and minimum and maximum values."
   ]
  },
  {
   "cell_type": "code",
   "execution_count": null,
   "id": "47f8087a-efde-45ad-9d8a-658d5c0d4ca3",
   "metadata": {},
   "outputs": [],
   "source": []
  },
  {
   "cell_type": "markdown",
   "id": "fe5d9068-db28-4f10-a39d-b91f79d8e3cb",
   "metadata": {},
   "source": [
    "Q9. Describe the difference between descriptive and inferential statistics. Give an example of each type of statistics and explain how they are used."
   ]
  },
  {
   "cell_type": "markdown",
   "id": "3a385daa-4d8e-4d20-9803-3bb928919106",
   "metadata": {},
   "source": [
    "The difference is that descriptive statistics are used to summarize and describe the main characteristics of the data, while inferential statistics are used to draw conclusions about a larger population based on a sample of data."
   ]
  },
  {
   "cell_type": "markdown",
   "id": "3c34ca41-53f7-4236-9ddc-68b32ecf498e",
   "metadata": {},
   "source": [
    "Suppose a company is interested in understanding the job satisfaction levels of its employees. They collect data from a random sample of 100 employees and ask them to rate their job satisfaction on a scale of 1 to 10.\n",
    "\n",
    "Using descriptive statistics , they can calculate the mean job satisfaction rating for the sample, which might be 7.5. They can also calculate the standard deviation, which might be 1.5, to describe the variability of the data. These measures of central tendency and variability can help the company understand the overall job satisfaction level of their employees and how much the ratings vary within the sample.\n",
    "\n",
    "Using Inferential statistics, they might want to know if the job satisfaction level of their employees is significantly different from the national average. To answer this question, they could conduct a hypothesis test and calculate a confidence interval based on the sample data. If the confidence interval does not include the national average, the company could conclude that their employees have a significantly different job satisfaction level than the national average.\n",
    "\n",
    "In this scenario, descriptive statistics are used to summarize and describe the sample data, while inferential statistics are used to make predictions or generalizations about the larger population based on the sample data."
   ]
  },
  {
   "cell_type": "code",
   "execution_count": null,
   "id": "db262809-af5b-4089-a29f-4dd6bbf9beaf",
   "metadata": {},
   "outputs": [],
   "source": []
  },
  {
   "cell_type": "markdown",
   "id": "9d0c38b8-4bf7-4b83-b3f6-c4fef850ccff",
   "metadata": {},
   "source": [
    "Q10. What are some common measures of central tendency and variability used in statistics? Explain how each measure can be used to describe a dataset."
   ]
  },
  {
   "cell_type": "markdown",
   "id": "21636dfc-3d44-4723-89cf-7d776dd91cd5",
   "metadata": {},
   "source": [
    "Measures of central tendency and variability are used in statistics to describe the typical values and spread of a dataset. "
   ]
  },
  {
   "cell_type": "markdown",
   "id": "3dd22672-f8f2-4df2-9580-8d4e869628de",
   "metadata": {},
   "source": [
    "Measures of central tendency:\n",
    "\n",
    "Mean: The mean is the most commonly used measure of central tendency, and is calculated by adding up all the values in the dataset and dividing by the total number of values. The mean represents the average value of the data and can be used to describe the typical value of the dataset.\n",
    "\n",
    "Median: The median is the middle value in the dataset when the values are arranged in order. The median is not affected by extreme values or outliers, making it a more robust measure of central tendency than the mean. The median is often used to describe the typical value of a skewed dataset.\n",
    "\n",
    "Mode: The mode is the value that appears most frequently in the dataset. The mode is useful for describing datasets with discrete values or where certain values occur more frequently than others."
   ]
  },
  {
   "cell_type": "markdown",
   "id": "9bc4d20d-68c6-4127-8ab5-826cfef15934",
   "metadata": {},
   "source": [
    "Measures of variability:\n",
    "\n",
    "Range: It is the difference between the maximum and minimum values in the dataset. The range represents the spread of the data and can be used to describe how much the data varies.\n",
    "\n",
    "Standard deviation: It is a measure of how much the data deviates from the mean. A smaller standard deviation indicates that the data is clustered around the mean, while a larger standard deviation indicates that the data is more spread out. The standard deviation can be used to describe the variability of the dataset and to identify outliers.\n",
    "\n",
    "Variance: It is a useful measure of variability because it takes into account all the values in the dataset and provides a single number that represents the spread of the data. A small variance indicates that the data is clustered closely around the mean, while a large variance indicates that the data is more spread out."
   ]
  },
  {
   "cell_type": "code",
   "execution_count": null,
   "id": "ee35aa26-b348-4bdf-b3c2-3cd1434c207c",
   "metadata": {},
   "outputs": [],
   "source": []
  }
 ],
 "metadata": {
  "kernelspec": {
   "display_name": "Python 3 (ipykernel)",
   "language": "python",
   "name": "python3"
  },
  "language_info": {
   "codemirror_mode": {
    "name": "ipython",
    "version": 3
   },
   "file_extension": ".py",
   "mimetype": "text/x-python",
   "name": "python",
   "nbconvert_exporter": "python",
   "pygments_lexer": "ipython3",
   "version": "3.10.8"
  }
 },
 "nbformat": 4,
 "nbformat_minor": 5
}
