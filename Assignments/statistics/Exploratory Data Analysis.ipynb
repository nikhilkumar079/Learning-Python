{
 "cells": [
  {
   "cell_type": "markdown",
   "id": "05ee9f17-581e-4c22-bcb8-d4327551c16f",
   "metadata": {},
   "source": [
    "Q1. What are the three measures of central tendency?"
   ]
  },
  {
   "cell_type": "markdown",
   "id": "71342f41-44ad-488a-91be-cff9666fd0f1",
   "metadata": {},
   "source": [
    "The three measures of central tendency are mean, median and mode."
   ]
  },
  {
   "cell_type": "code",
   "execution_count": null,
   "id": "e262d05a-c4d5-46a6-bbe0-4e046e47b0d2",
   "metadata": {},
   "outputs": [],
   "source": []
  },
  {
   "cell_type": "markdown",
   "id": "a91e29cd-626b-4fca-a0ca-323e5d465d5f",
   "metadata": {},
   "source": [
    "Q2. What is the difference between the mean, median, and mode? How are they used to measure the central tendency of a dataset?"
   ]
  },
  {
   "cell_type": "markdown",
   "id": "7037fa3a-2672-4a3b-9fd0-4743600459f4",
   "metadata": {},
   "source": [
    "Mean: The mean is the average of all the data points in a set.\n",
    "\n",
    "Median: The median is the middle value in a set of data when the data is arranged in order from smallest to largest.\n",
    "\n",
    "Mode: The mode is the value that appears most frequently in a set of data."
   ]
  },
  {
   "cell_type": "markdown",
   "id": "f1aa9e27-6d3b-48cc-9ba8-5325a9ea0464",
   "metadata": {},
   "source": [
    "The mean is often used when the data is normally distributed or when calculating weighted averages, while the median is often used when the data has extreme values or outliers that could distort the mean. The mode is often used when looking for the most common value or when the data is categorical. It is important to choose the appropriate measure of central tendency to accurately describe the dataset and avoid misleading conclusions."
   ]
  },
  {
   "cell_type": "code",
   "execution_count": null,
   "id": "6c0cb48d-3c84-4382-92f2-b4845155e723",
   "metadata": {},
   "outputs": [],
   "source": []
  },
  {
   "cell_type": "markdown",
   "id": "3efd4dd0-0038-4389-8775-c80b18ead9fc",
   "metadata": {},
   "source": [
    "Q3. Measure the three measures of central tendency for the given height data."
   ]
  },
  {
   "cell_type": "code",
   "execution_count": 1,
   "id": "ff6fcbfe-24c2-4aa3-accb-7c3bcc766f2e",
   "metadata": {},
   "outputs": [],
   "source": [
    "height = [178,177,176,177,178.2,178, 175,179, 180, 175, 178.9, 176.2,177,172.5,178,176.5]"
   ]
  },
  {
   "cell_type": "code",
   "execution_count": 2,
   "id": "f04502fd-607d-43bf-b401-0203fcee79a8",
   "metadata": {},
   "outputs": [
    {
     "data": {
      "text/plain": [
       "177.01875"
      ]
     },
     "execution_count": 2,
     "metadata": {},
     "output_type": "execute_result"
    }
   ],
   "source": [
    "import numpy as np\n",
    "np.mean(height)"
   ]
  },
  {
   "cell_type": "code",
   "execution_count": 3,
   "id": "effb7604-a48e-43ec-935d-8c57c7edb04c",
   "metadata": {},
   "outputs": [
    {
     "data": {
      "text/plain": [
       "177.0"
      ]
     },
     "execution_count": 3,
     "metadata": {},
     "output_type": "execute_result"
    }
   ],
   "source": [
    "np.median(height)"
   ]
  },
  {
   "cell_type": "code",
   "execution_count": 5,
   "id": "1123d486-6a02-4cc0-8816-bfd01248d229",
   "metadata": {},
   "outputs": [
    {
     "data": {
      "text/plain": [
       "178"
      ]
     },
     "execution_count": 5,
     "metadata": {},
     "output_type": "execute_result"
    }
   ],
   "source": [
    "import statistics as st\n",
    "st.mode(height)"
   ]
  },
  {
   "cell_type": "code",
   "execution_count": null,
   "id": "cddee660-ad33-48b9-9fb1-6d0ea0e3b21d",
   "metadata": {},
   "outputs": [],
   "source": []
  },
  {
   "cell_type": "markdown",
   "id": "fec366b3-9f7a-459e-8bce-e0413d486707",
   "metadata": {},
   "source": [
    "Q4. Find the standard deviation for the given height data."
   ]
  },
  {
   "cell_type": "code",
   "execution_count": 7,
   "id": "4b30f598-467f-4b26-aa76-73ffcf6cc540",
   "metadata": {},
   "outputs": [
    {
     "data": {
      "text/plain": [
       "1.7885814036548633"
      ]
     },
     "execution_count": 7,
     "metadata": {},
     "output_type": "execute_result"
    }
   ],
   "source": [
    "np.std(height)"
   ]
  },
  {
   "cell_type": "code",
   "execution_count": null,
   "id": "3a0a0969-b171-4c39-abc5-0c0c4af2301f",
   "metadata": {},
   "outputs": [],
   "source": []
  },
  {
   "cell_type": "markdown",
   "id": "f701d62a-c63a-4909-95e7-a3de1d5a9b0e",
   "metadata": {},
   "source": [
    "Q5. How are measures of dispersion such as range, variance, and standard deviation used to describe the spread of a dataset? Provide an example."
   ]
  },
  {
   "cell_type": "markdown",
   "id": "ac1a02b0-05bc-436b-9857-5b3187da8b59",
   "metadata": {},
   "source": [
    "The range is the difference between the maximum and minimum values in a dataset. It gives an idea of the spread of the dataset in terms of the difference between the smallest and largest values.\n",
    "\n",
    "The variance is the average of the squared differences of each data point from the mean of the dataset. It measures how far the data is spread out from the mean. A high variance indicates that the data points are widely spread out from the mean, while a low variance indicates that they are tightly clustered around the mean.\n",
    "\n",
    "The standard deviation is the square root of the variance. It gives a measure of the spread of the data in the same units as the original data. A high standard deviation indicates that the data points are spread out over a large range of values, while a low standard deviation indicates that they are clustered closely around the mean."
   ]
  },
  {
   "cell_type": "markdown",
   "id": "0157ddc6-d277-414d-9515-aa4d0f1e0cad",
   "metadata": {},
   "source": [
    "For example, let's consider the following dataset of ages of 10 students in a class:\n",
    "\n",
    "[18, 19, 20, 20, 21, 22, 23, 24, 25, 25]\n",
    "\n",
    "The range of the dataset is the difference between the maximum and minimum values, which is 25-18 = 7. This means that the age of the students ranges from 18 to 25.\n",
    "\n",
    "The standard deviation is the square root of the variance, which is sqrt(6.32) = 2.51. This means that the age of the students varies by about 2.51 years from the mean age of 21.7."
   ]
  },
  {
   "cell_type": "code",
   "execution_count": null,
   "id": "aaa20bbd-5914-4ad5-9d43-b0ce8ac6b594",
   "metadata": {},
   "outputs": [],
   "source": []
  },
  {
   "cell_type": "markdown",
   "id": "90414b6e-1a31-4be0-81ac-4eb3404724a2",
   "metadata": {},
   "source": [
    "Q6. What is a Venn diagram?"
   ]
  },
  {
   "cell_type": "markdown",
   "id": "13c90316-bab0-4eb9-b474-6ddb586cf3d7",
   "metadata": {},
   "source": [
    "A Venn diagram illustrates the relationships between two or more data sets. Venn diagrams are especially useful for highlighting similarities and differences and are commonly used to compare and contrast the characteristics of different data sets. In a Venn diagram, circles are used to represent each data set."
   ]
  },
  {
   "cell_type": "code",
   "execution_count": null,
   "id": "4e191a37-f907-4bf1-a2ac-43fc439efab7",
   "metadata": {},
   "outputs": [],
   "source": []
  },
  {
   "cell_type": "markdown",
   "id": "817a1791-938e-4163-ac63-9931bbd5f698",
   "metadata": {},
   "source": [
    "Q7. For the two given sets \n",
    "A = {2,3,4,5,6,7} & B = {0,2,6,8,10}. \n",
    "Find:\n",
    "(i) A ∩ B\n",
    "(ii) A ∪ B"
   ]
  },
  {
   "cell_type": "code",
   "execution_count": 9,
   "id": "ba990ea0-fd5e-46b0-b852-631e38d009f7",
   "metadata": {},
   "outputs": [],
   "source": [
    "A = {2,3,4,5,6,7} \n",
    "B = {0,2,6,8,10}"
   ]
  },
  {
   "cell_type": "code",
   "execution_count": 14,
   "id": "38302020-af8f-489c-be53-172220176a5b",
   "metadata": {},
   "outputs": [
    {
     "data": {
      "text/plain": [
       "{0, 2, 3, 4, 5, 6, 7, 8, 10}"
      ]
     },
     "execution_count": 14,
     "metadata": {},
     "output_type": "execute_result"
    }
   ],
   "source": [
    "# A ∪ B\n",
    "A.union(B)"
   ]
  },
  {
   "cell_type": "code",
   "execution_count": 15,
   "id": "62e5b0c0-1a52-4d26-807b-9914090400f3",
   "metadata": {},
   "outputs": [
    {
     "data": {
      "text/plain": [
       "{2, 6}"
      ]
     },
     "execution_count": 15,
     "metadata": {},
     "output_type": "execute_result"
    }
   ],
   "source": [
    "# A ∩ B\n",
    "A.intersection(B)"
   ]
  },
  {
   "cell_type": "code",
   "execution_count": null,
   "id": "d3242270-5eac-47d0-afbe-ee6d709af890",
   "metadata": {},
   "outputs": [],
   "source": []
  },
  {
   "cell_type": "markdown",
   "id": "85005a38-6eb2-48cd-af71-ccb569882953",
   "metadata": {},
   "source": [
    "Q8. What do you understand about skewness in data?"
   ]
  },
  {
   "cell_type": "markdown",
   "id": "1db6a85c-9234-4a00-a42b-64e0124c9385",
   "metadata": {},
   "source": [
    "Skewness is a measure of the asymmetry of a probability distribution. In other words, it measures how much a distribution deviates from being symmetrical. A distribution is considered to be symmetrical if the mean, median, and mode are all equal. If the distribution is not symmetrical, then it is said to be skewed."
   ]
  },
  {
   "cell_type": "code",
   "execution_count": null,
   "id": "9cfef76b-96c9-47b5-9a91-17a544b8c25a",
   "metadata": {},
   "outputs": [],
   "source": []
  },
  {
   "cell_type": "markdown",
   "id": "bc98d25b-e617-48de-9f0e-b09a1cd96669",
   "metadata": {},
   "source": [
    "Q9. If a data is right skewed then what will be the position of median with respect to mean?"
   ]
  },
  {
   "cell_type": "markdown",
   "id": "4a78d452-bb83-486b-b384-a7529419e3c9",
   "metadata": {},
   "source": [
    "If a dataset is right-skewed, the median will be less than the mean. This is because the tail of the distribution is longer on the right side, which means that there are some unusually high values that are pulling the mean to the right. As a result, the mean will be greater than the median."
   ]
  },
  {
   "cell_type": "code",
   "execution_count": null,
   "id": "b49bcdda-d536-498e-bb32-697a716d1d51",
   "metadata": {},
   "outputs": [],
   "source": []
  },
  {
   "cell_type": "markdown",
   "id": "8b1756d3-04ca-4c02-b461-22ee4938aaea",
   "metadata": {},
   "source": [
    "Q10. Explain the difference between covariance and correlation. How are these measures used in statistical analysis?"
   ]
  },
  {
   "cell_type": "markdown",
   "id": "f23f72da-c1fc-4c6b-b854-ed65a8e70623",
   "metadata": {},
   "source": [
    "Covariance is a measure of how two variables change together. It is calculated as the expected value of the product of the deviations of each variable from its mean. If the covariance is positive, the two variables tend to increase or decrease together. If the covariance is negative, one variable tends to increase while the other decreases. However, covariance does not tell us anything about the strength of the relationship or the degree to which the two variables are related.\n",
    "\n",
    "Correlation, on the other hand, is a normalized measure of the linear relationship between two variables. It ranges from -1 to +1, where -1 indicates a perfect negative correlation, 0 indicates no correlation, and +1 indicates a perfect positive correlation. Correlation is calculated by dividing the covariance by the product of the standard deviations of the two variables. Correlation tells us the strength of the linear relationship between two variables, and because it is normalized, it allows us to compare relationships between variables that are measured on different scales.\n",
    "\n",
    "They are used to measure the strength and direction of the relationship between two variables, and to determine whether that relationship is statistically significant."
   ]
  },
  {
   "cell_type": "code",
   "execution_count": null,
   "id": "63d87245-9850-4e16-976e-3ce62a95bf86",
   "metadata": {},
   "outputs": [],
   "source": []
  },
  {
   "cell_type": "markdown",
   "id": "daf012d0-6493-4cd3-8fa2-4870388c2501",
   "metadata": {},
   "source": [
    "Q11. What is the formula for calculating the sample mean? Provide an example calculation for a dataset."
   ]
  },
  {
   "cell_type": "markdown",
   "id": "36e968cd-b06c-494a-a37e-0df7495b5f7c",
   "metadata": {},
   "source": [
    "The formula for calculating the sample mean is:\n",
    "\n",
    "sample mean = (sum of all values) / (number of observations)\n",
    "\n",
    "Example:\n",
    "\n",
    "dataset = [ 2, 4, 6, 8, 10]\n",
    "\n",
    "To calculate the sample mean, we first add up all the values in the dataset:\n",
    "\n",
    "sample mean = 2 + 4 + 6 + 8 + 10 / 5 = 30/5 = 6\n",
    "\n",
    "The sample mean for this dataset is 6."
   ]
  },
  {
   "cell_type": "code",
   "execution_count": null,
   "id": "37da45ae-6de2-4230-b472-bbffc328a00a",
   "metadata": {},
   "outputs": [],
   "source": []
  },
  {
   "cell_type": "markdown",
   "id": "e01ab4c5-31a0-4d26-be07-f05f2cc73558",
   "metadata": {},
   "source": [
    "Q12. For a normal distribution data what is the relationship between its measure of central tendency?"
   ]
  },
  {
   "cell_type": "markdown",
   "id": "d8bae6ed-305d-4fcb-9b94-ef87dc4df4b7",
   "metadata": {},
   "source": [
    "For a normal distribution, the three measures of central tendency, mean, median, and mode, are equal to each other."
   ]
  },
  {
   "cell_type": "code",
   "execution_count": null,
   "id": "2205f1f7-6975-4149-b057-b44100087426",
   "metadata": {},
   "outputs": [],
   "source": []
  },
  {
   "cell_type": "markdown",
   "id": "b6f1c126-c3f8-4d4d-9d86-aabb537f5223",
   "metadata": {},
   "source": [
    "Q13. How is covariance different from correlation?"
   ]
  },
  {
   "cell_type": "markdown",
   "id": "4f4614d2-f8ce-41a5-bd66-2dafe28271d4",
   "metadata": {},
   "source": [
    "The differences between covariance and correlation are:\n",
    "\n",
    "Scale: Covariance is a measure of the direction and strength of the linear relationship between two variables, but it is affected by the scale of the variables. In contrast, correlation is a standardized measure that adjusts for the scale of the variables, making it easier to compare the strength of the relationship between variables that have different units or scales.\n",
    "\n",
    "Range: Covariance can take on any value, positive, negative or zero, depending on the nature of the relationship between the two variables. In contrast, correlation coefficients range from -1 to +1, where -1 indicates a perfect negative correlation, 0 indicates no correlation, and +1 indicates a perfect positive correlation.\n",
    "\n",
    "Interpretation: Covariance does not have a standard interpretation, whereas correlation has a clear and standard interpretation. A correlation coefficient of -1 indicates that two variables are perfectly negatively correlated, while a coefficient of +1 indicates that two variables are perfectly positively correlated. A coefficient of 0 indicates no correlation.\n",
    "\n",
    "Sensitivity to outliers: Covariance is sensitive to outliers in the data, which can inflate or deflate the covariance value. Correlation is less sensitive to outliers because it is based on the standardized values of the variables.Covariance measures the direction and strength of the linear relationship between two variables, while correlation measures only the strength of the linear relationship, while also normalizing the scale of the variables."
   ]
  },
  {
   "cell_type": "code",
   "execution_count": null,
   "id": "9efc429a-4045-4c0d-940c-153ac977ca65",
   "metadata": {},
   "outputs": [],
   "source": []
  },
  {
   "cell_type": "markdown",
   "id": "2d02f693-5f78-435b-9ad7-54586c51868a",
   "metadata": {},
   "source": [
    "Q14. How do outliers affect measures of central tendency and dispersion? Provide an example."
   ]
  },
  {
   "cell_type": "markdown",
   "id": "d6866275-0eff-4981-883e-e1e2c6ab563b",
   "metadata": {},
   "source": [
    "Outliers can affect measures of central tendency by pulling the mean away from the majority of the values towards the extreme value, while the median is not affected as much. \n",
    "\n",
    "For example:\n",
    "\n",
    "dataset = {30,000, 35,000, 40,000, 50,000, 100,000}\n",
    "\n",
    "The mean of dataset is 51,000, which is significantly higher than the majority of the values in the dataset. This is because the outlier value of 100,000 is pulling the mean upwards. However, the median salary is $40,000, which is a better measure of central tendency for this dataset as it is not affected by the extreme value.\n",
    "\n",
    "Outliers can also affect measures of dispersion by increasing the range and the standard deviation of the dataset. For example, consider the following dataset of ages of students in a class:\n",
    "\n",
    "{18, 19, 20, 21, 22, 23, 24, 25, 50}\n",
    "\n",
    "The range of this dataset is 50 - 18 = 32, which is significantly higher than the majority of the values in the dataset. The standard deviation of this dataset is 11.57, which is also much higher than if the outlier value of 50 was not present. This shows how outliers can increase the spread or variability of the data and affect measures of dispersion.\n",
    "\n",
    "In summary, outliers can have a significant impact on measures of central tendency and dispersion, and it is important to identify and handle them appropriately to ensure that the summary statistics accurately reflect the characteristics of the dataset."
   ]
  },
  {
   "cell_type": "code",
   "execution_count": null,
   "id": "d97f7153-0805-4144-842e-397381d531d0",
   "metadata": {},
   "outputs": [],
   "source": []
  }
 ],
 "metadata": {
  "kernelspec": {
   "display_name": "Python 3 (ipykernel)",
   "language": "python",
   "name": "python3"
  },
  "language_info": {
   "codemirror_mode": {
    "name": "ipython",
    "version": 3
   },
   "file_extension": ".py",
   "mimetype": "text/x-python",
   "name": "python",
   "nbconvert_exporter": "python",
   "pygments_lexer": "ipython3",
   "version": "3.10.8"
  }
 },
 "nbformat": 4,
 "nbformat_minor": 5
}
