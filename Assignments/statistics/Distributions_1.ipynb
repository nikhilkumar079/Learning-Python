{
 "cells": [
  {
   "cell_type": "markdown",
   "id": "e8849439-5717-4a99-a202-d74e1b05ec91",
   "metadata": {},
   "source": [
    "Q1. What is the Probability density function?"
   ]
  },
  {
   "cell_type": "markdown",
   "id": "4bab9283-6894-42f4-8cc6-a44876f4fcd3",
   "metadata": {},
   "source": [
    "Probability Density Function (PDF) is a function that describes the likelihood of a continuous random variable taking a particular value. It is used to specify the probability distribution of a continuous random variable."
   ]
  },
  {
   "cell_type": "code",
   "execution_count": null,
   "id": "ce9e32a0-b3b2-4648-bf9d-ba82358f0267",
   "metadata": {},
   "outputs": [],
   "source": []
  },
  {
   "cell_type": "markdown",
   "id": "b6588566-cc2e-4528-b83f-a09be89367b5",
   "metadata": {},
   "source": [
    "Q2. What are the types of Probability distribution?"
   ]
  },
  {
   "cell_type": "markdown",
   "id": "4c03efbb-f35d-4a3a-8e4d-f66b3b9c90f7",
   "metadata": {},
   "source": [
    "The Types of Probability distribution are:\n",
    "1. Normal distribution (Gaussian distribution)\n",
    "2. Binomial distribution\n",
    "3. Poisson distribution\n",
    "4. Uniform distribution\n",
    "5. Exponential distribution\n",
    "6. Probability Mass distribution\n",
    "7. Probability density distribution"
   ]
  },
  {
   "cell_type": "code",
   "execution_count": null,
   "id": "dfe837d3-aa6e-4543-b430-86f5627827fd",
   "metadata": {},
   "outputs": [],
   "source": []
  },
  {
   "cell_type": "markdown",
   "id": "d921332b-78a3-4bd7-96cd-8a4123ece4ab",
   "metadata": {},
   "source": [
    "Q3. Write a Python function to calculate the probability density function of a normal distribution with given mean and standard deviation at a given point."
   ]
  },
  {
   "cell_type": "code",
   "execution_count": 2,
   "id": "53bd2ebb-94e6-4cb5-846d-2d72d8d71530",
   "metadata": {},
   "outputs": [],
   "source": [
    "import math\n",
    "\n",
    "def normal_pdf(x, mean, sd):\n",
    "    coef = 1 / (sd * math.sqrt(2 * math.pi))\n",
    "    exp = math.exp(-(x - mean)**2 / (2 * sd**2))\n",
    "    pdf = coef * exp\n",
    "    return pdf"
   ]
  },
  {
   "cell_type": "code",
   "execution_count": 6,
   "id": "6f1ae716-8199-468e-a6e8-92fb5352b5de",
   "metadata": {},
   "outputs": [
    {
     "data": {
      "text/plain": [
       "0.12098536225957168"
      ]
     },
     "execution_count": 6,
     "metadata": {},
     "output_type": "execute_result"
    }
   ],
   "source": [
    "normal_pdf(10,8,2)"
   ]
  },
  {
   "cell_type": "markdown",
   "id": "c4c71836-c9f9-40d6-ae82-fcc4419a6517",
   "metadata": {},
   "source": [
    "Q4. What are the properties of Binomial distribution? Give two examples of events where binomial distribution can be applied."
   ]
  },
  {
   "cell_type": "markdown",
   "id": "8d0048ac-67b1-4c07-8ee5-846089652483",
   "metadata": {},
   "source": [
    "The properties of the Binomial distribution are:\n",
    "1. The number of trials n is fixed.\n",
    "2. Each trial has only two possible outcomes (success or failure).\n",
    "3. The probability of success p is constant for each trial.\n",
    "4. The trials are independent of each other."
   ]
  },
  {
   "cell_type": "markdown",
   "id": "ecff289c-2227-429a-98c2-fe0cdbde230f",
   "metadata": {},
   "source": [
    "Examples:\n",
    "1. A manufacturer produces a large number of light bulbs. Each bulb has a 95% chance of working properly, and a 5% chance of being defective. If a retailer purchases 100 bulbs, what is the probability that exactly 5 bulbs are defective? This can be modeled as a Binomial distribution, where n = 100, p = 0.05, and the number of successes is 5.\n",
    "\n",
    "2. A student takes a multiple-choice test with 20 questions, each with 4 choices. The student guesses the answers to each question. What is the probability that the student gets at least 15 questions correct? This can also be modeled as a Binomial distribution, where n = 20, p = 0.25 (since each question has 4 choices), and the number of successes is at least 15."
   ]
  },
  {
   "cell_type": "code",
   "execution_count": null,
   "id": "b8f69c64-1bf7-4aeb-a48b-ed13a87f17f7",
   "metadata": {},
   "outputs": [],
   "source": []
  },
  {
   "cell_type": "markdown",
   "id": "40a44da0-ee58-4cd1-bf7f-6e3750b0388e",
   "metadata": {},
   "source": [
    "Q5. Generate a random sample of size 1000 from a binomial distribution with probability of success 0.4 and plot a histogram of the results using matplotlib."
   ]
  },
  {
   "cell_type": "code",
   "execution_count": 15,
   "id": "d7134c6a-c77b-4e5d-abf8-fa8e8cf348d4",
   "metadata": {},
   "outputs": [
    {
     "data": {
      "image/png": "[encoded data removed]",
      "text/plain": [
       "<Figure size 640x480 with 1 Axes>"
      ]
     },
     "metadata": {},
     "output_type": "display_data"
    }
   ],
   "source": [
    "import numpy as np\n",
    "import matplotlib.pyplot as plt\n",
    "\n",
    "sample = np.random.binomial(100, 0.4, size=1000)\n",
    "\n",
    "plt.hist(sample,bins=20,color = 'black', edgecolor='blue')\n",
    "plt.xlabel('Number of successes')\n",
    "plt.ylabel('Frequency')\n",
    "plt.title('Binomial Distribution with n=1000, p=0.4')\n",
    "plt.show()\n"
   ]
  },
  {
   "cell_type": "code",
   "execution_count": null,
   "id": "91e72b91-99ed-437f-bb79-54c0eb6fb147",
   "metadata": {},
   "outputs": [],
   "source": []
  },
  {
   "cell_type": "markdown",
   "id": "4a8816f5-65e9-4aeb-ab8a-14dd319db955",
   "metadata": {},
   "source": [
    "Q6. Write a Python function to calculate the cumulative distribution function of a Poison distribution with given mean at a given point."
   ]
  },
  {
   "cell_type": "code",
   "execution_count": 16,
   "id": "27ef63a6-c756-4158-a782-bbd98a8301f8",
   "metadata": {},
   "outputs": [],
   "source": [
    "import math\n",
    "\n",
    "def poisson_cdf(x, mean):\n",
    "    cdf = 0\n",
    "    for i in range(x + 1):\n",
    "        cdf += math.exp(-mean) * (mean**i) / math.factorial(i)\n",
    "    return cdf"
   ]
  },
  {
   "cell_type": "code",
   "execution_count": 17,
   "id": "3af3f98e-945c-4e76-a4a7-93b6e1b0a862",
   "metadata": {},
   "outputs": [
    {
     "data": {
      "text/plain": [
       "0.029252688076961072"
      ]
     },
     "execution_count": 17,
     "metadata": {},
     "output_type": "execute_result"
    }
   ],
   "source": [
    "poisson_cdf(4,10)"
   ]
  },
  {
   "cell_type": "code",
   "execution_count": null,
   "id": "cfab1654-0d24-4003-85b5-65ba2d87d464",
   "metadata": {},
   "outputs": [],
   "source": []
  },
  {
   "cell_type": "markdown",
   "id": "42ab8ad4-dfbd-4a7d-a8b9-6ac566a1454e",
   "metadata": {},
   "source": [
    "Q7. How Binomial distribution different from Poison distribution?"
   ]
  },
  {
   "cell_type": "markdown",
   "id": "8b4709c3-e002-4451-819c-c6b1094d885d",
   "metadata": {},
   "source": [
    "Binomial distribution is used when counting the number of successes in a fixed number of independent trials with a constant probability of success, while the Poisson distribution is used when counting the number of rare events occurring in a fixed time or space interval."
   ]
  },
  {
   "cell_type": "code",
   "execution_count": null,
   "id": "e452934d-e405-4330-b83e-2ba2a82ced55",
   "metadata": {},
   "outputs": [],
   "source": []
  },
  {
   "cell_type": "markdown",
   "id": "c4e93b00-05bd-41a3-b1b4-8cb0e6da7256",
   "metadata": {},
   "source": [
    "Q8. Generate a random sample of size 1000 from a Poison distribution with mean 5 and calculate the sample mean and variance."
   ]
  },
  {
   "cell_type": "code",
   "execution_count": 18,
   "id": "22a04a70-b3a2-4b3c-bd7f-685bb54a86b1",
   "metadata": {},
   "outputs": [
    {
     "name": "stdout",
     "output_type": "stream",
     "text": [
      "Sample Mean: 4.92\n",
      "Sample Variance: 4.2936000000000005\n"
     ]
    }
   ],
   "source": [
    "sample = np.random.poisson(5, 100)\n",
    "\n",
    "sample_mean = np.mean(sample)\n",
    "sample_variance = np.var(sample)\n",
    "\n",
    "print(\"Sample Mean:\", sample_mean)\n",
    "print(\"Sample Variance:\", sample_variance)\n"
   ]
  },
  {
   "cell_type": "code",
   "execution_count": null,
   "id": "ce8f9284-6aa9-4e1a-a55d-f8775a418e8c",
   "metadata": {},
   "outputs": [],
   "source": []
  },
  {
   "cell_type": "markdown",
   "id": "ab192817-9e70-474d-a1c2-b8bd7c0d3438",
   "metadata": {},
   "source": [
    "Q9. How mean and variance are related in Binomial distribution and Poison distribution?"
   ]
  },
  {
   "cell_type": "markdown",
   "id": "cd31698c-3751-4371-b513-69d3cd628eb6",
   "metadata": {},
   "source": [
    "In a binomial distribution, the mean (μ) and variance (σ²) are related by the following formula:\n",
    "\n",
    "μ = np\n",
    "\n",
    "σ² = np(1-p) = μ q\n",
    "\n",
    "Variance = mean * probability of failure\n",
    "\n",
    "Where:\n",
    "n is the number of trials\n",
    "p is the probability of success in each trial\n",
    "\n",
    "In a Poisson distribution, the mean (μ) and variance (σ²) are equal and are both given by:\n",
    "\n",
    "μ = λ\n",
    "\n",
    "σ² = λ\n",
    "\n",
    "Where λ is the average number of occurrences of the event of interest in a given time or space interval."
   ]
  },
  {
   "cell_type": "code",
   "execution_count": null,
   "id": "b024a4ef-6f5f-48f6-96d0-4040759cc38f",
   "metadata": {},
   "outputs": [],
   "source": []
  },
  {
   "cell_type": "markdown",
   "id": "63c687e3-ecad-4b0d-bc46-57f65de4520b",
   "metadata": {},
   "source": [
    "Q10. In normal distribution with respect to mean position, where does the least frequent data appear?"
   ]
  },
  {
   "cell_type": "markdown",
   "id": "8f418293-f6fe-46cd-bb82-c69977b82e74",
   "metadata": {},
   "source": [
    "The Normal distribution is symmetric around the mean, so the same amount of data is located on either side of the mean. As you move away from the mean towards the tails, the data becomes increasingly sparse, with fewer and fewer data points. Therefore, the least frequent data points are located in the tails of the distribution."
   ]
  },
  {
   "cell_type": "code",
   "execution_count": null,
   "id": "eb3b1b08-a2d5-41cd-aeea-3caf213fdad5",
   "metadata": {},
   "outputs": [],
   "source": []
  }
 ],
 "metadata": {
  "kernelspec": {
   "display_name": "Python 3 (ipykernel)",
   "language": "python",
   "name": "python3"
  },
  "language_info": {
   "codemirror_mode": {
    "name": "ipython",
    "version": 3
   },
   "file_extension": ".py",
   "mimetype": "text/x-python",
   "name": "python",
   "nbconvert_exporter": "python",
   "pygments_lexer": "ipython3",
   "version": "3.10.8"
  }
 },
 "nbformat": 4,
 "nbformat_minor": 5
}
