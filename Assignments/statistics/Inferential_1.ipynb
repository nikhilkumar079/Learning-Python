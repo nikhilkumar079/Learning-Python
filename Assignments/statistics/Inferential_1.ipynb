{
 "cells": [
  {
   "cell_type": "markdown",
   "id": "829033a2-1a81-4ab8-be42-8ad4678a8b9b",
   "metadata": {},
   "source": [
    "Q1. What is Estimation Statistics? Explain point estimate and interval estimate."
   ]
  },
  {
   "cell_type": "markdown",
   "id": "c7d0e66d-9756-4f5d-bedb-28331dea47a1",
   "metadata": {},
   "source": [
    "Estimation statistics is a branch of statistics that deals with making inferences about population parameters based on sample data. It involves using statistical techniques to estimate an unknown population parameter such as a mean, variance, or proportion from a sample of observations.\n",
    "\n",
    "Point estimate is a single value that is calculated from sample data and used to estimate the value of an unknown population parameter. \n",
    "\n",
    "Interval estimate, on the other hand, is a range of values within which the true value of a population parameter is likely to fall. An interval estimate consists of two values: a lower limit and an upper limit."
   ]
  },
  {
   "cell_type": "code",
   "execution_count": null,
   "id": "354ea246-d11b-4a53-94cf-2bf12656c069",
   "metadata": {},
   "outputs": [],
   "source": []
  },
  {
   "cell_type": "markdown",
   "id": "3c01ebf4-9fb4-4ad5-a72f-fb181e59f71b",
   "metadata": {},
   "source": [
    "Q2. Write a Python function to estimate the population mean using a sample mean and standard\n",
    "deviation."
   ]
  },
  {
   "cell_type": "code",
   "execution_count": 9,
   "id": "ce940634-4512-4c14-b935-6788453b846e",
   "metadata": {},
   "outputs": [],
   "source": [
    "import math\n",
    "\n",
    "def estimate_population_mean(sample_mean, sample_std, sample_size, confidence_level):\n",
    "    \"\"\"\n",
    "    Estimates the population mean given the sample mean, sample standard deviation, sample size, and confidence level.\n",
    "    \n",
    "    Arguments:\n",
    "    sample_mean -- the mean of the sample\n",
    "    sample_std -- the standard deviation of the sample\n",
    "    sample_size -- the size of the sample\n",
    "    confidence_level -- the desired confidence level (expressed as a decimal)\n",
    "    \n",
    "    Returns:\n",
    "    A tuple representing the confidence interval for the population mean. The first element of the tuple is the lower bound\n",
    "    of the interval, and the second element is the upper bound.\n",
    "    \"\"\"\n",
    "    z_score = abs(round(stats.norm.ppf((1 - confidence_level) / 2), 2))\n",
    "    margin_of_error = z_score * (sample_std / math.sqrt(sample_size))\n",
    "    lower_bound = round(sample_mean - margin_of_error, 2)\n",
    "    upper_bound = round(sample_mean + margin_of_error, 2)\n",
    "    return (lower_bound, upper_bound)"
   ]
  },
  {
   "cell_type": "code",
   "execution_count": 10,
   "id": "4aff5d96-fc89-4eb6-93eb-56289fafdccf",
   "metadata": {},
   "outputs": [
    {
     "name": "stdout",
     "output_type": "stream",
     "text": [
      "The 99% confidence interval for the population mean is: (3.45, 4.55)\n"
     ]
    }
   ],
   "source": [
    "sample_mean = 4\n",
    "sample_std = 1.5\n",
    "sample_size = 50\n",
    "confidence_level = 0.99\n",
    "\n",
    "confidence_interval = estimate_population_mean(4, 1.5, 50, 0.99)\n",
    "print(\"The 99% confidence interval for the population mean is:\", confidence_interval)\n"
   ]
  },
  {
   "cell_type": "markdown",
   "id": "a08d23e4-5afc-4020-82f0-8e53756bf64c",
   "metadata": {},
   "source": [
    "Q3: What is Hypothesis testing? Why is it used? State the importance of Hypothesis testing."
   ]
  },
  {
   "cell_type": "markdown",
   "id": "f41d5f8d-9850-4f8e-8bc2-1932472b58aa",
   "metadata": {},
   "source": [
    "Hypothesis testing is a statistical method that is used to evaluate whether a hypothesis about a population parameter is likely to be true or not based on a sample of data.\n",
    "\n",
    "It is used to test scientific theories and hypotheses, evaluate the effectiveness of treatments and interventions, make decisions based on data, and to draw conclusions from experimental data.\n",
    "\n",
    "The importance of hypothesis testing lies in its ability to provide a systematic and objective approach to evaluating hypotheses and making decisions based on data. It helps to ensure that decisions are based on evidence rather than intuition or personal bias. It also allows researchers to evaluate the statistical significance of their findings and to draw valid conclusions from their data."
   ]
  },
  {
   "cell_type": "code",
   "execution_count": null,
   "id": "35ab1514-89c9-44af-a4c4-5ce7e47c5869",
   "metadata": {},
   "outputs": [],
   "source": []
  },
  {
   "cell_type": "markdown",
   "id": "855da6ec-325a-4008-946b-f8dc9e569ee9",
   "metadata": {},
   "source": [
    "Q4. Create a hypothesis that states whether the average weight of male college students is greater than\n",
    "the average weight of female college students."
   ]
  },
  {
   "cell_type": "markdown",
   "id": "5dfc6a97-5388-4df8-86c5-55ea7ae61f3d",
   "metadata": {},
   "source": [
    "Null hypothesis (H0): No difference in the average weight of male and female college students.\n",
    "\n",
    "Alternative hypothesis (Ha): The average weight of male college students is greater than the average weight of female college students."
   ]
  },
  {
   "cell_type": "code",
   "execution_count": null,
   "id": "993bf32d-7977-4813-b83a-12efd23cca3f",
   "metadata": {},
   "outputs": [],
   "source": []
  },
  {
   "cell_type": "markdown",
   "id": "cafea812-5d3b-4505-9f51-defc07186463",
   "metadata": {},
   "source": [
    "Q5. Write a Python script to conduct a hypothesis test on the difference between two population means,\n",
    "given a sample from each population."
   ]
  },
  {
   "cell_type": "code",
   "execution_count": 1,
   "id": "0a12d290-02a7-49ac-a055-63fa0a212bf0",
   "metadata": {},
   "outputs": [
    {
     "name": "stdout",
     "output_type": "stream",
     "text": [
      "Null Hypothesis: The population means are equal\n",
      "Alternate Hypothesis: The population means are not equal\n",
      "T-value: -1.128180927925918\n",
      "P-value: 0.29193856350284536\n",
      "The P - value > alpha i.e. 0.29 > 0.05. Therefore we fail to reject null hypothesis\n"
     ]
    }
   ],
   "source": [
    "print(\"Null Hypothesis: The population means are equal\")\n",
    "print(\"Alternate Hypothesis: The population means are not equal\")\n",
    "import scipy.stats as stats\n",
    "\n",
    "sample1 = [1, 2, 3, 4, 5]\n",
    "sample2 = [2, 4, 6, 8, 10]\n",
    "\n",
    "# Calculate the sample means and standard deviations\n",
    "sample1_mean = sum(sample1) / len(sample1)\n",
    "sample2_mean = sum(sample2) / len(sample2)\n",
    "sample1_std = stats.tstd(sample1)\n",
    "sample2_std = stats.tstd(sample2)\n",
    "\n",
    "# Calculate the degrees of freedom\n",
    "df = len(sample1) + len(sample2) - 2\n",
    "\n",
    "# Calculate the pooled standard deviation\n",
    "s_p = ((len(sample1) - 1) * sample1_std ** 2 + (len(sample2) - 1) * sample2_std ** 2) / df ** 0.5\n",
    "\n",
    "# Calculate the t-value\n",
    "t = (sample1_mean - sample2_mean) / (s_p * (1 / len(sample1) + 1 / len(sample2))) ** 0.5\n",
    "\n",
    "# Calculate the p-value\n",
    "p = stats.t.sf(abs(t), df) * 2\n",
    "alpha = 0.05\n",
    "# Print the results\n",
    "print(\"T-value:\", t)\n",
    "print(\"P-value:\", p)\n",
    "if p < alpha:\n",
    "    print(f\"The P - value < alpha i.e. {round(p,2)} < 0.05. Therefore we reject null hypothesis\")\n",
    "else:\n",
    "    print(f\"The P - value > alpha i.e. {round(p,2)} > 0.05. Therefore we fail to reject null hypothesis\")"
   ]
  },
  {
   "cell_type": "code",
   "execution_count": null,
   "id": "128a7fe4-d092-401c-b4c2-708847fa709e",
   "metadata": {},
   "outputs": [],
   "source": []
  },
  {
   "cell_type": "markdown",
   "id": "e405f75a-5ecc-4474-81be-1065fbdb2dd4",
   "metadata": {},
   "source": [
    "Q6. What is a null and alternative hypothesis? Give some examples."
   ]
  },
  {
   "cell_type": "markdown",
   "id": "d1a139d8-3584-4d4e-a75b-274027c9a9ea",
   "metadata": {},
   "source": [
    "In hypothesis testing, the null hypothesis (H0) is a statement or assumption that the researcher assumes to be true until sufficient evidence suggests otherwise. The alternative hypothesis (H1 or Ha) is the opposite of the null hypothesis and is what the researcher wants to prove or support with the data.\n",
    "\n",
    "Here are some examples of null and alternative hypotheses:\n",
    "\n",
    "A manufacturer claims that their light bulbs have an average lifespan of 1000 hours.\n",
    "Null hypothesis: The true mean lifespan is 1000 hours (H0: µ = 1000).\n",
    "Alternative hypothesis: The true mean lifespan is greater or less than 1000 hours (H1: µ > 1000 or µ < 1000, respectively).\n",
    "\n",
    "A psychologist is investigating whether a new therapy is effective for treating depression. \n",
    "Null hypothesis: The new therapy is no more effective than the standard therapy (H0: µ_new - µ_standard = 0)\n",
    "Alternative hypothesis: The new therapy is more effective than the standard therapy (H1: µ_new - µ_standard > 0)."
   ]
  },
  {
   "cell_type": "code",
   "execution_count": null,
   "id": "bd1b9f0f-e765-41e8-9369-641655364ef9",
   "metadata": {},
   "outputs": [],
   "source": []
  },
  {
   "cell_type": "markdown",
   "id": "171b52fb-7b80-4f59-a20f-f0e1f921f2f0",
   "metadata": {},
   "source": [
    "Q7. Write down the steps involved in hypothesis testing."
   ]
  },
  {
   "cell_type": "markdown",
   "id": "95030b74-3d19-44ea-8335-a4e974d37b86",
   "metadata": {},
   "source": [
    "1. State the null hypothesis (H0) and alternative hypothesis (H1).\n",
    "2. Determine the level of significance (α).\n",
    "3. Choose the appropriate test statistic.\n",
    "4. Collect data and calculate the test statistic.\n",
    "5. Determine the p-value.\n",
    "6. Compare the p-value to the level of significance.\n",
    "7. Reject or Accept Null Hypothesis."
   ]
  },
  {
   "cell_type": "code",
   "execution_count": null,
   "id": "a9f3994a-36ec-4b93-b493-a8ae9498c010",
   "metadata": {},
   "outputs": [],
   "source": []
  },
  {
   "cell_type": "markdown",
   "id": "2bb79ad2-68bd-4fa2-ac89-c80829aa7280",
   "metadata": {},
   "source": [
    "Q8. Define p-value and explain its significance in hypothesis testing."
   ]
  },
  {
   "cell_type": "markdown",
   "id": "468a55a5-c92d-4cf3-b4c1-61d28ea4c927",
   "metadata": {},
   "source": [
    "The p-value is the probability of obtaining a test statistic as extreme or more extreme than the one observed, assuming the null hypothesis is true.\n",
    "\n",
    "In hypothesis testing, the p-value is compared to the level of significance (α) to determine whether the null hypothesis should be rejected or not. If the p-value is less than α, the null hypothesis is rejected, and the alternative hypothesis is accepted. Conversely, if the p-value is greater than α, the null hypothesis is not rejected."
   ]
  },
  {
   "cell_type": "code",
   "execution_count": null,
   "id": "5602f607-dc25-4a31-82b9-695424509e3b",
   "metadata": {},
   "outputs": [],
   "source": []
  },
  {
   "cell_type": "markdown",
   "id": "b91b2eb0-f919-4a5e-909e-33f685616ac3",
   "metadata": {},
   "source": [
    "Q9. Generate a Student's t-distribution plot using Python's matplotlib library, with the degrees of freedom\n",
    "parameter set to 10."
   ]
  },
  {
   "cell_type": "code",
   "execution_count": 2,
   "id": "c4e5f9c2-ad82-45b1-a6e4-6996c10b9a03",
   "metadata": {},
   "outputs": [
    {
     "data": {
      "image/png": "[encoded data removed]",
      "text/plain": [
       "<Figure size 640x480 with 1 Axes>"
      ]
     },
     "metadata": {},
     "output_type": "display_data"
    }
   ],
   "source": [
    "import numpy as np\n",
    "from scipy.stats import t\n",
    "import matplotlib.pyplot as plt\n",
    "\n",
    "df = 10\n",
    "\n",
    "x = np.linspace(-4, 4, 1000)\n",
    "\n",
    "# Calculate y-values for Student's t-distribution\n",
    "y = t.pdf(x, df)\n",
    "\n",
    "fig, ax = plt.subplots()\n",
    "ax.plot(x, y)\n",
    "\n",
    "ax.set_xlabel('x')\n",
    "ax.set_ylabel('f(x)')\n",
    "ax.set_title(f'Student\\'s t-distribution with df={df}')\n",
    "\n",
    "plt.show()"
   ]
  },
  {
   "cell_type": "code",
   "execution_count": null,
   "id": "7da1b170-36dc-4d67-b6a9-aea0533e86db",
   "metadata": {},
   "outputs": [],
   "source": []
  },
  {
   "cell_type": "markdown",
   "id": "88f361d4-fd43-4c29-ac6d-32c391cddec7",
   "metadata": {},
   "source": [
    "Q10. Write a Python program to calculate the two-sample t-test for independent samples, given two\n",
    "random samples of equal size and a null hypothesis that the population means are equal."
   ]
  },
  {
   "cell_type": "code",
   "execution_count": 6,
   "id": "b3e14afe-5d52-4448-ab0f-d6f494b93579",
   "metadata": {},
   "outputs": [
    {
     "name": "stdout",
     "output_type": "stream",
     "text": [
      "Null Hypothesis: The population means are equal.\n",
      "Sample 1 Mean: 4.851026885711281\n",
      "Sample 2 Mean: 4.089382141302862\n",
      "T-Statistic: 2.01544459577714\n",
      "P-Value: 0.04659636694348425\n"
     ]
    }
   ],
   "source": [
    "import numpy as np\n",
    "from scipy.stats import ttest_ind\n",
    "\n",
    "sample1 = np.random.normal(loc=5, scale=2, size=50)\n",
    "sample2 = np.random.normal(loc=4, scale=2, size=50)\n",
    "\n",
    "# Calculate t-test and p-value\n",
    "t, p = ttest_ind(sample1, sample2)\n",
    "\n",
    "# Print results\n",
    "print(\"Null Hypothesis: The population means are equal.\")\n",
    "print(\"Sample 1 Mean:\", np.mean(sample1))\n",
    "print(\"Sample 2 Mean:\", np.mean(sample2))\n",
    "print(\"T-Statistic:\", t)\n",
    "print(\"P-Value:\", p)"
   ]
  },
  {
   "cell_type": "code",
   "execution_count": null,
   "id": "7bac04ac-245d-43f4-a8e4-6ae28ae7aaea",
   "metadata": {},
   "outputs": [],
   "source": []
  },
  {
   "cell_type": "markdown",
   "id": "a518b0f3-4cc3-4876-9f3d-13c048e9281a",
   "metadata": {},
   "source": [
    "Q11. What is Student’s t distribution? When to use the t-Distribution."
   ]
  },
  {
   "cell_type": "markdown",
   "id": "d3b8fb2b-a4a8-40af-b326-f20b3f6fb19b",
   "metadata": {},
   "source": [
    "Student's t-distribution is a probability distribution that arises in the context of statistical inference, particularly when we want to estimate the mean of a population using a sample.\n",
    "\n",
    "The t-distribution is used when we want to test hypotheses about the mean of a population based on a small sample (n<30) and we don't know the population standard deviation."
   ]
  },
  {
   "cell_type": "code",
   "execution_count": null,
   "id": "a524b081-da6f-47ba-aecb-bc11b51bd2e6",
   "metadata": {},
   "outputs": [],
   "source": []
  },
  {
   "cell_type": "markdown",
   "id": "a2a50964-0e84-4927-b02a-f6c8f15c11df",
   "metadata": {},
   "source": [
    "Q12. What is t-statistic? State the formula for t-statistic."
   ]
  },
  {
   "cell_type": "markdown",
   "id": "444e9c42-e7a6-4e1d-9f92-cc2abe1a8a11",
   "metadata": {},
   "source": [
    "The t-statistic is a measure of how far the sample mean is from the hypothesized population mean in units of the standard error of the sample mean. It is used in hypothesis testing to determine whether there is a significant difference between the sample mean and the hypothesized population mean.\n",
    "\n",
    "The formula for the t-statistic is:\n",
    "\n",
    "t = (x̄ - μ) / (s / sqrt(n))\n",
    "\n",
    "where:\n",
    "\n",
    "x̄ is the sample mean\n",
    "\n",
    "μ is the hypothesized population mean under the null hypothesis\n",
    "\n",
    "s is the sample standard deviation\n",
    "\n",
    "n is the sample size"
   ]
  },
  {
   "cell_type": "code",
   "execution_count": null,
   "id": "e09b5fd5-5e4c-4e4e-a01d-b5ecdece0f1c",
   "metadata": {},
   "outputs": [],
   "source": []
  },
  {
   "cell_type": "markdown",
   "id": "cf6b3f44-ad61-435a-8650-ca40949f787e",
   "metadata": {},
   "source": [
    "Q13. A coffee shop owner wants to estimate the average daily revenue for their shop. They take a random\n",
    "sample of 50 days and find the sample mean revenue to be 500 with a standard deviation of $50.\n",
    "Estimate the population mean revenue with a 95% confidence interval."
   ]
  },
  {
   "cell_type": "raw",
   "id": "104a5d99-46b1-48d5-82c2-731334ce5de2",
   "metadata": {},
   "source": [
    "To estimate the population mean revenue with a 95% confidence interval, we can use the t-distribution with n-1 degrees of freedom, where n is the sample size. The formula for the confidence interval is:\n",
    "\n",
    "CI = x̄ ± t*(s/√n)\n",
    "\n",
    "where x̄ is the sample mean revenue, s is the sample standard deviation, n is the sample size, and t is the t-value from the t-distribution table with n-1 degrees of freedom and a chosen confidence level of 95% (0.025 on each tail).\n",
    "\n",
    "Substituting the given values, we have:\n",
    "\n",
    "CI = 500 ± t*(50/√50)\n",
    "\n",
    "We can find the t-value from the t-distribution table with 49 degrees of freedom and a confidence level of 95%, which is approximately 2.009.\n",
    "\n",
    "Substituting this value, we have:\n",
    "\n",
    "CI = 500 ± 2.009*(50/√50)\n",
    "CI = 500 ± 14.18\n",
    "\n",
    "Therefore, we can estimate the population mean revenue to be between $485.82 and $514.18 with 95% confidence based on the given sample."
   ]
  },
  {
   "cell_type": "code",
   "execution_count": null,
   "id": "27fe9336-fac3-4efa-949c-5cf7ef47a346",
   "metadata": {},
   "outputs": [],
   "source": []
  },
  {
   "cell_type": "markdown",
   "id": "a9bbdc59-5bc5-46ed-ba64-d6d8514452e5",
   "metadata": {},
   "source": [
    "Q14. A researcher hypothesizes that a new drug will decrease blood pressure by 10 mmHg. They conduct a\n",
    "clinical trial with 100 patients and find that the sample mean decrease in blood pressure is 8 mmHg with a\n",
    "standard deviation of 3 mmHg. Test the hypothesis with a significance level of 0.05."
   ]
  },
  {
   "cell_type": "markdown",
   "id": "af537474-2148-4a0c-9fc9-9320befd895a",
   "metadata": {},
   "source": [
    "Null hypothesis (H0): The true mean decrease in blood pressure is equal to 10 mmHg.\n",
    "Alternative hypothesis (H1): The true mean decrease is less than 10 mmHg.\n",
    "\n",
    "Test Statistic, t = (x̄ - μ) / (s / √n)\n",
    "\n",
    "t = (8 - 10) / (3 / √100)\n",
    "t = -2 / 0.3\n",
    "t = -6.67\n",
    "\n",
    "Degrees of freedom, df = 100 - 1 = 99\n",
    "\n",
    "Critical t-value from the t-table with 99 degrees of freedom and a significance level of 0.05, which is approximately -1.660.\n",
    "\n",
    "Since the calculated t-value is less than the critical t-value, we can reject the null hypothesis and conclude that the new drug decreases blood pressure by 10 mmHg."
   ]
  },
  {
   "cell_type": "code",
   "execution_count": null,
   "id": "db222aa4-d0c1-4a4f-ad2f-331a1aa12ab6",
   "metadata": {},
   "outputs": [],
   "source": []
  },
  {
   "cell_type": "markdown",
   "id": "a1013b68-ac36-467c-9276-b71cde0b7957",
   "metadata": {},
   "source": [
    "Q15. An electronics company produces a certain type of product with a mean weight of 5 pounds and a\n",
    "standard deviation of 0.5 pounds. A random sample of 25 products is taken, and the sample mean weight\n",
    "is found to be 4.8 pounds. Test the hypothesis that the true mean weight of the products is less than 5\n",
    "pounds with a significance level of 0.01."
   ]
  },
  {
   "cell_type": "markdown",
   "id": "a649489e-8336-4fa4-bdc1-a6a81ef1899c",
   "metadata": {},
   "source": [
    "We use t test as sample size is small and assuming std of population = std of sample.\n",
    "\n",
    "Null hypothesis: The true mean weight is equal to 5 pounds. \n",
    "Alternative hypothesis: The true mean weight is less than 5 pounds.\n",
    "\n",
    "t-value:\n",
    "t = (sample mean - hypothesized mean) / (standard deviation / sqrt(sample size))\n",
    "t = (4.8 - 5) / (0.5 / sqrt(25))\n",
    "t = -2\n",
    "\n",
    "degrees of freedom(df) = 25 - 1 = 24.\n",
    "\n",
    "Using a t-distribution table with 24 degrees of freedom and a significance level of 0.01, we find that the critical t-value is -2.492.\n",
    "\n",
    "Since our calculated t-value (-2) is greater than the critical t-value (-2.492), we reject the null hypothesis.\n",
    "\n",
    "Therefore, we can conclude that the true mean weight of the products is less than 5 pounds with a significance level of 0.01."
   ]
  },
  {
   "cell_type": "code",
   "execution_count": null,
   "id": "d6b61e30-0289-4d4b-8824-9cfc758cfa55",
   "metadata": {},
   "outputs": [],
   "source": []
  },
  {
   "cell_type": "markdown",
   "id": "ea2f0e0e-f0c4-44f6-bfd7-a6b7b5842eec",
   "metadata": {},
   "source": [
    "Q16. Two groups of students are given different study materials to prepare for a test. The first group (n1 =\n",
    "30) has a mean score of 80 with a standard deviation of 10, and the second group (n2 = 40) has a mean\n",
    "score of 75 with a standard deviation of 8. Test the hypothesis that the population means for the two\n",
    "groups are equal with a significance level of 0.01."
   ]
  },
  {
   "cell_type": "markdown",
   "id": "d9d0792b-75f8-48ed-8278-054736b008a6",
   "metadata": {},
   "source": [
    "Null hypothesis: The population means for the two groups are equal.\n",
    "Alternative hypothesis: The population means are not equal.\n",
    "\n",
    "Using t - test:\n",
    "\n",
    "t = (sample mean difference - hypothesized mean difference) / (pooled standard deviation * sqrt(1/n1 + 1/n2))\n",
    "\n",
    "sample mean difference = 80 - 75 = 5\n",
    "hypothesized mean difference = 0\n",
    "pooled standard deviation = sqrt(((n1-1)s1^2 + (n2-1)s2^2) / (n1+n2-2))\n",
    "= sqrt(((2910^2) + (398^2)) / (30+40-2))\n",
    "= 8.33\n",
    "\n",
    "t = (5 - 0) / (8.33 * sqrt(1/30 + 1/40))\n",
    "\n",
    "t = 1.70\n",
    "\n",
    "df = n1 + n2 - 2 = 68.\n",
    "\n",
    "Using a t-distribution table with 68 degrees of freedom and a significance level of 0.01, we find that the critical t-value is ±2.650.\n",
    "\n",
    "Since our calculated t-value (1.70) is less than the critical t-value, we fail to reject the null hypothesis.\n",
    "\n",
    "Therefore, we can conclude that the population means for the two groups are equal with a significance level of 0.05."
   ]
  },
  {
   "cell_type": "code",
   "execution_count": null,
   "id": "2478a791-def5-4501-8091-c60c5de78e8b",
   "metadata": {},
   "outputs": [],
   "source": []
  },
  {
   "cell_type": "markdown",
   "id": "fa1f456d-6f98-4b35-98bb-41dca83fc3c1",
   "metadata": {},
   "source": [
    "Q17. A marketing company wants to estimate the average number of ads watched by viewers during a TV\n",
    "program. They take a random sample of 50 viewers and find that the sample mean is 4 with a standard\n",
    "deviation of 1.5. Estimate the population mean with a 99% confidence interval."
   ]
  },
  {
   "cell_type": "markdown",
   "id": "900ab107-a917-4c88-9adc-b24bc74871a7",
   "metadata": {},
   "source": [
    "To estimate the population mean with a 99% confidence interval, we can use the following formula:\n",
    "\n",
    "confidence interval = sample mean ± z-score * (standard deviation / sqrt(sample size))\n",
    "\n",
    "where the z-score is obtained from the standard normal distribution table for the desired confidence level. For a 99% confidence level, the z-score is 2.576.\n",
    "\n",
    "confidence interval = 4 ± 2.576 * (1.5 / sqrt(50))\n",
    "confidence interval = 4 ± 0.535\n",
    "\n",
    "Therefore, the 99% confidence interval for the population mean of the number of ads watched by viewers during a TV program is (3.465, 4.535).\n",
    "\n",
    "We can interpret this interval as follows: if we repeated this study many times and calculated the confidence interval for each sample, we would expect about 99% of those intervals to contain the true population mean."
   ]
  },
  {
   "cell_type": "code",
   "execution_count": null,
   "id": "e440fece-2f5e-43a9-82c4-080e2ec3246b",
   "metadata": {},
   "outputs": [],
   "source": []
  }
 ],
 "metadata": {
  "kernelspec": {
   "display_name": "Python 3 (ipykernel)",
   "language": "python",
   "name": "python3"
  },
  "language_info": {
   "codemirror_mode": {
    "name": "ipython",
    "version": 3
   },
   "file_extension": ".py",
   "mimetype": "text/x-python",
   "name": "python",
   "nbconvert_exporter": "python",
   "pygments_lexer": "ipython3",
   "version": "3.10.8"
  }
 },
 "nbformat": 4,
 "nbformat_minor": 5
}
