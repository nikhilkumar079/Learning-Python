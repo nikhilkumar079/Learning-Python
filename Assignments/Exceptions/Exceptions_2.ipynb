{
 "cells": [
  {
   "cell_type": "markdown",
   "id": "e6191a31-ee29-4e20-b81a-e239e247ea33",
   "metadata": {},
   "source": [
    "Q1. Explain why we have to use the Exception class while creating a Custom Exception.\n",
    "Note: Here Exception class refers to the base class for all the exceptions."
   ]
  },
  {
   "cell_type": "markdown",
   "id": "e35b5f3c-874e-4f77-bad4-7cdd5aac0ee1",
   "metadata": {},
   "source": [
    "Exception is a super class.And, it is a good practice to use a base Exception class in the case of a single module handling \n",
    "\n",
    "multiple several distinct errors. This base class can further be implemented by various other user-defined classes to address \n",
    "\n",
    "different errors. Basically using exception provides flexibility."
   ]
  },
  {
   "cell_type": "code",
   "execution_count": null,
   "id": "a246abb0-3c75-4ccc-9506-825f2e7f8c3a",
   "metadata": {},
   "outputs": [],
   "source": []
  },
  {
   "cell_type": "markdown",
   "id": "d3c53eed-dd9d-4e2c-a847-28e3b581bf62",
   "metadata": {},
   "source": [
    "Q2. Write a python program to print Python Exception Hierarchy."
   ]
  },
  {
   "cell_type": "code",
   "execution_count": 6,
   "id": "f7c1453c-f914-4ada-8576-18f0e8895ffa",
   "metadata": {},
   "outputs": [
    {
     "name": "stdout",
     "output_type": "stream",
     "text": [
      "first: unsupported operand type(s) for /: 'int' and 'str'\n"
     ]
    }
   ],
   "source": [
    "try:\n",
    "    a = 10\n",
    "    b = 'DATA'\n",
    "    d = a/b\n",
    "    print(d)\n",
    "except  Exception as e: #this is super class therefore exception is raised from here. It's hierarchy.\n",
    "    print('first:',e)\n",
    "except TypeError as e:\n",
    "    print('second,',e)"
   ]
  },
  {
   "cell_type": "code",
   "execution_count": null,
   "id": "a9d8aeb4-58cd-4d8b-a626-8c696cf2e90d",
   "metadata": {},
   "outputs": [],
   "source": []
  },
  {
   "cell_type": "markdown",
   "id": "6898bf5f-a692-4410-b198-d1fda9263d27",
   "metadata": {},
   "source": [
    "Q3. What errors are defined in the ArithmeticError class? Explain any two with an example."
   ]
  },
  {
   "cell_type": "markdown",
   "id": "e2a46e6c-0576-4988-90ad-59af7a447924",
   "metadata": {},
   "source": [
    "The errors in ArthimeticError are OverflowError, ZeroDivisionError, FloatingPointError."
   ]
  },
  {
   "cell_type": "code",
   "execution_count": 20,
   "id": "e4bfc0b4-c2a6-4e9a-96a8-ee8dd4698d16",
   "metadata": {},
   "outputs": [],
   "source": [
    "#OverflowError: It basically raises error when there is a large value created during runtime.\n",
    "import math\n",
    "def func1(x):\n",
    "    try:\n",
    "        print(math.exp(x))\n",
    "\n",
    "    except OverflowError as e:\n",
    "        print(\"Overflow:\", e)"
   ]
  },
  {
   "cell_type": "code",
   "execution_count": 21,
   "id": "d46206a0-1ca2-4e2a-a90a-783106885a7d",
   "metadata": {},
   "outputs": [
    {
     "name": "stdout",
     "output_type": "stream",
     "text": [
      "2.6881171418161356e+43\n"
     ]
    }
   ],
   "source": [
    "func1(100)"
   ]
  },
  {
   "cell_type": "code",
   "execution_count": 22,
   "id": "a3f4ab9e-3d70-4e79-a768-bf49cd9b9027",
   "metadata": {},
   "outputs": [
    {
     "name": "stdout",
     "output_type": "stream",
     "text": [
      "Overflow: math range error\n"
     ]
    }
   ],
   "source": [
    "func1(1000)"
   ]
  },
  {
   "cell_type": "code",
   "execution_count": 24,
   "id": "46d4abf0-ea07-4d2c-8412-deca55ba1ccd",
   "metadata": {},
   "outputs": [
    {
     "name": "stdout",
     "output_type": "stream",
     "text": [
      "division by zero\n"
     ]
    }
   ],
   "source": [
    "#ZeroDivisionError: When a number or integer is divided by 0, it's called.\n",
    "try:\n",
    "    a = 10/0\n",
    "    print(a)\n",
    "except ZeroDivisionError as e:\n",
    "    print(e)\n"
   ]
  },
  {
   "cell_type": "code",
   "execution_count": null,
   "id": "bb4b2646-5034-46f8-8408-74a0d4b0ac08",
   "metadata": {},
   "outputs": [],
   "source": []
  },
  {
   "cell_type": "markdown",
   "id": "18f8d3f8-f5b0-4599-bf2d-2ff856eb6eeb",
   "metadata": {},
   "source": [
    "Q4. Why LookupError class is used? Explain with an example KeyError and IndexError."
   ]
  },
  {
   "cell_type": "markdown",
   "id": "937fc0a2-c3d8-460e-b11f-05e54ca66ae1",
   "metadata": {},
   "source": [
    "Lookup Error acts as a base class for the exceptions that occur when a key or index used on a mapping or sequence of a \n",
    "\n",
    "list/dictionary is invalid or does not exists."
   ]
  },
  {
   "cell_type": "code",
   "execution_count": 36,
   "id": "40917824-1331-4338-a8ff-29ea3410b418",
   "metadata": {},
   "outputs": [
    {
     "name": "stdout",
     "output_type": "stream",
     "text": [
      "Key Error Exception Raised.\n"
     ]
    }
   ],
   "source": [
    "#key error: If a key you are trying to access is not found in the dictionary, a key error exception is raised.\n",
    "try:  \n",
    "    a = {1:'a', 2:'b', 3:'c'}  \n",
    "    print (a[4])  \n",
    "except KeyError:  \n",
    "    print (\"Key Error Exception Raised.\")\n",
    "else:  \n",
    "    print (\"Success, no error!\")"
   ]
  },
  {
   "cell_type": "code",
   "execution_count": 37,
   "id": "6ca5319a-c82b-4d29-837d-380a5a0ec628",
   "metadata": {},
   "outputs": [
    {
     "name": "stdout",
     "output_type": "stream",
     "text": [
      "list index out of range\n"
     ]
    }
   ],
   "source": [
    "'''Index error: When you are trying to access an index (sequence) of a \n",
    "list that does not exist in that list or is out of range of that list, an index error is raised.'''\n",
    "try:\n",
    "    ls = [1,2,3]\n",
    "    ls[4]\n",
    "except IndexError as e:\n",
    "    print(e)"
   ]
  },
  {
   "cell_type": "code",
   "execution_count": null,
   "id": "1a0ff845-f006-4bdd-9fce-6591ddea6ca8",
   "metadata": {},
   "outputs": [],
   "source": []
  },
  {
   "cell_type": "markdown",
   "id": "d3e5601f-6fa7-4b42-aee6-33151df23e3e",
   "metadata": {},
   "source": [
    "Q5. Explain ImportError. What is ModuleNotFoundError?"
   ]
  },
  {
   "cell_type": "markdown",
   "id": "a3ebaf76-4db5-4949-8779-9a11fd7b7afd",
   "metadata": {},
   "source": [
    "ImportError is raised when you try to import a module that does not exist (unable to load) in its standard path or even when \n",
    "\n",
    "you make a typo in the module's name. And, the ModuleNotFoundError is a syntax error that appears when the static import \n",
    "\n",
    "statement cannot find the file at the declared path. "
   ]
  },
  {
   "cell_type": "code",
   "execution_count": 41,
   "id": "640711e0-221c-4178-8164-e475096f95f3",
   "metadata": {},
   "outputs": [
    {
     "ename": "ModuleNotFoundError",
     "evalue": "No module named 'data'",
     "output_type": "error",
     "traceback": [
      "\u001b[0;31m---------------------------------------------------------------------------\u001b[0m",
      "\u001b[0;31mModuleNotFoundError\u001b[0m                       Traceback (most recent call last)",
      "Cell \u001b[0;32mIn[41], line 1\u001b[0m\n\u001b[0;32m----> 1\u001b[0m \u001b[38;5;28;01mimport\u001b[39;00m \u001b[38;5;21;01mdata\u001b[39;00m\n",
      "\u001b[0;31mModuleNotFoundError\u001b[0m: No module named 'data'"
     ]
    }
   ],
   "source": [
    "import data"
   ]
  },
  {
   "cell_type": "code",
   "execution_count": null,
   "id": "8dfda502-6275-4972-8789-1df2670a5b84",
   "metadata": {},
   "outputs": [],
   "source": []
  },
  {
   "cell_type": "markdown",
   "id": "0be2952f-790e-4594-8a1e-b949df66d0f9",
   "metadata": {},
   "source": [
    "Q6. List down some best practices for exception handling in python."
   ]
  },
  {
   "cell_type": "markdown",
   "id": "46a2f052-e8b7-4b22-8dd8-db5d302f6502",
   "metadata": {},
   "source": [
    "1. Always declare a specific exception.\n",
    "2. Print the Valid and Sensible Messages.\n",
    "3. Use logging to keep track of Errors.\n",
    "4. Avoid creating multiple exceptions.\n",
    "5. Ensure maintaining a proper documentation.\n",
    "6. Always keep an eye on cleaning the resources up, to avoid over and under usage."
   ]
  },
  {
   "cell_type": "code",
   "execution_count": null,
   "id": "062dbcd9-db7b-4594-8fb3-7f9880adb89d",
   "metadata": {},
   "outputs": [],
   "source": []
  }
 ],
 "metadata": {
  "kernelspec": {
   "display_name": "Python 3 (ipykernel)",
   "language": "python",
   "name": "python3"
  },
  "language_info": {
   "codemirror_mode": {
    "name": "ipython",
    "version": 3
   },
   "file_extension": ".py",
   "mimetype": "text/x-python",
   "name": "python",
   "nbconvert_exporter": "python",
   "pygments_lexer": "ipython3",
   "version": "3.10.8"
  }
 },
 "nbformat": 4,
 "nbformat_minor": 5
}
