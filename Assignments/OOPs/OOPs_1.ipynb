{
 "cells": [
  {
   "cell_type": "markdown",
   "id": "6df6c755-f4a7-438c-b212-db2ed8bdef70",
   "metadata": {},
   "source": [
    "Q1. Explain Class and Object with respect to Object-Oriented Programming. Give a suitable example.\n",
    "\n",
    "Ans. A class is a collection of objects. A class contains the blueprints from which the objects are being created. It is a logical entity that contains some attributes and methods. \n",
    "The object is an entity that has a state and behavior associated with it. It may be any real-world object like a mouse, keyboard, chair, table, pen, etc."
   ]
  },
  {
   "cell_type": "code",
   "execution_count": 6,
   "id": "40632a83-ffd5-4825-858c-17440778a262",
   "metadata": {},
   "outputs": [
    {
     "name": "stdout",
     "output_type": "stream",
     "text": [
      "Area of Room = 1309.0\n"
     ]
    }
   ],
   "source": [
    "# create a class\n",
    "class area:\n",
    "    # attributes\n",
    "    length = 0.0\n",
    "    breadth = 0.0\n",
    "    \n",
    "    # methods to calculate area\n",
    "    \n",
    "    def calculate_area(self):\n",
    "        print(\"Area of Room =\", self.length * self.breadth)\n",
    "\n",
    "# create object of Room class\n",
    "study_room = area()\n",
    "\n",
    "# assign values to all the attributes \n",
    "study_room.length = 42.5\n",
    "study_room.breadth = 30.8\n",
    "\n",
    "# access method inside class\n",
    "study_room.calculate_area()"
   ]
  },
  {
   "cell_type": "markdown",
   "id": "a223b4fe-a7aa-4794-a7bd-8c29802dbade",
   "metadata": {},
   "source": [
    "Q2. Name the four pillars of OOPs.\n",
    "Ans. \n",
    "    Encapsulation\n",
    "    Inheritance\n",
    "    Polymorphism\n",
    "    Abstraction"
   ]
  },
  {
   "cell_type": "markdown",
   "id": "6a63a6f9-5a03-4ed7-8e01-b77960908d83",
   "metadata": {},
   "source": [
    "Q3. Explain why the __init__() function is used. Give a suitable example.\n",
    "Ans.  The __init__  function is called every time an object is created from a class. The __init__ method lets the class initialize the object’s attributes and serves no other purpose. It is only used within classes."
   ]
  },
  {
   "cell_type": "markdown",
   "id": "f1f4dc0f-e2ec-4aa3-97bd-771191f15472",
   "metadata": {},
   "source": [
    "Q4. Why self is used in OOPs?\n",
    "Ans. Since the class is just a blueprint, self allows access to the attributes and methods of each object in python. This allows each object to have its own attributes and methods. Thus, even long before creating these objects, we reference the objects as self while defining the class."
   ]
  },
  {
   "cell_type": "markdown",
   "id": "e4edc420-7767-430f-995e-899a7aeef728",
   "metadata": {},
   "source": [
    "Q5. What is inheritance? Give an example for each type of inheritance.\n",
    "Ans. Inheritance is defined as the mechanism of inheriting the properties of the base class to the child class."
   ]
  },
  {
   "cell_type": "code",
   "execution_count": 9,
   "id": "2b5d8f04-1e05-4eaa-8c8e-dd5925031378",
   "metadata": {},
   "outputs": [
    {
     "name": "stdout",
     "output_type": "stream",
     "text": [
      "This function is in parent class.\n",
      "This function is in child class.\n"
     ]
    }
   ],
   "source": [
    "# Types of Inheritance:\n",
    "# Single Inheritance\n",
    "# Single inheritance enables a derived class to inherit properties from a single parent class.\n",
    "# Base class\n",
    "class Parent:\n",
    "    def f1(self):\n",
    "        print(\"This function is in parent class.\")\n",
    "# Derived class\n",
    "class Child(Parent):\n",
    "    def f2(self):\n",
    "        print(\"This function is in child class.\")\n",
    "\n",
    "obj = Child()\n",
    "obj.f1()\n",
    "obj.f2()"
   ]
  },
  {
   "cell_type": "code",
   "execution_count": 10,
   "id": "2d3e86c2-d4f5-45b1-9b7f-bdbe15c5f75f",
   "metadata": {},
   "outputs": [
    {
     "name": "stdout",
     "output_type": "stream",
     "text": [
      "Father : RAM\n",
      "Mother : SITA\n"
     ]
    }
   ],
   "source": [
    "# multiple inheritance\n",
    "# When a class can be derived from more than one base class this type of inheritance is called multiple inheritances.\n",
    "# Base class1\n",
    "class Mother:\n",
    "    mothername = \"\"\n",
    "\n",
    "    def mother(self):\n",
    "        print(self.mothername)\n",
    "# Base class2\n",
    "class Father:\n",
    "    fathername = \"\"\n",
    "    def father(self):\n",
    "        print(self.fathername)\n",
    "# Derived class\n",
    "class Son(Mother, Father):\n",
    "    def parents(self):\n",
    "        print(\"Father :\", self.fathername)\n",
    "        print(\"Mother :\", self.mothername)\n",
    "\n",
    "s = Son()\n",
    "s.fathername = \"RAM\"\n",
    "s.mothername = \"SITA\"\n",
    "s.parents()"
   ]
  },
  {
   "cell_type": "code",
   "execution_count": 13,
   "id": "63f4c788-6d96-4edd-badd-bd9443880fca",
   "metadata": {},
   "outputs": [
    {
     "name": "stdout",
     "output_type": "stream",
     "text": [
      "Grandfather name : Shiva Keshava\n",
      "Father name : Krishna\n",
      "Son name : Ram\n"
     ]
    }
   ],
   "source": [
    "# Multilevel Inheritance\n",
    "# In this, features of the base class and the derived class are further inherited into the new derived class.\n",
    "\n",
    "# Base class\n",
    "class Grandfather:\n",
    "    def __init__(self, grandfathername):\n",
    "        self.grandfathername = grandfathername\n",
    "# Intermediate class\n",
    "class Father(Grandfather):\n",
    "    def __init__(self, fathername, grandfathername):\n",
    "        self.fathername = fathername\n",
    "        Grandfather.__init__(self, grandfathername)\n",
    "# Derived class\n",
    "class Son(Father):\n",
    "    def __init__(self, sonname, fathername, grandfathername):\n",
    "        self.sonname = sonname\n",
    "        Father.__init__(self, fathername, grandfathername)\n",
    "\n",
    "    def print_name(self):\n",
    "        print('Grandfather name :', self.grandfathername)\n",
    "        print(\"Father name :\", self.fathername)\n",
    "        print(\"Son name :\", self.sonname)\n",
    "\n",
    "s1 = Son('Ram', 'Krishna', 'Shiva Keshava')\n",
    "s1.print_name()"
   ]
  },
  {
   "cell_type": "code",
   "execution_count": 15,
   "id": "b6100332-7ca9-4a0f-a160-4b742cbf8c6d",
   "metadata": {},
   "outputs": [
    {
     "name": "stdout",
     "output_type": "stream",
     "text": [
      "This function is in parent class.\n",
      "This function is in child 1.\n",
      "This function is in child 2.\n"
     ]
    }
   ],
   "source": [
    "# Hierarchical Inheritance\n",
    "# When more than one derived class are created from a single base this type of inheritance is called hierarchical inheritance.\n",
    "# Base class\n",
    "class Parent:\n",
    "    def func1(self):\n",
    "        print(\"This function is in parent class.\")\n",
    "\n",
    "# Derived class1\n",
    "class Child1(Parent):\n",
    "    def func2(self):\n",
    "        print(\"This function is in child 1.\")\n",
    "        \n",
    "# Derivied class2\n",
    "class Child2(Parent):\n",
    "    def func3(self):\n",
    "        print(\"This function is in child 2.\")\n",
    "        \n",
    "c1 = Child1()\n",
    "c2 = Child2()\n",
    "c1.func1()\n",
    "c1.func2()\n",
    "c2.func3()\n"
   ]
  },
  {
   "cell_type": "code",
   "execution_count": 16,
   "id": "60739f61-0db5-47be-98d1-587d86631c8e",
   "metadata": {},
   "outputs": [
    {
     "name": "stdout",
     "output_type": "stream",
     "text": [
      "This function is in school.\n",
      "This function is in student 1. \n"
     ]
    }
   ],
   "source": [
    "# Hybrid Inheritance\n",
    "# Inheritance consisting of multiple types of inheritance is called hybrid inheritance.\n",
    "\n",
    "class School:\n",
    "    def func1(self):\n",
    "        print(\"This function is in school.\")\n",
    "\n",
    "\n",
    "class Student1(School):\n",
    "    def func2(self):\n",
    "        print(\"This function is in student 1. \")\n",
    "\n",
    "\n",
    "class Student2(School):\n",
    "    def func3(self):\n",
    "        print(\"This function is in student 2.\")\n",
    "\n",
    "\n",
    "class Student3(Student1, School):\n",
    "    def func4(self):\n",
    "        print(\"This function is in student 3.\")\n",
    "\n",
    "s2 = Student3()\n",
    "s2.func1()\n",
    "s2.func2()\n"
   ]
  },
  {
   "cell_type": "code",
   "execution_count": null,
   "id": "aa0aa26f-a24c-4a20-a052-3b0eef72fa54",
   "metadata": {},
   "outputs": [],
   "source": []
  }
 ],
 "metadata": {
  "kernelspec": {
   "display_name": "Python 3 (ipykernel)",
   "language": "python",
   "name": "python3"
  },
  "language_info": {
   "codemirror_mode": {
    "name": "ipython",
    "version": 3
   },
   "file_extension": ".py",
   "mimetype": "text/x-python",
   "name": "python",
   "nbconvert_exporter": "python",
   "pygments_lexer": "ipython3",
   "version": "3.10.8"
  }
 },
 "nbformat": 4,
 "nbformat_minor": 5
}
