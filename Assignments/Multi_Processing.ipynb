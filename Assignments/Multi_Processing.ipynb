{
 "cells": [
  {
   "cell_type": "markdown",
   "id": "bdd03e56-88fb-4bfc-841b-c5864c9ca895",
   "metadata": {},
   "source": [
    "Q1. What is multiprocessing in python? Why is it useful?"
   ]
  },
  {
   "cell_type": "markdown",
   "id": "547835c0-dc9e-4bc2-82af-fa192c3c2f2b",
   "metadata": {},
   "source": [
    "Multiprocessing can make a program substantially more efficient by running multiple tasks in parallel instead of \n",
    "\n",
    "sequentially. It is used in improving the overall performance and efficiency by running tasks parallely using \n",
    "\n",
    "processors."
   ]
  },
  {
   "cell_type": "code",
   "execution_count": null,
   "id": "67566243-bc61-4d83-b146-e7a04734ddac",
   "metadata": {},
   "outputs": [],
   "source": []
  },
  {
   "cell_type": "markdown",
   "id": "251c961a-4e7e-4f38-90ea-8b241c60915d",
   "metadata": {},
   "source": [
    "Q2. What are the differences between multiprocessing and multithreading?"
   ]
  },
  {
   "cell_type": "markdown",
   "id": "a8c6814c-27a5-4c1c-9f35-fe25bcc00a15",
   "metadata": {},
   "source": [
    "1. Multiprocessing adds more number of or CPUs/processors to the system which increases the computing speed of the system. Whereas, Multithreading allows a process to create more threads which increase the responsiveness of the system. \n",
    "\n",
    "2. Program or process is the main unit of Multiprocessing. Whereas, Thread is a main unit of Multithreading.\n",
    "\n",
    "3. Multiprocessing helps to develop an efficient operating system program. And, multithreading helps to develop an efficient application program.\n",
    "\n",
    "4. Also, the creation of a process is time-consuming and resource intensive. But, the creation of a thread is economical in time and resource."
   ]
  },
  {
   "cell_type": "code",
   "execution_count": null,
   "id": "83c498d6-ebef-4eee-9005-3f00b9eddd84",
   "metadata": {},
   "outputs": [],
   "source": []
  },
  {
   "cell_type": "markdown",
   "id": "321b82dc-30d3-45eb-a1c0-810afbe28fbb",
   "metadata": {},
   "source": [
    "Q3. Write a python code to create a process using the multiprocessing module."
   ]
  },
  {
   "cell_type": "code",
   "execution_count": 7,
   "id": "7553463e-e599-4ade-9160-75cc734cc050",
   "metadata": {},
   "outputs": [
    {
     "name": "stdout",
     "output_type": "stream",
     "text": [
      "Cube of 10 is 1000\n",
      "Cube of 11 is 1331\n"
     ]
    }
   ],
   "source": [
    "import multiprocessing\n",
    "def cubes(n):\n",
    "    print(\"Cube of %d is %d\" %(n,n**3))\n",
    "\n",
    "p1 = multiprocessing.Process(target=cubes, args=(10, ))\n",
    "p2 = multiprocessing.Process(target=cubes, args=(11, ))\n",
    "p1.start()\n",
    "p2.start()"
   ]
  },
  {
   "cell_type": "code",
   "execution_count": null,
   "id": "2530c294-43e2-4295-819c-1ae48b8acdde",
   "metadata": {},
   "outputs": [],
   "source": []
  },
  {
   "cell_type": "markdown",
   "id": "f747791d-3bbc-4d47-a6ff-806412565d32",
   "metadata": {},
   "source": [
    "Q4. What is a multiprocessing pool in python? Why is it used?"
   ]
  },
  {
   "cell_type": "markdown",
   "id": "ea66a99f-a8f6-4e3a-a4a4-1d553e10fcf1",
   "metadata": {},
   "source": [
    "Multiprocessing pool is a class in multiprocessing which can handle an enormous number of processes. It allows you to   \n",
    "\n",
    "run multiple jobs per process. It can be used for parallel execution of a function across multiple input values, \n",
    "\n",
    "distributing the input data across processes."
   ]
  },
  {
   "cell_type": "code",
   "execution_count": null,
   "id": "da83a7ec-6cfd-4a49-8d8b-1d825212ca6d",
   "metadata": {},
   "outputs": [],
   "source": []
  },
  {
   "cell_type": "markdown",
   "id": "88dd685c-0eac-4774-a343-80e8bc8fada9",
   "metadata": {},
   "source": [
    "Q5. How can we create a pool of worker processes in python using the multiprocessing module?"
   ]
  },
  {
   "cell_type": "markdown",
   "id": "f2c28b74-6fd0-49c5-872e-5226db4a640d",
   "metadata": {},
   "source": [
    "We create a pool of worker processes using multiprocessing.Pool(processes). It takes processes as input argument. "
   ]
  },
  {
   "cell_type": "code",
   "execution_count": 10,
   "id": "7a23c10d-7ac6-4b21-bb47-86a57d1371fb",
   "metadata": {},
   "outputs": [
    {
     "name": "stdout",
     "output_type": "stream",
     "text": [
      "[1, 4, 9, 16, 25, 36, 49, 64, 81, 100]\n"
     ]
    }
   ],
   "source": [
    "#Example\n",
    "import multiprocessing\n",
    "  \n",
    "def square(n):\n",
    "    return (n*n)\n",
    "\n",
    "if __name__ == \"__main__\":\n",
    "    \n",
    "    ls =[i for i in range(1,11)]\n",
    "  \n",
    "    p = multiprocessing.Pool()\n",
    "  \n",
    "    ls1 = p.map(square,ls)\n",
    "  \n",
    "    print(ls1)"
   ]
  },
  {
   "cell_type": "code",
   "execution_count": null,
   "id": "39e4c8e2-a5da-46c8-a3e5-f95f71126af4",
   "metadata": {},
   "outputs": [],
   "source": []
  },
  {
   "cell_type": "markdown",
   "id": "a8a4957e-f558-408a-82c4-d8a1e3773f67",
   "metadata": {},
   "source": [
    "Q6. Write a python program to create 4 processes, each process should print a different number using the multiprocessing module in python."
   ]
  },
  {
   "cell_type": "code",
   "execution_count": 8,
   "id": "e5e41b40-4723-48d1-825b-c4388f52c40c",
   "metadata": {},
   "outputs": [
    {
     "name": "stdout",
     "output_type": "stream",
     "text": [
      "Process 1: 1\n",
      "Process 3: 3\n",
      "Process 4: 4\n",
      "Process 2: 2\n",
      "\n",
      "\n",
      "\n",
      "\n"
     ]
    }
   ],
   "source": [
    "import multiprocessing\n",
    "\n",
    "def print_number(num):\n",
    "    print(f\"Process {num}: {num}\\n\")\n",
    "\n",
    "if __name__ == '__main__':\n",
    "    with multiprocessing.Pool(processes=4) as pool:\n",
    "        pool.map(print_number, [1, 2, 3, 4]) \n",
    "        \n",
    "#Note that the order in which the processes print their numbers may vary, as they are executed in parallel."
   ]
  },
  {
   "cell_type": "code",
   "execution_count": null,
   "id": "890271e3-0cf1-46e3-bfea-ed49243040cc",
   "metadata": {},
   "outputs": [],
   "source": []
  }
 ],
 "metadata": {
  "kernelspec": {
   "display_name": "Python 3 (ipykernel)",
   "language": "python",
   "name": "python3"
  },
  "language_info": {
   "codemirror_mode": {
    "name": "ipython",
    "version": 3
   },
   "file_extension": ".py",
   "mimetype": "text/x-python",
   "name": "python",
   "nbconvert_exporter": "python",
   "pygments_lexer": "ipython3",
   "version": "3.10.8"
  }
 },
 "nbformat": 4,
 "nbformat_minor": 5
}
