{
 "cells": [
  {
   "cell_type": "markdown",
   "id": "e89c7e27-a67e-4ee7-aef4-be68c487447e",
   "metadata": {},
   "source": [
    "Q1. What is a database? Differentiate between SQL and NoSQL databases."
   ]
  },
  {
   "cell_type": "markdown",
   "id": "bdfaa890-da0d-4437-9d2e-3d10189ca842",
   "metadata": {},
   "source": [
    "A database is an organized collection of data, so that it can be easily accessed and managed.\n",
    "\n",
    "1. SQL databases are primarily called as Relational Databases (RDBMS); whereas NoSQL database are primarily called as non-relational or distributed database.\n",
    "\n",
    "2. SQL  works with data in the form of tables. Whereas, a NoSQL database works with data of document-oriented, column-oriented, graph-based or organized as a KeyValue store.\n",
    "\n",
    "3. SQL has pre-defined schema but, NoSQL has dynamic schema."
   ]
  },
  {
   "cell_type": "code",
   "execution_count": null,
   "id": "1203de93-8ce4-4fb5-8e94-3266ee35157e",
   "metadata": {},
   "outputs": [],
   "source": []
  },
  {
   "cell_type": "markdown",
   "id": "99f784e8-a974-471f-8534-97d3071f20ab",
   "metadata": {},
   "source": [
    "Q2. What is DDL? Explain why CREATE, DROP, ALTER, and TRUNCATE are used with an example."
   ]
  },
  {
   "cell_type": "markdown",
   "id": "056649f8-cdaf-45bc-8a28-aad399fa792a",
   "metadata": {},
   "source": [
    "DDL means Data Definition Language. DDL is a set of SQL commands used to create, modify, and delete database \n",
    "\n",
    "structures but not data."
   ]
  },
  {
   "cell_type": "markdown",
   "id": "82659660-3b04-4474-9c76-4cb82077f5a0",
   "metadata": {},
   "source": [
    "CREATE: This command is used to create the database or its objects (like table, index, function, views, store \n",
    "\n",
    "procedure, and triggers).\n",
    "\n",
    "CREATE TABLE Subject\n",
    "\n",
    "(\n",
    "Sub_ID INT, \n",
    "\n",
    "Sub_Name varchar(20)\n",
    ");"
   ]
  },
  {
   "cell_type": "code",
   "execution_count": 7,
   "id": "2f953ea0-79fe-4852-b877-a0f073332985",
   "metadata": {},
   "outputs": [
    {
     "name": "stdout",
     "output_type": "stream",
     "text": [
      "Subject Table:\n",
      "Sub_ID| Sub_Name\n",
      "      |         \n"
     ]
    }
   ],
   "source": [
    "#table is created as follows\n"
    
   ]
  },
  {
   "cell_type": "markdown",
   "id": "1e6c75f9-92a2-493d-a101-1721da7855ae",
   "metadata": {},
   "source": [
    "DROP: This command is used to delete objects from the database.\n",
    "\n",
    "DROP subject;"
   ]
  },
  {
   "cell_type": "markdown",
   "id": "1f295b64-25a7-48af-ae47-70d21b8f32af",
   "metadata": {},
   "source": [
    "ALTER: This is used to alter the structure of the database.\n",
    "\n",
    "ALTER TABLE subject\n",
    "\n",
    "ADD Lecturer_name varchar(40);"
   ]
  },
  {
   "cell_type": "code",
   "execution_count": 6,
   "id": "b2229148-c64f-4bc8-8791-8f1d192f9838",
   "metadata": {},
   "outputs": [
    {
     "name": "stdout",
     "output_type": "stream",
     "text": [
      "Subject Table:\n",
      "Sub_ID| Sub_Name | Lecturer_name\n",
      "      |          |              \n"
     ]
    }
   ],
   "source": [
    "#table is altered by adding Lecturer_name\n"
   ]
  },
  {
   "cell_type": "markdown",
   "id": "1a93ca25-800c-47fd-b1d4-6f4f3e1c0137",
   "metadata": {},
   "source": [
    "TRUNCATE: This is used to remove all records from a table, including all spaces allocated for the records are removed.\n",
    "\n",
    "TRUNCATE TABLE Subject;"
   ]
  },
  {
   "cell_type": "code",
   "execution_count": null,
   "id": "8ef701d6-e9cb-4ba1-9a36-7b95d99cf14f",
   "metadata": {},
   "outputs": [],
   "source": []
  },
  {
   "cell_type": "markdown",
   "id": "d043347b-9cd9-461e-8f29-c36be4fccb91",
   "metadata": {},
   "source": [
    "Q3. What is DML? Explain INSERT, UPDATE, and DELETE with an example."
   ]
  },
  {
   "cell_type": "markdown",
   "id": "f9c91f0d-e126-40ed-ba6b-8641db9eaf74",
   "metadata": {},
   "source": [
    "DML means Data Manipulation Language. The SQL commands that deals with the manipulation of data present in the database belong to DML statements."
   ]
  },
  {
   "cell_type": "markdown",
   "id": "5dd26d08-22e3-4873-aded-459859adfc1d",
   "metadata": {},
   "source": [
    "INSERT : It is used to insert data into a table.\n",
    "\n",
    "INSERT INTO Subject VALUES ('1','Data Science','Sudhanshu');\n"
   ]
  },
  {
   "cell_type": "code",
   "execution_count": 5,
   "id": "335ed14b-1c09-4caa-8f16-a3209c0b2920",
   "metadata": {},
   "outputs": [
    {
     "name": "stdout",
     "output_type": "stream",
     "text": [
      "Subject Table:\n",
      "Sub_ID| Sub_Name     | Lecturer_name\n",
      "  1   | Data Science |   Sudhanshu  \n"
     ]
    }
   ],
   "source": [
    "#Values are inserted into Subject Table\n"
    
   ]
  },
  {
   "cell_type": "markdown",
   "id": "56a8b23f-b460-4d4d-aefc-9c1e4a572638",
   "metadata": {},
   "source": [
    "UPDATE: It is used to update existing data within a table.\n",
    "\n",
    "UPDATE Subject SET Lecturer_name = 'Sudh' WHERE sub_id = 1;"
   ]
  },
  {
   "cell_type": "code",
   "execution_count": 8,
   "id": "8f1720cd-7ccc-4710-9de0-4e0355905cc2",
   "metadata": {},
   "outputs": [
    {
     "name": "stdout",
     "output_type": "stream",
     "text": [
      "Subject Table:\n",
      "Sub_ID| Sub_Name     | Lecturer_name\n",
      "  1   | Data Science |      Sudh    \n"
     ]
    }
   ],
   "source": [
    "#the value in table is update using update command\n"
   ]
  },
  {
   "cell_type": "markdown",
   "id": "920e2fa4-32f2-4786-bdc7-332ac8cdb51a",
   "metadata": {},
   "source": [
    "DELETE : It is used to delete records from a database table.\n",
    "\n",
    "DELETE FROM subject where sub_id = 1;"
   ]
  },
  {
   "cell_type": "code",
   "execution_count": 9,
   "id": "a57c6a6e-e12d-47c3-8b8e-acc678e4f64a",
   "metadata": {},
   "outputs": [
    {
     "name": "stdout",
     "output_type": "stream",
     "text": [
      "Subject Table:\n",
      "Sub_ID| Sub_Name | Lecturer_name\n",
      "      |          |              \n"
     ]
    }
   ],
   "source": [
    "#the row is deleted using delete command \n"
   ]
  },
  {
   "cell_type": "code",
   "execution_count": null,
   "id": "02e533b9-2ea7-4287-aea0-a801c4bfe294",
   "metadata": {},
   "outputs": [],
   "source": []
  },
  {
   "cell_type": "markdown",
   "id": "cebd63cc-330d-4ea1-86a6-5673abb36418",
   "metadata": {},
   "source": [
    "Q4. What is DQL? Explain SELECT with an example."
   ]
  },
  {
   "cell_type": "markdown",
   "id": "6be4d648-887c-44ec-b4c8-5c5e92cca771",
   "metadata": {},
   "source": [
    "DQL means Data Query Language. It includes the SELECT statement, which allows getting the data out of the database to \n",
    "\n",
    "perform operations with it."
   ]
  },
  {
   "cell_type": "code",
   "execution_count": 10,
   "id": "a707fdb3-eb86-42db-963c-b39da9f5a1b1",
   "metadata": {},
   "outputs": [
    {
     "name": "stdout",
     "output_type": "stream",
     "text": [
      "Subject Table:\n",
      "Sub_ID| Sub_Name     | Lecturer_name\n",
      "  1   | Data Science |      Sudh    \n"
     ]
    }
   ],
   "source": [
    
   ]
  },
  {
   "cell_type": "markdown",
   "id": "52c33646-c19c-419c-a5e5-dde345e8b54f",
   "metadata": {},
   "source": [
    "select * from subject;"
   ]
  },
  {
   "cell_type": "code",
   "execution_count": 12,
   "id": "c8948335-b211-4293-9060-b6ef38ee39d3",
   "metadata": {},
   "outputs": [
    {
     "name": "stdout",
     "output_type": "stream",
     "text": [
      "  1    Data Science        Sudh    \n"
     ]
    }
   ],
   "source": [
    "#the select query gives the following result\n"
   ]
  },
  {
   "cell_type": "code",
   "execution_count": null,
   "id": "091f375e-45b6-4708-a1ef-6e6debef18b7",
   "metadata": {},
   "outputs": [],
   "source": []
  },
  {
   "cell_type": "markdown",
   "id": "56aa0068-9667-48d8-a236-a5c6fe14a12d",
   "metadata": {},
   "source": [
    "Q5. Explain Primary Key and Foreign Key."
   ]
  },
  {
   "cell_type": "markdown",
   "id": "21233467-dd7a-4141-bd84-cc48c27830cf",
   "metadata": {},
   "source": [
    "A primary key is used to ensure that data in the specific column is unique. Whereas, A foreign key is a column or \n",
    "\n",
    "group of columns in a relational database table that provides a link between data in two tables. It is a column (or \n",
    "\n",
    "columns) that references a column (most often the primary key) of another table. "
   ]
  },
  {
   "cell_type": "code",
   "execution_count": null,
   "id": "c4eeffaa-60f0-4d07-9812-cbd341b3e229",
   "metadata": {},
   "outputs": [],
   "source": []
  },
  {
   "cell_type": "markdown",
   "id": "bde0445a-0ba8-44f2-8307-a332da9709f5",
   "metadata": {},
   "source": [
    "Q6. Write a python code to connect MySQL to python. Explain the cursor() and execute() method."
   ]
  },
  {
   "cell_type": "markdown",
   "id": "f69a6436-a25e-41fc-84a8-394597cc235c",
   "metadata": {},
   "source": [
    "import mysql.connector\n",
    " \n",
    "mydb = mysql.connector.connect(\n",
    "    host = \"localhost\",\n",
    "    \n",
    "    user = \"yourusername\",\n",
    "    \n",
    "    password = \"your_password\"\n",
    ")\n",
    " \n",
    "print(mydb)\n",
    "\n",
    "cursor = mydb.cursor()\n",
    "\n",
    "cursor.execute(\"CREATE DATABASE DATASCIENCE\")"
   ]
  },
  {
   "cell_type": "markdown",
   "id": "db15de20-3d5c-46fd-91a5-0dbca05de44a",
   "metadata": {},
   "source": [
    "A cursor is an object which helps to execute the query and fetch the records from the database. The execute () method \n",
    "\n",
    "helps us to execute the query and return records according to the query."
   ]
  },
  {
   "cell_type": "code",
   "execution_count": null,
   "id": "17a82fcc-cb91-4a85-8b91-1e91fe7eda38",
   "metadata": {},
   "outputs": [],
   "source": []
  },
  {
   "cell_type": "markdown",
   "id": "5487f4c6-fdaf-4c72-930e-4d603f12dbcb",
   "metadata": {},
   "source": [
    "Q7. Give the order of execution of SQL clauses in an SQL query."
   ]
  },
  {
   "cell_type": "code",
   "execution_count": null,
   "id": "6b656847-3a6f-4f5c-8840-b00137966b96",
   "metadata": {},
   "outputs": [],
   "source": []
  }
 ],
 "metadata": {
  "kernelspec": {
   "display_name": "Python 3 (ipykernel)",
   "language": "python",
   "name": "python3"
  },
  "language_info": {
   "codemirror_mode": {
    "name": "ipython",
    "version": 3
   },
   "file_extension": ".py",
   "mimetype": "text/x-python",
   "name": "python",
   "nbconvert_exporter": "python",
   "pygments_lexer": "ipython3",
   "version": "3.10.8"
  }
 },
 "nbformat": 4,
 "nbformat_minor": 5
}
