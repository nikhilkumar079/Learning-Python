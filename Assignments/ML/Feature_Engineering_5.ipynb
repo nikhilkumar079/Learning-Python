{
 "cells": [
  {
   "cell_type": "markdown",
   "id": "0b9b8217-baf2-4051-bfa8-731c5f39540f",
   "metadata": {},
   "source": [
    "Q1. Pearson correlation coefficient is a measure of the linear relationship between two variables. Suppose\n",
    "you have collected data on the amount of time students spend studying for an exam and their final exam\n",
    "scores. Calculate the Pearson correlation coefficient between these two variables and interpret the result.Exam Scores"
   ]
  },
  {
   "cell_type": "code",
   "execution_count": 23,
   "id": "68d8b375-b795-4480-b978-98cc44246b46",
   "metadata": {},
   "outputs": [],
   "source": [
    "# Creating a Sample Dataset\n",
    "studying_time = [2,3,1,4,5,6,5,9,3,3]\n",
    "exam_scores = [70,75,60,73,78,79,80,90,65,63]"
   ]
  },
  {
   "cell_type": "code",
   "execution_count": 16,
   "id": "58a85579-8564-414f-ae2d-f3364b74dcfe",
   "metadata": {},
   "outputs": [],
   "source": [
    "import pandas as pd\n",
    "df = pd.DataFrame({'Studying_time' : studying_time, 'Exam Scores':exam_scores})"
   ]
  },
  {
   "cell_type": "code",
   "execution_count": 20,
   "id": "1e7019c1-ecd7-4963-88c5-3499d53df992",
   "metadata": {},
   "outputs": [],
   "source": [
    "p = df.corr(method='pearson')['Studying_time']['Exam Scores']"
   ]
  },
  {
   "cell_type": "code",
   "execution_count": 22,
   "id": "1332a6ff-d3a6-4e51-87c4-b68a338c0361",
   "metadata": {},
   "outputs": [
    {
     "name": "stdout",
     "output_type": "stream",
     "text": [
      "Pearson Correlation Coefficient for between Studying Time and Final Exam Scores for the given data is: 0.908\n"
     ]
    }
   ],
   "source": [
    "print(f'Pearson Correlation Coefficient for between Studying Time and Final Exam Scores for the given data is: {round(p,3)}')"
   ]
  },
  {
   "cell_type": "markdown",
   "id": "2aa1a115-7e02-40a2-8e36-95cd66b95bab",
   "metadata": {},
   "source": [
    "##### The value of 0.908 indicates that there's a strong, positive correlation between studying time and final exam scores."
   ]
  },
  {
   "cell_type": "code",
   "execution_count": null,
   "id": "03b92605-107f-4c25-923c-3dc619a77d17",
   "metadata": {},
   "outputs": [],
   "source": []
  },
  {
   "cell_type": "markdown",
   "id": "0868d64c-8c61-48cd-8f03-3864e885d89d",
   "metadata": {},
   "source": [
    "Q2. Spearman's rank correlation is a measure of the monotonic relationship between two variables.\n",
    "Suppose you have collected data on the amount of sleep individuals get each night and their overall job\n",
    "satisfaction level on a scale of 1 to 10. Calculate the Spearman's rank correlation between these two\n",
    "variables and interpret the result."
   ]
  },
  {
   "cell_type": "code",
   "execution_count": 1,
   "id": "a471b4b3-bc2a-4126-a473-afbb2f150db8",
   "metadata": {},
   "outputs": [
    {
     "data": {
      "text/html": [
       "<div>\n",
       "<style scoped>\n",
       "    .dataframe tbody tr th:only-of-type {\n",
       "        vertical-align: middle;\n",
       "    }\n",
       "\n",
       "    .dataframe tbody tr th {\n",
       "        vertical-align: top;\n",
       "    }\n",
       "\n",
       "    .dataframe thead th {\n",
       "        text-align: right;\n",
       "    }\n",
       "</style>\n",
       "<table border=\"1\" class=\"dataframe\">\n",
       "  <thead>\n",
       "    <tr style=\"text-align: right;\">\n",
       "      <th></th>\n",
       "      <th>Amount of Sleep</th>\n",
       "      <th>Job Satisfaction</th>\n",
       "    </tr>\n",
       "  </thead>\n",
       "  <tbody>\n",
       "    <tr>\n",
       "      <th>0</th>\n",
       "      <td>4</td>\n",
       "      <td>5</td>\n",
       "    </tr>\n",
       "    <tr>\n",
       "      <th>1</th>\n",
       "      <td>10</td>\n",
       "      <td>3</td>\n",
       "    </tr>\n",
       "    <tr>\n",
       "      <th>2</th>\n",
       "      <td>10</td>\n",
       "      <td>2</td>\n",
       "    </tr>\n",
       "    <tr>\n",
       "      <th>3</th>\n",
       "      <td>6</td>\n",
       "      <td>7</td>\n",
       "    </tr>\n",
       "    <tr>\n",
       "      <th>4</th>\n",
       "      <td>4</td>\n",
       "      <td>10</td>\n",
       "    </tr>\n",
       "  </tbody>\n",
       "</table>\n",
       "</div>"
      ],
      "text/plain": [
       "   Amount of Sleep  Job Satisfaction\n",
       "0                4                 5\n",
       "1               10                 3\n",
       "2               10                 2\n",
       "3                6                 7\n",
       "4                4                10"
      ]
     },
     "execution_count": 1,
     "metadata": {},
     "output_type": "execute_result"
    }
   ],
   "source": [
    "# Creating a Sample Dataset\n",
    "import pandas as pd\n",
    "import numpy as np\n",
    "\n",
    "n = 50 # Sample size\n",
    "np.random.seed(120)\n",
    "\n",
    "df = pd.DataFrame({'Amount of Sleep': np.random.randint(4, 11, n), 'Job Satisfaction': np.random.randint(1, 11, n)})\n",
    "\n",
    "df.head()"
   ]
  },
  {
   "cell_type": "code",
   "execution_count": 2,
   "id": "b08999cd-ab85-4804-b39c-2ef9f916b441",
   "metadata": {},
   "outputs": [
    {
     "data": {
      "text/html": [
       "<div>\n",
       "<style scoped>\n",
       "    .dataframe tbody tr th:only-of-type {\n",
       "        vertical-align: middle;\n",
       "    }\n",
       "\n",
       "    .dataframe tbody tr th {\n",
       "        vertical-align: top;\n",
       "    }\n",
       "\n",
       "    .dataframe thead th {\n",
       "        text-align: right;\n",
       "    }\n",
       "</style>\n",
       "<table border=\"1\" class=\"dataframe\">\n",
       "  <thead>\n",
       "    <tr style=\"text-align: right;\">\n",
       "      <th></th>\n",
       "      <th>Amount of Sleep</th>\n",
       "      <th>Job Satisfaction</th>\n",
       "    </tr>\n",
       "  </thead>\n",
       "  <tbody>\n",
       "    <tr>\n",
       "      <th>Amount of Sleep</th>\n",
       "      <td>1.000000</td>\n",
       "      <td>-0.199812</td>\n",
       "    </tr>\n",
       "    <tr>\n",
       "      <th>Job Satisfaction</th>\n",
       "      <td>-0.199812</td>\n",
       "      <td>1.000000</td>\n",
       "    </tr>\n",
       "  </tbody>\n",
       "</table>\n",
       "</div>"
      ],
      "text/plain": [
       "                  Amount of Sleep  Job Satisfaction\n",
       "Amount of Sleep          1.000000         -0.199812\n",
       "Job Satisfaction        -0.199812          1.000000"
      ]
     },
     "execution_count": 2,
     "metadata": {},
     "output_type": "execute_result"
    }
   ],
   "source": [
    "df.corr(method='spearman')"
   ]
  },
  {
   "cell_type": "markdown",
   "id": "13ded83b-b301-450e-a54f-47c2564ce5be",
   "metadata": {},
   "source": [
    "##### Spearman's rank correlation coefficient of -0.2 indicates a weak, negative monotonic relationship between the amount of sleep individuals get each night and their overall job satisfaction level."
   ]
  },
  {
   "cell_type": "code",
   "execution_count": null,
   "id": "0a063bb6-d5f6-4626-91bb-20524715f63c",
   "metadata": {},
   "outputs": [],
   "source": []
  },
  {
   "cell_type": "markdown",
   "id": "d38d78dc-9caa-4a97-ac7e-a99766c46073",
   "metadata": {},
   "source": [
    "Q3. Suppose you are conducting a study to examine the relationship between the number of hours of\n",
    "exercise per week and body mass index (BMI) in a sample of adults. You collected data on both variables\n",
    "for 50 participants. Calculate the Pearson correlation coefficient and the Spearman's rank correlation\n",
    "between these two variables and compare the results."
   ]
  },
  {
   "cell_type": "code",
   "execution_count": 6,
   "id": "11a0820f-81ca-4887-9680-6cb92d81e837",
   "metadata": {},
   "outputs": [
    {
     "data": {
      "text/html": [
       "<div>\n",
       "<style scoped>\n",
       "    .dataframe tbody tr th:only-of-type {\n",
       "        vertical-align: middle;\n",
       "    }\n",
       "\n",
       "    .dataframe tbody tr th {\n",
       "        vertical-align: top;\n",
       "    }\n",
       "\n",
       "    .dataframe thead th {\n",
       "        text-align: right;\n",
       "    }\n",
       "</style>\n",
       "<table border=\"1\" class=\"dataframe\">\n",
       "  <thead>\n",
       "    <tr style=\"text-align: right;\">\n",
       "      <th></th>\n",
       "      <th>No of Hours</th>\n",
       "      <th>BMI</th>\n",
       "    </tr>\n",
       "  </thead>\n",
       "  <tbody>\n",
       "    <tr>\n",
       "      <th>0</th>\n",
       "      <td>8</td>\n",
       "      <td>29</td>\n",
       "    </tr>\n",
       "    <tr>\n",
       "      <th>1</th>\n",
       "      <td>8</td>\n",
       "      <td>40</td>\n",
       "    </tr>\n",
       "    <tr>\n",
       "      <th>2</th>\n",
       "      <td>12</td>\n",
       "      <td>25</td>\n",
       "    </tr>\n",
       "    <tr>\n",
       "      <th>3</th>\n",
       "      <td>7</td>\n",
       "      <td>19</td>\n",
       "    </tr>\n",
       "    <tr>\n",
       "      <th>4</th>\n",
       "      <td>9</td>\n",
       "      <td>29</td>\n",
       "    </tr>\n",
       "  </tbody>\n",
       "</table>\n",
       "</div>"
      ],
      "text/plain": [
       "   No of Hours  BMI\n",
       "0            8   29\n",
       "1            8   40\n",
       "2           12   25\n",
       "3            7   19\n",
       "4            9   29"
      ]
     },
     "execution_count": 6,
     "metadata": {},
     "output_type": "execute_result"
    }
   ],
   "source": [
    "import pandas as pd\n",
    "import numpy as np\n",
    "\n",
    "n = 50 # Sample size\n",
    "np.random.seed(123)\n",
    "\n",
    "df = pd.DataFrame({'No of Hours': np.random.randint(6, 15, n), 'BMI': np.random.randint(18, 45, n)})\n",
    "\n",
    "df.head()"
   ]
  },
  {
   "cell_type": "code",
   "execution_count": 7,
   "id": "2bc52949-aa43-46e4-9db4-82d9d1941d84",
   "metadata": {},
   "outputs": [
    {
     "data": {
      "text/html": [
       "<div>\n",
       "<style scoped>\n",
       "    .dataframe tbody tr th:only-of-type {\n",
       "        vertical-align: middle;\n",
       "    }\n",
       "\n",
       "    .dataframe tbody tr th {\n",
       "        vertical-align: top;\n",
       "    }\n",
       "\n",
       "    .dataframe thead th {\n",
       "        text-align: right;\n",
       "    }\n",
       "</style>\n",
       "<table border=\"1\" class=\"dataframe\">\n",
       "  <thead>\n",
       "    <tr style=\"text-align: right;\">\n",
       "      <th></th>\n",
       "      <th>No of Hours</th>\n",
       "      <th>BMI</th>\n",
       "    </tr>\n",
       "  </thead>\n",
       "  <tbody>\n",
       "    <tr>\n",
       "      <th>No of Hours</th>\n",
       "      <td>1.000000</td>\n",
       "      <td>0.159045</td>\n",
       "    </tr>\n",
       "    <tr>\n",
       "      <th>BMI</th>\n",
       "      <td>0.159045</td>\n",
       "      <td>1.000000</td>\n",
       "    </tr>\n",
       "  </tbody>\n",
       "</table>\n",
       "</div>"
      ],
      "text/plain": [
       "             No of Hours       BMI\n",
       "No of Hours     1.000000  0.159045\n",
       "BMI             0.159045  1.000000"
      ]
     },
     "execution_count": 7,
     "metadata": {},
     "output_type": "execute_result"
    }
   ],
   "source": [
    "df.corr(method='pearson')"
   ]
  },
  {
   "cell_type": "code",
   "execution_count": 8,
   "id": "a1a6fdeb-fc0c-48d1-a29c-0dee83fc351b",
   "metadata": {},
   "outputs": [
    {
     "data": {
      "text/html": [
       "<div>\n",
       "<style scoped>\n",
       "    .dataframe tbody tr th:only-of-type {\n",
       "        vertical-align: middle;\n",
       "    }\n",
       "\n",
       "    .dataframe tbody tr th {\n",
       "        vertical-align: top;\n",
       "    }\n",
       "\n",
       "    .dataframe thead th {\n",
       "        text-align: right;\n",
       "    }\n",
       "</style>\n",
       "<table border=\"1\" class=\"dataframe\">\n",
       "  <thead>\n",
       "    <tr style=\"text-align: right;\">\n",
       "      <th></th>\n",
       "      <th>No of Hours</th>\n",
       "      <th>BMI</th>\n",
       "    </tr>\n",
       "  </thead>\n",
       "  <tbody>\n",
       "    <tr>\n",
       "      <th>No of Hours</th>\n",
       "      <td>1.000000</td>\n",
       "      <td>0.152531</td>\n",
       "    </tr>\n",
       "    <tr>\n",
       "      <th>BMI</th>\n",
       "      <td>0.152531</td>\n",
       "      <td>1.000000</td>\n",
       "    </tr>\n",
       "  </tbody>\n",
       "</table>\n",
       "</div>"
      ],
      "text/plain": [
       "             No of Hours       BMI\n",
       "No of Hours     1.000000  0.152531\n",
       "BMI             0.152531  1.000000"
      ]
     },
     "execution_count": 8,
     "metadata": {},
     "output_type": "execute_result"
    }
   ],
   "source": [
    "df.corr(method='spearman')"
   ]
  },
  {
   "cell_type": "markdown",
   "id": "68829e01-dee6-448a-b2dc-755000900988",
   "metadata": {},
   "source": [
    "#### The Pearson correlation coefficient and the Spearman's rank correlation coefficient both indicate a weak positive correlation between the number of hours of exercise per week and body mass index (BMI) in the sample of adults.\n",
    "\n",
    "#### The Pearson correlation coefficient is 0.159045, which is positive and indicates a weak linear relationship between the two variables. The coefficient is close to zero, which suggests that the correlation is not very strong.\n",
    "\n",
    "#### The Spearman's rank correlation coefficient is 0.152531, which is also positive and indicates a weak monotonic relationship between the two variables. This coefficient is also close to zero, which suggests that the correlation is weak.\n",
    "\n",
    "Overall, these results suggest that there is a slight tendency for people who exercise more to have slightly higher BMI scores, but the relationship is not very strong."
   ]
  },
  {
   "cell_type": "code",
   "execution_count": null,
   "id": "e16394fc-11b0-49c2-9289-09c5f6e503d0",
   "metadata": {},
   "outputs": [],
   "source": []
  },
  {
   "cell_type": "markdown",
   "id": "cbb71046-3914-44cb-b212-093220aa6f78",
   "metadata": {},
   "source": [
    "Q4. A researcher is interested in examining the relationship between the number of hours individuals\n",
    "spend watching television per day and their level of physical activity. The researcher collected data on\n",
    "both variables from a sample of 50 participants. Calculate the Pearson correlation coefficient between\n",
    "these two variables."
   ]
  },
  {
   "cell_type": "code",
   "execution_count": 11,
   "id": "a2dff949-b937-45d8-8c9d-276d5704b7a5",
   "metadata": {},
   "outputs": [
    {
     "data": {
      "text/html": [
       "<div>\n",
       "<style scoped>\n",
       "    .dataframe tbody tr th:only-of-type {\n",
       "        vertical-align: middle;\n",
       "    }\n",
       "\n",
       "    .dataframe tbody tr th {\n",
       "        vertical-align: top;\n",
       "    }\n",
       "\n",
       "    .dataframe thead th {\n",
       "        text-align: right;\n",
       "    }\n",
       "</style>\n",
       "<table border=\"1\" class=\"dataframe\">\n",
       "  <thead>\n",
       "    <tr style=\"text-align: right;\">\n",
       "      <th></th>\n",
       "      <th>Time Spent Watching TV</th>\n",
       "      <th>Physical Activity</th>\n",
       "    </tr>\n",
       "  </thead>\n",
       "  <tbody>\n",
       "    <tr>\n",
       "      <th>0</th>\n",
       "      <td>1.828739</td>\n",
       "      <td>2.411829</td>\n",
       "    </tr>\n",
       "    <tr>\n",
       "      <th>1</th>\n",
       "      <td>5.994691</td>\n",
       "      <td>2.922424</td>\n",
       "    </tr>\n",
       "    <tr>\n",
       "      <th>2</th>\n",
       "      <td>4.565957</td>\n",
       "      <td>8.487424</td>\n",
       "    </tr>\n",
       "    <tr>\n",
       "      <th>3</th>\n",
       "      <td>0.987411</td>\n",
       "      <td>3.403875</td>\n",
       "    </tr>\n",
       "    <tr>\n",
       "      <th>4</th>\n",
       "      <td>2.842799</td>\n",
       "      <td>5.059366</td>\n",
       "    </tr>\n",
       "  </tbody>\n",
       "</table>\n",
       "</div>"
      ],
      "text/plain": [
       "   Time Spent Watching TV  Physical Activity\n",
       "0                1.828739           2.411829\n",
       "1                5.994691           2.922424\n",
       "2                4.565957           8.487424\n",
       "3                0.987411           3.403875\n",
       "4                2.842799           5.059366"
      ]
     },
     "execution_count": 11,
     "metadata": {},
     "output_type": "execute_result"
    }
   ],
   "source": [
    "import numpy as np\n",
    "\n",
    "np.random.seed(123)\n",
    "\n",
    "hours_tv = np.random.normal(4, 2, 50)\n",
    "hours_physical = np.random.normal(5, 2, 50)\n",
    "\n",
    "df = pd.DataFrame({'Time Spent Watching TV': hours_tv, 'Physical Activity': hours_physical })\n",
    "\n",
    "df.head()"
   ]
  },
  {
   "cell_type": "code",
   "execution_count": 12,
   "id": "088cfd80-f45d-43f7-8e08-3267dec7431e",
   "metadata": {},
   "outputs": [
    {
     "data": {
      "text/html": [
       "<div>\n",
       "<style scoped>\n",
       "    .dataframe tbody tr th:only-of-type {\n",
       "        vertical-align: middle;\n",
       "    }\n",
       "\n",
       "    .dataframe tbody tr th {\n",
       "        vertical-align: top;\n",
       "    }\n",
       "\n",
       "    .dataframe thead th {\n",
       "        text-align: right;\n",
       "    }\n",
       "</style>\n",
       "<table border=\"1\" class=\"dataframe\">\n",
       "  <thead>\n",
       "    <tr style=\"text-align: right;\">\n",
       "      <th></th>\n",
       "      <th>Time Spent Watching TV</th>\n",
       "      <th>Physical Activity</th>\n",
       "    </tr>\n",
       "  </thead>\n",
       "  <tbody>\n",
       "    <tr>\n",
       "      <th>Time Spent Watching TV</th>\n",
       "      <td>1.000000</td>\n",
       "      <td>-0.085241</td>\n",
       "    </tr>\n",
       "    <tr>\n",
       "      <th>Physical Activity</th>\n",
       "      <td>-0.085241</td>\n",
       "      <td>1.000000</td>\n",
       "    </tr>\n",
       "  </tbody>\n",
       "</table>\n",
       "</div>"
      ],
      "text/plain": [
       "                        Time Spent Watching TV  Physical Activity\n",
       "Time Spent Watching TV                1.000000          -0.085241\n",
       "Physical Activity                    -0.085241           1.000000"
      ]
     },
     "execution_count": 12,
     "metadata": {},
     "output_type": "execute_result"
    }
   ],
   "source": [
    "df.corr('pearson')"
   ]
  },
  {
   "cell_type": "markdown",
   "id": "940f892c-e8c3-4db1-a9c3-2fd4d7f3ad2c",
   "metadata": {},
   "source": [
    "#### The Pearson correlation coefficient between the number of hours individuals spend watching television per day and their level of physical activity is -0.085241. This value indicates a weak negative correlation between the two variables.\n",
    "\n",
    "#### A negative correlation means that as the number of hours of TV watched per day increases, the level of physical activity tends to decrease slightly. However, the correlation is weak, which means that the relationship between the two variables is not very strong."
   ]
  },
  {
   "cell_type": "code",
   "execution_count": null,
   "id": "cf39badf-a710-4875-9f79-c50a0cc9b835",
   "metadata": {},
   "outputs": [],
   "source": []
  },
  {
   "cell_type": "code",
   "execution_count": null,
   "id": "fda32a14-35d8-4054-88d2-da153706de31",
   "metadata": {},
   "outputs": [],
   "source": []
  },
  {
   "cell_type": "markdown",
   "id": "350ac7ff-8317-4813-a5a0-cb27950b23c6",
   "metadata": {},
   "source": [
    "Q5. A survey was conducted to examine the relationship between age and preference for a particular\n",
    "brand of soft drink. The survey results are shown below:\n",
    "\n",
    "Age(Years)     | Soft drink Preference\n",
    "\n",
    "25             |         Coke\n",
    "\n",
    "42             |         Pepsi\n",
    "\n",
    "37             |      Mountain dew\n",
    "\n",
    "19             |         Coke\n",
    "\n",
    "31             |         Pepsi\n",
    "\n",
    "28             |         Coke"
   ]
  },
  {
   "cell_type": "markdown",
   "id": "e8384dd7-b7ab-406c-914d-9b266e0b1ad6",
   "metadata": {},
   "source": [
    "#### Firstly Encoding the data of Soft Drink for above sample.\n",
    "Since the sample is small, we use dictionary for encoding."
   ]
  },
  {
   "cell_type": "code",
   "execution_count": 16,
   "id": "d5054569-9727-4c7a-8171-269f166ebe0e",
   "metadata": {},
   "outputs": [],
   "source": [
    "d = {\n",
    "    'Coke': 1,\n",
    "    'Pepsi': 2,\n",
    "    'Mountain Dew': 3\n",
    "}\n",
    "\n",
    "drink = ['Coke', 'Pepsi', 'Mountain Dew', 'Coke', 'Pepsi','Coke']\n",
    "\n",
    "drink_encoded = [d[i] for i in drink]"
   ]
  },
  {
   "cell_type": "code",
   "execution_count": 17,
   "id": "a69fa81e-046a-4f90-968e-8db9429facd1",
   "metadata": {},
   "outputs": [],
   "source": [
    "age = [25, 42, 37, 19, 31,28]"
   ]
  },
  {
   "cell_type": "code",
   "execution_count": 18,
   "id": "664ba7e9-34ff-4b91-942d-13b52ff76505",
   "metadata": {},
   "outputs": [],
   "source": [
    "df = pd.DataFrame({'Age':age,'Soft Drink Preferred':drink_encoded})"
   ]
  },
  {
   "cell_type": "code",
   "execution_count": 19,
   "id": "65fd5d19-77d6-4729-8670-3b3041045bf6",
   "metadata": {},
   "outputs": [
    {
     "data": {
      "text/html": [
       "<div>\n",
       "<style scoped>\n",
       "    .dataframe tbody tr th:only-of-type {\n",
       "        vertical-align: middle;\n",
       "    }\n",
       "\n",
       "    .dataframe tbody tr th {\n",
       "        vertical-align: top;\n",
       "    }\n",
       "\n",
       "    .dataframe thead th {\n",
       "        text-align: right;\n",
       "    }\n",
       "</style>\n",
       "<table border=\"1\" class=\"dataframe\">\n",
       "  <thead>\n",
       "    <tr style=\"text-align: right;\">\n",
       "      <th></th>\n",
       "      <th>Age</th>\n",
       "      <th>Soft Drink Preferred</th>\n",
       "    </tr>\n",
       "  </thead>\n",
       "  <tbody>\n",
       "    <tr>\n",
       "      <th>0</th>\n",
       "      <td>25</td>\n",
       "      <td>1</td>\n",
       "    </tr>\n",
       "    <tr>\n",
       "      <th>1</th>\n",
       "      <td>42</td>\n",
       "      <td>2</td>\n",
       "    </tr>\n",
       "    <tr>\n",
       "      <th>2</th>\n",
       "      <td>37</td>\n",
       "      <td>3</td>\n",
       "    </tr>\n",
       "    <tr>\n",
       "      <th>3</th>\n",
       "      <td>19</td>\n",
       "      <td>1</td>\n",
       "    </tr>\n",
       "    <tr>\n",
       "      <th>4</th>\n",
       "      <td>31</td>\n",
       "      <td>2</td>\n",
       "    </tr>\n",
       "    <tr>\n",
       "      <th>5</th>\n",
       "      <td>28</td>\n",
       "      <td>1</td>\n",
       "    </tr>\n",
       "  </tbody>\n",
       "</table>\n",
       "</div>"
      ],
      "text/plain": [
       "   Age  Soft Drink Preferred\n",
       "0   25                     1\n",
       "1   42                     2\n",
       "2   37                     3\n",
       "3   19                     1\n",
       "4   31                     2\n",
       "5   28                     1"
      ]
     },
     "execution_count": 19,
     "metadata": {},
     "output_type": "execute_result"
    }
   ],
   "source": [
    "df"
   ]
  },
  {
   "cell_type": "code",
   "execution_count": 20,
   "id": "cbacd7b9-e8b6-471c-86a4-bd005a4fa44d",
   "metadata": {},
   "outputs": [
    {
     "data": {
      "text/html": [
       "<div>\n",
       "<style scoped>\n",
       "    .dataframe tbody tr th:only-of-type {\n",
       "        vertical-align: middle;\n",
       "    }\n",
       "\n",
       "    .dataframe tbody tr th {\n",
       "        vertical-align: top;\n",
       "    }\n",
       "\n",
       "    .dataframe thead th {\n",
       "        text-align: right;\n",
       "    }\n",
       "</style>\n",
       "<table border=\"1\" class=\"dataframe\">\n",
       "  <thead>\n",
       "    <tr style=\"text-align: right;\">\n",
       "      <th></th>\n",
       "      <th>Age</th>\n",
       "      <th>Soft Drink Preferred</th>\n",
       "    </tr>\n",
       "  </thead>\n",
       "  <tbody>\n",
       "    <tr>\n",
       "      <th>Age</th>\n",
       "      <td>1.000000</td>\n",
       "      <td>0.833238</td>\n",
       "    </tr>\n",
       "    <tr>\n",
       "      <th>Soft Drink Preferred</th>\n",
       "      <td>0.833238</td>\n",
       "      <td>1.000000</td>\n",
       "    </tr>\n",
       "  </tbody>\n",
       "</table>\n",
       "</div>"
      ],
      "text/plain": [
       "                           Age  Soft Drink Preferred\n",
       "Age                   1.000000              0.833238\n",
       "Soft Drink Preferred  0.833238              1.000000"
      ]
     },
     "execution_count": 20,
     "metadata": {},
     "output_type": "execute_result"
    }
   ],
   "source": [
    "df.corr(method='spearman')"
   ]
  },
  {
   "cell_type": "markdown",
   "id": "ec8478e4-20e0-482d-8402-5e1b71a79327",
   "metadata": {},
   "source": [
    "#### A Spearman's rank correlation coefficient value of 0.833238 indicates a strong positive monotonic relationship between two variables.\n",
    "\n",
    "A value of 0.833238 indicates that as the values of one variable increase, the values of the other variable tend to increase as well, and vice versa. Moreover, the strength of this relationship is strong, as the coefficient value is close to 1. This suggests that the two variables are likely to be associated with each other, and that the relationship is not likely to be due to chance."
   ]
  },
  {
   "cell_type": "code",
   "execution_count": 22,
   "id": "898754ad-28bd-4fbe-af49-668d049cf8d3",
   "metadata": {},
   "outputs": [
    {
     "data": {
      "text/html": [
       "<div>\n",
       "<style scoped>\n",
       "    .dataframe tbody tr th:only-of-type {\n",
       "        vertical-align: middle;\n",
       "    }\n",
       "\n",
       "    .dataframe tbody tr th {\n",
       "        vertical-align: top;\n",
       "    }\n",
       "\n",
       "    .dataframe thead th {\n",
       "        text-align: right;\n",
       "    }\n",
       "</style>\n",
       "<table border=\"1\" class=\"dataframe\">\n",
       "  <thead>\n",
       "    <tr style=\"text-align: right;\">\n",
       "      <th></th>\n",
       "      <th>Age</th>\n",
       "      <th>Soft Drink Preferred</th>\n",
       "    </tr>\n",
       "  </thead>\n",
       "  <tbody>\n",
       "    <tr>\n",
       "      <th>Age</th>\n",
       "      <td>1.000000</td>\n",
       "      <td>0.758704</td>\n",
       "    </tr>\n",
       "    <tr>\n",
       "      <th>Soft Drink Preferred</th>\n",
       "      <td>0.758704</td>\n",
       "      <td>1.000000</td>\n",
       "    </tr>\n",
       "  </tbody>\n",
       "</table>\n",
       "</div>"
      ],
      "text/plain": [
       "                           Age  Soft Drink Preferred\n",
       "Age                   1.000000              0.758704\n",
       "Soft Drink Preferred  0.758704              1.000000"
      ]
     },
     "execution_count": 22,
     "metadata": {},
     "output_type": "execute_result"
    }
   ],
   "source": [
    "df.corr(method='pearson')"
   ]
  },
  {
   "cell_type": "markdown",
   "id": "9f236a38-6b48-4fa3-9388-436f61b17e3d",
   "metadata": {},
   "source": [
    "#### A Pearson correlation coefficient value of 0.758704 indicates a strong positive linear relationship between two variables.\n",
    "\n",
    "A value of 0.758704 indicates that there is a strong positive linear relationship between the two variables. As one variable increases, the other variable tends to increase as well, and vice versa. Moreover, the strength of this relationship is strong, as the coefficient value is close to 1. This suggests that the two variables are highly associated with each other, and that the relationship is not likely to be due to chance."
   ]
  },
  {
   "cell_type": "code",
   "execution_count": null,
   "id": "9d4bec92-4f05-4066-875d-0958f7c9be28",
   "metadata": {},
   "outputs": [],
   "source": []
  },
  {
   "cell_type": "markdown",
   "id": "0213e4c3-7ac1-4588-bd64-51743f9b70a3",
   "metadata": {},
   "source": [
    "Q6. A company is interested in examining the relationship between the number of sales calls made per day\n",
    "and the number of sales made per week. The company collected data on both variables from a sample of\n",
    "30 sales representatives. Calculate the Pearson correlation coefficient between these two variables."
   ]
  },
  {
   "cell_type": "code",
   "execution_count": 23,
   "id": "f86dfc91-cf74-49c6-a247-80b6efcb6361",
   "metadata": {},
   "outputs": [],
   "source": [
    "np.random.seed(123)\n",
    "df = pd.DataFrame({'Sales Calls / Day': np.random.randint(10,50,30),'Sales Made / Week': np.random.randint(2,15,30)})"
   ]
  },
  {
   "cell_type": "code",
   "execution_count": 24,
   "id": "f15f12af-da2d-4744-8c9d-24e5404e54f2",
   "metadata": {},
   "outputs": [
    {
     "data": {
      "text/html": [
       "<div>\n",
       "<style scoped>\n",
       "    .dataframe tbody tr th:only-of-type {\n",
       "        vertical-align: middle;\n",
       "    }\n",
       "\n",
       "    .dataframe tbody tr th {\n",
       "        vertical-align: top;\n",
       "    }\n",
       "\n",
       "    .dataframe thead th {\n",
       "        text-align: right;\n",
       "    }\n",
       "</style>\n",
       "<table border=\"1\" class=\"dataframe\">\n",
       "  <thead>\n",
       "    <tr style=\"text-align: right;\">\n",
       "      <th></th>\n",
       "      <th>Sales Calls / Day</th>\n",
       "      <th>Sales Made / Week</th>\n",
       "    </tr>\n",
       "  </thead>\n",
       "  <tbody>\n",
       "    <tr>\n",
       "      <th>0</th>\n",
       "      <td>12</td>\n",
       "      <td>7</td>\n",
       "    </tr>\n",
       "    <tr>\n",
       "      <th>1</th>\n",
       "      <td>38</td>\n",
       "      <td>8</td>\n",
       "    </tr>\n",
       "    <tr>\n",
       "      <th>2</th>\n",
       "      <td>44</td>\n",
       "      <td>13</td>\n",
       "    </tr>\n",
       "    <tr>\n",
       "      <th>3</th>\n",
       "      <td>48</td>\n",
       "      <td>4</td>\n",
       "    </tr>\n",
       "    <tr>\n",
       "      <th>4</th>\n",
       "      <td>27</td>\n",
       "      <td>3</td>\n",
       "    </tr>\n",
       "  </tbody>\n",
       "</table>\n",
       "</div>"
      ],
      "text/plain": [
       "   Sales Calls / Day  Sales Made / Week\n",
       "0                 12                  7\n",
       "1                 38                  8\n",
       "2                 44                 13\n",
       "3                 48                  4\n",
       "4                 27                  3"
      ]
     },
     "execution_count": 24,
     "metadata": {},
     "output_type": "execute_result"
    }
   ],
   "source": [
    "df.head()"
   ]
  },
  {
   "cell_type": "code",
   "execution_count": 25,
   "id": "b9db046f-d434-44a6-83a7-aebba9110657",
   "metadata": {},
   "outputs": [
    {
     "data": {
      "text/html": [
       "<div>\n",
       "<style scoped>\n",
       "    .dataframe tbody tr th:only-of-type {\n",
       "        vertical-align: middle;\n",
       "    }\n",
       "\n",
       "    .dataframe tbody tr th {\n",
       "        vertical-align: top;\n",
       "    }\n",
       "\n",
       "    .dataframe thead th {\n",
       "        text-align: right;\n",
       "    }\n",
       "</style>\n",
       "<table border=\"1\" class=\"dataframe\">\n",
       "  <thead>\n",
       "    <tr style=\"text-align: right;\">\n",
       "      <th></th>\n",
       "      <th>Sales Calls / Day</th>\n",
       "      <th>Sales Made / Week</th>\n",
       "    </tr>\n",
       "  </thead>\n",
       "  <tbody>\n",
       "    <tr>\n",
       "      <th>Sales Calls / Day</th>\n",
       "      <td>1.000000</td>\n",
       "      <td>-0.111541</td>\n",
       "    </tr>\n",
       "    <tr>\n",
       "      <th>Sales Made / Week</th>\n",
       "      <td>-0.111541</td>\n",
       "      <td>1.000000</td>\n",
       "    </tr>\n",
       "  </tbody>\n",
       "</table>\n",
       "</div>"
      ],
      "text/plain": [
       "                   Sales Calls / Day  Sales Made / Week\n",
       "Sales Calls / Day           1.000000          -0.111541\n",
       "Sales Made / Week          -0.111541           1.000000"
      ]
     },
     "execution_count": 25,
     "metadata": {},
     "output_type": "execute_result"
    }
   ],
   "source": [
    "df.corr('pearson')"
   ]
  },
  {
   "cell_type": "markdown",
   "id": "7f1789ac-7623-455e-b263-0cef3fb43b7b",
   "metadata": {},
   "source": [
    "#### A Pearson correlation coefficient value of -0.111541 indicates a weak negative linear relationship between two variables."
   ]
  },
  {
   "cell_type": "code",
   "execution_count": null,
   "id": "01146a58-e65f-49ca-8684-77c781890ce2",
   "metadata": {},
   "outputs": [],
   "source": []
  }
 ],
 "metadata": {
  "kernelspec": {
   "display_name": "Python 3 (ipykernel)",
   "language": "python",
   "name": "python3"
  },
  "language_info": {
   "codemirror_mode": {
    "name": "ipython",
    "version": 3
   },
   "file_extension": ".py",
   "mimetype": "text/x-python",
   "name": "python",
   "nbconvert_exporter": "python",
   "pygments_lexer": "ipython3",
   "version": "3.10.8"
  }
 },
 "nbformat": 4,
 "nbformat_minor": 5
}
