{
 "cells": [
  {
   "cell_type": "markdown",
   "id": "de94937a-f6c7-4803-80a4-ba6f61506454",
   "metadata": {},
   "source": [
    "Q1. What is the difference between Ordinal Encoding and Label Encoding? Provide an example of when you\n",
    "might choose one over the other?"
   ]
  },
  {
   "cell_type": "markdown",
   "id": "e1ca8f4f-5e26-4886-a8d6-90959fbb3060",
   "metadata": {},
   "source": [
    "In general, Ordinal Encoding should be used when there is a natural order or hierarchy among the categories, whereas Label Encoding should be used when there is no order or hierarchy.\n",
    "\n",
    "As an example, suppose we want to encode a categorical variable that represents the level of physical activity of people into a machine learning model. We could use ordinal encoding to assign the values 1, 2, and 3 to the categories \"sedentary,\" \"moderate,\" and \"active,\" respectively. In contrast, if we want to encode a variable that represents the type of fruit, we could use Label Encoding to assign unique values to each category, such as 0 for \"apple,\" 1 for \"banana,\" and so on."
   ]
  },
  {
   "cell_type": "code",
   "execution_count": null,
   "id": "f855a29f-19c4-48ba-b6d9-e3dbc211dd57",
   "metadata": {},
   "outputs": [],
   "source": []
  },
  {
   "cell_type": "markdown",
   "id": "896057d3-b210-42f8-aa5a-aa319580c504",
   "metadata": {},
   "source": [
    "Q2. Explain how Target Guided Ordinal Encoding works and provide an example of when you might use it in\n",
    "a machine learning project."
   ]
  },
  {
   "cell_type": "markdown",
   "id": "8829ab57-9c42-4bac-b1f1-1096c3b86fd1",
   "metadata": {},
   "source": [
    "Target Guided Ordinal Encoding is a technique that combines Ordinal Encoding with the target variable to assign numerical values to categories based on their relationship with the target variable.The idea behind Target Guided Ordinal Encoding is to assign a value to each category based on the mean of the target variable for that category.\n",
    "\n",
    "For example, suppose we have a dataset with a categorical variable \"City\" and a target variable \"Salary\". The City variable has five categories: New York, Los Angeles, Chicago, Houston, and Miami. We want to use this variable in a machine learning model to predict the Salary. We can use Target Guided Ordinal Encoding to encode the City variable as follows:\n",
    "\n",
    "1. Calculate the mean of the Salary variable for each category of City.\n",
    "\n",
    "2. Sort the categories based on the mean of the Salary variable in ascending order.\n",
    "\n",
    "3. Assign a unique numerical value to each category based on its rank in the sorted list.\n",
    "\n",
    "In this example, let's say that the mean salary for each category is:\n",
    "\n",
    "New York: $90,000\n",
    "\n",
    "Los Angeles: $85,000\n",
    "\n",
    "Chicago: $80,000\n",
    "\n",
    "Houston: $75,000\n",
    "\n",
    "Miami: $70,000\n",
    "\n",
    "We can then sort the categories based on their mean salary in ascending order:\n",
    "\n",
    "Miami\n",
    "Houston\n",
    "Chicago\n",
    "Los Angeles\n",
    "New York\n",
    "\n",
    "Finally, we can assign a numerical value to each category based on its rank:\n",
    "\n",
    "Miami: 1\n",
    "Houston: 2\n",
    "Chicago: 3\n",
    "Los Angeles: 4\n",
    "New York: 5\n",
    "\n",
    "Target Guided Ordinal Encoding can be useful in machine learning projects where there is a strong relationship between the categorical variable and the target variable. By using the target variable to encode the categorical variable, we can capture this relationship in the encoding and potentially improve the performance of the model."
   ]
  },
  {
   "cell_type": "code",
   "execution_count": null,
   "id": "4d8702ee-02fb-4a92-b261-8d9969bc0485",
   "metadata": {},
   "outputs": [],
   "source": []
  },
  {
   "cell_type": "markdown",
   "id": "9749a5d2-d245-40b4-8d8f-a5bd02cec299",
   "metadata": {},
   "source": [
    "Q3. Define covariance and explain why it is important in statistical analysis. How is covariance calculated?"
   ]
  },
  {
   "cell_type": "markdown",
   "id": "ebdc9c57-8145-4d0c-9646-8fc775cfcd79",
   "metadata": {},
   "source": [
    "Covariance is a measure of the linear relationship between two variables. It is a statistical concept that measures the extent to which two variables change together. Specifically, covariance measures how much the two variables deviate from their means together.\n",
    "\n",
    "Covariance is important in statistical analysis because it helps us understand the relationship between two variables. A positive covariance indicates that the two variables tend to increase or decrease together, while a negative covariance indicates that one variable tends to increase as the other decreases. A covariance of zero indicates that there is no linear relationship between the two variables.\n",
    "\n",
    "Covariance is calculated using the formula:\n",
    "\n",
    "cov(X,Y) = (1/n) * Σ[(Xi - Xmean) * (Yi - Ymean)]\n",
    "\n",
    "where cov(X,Y) is the covariance between X and Y, Xi and Yi are the values of X and Y for each observation, Xmean and Ymean are the mean values of X and Y, and n is the number of observations."
   ]
  },
  {
   "cell_type": "code",
   "execution_count": null,
   "id": "242447a5-6c54-4884-b57e-03eb394bf8ea",
   "metadata": {},
   "outputs": [],
   "source": []
  },
  {
   "cell_type": "markdown",
   "id": "16c5d71c-43d3-408d-b4ab-a3337d75c291",
   "metadata": {},
   "source": [
    "Q4. For a dataset with the following categorical variables: Color (red, green, blue), Size (small, medium,\n",
    "large), and Material (wood, metal, plastic), perform label encoding using Python's scikit-learn library.\n",
    "Show your code and explain the output."
   ]
  },
  {
   "cell_type": "code",
   "execution_count": 1,
   "id": "52d39cf1-23c7-4c02-92ae-bfc2619e1552",
   "metadata": {},
   "outputs": [
    {
     "name": "stdout",
     "output_type": "stream",
     "text": [
      "   color  size  material\n",
      "0      2     2         2\n",
      "1      1     1         0\n",
      "2      0     0         1\n",
      "3      0     2         0\n",
      "4      2     1         2\n"
     ]
    }
   ],
   "source": [
    "from sklearn.preprocessing import LabelEncoder\n",
    "import pandas as pd\n",
    "\n",
    "data = {'color': ['red', 'green', 'blue', 'blue', 'red'],\n",
    "        'size': ['small', 'medium', 'large', 'small', 'medium'],\n",
    "        'material': ['wood', 'metal', 'plastic', 'metal', 'wood']}\n",
    "df = pd.DataFrame(data)\n",
    "\n",
    "le = LabelEncoder()\n",
    "\n",
    "df['color'] = le.fit_transform(df['color'])\n",
    "df['size'] = le.fit_transform(df['size'])\n",
    "df['material'] = le.fit_transform(df['material'])\n",
    "\n",
    "print(df)"
   ]
  },
  {
   "cell_type": "code",
   "execution_count": null,
   "id": "0932e864-2c19-471a-9b7f-077b82feab11",
   "metadata": {},
   "outputs": [],
   "source": []
  },
  {
   "cell_type": "markdown",
   "id": "0e60f91d-9728-4740-9fb1-bbe622c11a69",
   "metadata": {},
   "source": [
    "Q5. Calculate the covariance matrix for the following variables in a dataset: Age, Income, and Education\n",
    "level. Interpret the results."
   ]
  },
  {
   "cell_type": "markdown",
   "id": "3ba8a38f-4f93-4de0-bfb0-1537c797fdb6",
   "metadata": {},
   "source": [
    "To calculate the covariance matrix for the variables Age, Income, and Education level, we need to first calculate the covariance between each pair of variables. The resulting covariance matrix will be a 3x3 matrix where the diagonal elements represent the variances of each variable, and the off-diagonal elements represent the covariances between each pair of variables.\n",
    "\n",
    "Let's assume we have a dataset with n observations for each variable, and let's denote the sample mean of each variable as X̄, Ȳ, and Z̄, respectively.\n",
    "\n",
    "The covariance between Age and Income can be calculated as:\n",
    "\n",
    "cov(Age, Income) = (1/n) * Σ[(Agei - X̄) * (Incomei - Ȳ)]\n",
    "\n",
    "Similarly, the covariance between Age and Education level can be calculated as:\n",
    "\n",
    "cov(Age, Education) = (1/n) * Σ[(Agei - X̄) * (Educationi - Z̄)]\n",
    "\n",
    "Finally, the covariance between Income and Education level can be calculated as:\n",
    "\n",
    "cov(Income, Education) = (1/n) * Σ[(Incomei - Ȳ) * (Educationi - Z̄)]\n",
    "\n",
    "Once we have calculated the covariances between each pair of variables, we can assemble them into a covariance matrix. The resulting matrix would look like this:\n",
    "\n",
    "| Var(Age), cov(Age,Income), cov(Age,Education) |\n",
    "\n",
    "| cov(Age,Income), Var(Income), cov(Income,Education) |\n",
    "\n",
    "| cov(Age,Education), cov(Income,Education), Var(Education) |\n",
    "\n",
    "where Var(Age), Var(Income), and Var(Education) are the variances of Age, Income, and Education level, respectively.\n",
    "\n",
    "Interpreting the results of the covariance matrix depends on the magnitudes of the covariances. If the covariance between two variables is positive, it indicates that the two variables tend to increase or decrease together. If the covariance is negative, it indicates that the two variables tend to move in opposite directions. A covariance of zero indicates that there is no linear relationship between the two variables."
   ]
  },
  {
   "cell_type": "code",
   "execution_count": null,
   "id": "c0211b2c-c44f-49b1-aa22-27a3bba03d98",
   "metadata": {},
   "outputs": [],
   "source": []
  },
  {
   "cell_type": "markdown",
   "id": "8bd34f81-fcab-4f56-bcc1-372e023da7ac",
   "metadata": {},
   "source": [
    "Q6. You are working on a machine learning project with a dataset containing several categorical\n",
    "variables, including \"Gender\" (Male/Female), \"Education Level\" (High School/Bachelor's/Master's/PhD),\n",
    "and \"Employment Status\" (Unemployed/Part-Time/Full-Time). Which encoding method would you use for\n",
    "each variable, and why?"
   ]
  },
  {
   "cell_type": "markdown",
   "id": "08a025c8-3c7c-4226-b92c-f62d719a753a",
   "metadata": {},
   "source": [
    "For the \"Gender\" variable, which has only two categories (Male and Female), I would use label encoding to convert the categories to numerical values (e.g., 0 for Male and 1 for Female). This is because label encoding is a simple and efficient way to encode binary categorical variables.\n",
    "\n",
    "For the \"Education Level\" variable, which has more than two categories, I would use ordinal encoding. Ordinal encoding assigns each category a unique integer value based on their order or hierarchy. In this case, we can assign an integer value of 1 for High School, 2 for Bachelor's, 3 for Master's, and 4 for PhD. This preserves the ordering of the categories, which may be important in some machine learning models.\n",
    "\n",
    "For the \"Employment Status\" variable, which also has more than two categories, I would use one-hot encoding. One-hot encoding creates a binary variable for each category, where the value is 1 if the observation belongs to that category, and 0 otherwise. For example, we can create three new binary variables: \"Unemployed\" (1 if unemployed, 0 otherwise), \"Part-Time\" (1 if part-time, 0 otherwise), and \"Full-Time\" (1 if full-time, 0 otherwise). This ensures that the machine learning model treats each category as separate and independent, without assuming any inherent ordering or hierarchy between them."
   ]
  },
  {
   "cell_type": "code",
   "execution_count": null,
   "id": "12093a41-f3d4-4347-8254-415631efa420",
   "metadata": {},
   "outputs": [],
   "source": []
  },
  {
   "cell_type": "markdown",
   "id": "98e68596-12e6-4371-929f-31f685dffce7",
   "metadata": {},
   "source": [
    "Q7. You are analyzing a dataset with two continuous variables, \"Temperature\" and \"Humidity\", and two\n",
    "categorical variables, \"Weather Condition\" (Sunny/Cloudy/Rainy) and \"Wind Direction\" (North/South/\n",
    "East/West). Calculate the covariance between each pair of variables and interpret the results."
   ]
  },
  {
   "cell_type": "markdown",
   "id": "88d499df-1963-4696-ace4-46b3122f5201",
   "metadata": {},
   "source": [
    "To calculate the covariance between each pair of variables, we need to first calculate the mean of each variable. Let's assume we have n observations for each variable and denote the sample mean of each variable as X̄, Ȳ, Z̄, and W̄, respectively.\n",
    "\n",
    "The covariance between Temperature and Humidity can be calculated as:\n",
    "\n",
    "cov(Temperature, Humidity) = (1/n) * Σ[(Temperaturei - X̄) * (Humidityi - Ȳ)]\n",
    "\n",
    "To calculate the covariance between Temperature and Weather Condition, we need to first assign numerical values to the categorical variable. For example, we can assign 1 for Sunny, 2 for Cloudy, and 3 for Rainy. Then, the covariance can be calculated as:\n",
    "\n",
    "cov(Temperature, Weather Condition) = (1/n) * Σ[(Temperaturei - X̄) * (Weather Conditioni - Z̄)]\n",
    "\n",
    "Similarly, we can calculate the covariance between Humidity and Weather Condition as:\n",
    "\n",
    "cov(Humidity, Weather Condition) = (1/n) * Σ[(Humidityi - Ȳ) * (Weather Conditioni - Z̄)]\n",
    "\n",
    "To calculate the covariance between Temperature and Wind Direction, we need to assign numerical values to the categorical variable. For example, we can assign 1 for North, 2 for South, 3 for East, and 4 for West. Then, the covariance can be calculated as:\n",
    "\n",
    "cov(Temperature, Wind Direction) = (1/n) * Σ[(Temperaturei - X̄) * (Wind Directioni - W̄)]\n",
    "\n",
    "Similarly, we can calculate the covariance between Humidity and Wind Direction as:\n",
    "\n",
    "cov(Humidity, Wind Direction) = (1/n) * Σ[(Humidityi - Ȳ) * (Wind Directioni - W̄)]\n",
    "\n",
    "The resulting covariance matrix would be a 4x4 matrix:\n",
    "\n",
    "| Var(Temperature), cov(Temperature,Humidity), cov(Temperature,Weather Condition), cov(Temperature,Wind Direction) |\n",
    "\n",
    "| cov(Temperature,Humidity), Var(Humidity), cov(Humidity,Weather Condition), cov(Humidity,Wind Direction) |\n",
    "\n",
    "| cov(Temperature,Weather Condition), cov(Humidity,Weather Condition), Var(Weather Condition), cov(Weather Condition,Wind Direction) |\n",
    "\n",
    "| cov(Temperature,Wind Direction), cov(Humidity,Wind Direction), cov(Weather Condition,Wind Direction), Var(Wind Direction) |\n",
    "\n",
    "Interpreting the results of the covariance matrix depends on the magnitudes of the covariances. If the covariance between two variables is positive, it indicates that the two variables tend to increase or decrease together. If the covariance is negative, it indicates that the two variables tend to move in opposite directions. A covariance of zero indicates that there is no linear relationship between the two variables."
   ]
  },
  {
   "cell_type": "code",
   "execution_count": null,
   "id": "fc403311-adae-4929-b12b-97d5126b4b84",
   "metadata": {},
   "outputs": [],
   "source": []
  }
 ],
 "metadata": {
  "kernelspec": {
   "display_name": "Python 3 (ipykernel)",
   "language": "python",
   "name": "python3"
  },
  "language_info": {
   "codemirror_mode": {
    "name": "ipython",
    "version": 3
   },
   "file_extension": ".py",
   "mimetype": "text/x-python",
   "name": "python",
   "nbconvert_exporter": "python",
   "pygments_lexer": "ipython3",
   "version": "3.10.8"
  }
 },
 "nbformat": 4,
 "nbformat_minor": 5
}
