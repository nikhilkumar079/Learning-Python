{
 "cells": [
  {
   "cell_type": "markdown",
   "id": "711ff227-9f47-47c4-8cd7-3571a2c73125",
   "metadata": {},
   "source": [
    "Q1. What is Min-Max scaling, and how is it used in data preprocessing? Provide an example to illustrate its\n",
    "application."
   ]
  },
  {
   "cell_type": "markdown",
   "id": "23b42c3e-c7c3-4d61-acf3-89b7f9880ce1",
   "metadata": {},
   "source": [
    "Min-max scaling, also known as normalization, is a common data preprocessing technique used to rescale numerical data to a specified range. \n",
    "\n",
    "It is used to transform the features to have a common scale, which can help improve the performance of certain machine learning algorithms that are sensitive to the scale of the input data.\n",
    "\n",
    "For Example:\n",
    "\n",
    "Suppose we have a dataset that contains information about houses, including their square footage and the year they were built. The square footage values range from 1000 to 3000 square feet, while the year built values range from 1950 to 2023.\n",
    "\n",
    "If we want to use these features to predict the price of each house, we might want to apply Min-max scaling to ensure that the scale of each feature is similar. This can help the machine learning algorithm to perform better, as some algorithms are sensitive to the scale of the input data."
   ]
  },
  {
   "cell_type": "code",
   "execution_count": null,
   "id": "b2784569-9294-4559-9930-0926126f3cbc",
   "metadata": {},
   "outputs": [],
   "source": []
  },
  {
   "cell_type": "markdown",
   "id": "6a070184-1f19-4372-8413-20abbd854f47",
   "metadata": {},
   "source": [
    "Q2. What is the Unit Vector technique in feature scaling, and how does it differ from Min-Max scaling?\n",
    "Provide an example to illustrate its application."
   ]
  },
  {
   "cell_type": "markdown",
   "id": "f9c8333d-ce31-4807-8cb0-37afa86702fe",
   "metadata": {},
   "source": [
    "The Unit Vector technique, also known as \"l2 normalization,\" is a feature scaling technique that scales the values of a feature vector to have a length of 1. This is achieved by dividing each value of the vector by the vector's magnitude, which is calculated as the square root of the sum of the squares of each value.\n",
    "\n",
    "The Unit Vector technique is different from Min-Max scaling because it does not scale the values of the feature vector to a specific range. Instead, it scales the vector so that its length is equal to 1, which can be useful in certain machine learning algorithms that require normalized input data.\n",
    "\n",
    "Suppose we have a dataset containing two features: the number of bedrooms and the square footage of a house. The bedroom values range from 1 to 5, and the square footage values range from 1000 to 3000 square feet. We want to apply the Unit Vector technique to these features so that they have a length of 1."
   ]
  },
  {
   "cell_type": "code",
   "execution_count": null,
   "id": "2a98f552-947a-4e84-9305-812a517bcf4f",
   "metadata": {},
   "outputs": [],
   "source": []
  },
  {
   "cell_type": "markdown",
   "id": "160753e0-d37e-4717-a762-90fae8b4f40f",
   "metadata": {},
   "source": [
    "Q3. What is PCA (Principle Component Analysis), and how is it used in dimensionality reduction? Provide an\n",
    "example to illustrate its application."
   ]
  },
  {
   "cell_type": "markdown",
   "id": "faa06dc7-56f1-42db-9078-92ebf4419680",
   "metadata": {},
   "source": [
    "PCA (Principal Component Analysis) is a technique used for dimensionality reduction, which aims to reduce the number of features in a dataset while retaining as much of the original information as possible. It achieves this by transforming the original features into a new set of features, called principal components, which are a linear combination of the original features.\n",
    "\n",
    "PCA is used in dimensionality reduction because it can reduce the dimensionality of the dataset by projecting the data onto a lower-dimensional subspace, while still retaining most of the variation in the data. This can lead to faster and more accurate machine learning models, as well as simpler and more interpretable visualizations of the data.\n",
    "\n",
    "Suppose we have a dataset containing 1000 images of handwritten digits, each of which is represented as a 28x28 pixel grayscale image. This means that the dataset has 784 features (28 x 28) for each image, which can make it difficult to visualize and analyze the data.\n",
    "\n",
    "To reduce the dimensionality of this dataset, we can apply PCA to the image features. First, we would need to reshape each image into a 1D vector of length 784, which would give us a dataset with 1000 instances and 784 features.\n",
    "\n",
    "Next, we would compute the covariance matrix of the data, and then compute the eigenvectors and eigenvalues of this matrix. The eigenvectors with the largest eigenvalues would represent the principal components of the data.\n",
    "\n",
    "We could then project the data onto a lower-dimensional subspace by selecting a subset of the principal components. For example, we could choose the top 100 principal components, which would give us a new dataset with 100 features for each image.\n",
    "\n",
    "Finally, we could use this reduced-dimensional dataset as input to a machine learning algorithm for classification or clustering, or we could visualize the data in the reduced-dimensional space to gain insights into its structure."
   ]
  },
  {
   "cell_type": "code",
   "execution_count": null,
   "id": "f9ec44b6-d396-422e-957d-1e43621d266f",
   "metadata": {},
   "outputs": [],
   "source": []
  },
  {
   "cell_type": "markdown",
   "id": "6537f9c9-252b-4f66-99b1-f050cda49719",
   "metadata": {},
   "source": [
    "Q4. What is the relationship between PCA and Feature Extraction, and how can PCA be used for Feature\n",
    "Extraction? Provide an example to illustrate this concept."
   ]
  },
  {
   "cell_type": "markdown",
   "id": "2083d13d-63f3-4758-b34b-6a871ff85bc3",
   "metadata": {},
   "source": [
    "PCA can be used as a feature extraction technique, which involves transforming the original features into a new set of features that are more meaningful and informative for a particular task.\n",
    "\n",
    "PCA can be used for feature extraction in a few different ways. One common approach is to apply PCA to the original feature matrix, and then select a subset of the principal components as the new features. Another approach is to apply PCA to a set of derived features that have been engineered specifically for a particular task, such as using domain knowledge or other feature selection techniques.\n",
    "\n",
    "Suppose we have a dataset of customer transactions, where each transaction is represented by a set of features, including the amount of the transaction, the time of day it occurred, the location of the transaction, and the type of item purchased. We want to use this data to predict whether a given customer is likely to make a repeat purchase in the future.\n",
    "\n",
    "To do this, we can use PCA as a feature extraction technique to reduce the dimensionality of the data and identify the most important features for the prediction task. We might start by applying PCA to the original feature matrix, which would transform the original features into a set of principal components that capture the maximum amount of variation in the data.\n",
    "\n",
    "We could then select a subset of these principal components as the new features for our prediction model. For example, we might choose the top 3 principal components, which explain 80% of the variance in the data. These principal components would be a linear combination of the original features, but would capture the most important patterns and relationships in the data that are relevant to our prediction task.\n",
    "\n",
    "We could then use these principal components as input features for a machine learning algorithm, such as a logistic regression or a random forest classifier, to predict whether a customer is likely to make a repeat purchase based on their transaction history."
   ]
  },
  {
   "cell_type": "code",
   "execution_count": null,
   "id": "fdc42765-51ff-4ad4-ac9e-9be35216e50a",
   "metadata": {},
   "outputs": [],
   "source": []
  },
  {
   "cell_type": "markdown",
   "id": "383062cc-e570-4539-a87c-b219cbcb434d",
   "metadata": {},
   "source": [
    "Q5. You are working on a project to build a recommendation system for a food delivery service. The dataset\n",
    "contains features such as price, rating, and delivery time. Explain how you would use Min-Max scaling to\n",
    "preprocess the data."
   ]
  },
  {
   "cell_type": "markdown",
   "id": "74609fa9-71cf-4b66-af2c-3f9cadc1ac31",
   "metadata": {},
   "source": [
    "The Min-Max Scaling is done through the following steps:\n",
    "\n",
    "1. Load the dataset.\n",
    "2. Separate the features.\n",
    "3. Apply Min-Max Scaling.\n",
    "4. Normalize the features.\n",
    "\n",
    "By applying Min-Max scaling to the food delivery dataset, we can ensure that all the features are on the same scale and have equal importance in the recommendation system. This can lead to better recommendations and a more accurate system."
   ]
  },
  {
   "cell_type": "code",
   "execution_count": null,
   "id": "7b501819-ba8e-412d-befd-3c29285e80c9",
   "metadata": {},
   "outputs": [],
   "source": []
  },
  {
   "cell_type": "markdown",
   "id": "b7ea537f-72ec-448a-bc2b-5556c6ca0979",
   "metadata": {},
   "source": [
    "Q6. You are working on a project to build a model to predict stock prices. The dataset contains many\n",
    "features, such as company financial data and market trends. Explain how you would use PCA to reduce the\n",
    "dimensionality of the dataset."
   ]
  },
  {
   "cell_type": "markdown",
   "id": "ef191a08-7d26-49b2-8403-3382fc75231f",
   "metadata": {},
   "source": [
    "1. Load the dataset: Load the stock price dataset that contains the various features, such as company financial data and market trends.\n",
    "\n",
    "2. Standardize the data: To apply PCA, we need to standardize the data. We can do this by subtracting the mean from each feature and dividing by the standard deviation. This ensures that all the features have zero mean and unit variance.\n",
    "\n",
    "3. Apply PCA: Apply PCA to the standardized dataset to obtain the principal components. The number of principal components to be retained depends on the amount of variance we want to preserve in the data. A common method is to retain enough principal components to explain at least 80-90% of the total variance in the data.\n",
    "\n",
    "4. Select the principal components: After applying PCA, we can select the principal components that we want to retain based on the amount of variance they explain.\n",
    "\n",
    "5. Project the data onto the selected principal components: We can project the standardized data onto the selected principal components to obtain a lower-dimensional representation of the data.\n",
    "\n",
    "By applying PCA to a stock price dataset, we can reduce the dimensionality of the dataset and extract the most important features that contribute the most to the variation in the data. This can lead to a more efficient and accurate model for predicting stock prices."
   ]
  },
  {
   "cell_type": "code",
   "execution_count": null,
   "id": "d13919e9-0da8-44cd-9e34-b4c8c8d77f4f",
   "metadata": {},
   "outputs": [],
   "source": []
  },
  {
   "cell_type": "markdown",
   "id": "31c45781-4aba-4258-9c60-ef0bf98bfafc",
   "metadata": {},
   "source": [
    "Q7. For a dataset containing the following values: [1, 5, 10, 15, 20], perform Min-Max scaling to transform the\n",
    "values to a range of -1 to 1."
   ]
  },
  {
   "cell_type": "code",
   "execution_count": 4,
   "id": "2dc030a8-8920-407c-a4b4-eebb2ff9cf5e",
   "metadata": {},
   "outputs": [],
   "source": [
    "import pandas as pd\n",
    "df = pd.DataFrame([1, 5, 10, 15, 20],columns = ['a'])"
   ]
  },
  {
   "cell_type": "code",
   "execution_count": 15,
   "id": "63336bde-4be4-4970-8261-1282fb916050",
   "metadata": {},
   "outputs": [],
   "source": [
    "from sklearn.preprocessing import MinMaxScaler\n",
    "scaler = MinMaxScaler(feature_range=(-1, 1))"
   ]
  },
  {
   "cell_type": "code",
   "execution_count": 17,
   "id": "322cf793-a2b8-4259-bfb9-77dcbbf2bef6",
   "metadata": {},
   "outputs": [
    {
     "data": {
      "text/plain": [
       "array([[-1.        ],\n",
       "       [-0.57894737],\n",
       "       [-0.05263158],\n",
       "       [ 0.47368421],\n",
       "       [ 1.        ]])"
      ]
     },
     "execution_count": 17,
     "metadata": {},
     "output_type": "execute_result"
    }
   ],
   "source": [
    "scaler.fit_transform(df[['a']])"
   ]
  },
  {
   "cell_type": "code",
   "execution_count": null,
   "id": "4e549478-7f46-477d-8bbc-1eb2b1545a50",
   "metadata": {},
   "outputs": [],
   "source": []
  },
  {
   "cell_type": "markdown",
   "id": "041af1cd-0659-4104-aafd-eaed31767800",
   "metadata": {},
   "source": [
    "Q8. For a dataset containing the following features: [height, weight, age, gender, blood pressure], perform\n",
    "Feature Extraction using PCA. How many principal components would you choose to retain, and why?"
   ]
  },
  {
   "cell_type": "code",
   "execution_count": 48,
   "id": "ebf5a477-b486-4a3b-939e-500f228f54e2",
   "metadata": {},
   "outputs": [],
   "source": [
    "import numpy as np\n",
    "from sklearn.decomposition import PCA\n",
    "from sklearn.preprocessing import StandardScaler\n",
    "import pandas as pd\n",
    "\n",
    "data = pd.read_csv('data.csv')"
   ]
  },
  {
   "cell_type": "code",
   "execution_count": 49,
   "id": "6e82122c-b36b-4861-b994-4c5935413bc8",
   "metadata": {},
   "outputs": [
    {
     "data": {
      "text/html": [
       "<div>\n",
       "<style scoped>\n",
       "    .dataframe tbody tr th:only-of-type {\n",
       "        vertical-align: middle;\n",
       "    }\n",
       "\n",
       "    .dataframe tbody tr th {\n",
       "        vertical-align: top;\n",
       "    }\n",
       "\n",
       "    .dataframe thead th {\n",
       "        text-align: right;\n",
       "    }\n",
       "</style>\n",
       "<table border=\"1\" class=\"dataframe\">\n",
       "  <thead>\n",
       "    <tr style=\"text-align: right;\">\n",
       "      <th></th>\n",
       "      <th>height</th>\n",
       "      <th>weight</th>\n",
       "      <th>age</th>\n",
       "      <th>gender</th>\n",
       "      <th>bp</th>\n",
       "    </tr>\n",
       "  </thead>\n",
       "  <tbody>\n",
       "    <tr>\n",
       "      <th>0</th>\n",
       "      <td>168</td>\n",
       "      <td>62.0</td>\n",
       "      <td>50.0</td>\n",
       "      <td>2</td>\n",
       "      <td>110</td>\n",
       "    </tr>\n",
       "    <tr>\n",
       "      <th>1</th>\n",
       "      <td>156</td>\n",
       "      <td>85.0</td>\n",
       "      <td>55.0</td>\n",
       "      <td>1</td>\n",
       "      <td>140</td>\n",
       "    </tr>\n",
       "    <tr>\n",
       "      <th>2</th>\n",
       "      <td>165</td>\n",
       "      <td>64.0</td>\n",
       "      <td>52.0</td>\n",
       "      <td>1</td>\n",
       "      <td>130</td>\n",
       "    </tr>\n",
       "    <tr>\n",
       "      <th>3</th>\n",
       "      <td>169</td>\n",
       "      <td>82.0</td>\n",
       "      <td>48.0</td>\n",
       "      <td>2</td>\n",
       "      <td>150</td>\n",
       "    </tr>\n",
       "    <tr>\n",
       "      <th>4</th>\n",
       "      <td>156</td>\n",
       "      <td>56.0</td>\n",
       "      <td>48.0</td>\n",
       "      <td>1</td>\n",
       "      <td>100</td>\n",
       "    </tr>\n",
       "  </tbody>\n",
       "</table>\n",
       "</div>"
      ],
      "text/plain": [
       "   height  weight   age  gender   bp\n",
       "0     168    62.0  50.0       2  110\n",
       "1     156    85.0  55.0       1  140\n",
       "2     165    64.0  52.0       1  130\n",
       "3     169    82.0  48.0       2  150\n",
       "4     156    56.0  48.0       1  100"
      ]
     },
     "execution_count": 49,
     "metadata": {},
     "output_type": "execute_result"
    }
   ],
   "source": [
    "data.head()"
   ]
  },
  {
   "cell_type": "code",
   "execution_count": 50,
   "id": "b9d0f528-dea6-429e-a6e5-2e417d792824",
   "metadata": {},
   "outputs": [],
   "source": [
    "X = data.iloc[:, :-1].values"
   ]
  },
  {
   "cell_type": "code",
   "execution_count": 51,
   "id": "84d3929a-2919-40ea-941c-4320dffbc856",
   "metadata": {},
   "outputs": [],
   "source": [
    "y = data.iloc[:, -1].values"
   ]
  },
  {
   "cell_type": "code",
   "execution_count": 52,
   "id": "06c1c5e7-3d73-4739-8a52-3de2e933c19a",
   "metadata": {},
   "outputs": [],
   "source": [
    "sc = StandardScaler()\n",
    "X = sc.fit_transform(X)"
   ]
  },
  {
   "cell_type": "code",
   "execution_count": 53,
   "id": "1b23f5d2-8842-4dac-960a-4b2e6e461e14",
   "metadata": {},
   "outputs": [],
   "source": [
    "mask = np.isnan(X)\n",
    "X[mask] = -1"
   ]
  },
  {
   "cell_type": "code",
   "execution_count": 54,
   "id": "ff34cedf-d466-4515-a075-3df860932d68",
   "metadata": {},
   "outputs": [],
   "source": [
    "pca = PCA()\n",
    "X_pca = pca.fit_transform(X)"
   ]
  },
  {
   "cell_type": "code",
   "execution_count": 55,
   "id": "e7d9319a-aa61-47d9-bb1f-68b1a0c3ac11",
   "metadata": {},
   "outputs": [
    {
     "data": {
      "image/png": "[encoded data removed]",
      "text/plain": [
       "<Figure size 640x480 with 1 Axes>"
      ]
     },
     "metadata": {},
     "output_type": "display_data"
    }
   ],
   "source": [
    "import matplotlib.pyplot as plt\n",
    "plt.plot(np.cumsum(pca.explained_variance_ratio_))\n",
    "plt.xlabel('Number of components')\n",
    "plt.ylabel('Cumulative explained variance')\n",
    "plt.show()"
   ]
  },
  {
   "cell_type": "markdown",
   "id": "4a9aa6fe-e6bc-4a41-ae43-d769c6e51e7b",
   "metadata": {},
   "source": [
    "Based on the plot, we can see that the first two principal components capture around 80% of the variance in the data, while the first three principal components capture around 99% of the variance. We may choose to retain either two or three principal components, depending on how much variance we want to capture."
   ]
  },
  {
   "cell_type": "code",
   "execution_count": null,
   "id": "92fc4c71-11af-4c40-9e7c-f65af6412d42",
   "metadata": {},
   "outputs": [],
   "source": []
  }
 ],
 "metadata": {
  "kernelspec": {
   "display_name": "Python 3 (ipykernel)",
   "language": "python",
   "name": "python3"
  },
  "language_info": {
   "codemirror_mode": {
    "name": "ipython",
    "version": 3
   },
   "file_extension": ".py",
   "mimetype": "text/x-python",
   "name": "python",
   "nbconvert_exporter": "python",
   "pygments_lexer": "ipython3",
   "version": "3.10.8"
  }
 },
 "nbformat": 4,
 "nbformat_minor": 5
}
