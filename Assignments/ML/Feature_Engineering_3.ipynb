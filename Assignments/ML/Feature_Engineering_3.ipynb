{
 "cells": [
  {
   "cell_type": "markdown",
   "id": "1140fadc-62b8-4e59-a908-9c52d22dc358",
   "metadata": {},
   "source": [
    "Q1. What is data encoding? How is it useful in data science?"
   ]
  },
  {
   "cell_type": "markdown",
   "id": "95e7e888-5978-44e2-9c6f-d68cd7018538",
   "metadata": {},
   "source": [
    "Data Encoding is a technique of converting categorical variables into numerical values so that it could be easily fitted to a machine learning model.\n",
    "\n",
    "As we know, most of the data in real life come with categorical string values and most of the machine learning models work with integer values only and some with other different values which can be understandable for the model. In Data Scinece, Encoding categorical data is used in converting categorical data into integer format so that the data with converted categorical values can be provided to the models to give and improve the predictions."
   ]
  },
  {
   "cell_type": "code",
   "execution_count": null,
   "id": "887713f7-8acb-4838-8b38-921330dd4ab8",
   "metadata": {},
   "outputs": [],
   "source": []
  },
  {
   "cell_type": "markdown",
   "id": "49df7429-407a-4998-bc00-0ac2a33115ea",
   "metadata": {},
   "source": [
    "Q2. What is nominal encoding? Provide an example of how you would use it in a real-world scenario."
   ]
  },
  {
   "cell_type": "markdown",
   "id": "35d6b497-a1c4-4893-9cb5-5407d05fbe30",
   "metadata": {},
   "source": [
    "Nominal encoding is a type of encoding used in data analysis and machine learning where categorical variables are converted into numerical values. In nominal encoding, each category is assigned a unique number or binary value, and there is no inherent order or ranking among the categories.\n",
    "\n",
    "An example of nominal encoding could be in analyzing customer satisfaction survey data for a restaurant. The survey might include questions like \"How satisfied were you with the quality of food?\" and \"How satisfied were you with the service?\" with options like \"Very satisfied,\" \"Satisfied,\" \"Neutral,\" \"Dissatisfied,\" and \"Very dissatisfied.\" These responses can be converted into numerical values using nominal encoding, such as \"Very satisfied\" = 1, \"Satisfied\" = 2, \"Neutral\" = 3, \"Dissatisfied\" = 4, and \"Very dissatisfied\" = 5."
   ]
  },
  {
   "cell_type": "code",
   "execution_count": null,
   "id": "691c0f15-9e46-4e5d-a8bb-cdd4e4682eef",
   "metadata": {},
   "outputs": [],
   "source": []
  },
  {
   "cell_type": "markdown",
   "id": "0dac2139-3160-4674-a268-048facb7900b",
   "metadata": {},
   "source": [
    "Q3. In what situations is nominal encoding preferred over one-hot encoding? Provide a practical example."
   ]
  },
  {
   "cell_type": "markdown",
   "id": "ecda14d9-7e9d-4380-abab-914dd5c91c52",
   "metadata": {},
   "source": [
    "Nominal encoding is preferred over one-hot encoding when the categorical variable has a large number of categories, and the data has a limited number of observations. In such cases, one-hot encoding can lead to a high number of sparse features, which can negatively impact the performance of machine learning models. Nominal encoding, on the other hand, reduces the number of features and thus can improve the efficiency of machine learning models.\n",
    "\n",
    "For example, let's say we want to predict the prices of used cars based on their make and model. There are thousands of different car models available, and one-hot encoding would create a large number of sparse features. Nominal encoding would reduce the number of features to the number of unique car models and make it easier to analyze the data.\n",
    "\n",
    "In summary, nominal encoding is preferred over one-hot encoding when there are many categories and limited data, or when the categories have no natural ordering. Nominal encoding can lead to more efficient machine learning models and better analysis of data."
   ]
  },
  {
   "cell_type": "code",
   "execution_count": null,
   "id": "e1a98784-561a-401c-8354-5aea80291cef",
   "metadata": {},
   "outputs": [],
   "source": []
  },
  {
   "cell_type": "markdown",
   "id": "55e443a4-bf49-4c0a-919c-ce2e43c7ac44",
   "metadata": {},
   "source": [
    "Q4. Suppose you have a dataset containing categorical data with 5 unique values. Which encoding\n",
    "technique would you use to transform this data into a format suitable for machine learning algorithms?\n",
    "Explain why you made this choice."
   ]
  },
  {
   "cell_type": "markdown",
   "id": "e0850d93-26bd-45db-bb4b-2a5dcb849d5b",
   "metadata": {},
   "source": [
    "I would use nominal encoding, the reason is that nominal encoding is a simple and efficient way to convert categorical data into numerical values that can be easily analyzed using machine learning algorithms.\n",
    "\n",
    "Nominal encoding assigns a unique integer or binary value to each category, which allows the machine learning algorithm to treat them as numerical values while avoiding any implicit ordering or ranking among the categories"
   ]
  },
  {
   "cell_type": "code",
   "execution_count": null,
   "id": "504f2872-1d67-4b1e-912e-5945359ee453",
   "metadata": {},
   "outputs": [],
   "source": []
  },
  {
   "cell_type": "markdown",
   "id": "167419af-f400-4317-a28d-83215ef1f7c2",
   "metadata": {},
   "source": [
    "Q5. In a machine learning project, you have a dataset with 1000 rows and 5 columns. Two of the columns\n",
    "are categorical, and the remaining three columns are numerical. If you were to use nominal encoding to\n",
    "transform the categorical data, how many new columns would be created? Show your calculations."
   ]
  },
  {
   "cell_type": "markdown",
   "id": "3bdbef4f-c731-421b-8eaf-f8624e890107",
   "metadata": {},
   "source": [
    "Using nominal encoding, the number of new columns created will depend on the number of unique categories in each column.\n",
    "\n",
    "Suppose, the first categorical column has 4 unique categories and the second categorical column has 5 unique categories.\n",
    "\n",
    "For the 1st column, using nominal encoding to assign a unique integer value to each category, such as \"A\" = 1, \"B\" = 2, \"C\" = 3, and \"D\" = 4, would result in one new column with numerical values from 1 to 4.\n",
    "\n",
    "For the 2nd column, using nominal encoding to assign a unique integer value to each category, such as \"X\" = 1, \"Y\" = 2, \"Z\" = 3, \"W\" = 4, and \"V\" = 5, would result in one new column with numerical values from 1 to 5.\n",
    "\n",
    "Therefore, using nominal encoding on the two categorical columns would result in two new columns of numerical data.\n",
    "\n",
    "In summary, nominal encoding creates a new column for each categorical variable, with the number of categories dictating the number of unique values in the new column. In this case, we have two categorical variables and thus two new columns will be created."
   ]
  },
  {
   "cell_type": "code",
   "execution_count": null,
   "id": "fd6d30c9-23b9-46c6-8a09-0caa23f829e3",
   "metadata": {},
   "outputs": [],
   "source": []
  },
  {
   "cell_type": "markdown",
   "id": "c46a068e-3940-4b96-8f98-a7ac301c3343",
   "metadata": {},
   "source": [
    "Q6. You are working with a dataset containing information about different types of animals, including their\n",
    "species, habitat, and diet. Which encoding technique would you use to transform the categorical data into\n",
    "a format suitable for machine learning algorithms? Justify your answer."
   ]
  },
  {
   "cell_type": "markdown",
   "id": "b0764bc8-5587-4ed4-9ec5-78f1718a3f8a",
   "metadata": {
    "tags": []
   },
   "source": [
    "Since we do not know the number of unique categories in each categorical variable, we have to examine the nature of the data to make an informed choice.\n",
    "\n",
    "Suppose that the dataset contains information about different types of animals, the categorical variables (species, habitat, and diet) are likely to have a limited number of unique categories. In such cases, nominal encoding can be a suitable technique to transform categorical data into a format suitable for machine learning algorithms.\n",
    "\n",
    "Note: Since we expect the categorical variables in the animal dataset to have a limited number of unique categories, nominal encoding can be a suitable technique for transforming the data into a format suitable for machine learning algorithms."
   ]
  },
  {
   "cell_type": "code",
   "execution_count": null,
   "id": "993d1637-d42f-46a0-b045-d2b54a08605a",
   "metadata": {},
   "outputs": [],
   "source": []
  },
  {
   "cell_type": "markdown",
   "id": "e2185fab-8b14-492d-ad66-bd353cacdff0",
   "metadata": {},
   "source": [
    "Q7. You are working on a project that involves predicting customer churn for a telecommunications\n",
    "company. You have a dataset with 5 features, including the customer's gender, age, contract type,\n",
    "monthly charges, and tenure. Which encoding technique(s) would you use to transform the categorical\n",
    "data into numerical data? Provide a step-by-step explanation of how you would implement the encoding."
   ]
  },
  {
   "cell_type": "markdown",
   "id": "6af10641-557e-4787-80d5-58eae0c0117a",
   "metadata": {},
   "source": [
    "In the given dataset, gender and contract type are categorical, and remaining are numerical.\n",
    "\n",
    "For gender, we use nominal encoding. \n",
    "\n",
    "Steps are as follows:\n",
    "\n",
    "1. Identify the unique categories in the gender feature. In this case assume, there are only two categories: male and female.\n",
    "\n",
    "2. Assign a unique integer value to each category. We can use 0 for male and 1 for female, or vice versa.\n",
    "\n",
    "3. Replace the categorical values in the gender feature with the corresponding integer values.\n",
    "\n",
    "For contract type, we use Ordinal encoding, assigns a unique integer value to each category based on their relative order or hierarchy. This technique is used because contract type has natural ordering among the categories. In this case, we assume and assign 0 to month-to-month, 1 to one-year, and 2 to two-year, based on the increasing length of the contract period.\n",
    "\n",
    "Steps are as follows:\n",
    "\n",
    "1. Identify the unique categories in the contract type feature. In this case assume, there are three categories: month-to-month, one-year, and two-year.\n",
    "\n",
    "2. Assign a unique integer value to each category. We can use 0 for month-to-month, 1 for one-year, and 2 for two-year.\n",
    "\n",
    "3. Replace the categorical values in the contract type feature with the corresponding integer values.\n",
    "\n",
    "Finally, after encoding the gender and contract type features, all five features will be in numerical format and can be used for machine learning algorithms."
   ]
  },
  {
   "cell_type": "code",
   "execution_count": null,
   "id": "dead3995-ee02-4364-aef5-03a3a38c4289",
   "metadata": {},
   "outputs": [],
   "source": []
  }
 ],
 "metadata": {
  "kernelspec": {
   "display_name": "Python 3 (ipykernel)",
   "language": "python",
   "name": "python3"
  },
  "language_info": {
   "codemirror_mode": {
    "name": "ipython",
    "version": 3
   },
   "file_extension": ".py",
   "mimetype": "text/x-python",
   "name": "python",
   "nbconvert_exporter": "python",
   "pygments_lexer": "ipython3",
   "version": "3.10.8"
  }
 },
 "nbformat": 4,
 "nbformat_minor": 5
}
