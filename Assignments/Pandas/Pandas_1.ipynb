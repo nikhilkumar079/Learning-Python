{
 "cells": [
  {
   "cell_type": "code",
   "execution_count": 3,
   "id": "aeba86c8",
   "metadata": {},
   "outputs": [],
   "source": [
    "import pandas as pd"
   ]
  },
  {
   "cell_type": "code",
   "execution_count": null,
   "id": "ad88f6a4",
   "metadata": {},
   "outputs": [],
   "source": []
  },
  {
   "cell_type": "markdown",
   "id": "a1d7d144",
   "metadata": {},
   "source": [
    "Q1. Create a Pandas Series that contains the following data: 4, 8, 15, 16, 23, and 42. Then, print the series."
   ]
  },
  {
   "cell_type": "code",
   "execution_count": 4,
   "id": "0031fcab",
   "metadata": {},
   "outputs": [],
   "source": [
    "ls = [4,8,15,16,23,42]"
   ]
  },
  {
   "cell_type": "code",
   "execution_count": 5,
   "id": "8026c2c0",
   "metadata": {},
   "outputs": [],
   "source": [
    "d = pd.Series(ls)"
   ]
  },
  {
   "cell_type": "code",
   "execution_count": 7,
   "id": "80cda950",
   "metadata": {},
   "outputs": [
    {
     "name": "stdout",
     "output_type": "stream",
     "text": [
      "0     4\n",
      "1     8\n",
      "2    15\n",
      "3    16\n",
      "4    23\n",
      "5    42\n",
      "dtype: int64\n"
     ]
    }
   ],
   "source": [
    "print(d)"
   ]
  },
  {
   "cell_type": "code",
   "execution_count": null,
   "id": "89a40829",
   "metadata": {},
   "outputs": [],
   "source": []
  },
  {
   "cell_type": "markdown",
   "id": "aca94ea4",
   "metadata": {},
   "source": [
    "Q2. Create a variable of list type containing 10 elements in it, and apply pandas.Series function on the variable print it."
   ]
  },
  {
   "cell_type": "code",
   "execution_count": 12,
   "id": "91345396",
   "metadata": {},
   "outputs": [],
   "source": [
    "ls1 = [i*2 for i in range(1,11)]"
   ]
  },
  {
   "cell_type": "code",
   "execution_count": 14,
   "id": "ef116088",
   "metadata": {},
   "outputs": [],
   "source": [
    "s = pd.Series(ls1)"
   ]
  },
  {
   "cell_type": "code",
   "execution_count": 17,
   "id": "690a5083",
   "metadata": {},
   "outputs": [
    {
     "name": "stdout",
     "output_type": "stream",
     "text": [
      "0     2\n",
      "1     4\n",
      "2     6\n",
      "3     8\n",
      "4    10\n",
      "5    12\n",
      "6    14\n",
      "7    16\n",
      "8    18\n",
      "9    20\n",
      "dtype: int64\n"
     ]
    }
   ],
   "source": [
    "print(s)"
   ]
  },
  {
   "cell_type": "code",
   "execution_count": null,
   "id": "56eb0c43",
   "metadata": {},
   "outputs": [],
   "source": []
  },
  {
   "cell_type": "markdown",
   "id": "65a174dd",
   "metadata": {},
   "source": [
    "Q3. Create a Pandas DataFrame:"
   ]
  },
  {
   "cell_type": "code",
   "execution_count": 19,
   "id": "dbfc76ea",
   "metadata": {},
   "outputs": [
    {
     "name": "stdout",
     "output_type": "stream",
     "text": [
      "     Name  Age  Gender\n",
      "0   Alice   25  Female\n",
      "1     Bob   30    Male\n",
      "2  Claire   27  Female\n"
     ]
    }
   ],
   "source": [
    "data = [['Alice', 25, 'Female'], ['Bob', 30, 'Male'], ['Claire', 27, 'Female']]\n",
    "\n",
    "df = pd.DataFrame(data, columns=['Name', 'Age', 'Gender'])\n",
    "\n",
    "print(df)\n"
   ]
  },
  {
   "cell_type": "code",
   "execution_count": null,
   "id": "fe7bccd0",
   "metadata": {},
   "outputs": [],
   "source": []
  },
  {
   "cell_type": "markdown",
   "id": "dabfb607",
   "metadata": {},
   "source": [
    "Q4. What is 'DataFrame' in pandas and how is it different from pandas.series? Explain with an example."
   ]
  },
  {
   "cell_type": "markdown",
   "id": "06f46b83",
   "metadata": {},
   "source": [
    "A Data frame is a two-dimensional data structure, i.e., data is aligned in a tabular fashion in rows and columns. Pandas DataFrame consists of three principal components, the data, rows, and columns.\n",
    "\n",
    "Pandas Series is a one-dimensional labeled array capable of holding data of any type (integer, string, float, python objects, etc.). The axis labels are collectively called index. Pandas Series is nothing but a column in an excel sheet.\n",
    "\n",
    "Series can only contain single list with index, whereas dataframe can be made of more than one series or we can say that a dataframe is a collection of series that can be used to analyse the data. "
   ]
  },
  {
   "cell_type": "code",
   "execution_count": null,
   "id": "07226c10",
   "metadata": {},
   "outputs": [],
   "source": []
  },
  {
   "cell_type": "markdown",
   "id": "a30c1025",
   "metadata": {},
   "source": [
    "Q5. What are some common functions you can use to manipulate data in a Pandas DataFrame? Can you give an example of when you might use one of these functions?"
   ]
  },
  {
   "cell_type": "markdown",
   "id": "9182e9f5-4779-4fb6-a1d1-236170a7d465",
   "metadata": {},
   "source": [
    "Pandas provides a wide range of functions to manipulate data in a DataFrame. Here are some commonly used functions:\n",
    "\n",
    "head() and tail(): To display the first and last few rows of the DataFrame, respectively. For example, you might use df.head() to quickly inspect the structure and content of a DataFrame.\n",
    "\n",
    "describe(): To get a summary of statistics for each column in the DataFrame. For example, you might use df.describe() to get the mean, standard deviation, and other statistics for numeric columns.\n",
    "\n",
    "drop(): To remove rows or columns from the DataFrame. For example, you might use df.drop(columns=['col1', 'col2']) to remove the 'col1' and 'col2' columns.\n",
    "\n",
    "groupby(): To group data based on one or more columns, and perform operations on the groups. For example, you might use df.groupby('col1').mean() to get the mean value of each numeric column, grouped by the values in 'col1'.\n",
    "\n",
    "fillna(): To replace missing values in the DataFrame with a specified value or method. For example, you might use df.fillna(0) to replace all missing values with 0.\n",
    "\n",
    "merge(): To combine two DataFrames based on a common column. For example, you might use pd.merge(df1, df2, on='col1') to merge two DataFrames on the 'col1' column.\n",
    "\n",
    "apply(): To apply a function to each element or row in the DataFrame. For example, you might use df.apply(lambda x: x**2) to square each element in the DataFrame."
   ]
  },
  {
   "cell_type": "code",
   "execution_count": null,
   "id": "3b32960c-8655-4d41-8791-ea444e89c50e",
   "metadata": {},
   "outputs": [],
   "source": []
  },
  {
   "cell_type": "markdown",
   "id": "02e0d1e4",
   "metadata": {},
   "source": [
    "Q6. Which of the following is mutable in nature Series, DataFrame, Panel?"
   ]
  },
  {
   "cell_type": "markdown",
   "id": "b12be74e-0a57-4ef9-b9a9-11a35e9e6ad2",
   "metadata": {},
   "source": [
    "A Series object can be modified by assigning new values to individual elements or by applying methods that change the values in place. Similarly, a DataFrame object can be modified by adding or removing columns, renaming columns, reordering rows, updating values, and many other operations. But, pandas.Panel is not mutable because it has been deprecated since version 0.25.0 and replaced by other data structures, such as MultiIndex and DataFrame."
   ]
  },
  {
   "cell_type": "code",
   "execution_count": null,
   "id": "a475758e-48e1-4ae2-9a2a-c954af3c4766",
   "metadata": {},
   "outputs": [],
   "source": []
  },
  {
   "cell_type": "markdown",
   "id": "60fb52fd",
   "metadata": {},
   "source": [
    "Q7. Create a DataFrame using multiple Series. Explain with an example."
   ]
  },
  {
   "cell_type": "code",
   "execution_count": 1,
   "id": "672f42b4-9e3c-4bed-bb1a-7df3d2d29a28",
   "metadata": {},
   "outputs": [
    {
     "name": "stdout",
     "output_type": "stream",
     "text": [
      "    Name        Course  Price\n",
      "0   Sudh  Data Sciecne   5000\n",
      "1  Krish          Java   3000\n",
      "2     nk        Python   2500\n"
     ]
    }
   ],
   "source": [
    "import pandas as pd\n",
    "\n",
    "names = pd.Series(['Sudh', 'Krish', 'nk'])\n",
    "course = pd.Series(['Data Sciecne', 'Java', 'Python'])\n",
    "cost = pd.Series([5000, 3000, 2500])\n",
    "data = {'Name': names, 'Course': course, 'Price': cost}\n",
    "df = pd.DataFrame(data)\n",
    "print(df)\n"
   ]
  },
  {
   "cell_type": "markdown",
   "id": "cdd163bb-0a58-4637-8a8f-416390238aae",
   "metadata": {},
   "source": [
    "In the above example, we created three separate Series objects, names, course, and cost, which contain data about the instructor name, course, and price of three courses. Then, we created a dictionary called data with keys 'Name', 'Course', and 'Price', and values corresponding to the Series objects. Finally, we passed the data dictionary to the pd.DataFrame() function to create a new DataFrame object called df. The resulting DataFrame has three columns, each containing the data from one of the Series objects."
   ]
  },
  {
   "cell_type": "code",
   "execution_count": null,
   "id": "f84e607b-62df-41d0-9de8-22fb3647f8b1",
   "metadata": {},
   "outputs": [],
   "source": []
  }
 ],
 "metadata": {
  "kernelspec": {
   "display_name": "Python 3 (ipykernel)",
   "language": "python",
   "name": "python3"
  },
  "language_info": {
   "codemirror_mode": {
    "name": "ipython",
    "version": 3
   },
   "file_extension": ".py",
   "mimetype": "text/x-python",
   "name": "python",
   "nbconvert_exporter": "python",
   "pygments_lexer": "ipython3",
   "version": "3.10.8"
  }
 },
 "nbformat": 4,
 "nbformat_minor": 5
}
