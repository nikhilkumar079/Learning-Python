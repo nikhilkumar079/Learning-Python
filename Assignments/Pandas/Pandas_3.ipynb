{
 "cells": [
  {
   "cell_type": "code",
   "execution_count": 1,
   "id": "79d16862-af70-468d-9c13-9e0d70c3aab1",
   "metadata": {},
   "outputs": [
    {
     "data": {
      "text/html": [
       "<div>\n",
       "<style scoped>\n",
       "    .dataframe tbody tr th:only-of-type {\n",
       "        vertical-align: middle;\n",
       "    }\n",
       "\n",
       "    .dataframe tbody tr th {\n",
       "        vertical-align: top;\n",
       "    }\n",
       "\n",
       "    .dataframe thead th {\n",
       "        text-align: right;\n",
       "    }\n",
       "</style>\n",
       "<table border=\"1\" class=\"dataframe\">\n",
       "  <thead>\n",
       "    <tr style=\"text-align: right;\">\n",
       "      <th></th>\n",
       "      <th>course_name</th>\n",
       "      <th>duration</th>\n",
       "    </tr>\n",
       "  </thead>\n",
       "  <tbody>\n",
       "    <tr>\n",
       "      <th>0</th>\n",
       "      <td>Data Science</td>\n",
       "      <td>2</td>\n",
       "    </tr>\n",
       "    <tr>\n",
       "      <th>1</th>\n",
       "      <td>Machine Learning</td>\n",
       "      <td>3</td>\n",
       "    </tr>\n",
       "    <tr>\n",
       "      <th>2</th>\n",
       "      <td>Big Data</td>\n",
       "      <td>6</td>\n",
       "    </tr>\n",
       "    <tr>\n",
       "      <th>3</th>\n",
       "      <td>Data Engineer</td>\n",
       "      <td>4</td>\n",
       "    </tr>\n",
       "  </tbody>\n",
       "</table>\n",
       "</div>"
      ],
      "text/plain": [
       "        course_name  duration\n",
       "0      Data Science         2\n",
       "1  Machine Learning         3\n",
       "2          Big Data         6\n",
       "3     Data Engineer         4"
      ]
     },
     "execution_count": 1,
     "metadata": {},
     "output_type": "execute_result"
    }
   ],
   "source": [
    "import pandas as pd\n",
    "\n",
    "course_name = ['Data Science', 'Machine Learning', 'Big Data', 'Data Engineer']\n",
    "\n",
    "duration = [2,3,6,4]\n",
    "\n",
    "df = pd.DataFrame(data = {'course_name' : course_name, 'duration' : duration})\n",
    "df"
   ]
  },
  {
   "cell_type": "markdown",
   "id": "4dd1bf20-e021-480f-bf23-bbdcd1e91680",
   "metadata": {},
   "source": [
    "Q1. Write a code to print the data present in the second row of the dataframe, df."
   ]
  },
  {
   "cell_type": "code",
   "execution_count": 2,
   "id": "99958801-0de3-4fe6-96f5-c5aea9c7cf4c",
   "metadata": {},
   "outputs": [
    {
     "data": {
      "text/html": [
       "<div>\n",
       "<style scoped>\n",
       "    .dataframe tbody tr th:only-of-type {\n",
       "        vertical-align: middle;\n",
       "    }\n",
       "\n",
       "    .dataframe tbody tr th {\n",
       "        vertical-align: top;\n",
       "    }\n",
       "\n",
       "    .dataframe thead th {\n",
       "        text-align: right;\n",
       "    }\n",
       "</style>\n",
       "<table border=\"1\" class=\"dataframe\">\n",
       "  <thead>\n",
       "    <tr style=\"text-align: right;\">\n",
       "      <th></th>\n",
       "      <th>course_name</th>\n",
       "      <th>duration</th>\n",
       "    </tr>\n",
       "  </thead>\n",
       "  <tbody>\n",
       "    <tr>\n",
       "      <th>1</th>\n",
       "      <td>Machine Learning</td>\n",
       "      <td>3</td>\n",
       "    </tr>\n",
       "  </tbody>\n",
       "</table>\n",
       "</div>"
      ],
      "text/plain": [
       "        course_name  duration\n",
       "1  Machine Learning         3"
      ]
     },
     "execution_count": 2,
     "metadata": {},
     "output_type": "execute_result"
    }
   ],
   "source": [
    "df[1:2]"
   ]
  },
  {
   "cell_type": "markdown",
   "id": "34d9a2bf-beca-4cbf-9aeb-f1c1064e840d",
   "metadata": {},
   "source": [
    "Q2. What is the difference between the functions loc and iloc in pandas.DataFrame?"
   ]
  },
  {
   "cell_type": "markdown",
   "id": "5fdf4a71-5a2d-4952-b7e2-c4e3f7e4ec50",
   "metadata": {},
   "source": [
    "loc is a label-based method that is used to select data from a DataFrame based on the labels of rows or columns.\n",
    "iloc, on the other hand, is a position-based method that is used to select data from a DataFrame based on the integer position of rows or columns."
   ]
  },
  {
   "cell_type": "code",
   "execution_count": 3,
   "id": "72e8ce0d-b4ac-444a-ba10-9365edc8a191",
   "metadata": {},
   "outputs": [
    {
     "data": {
      "text/html": [
       "<div>\n",
       "<style scoped>\n",
       "    .dataframe tbody tr th:only-of-type {\n",
       "        vertical-align: middle;\n",
       "    }\n",
       "\n",
       "    .dataframe tbody tr th {\n",
       "        vertical-align: top;\n",
       "    }\n",
       "\n",
       "    .dataframe thead th {\n",
       "        text-align: right;\n",
       "    }\n",
       "</style>\n",
       "<table border=\"1\" class=\"dataframe\">\n",
       "  <thead>\n",
       "    <tr style=\"text-align: right;\">\n",
       "      <th></th>\n",
       "      <th>duration</th>\n",
       "    </tr>\n",
       "  </thead>\n",
       "  <tbody>\n",
       "    <tr>\n",
       "      <th>0</th>\n",
       "      <td>2</td>\n",
       "    </tr>\n",
       "    <tr>\n",
       "      <th>1</th>\n",
       "      <td>3</td>\n",
       "    </tr>\n",
       "  </tbody>\n",
       "</table>\n",
       "</div>"
      ],
      "text/plain": [
       "   duration\n",
       "0         2\n",
       "1         3"
      ]
     },
     "execution_count": 3,
     "metadata": {},
     "output_type": "execute_result"
    }
   ],
   "source": [
    "df.loc[[0,1],['duration']]"
   ]
  },
  {
   "cell_type": "code",
   "execution_count": 4,
   "id": "fb825351-c058-450b-ad14-15be118e4733",
   "metadata": {},
   "outputs": [
    {
     "data": {
      "text/html": [
       "<div>\n",
       "<style scoped>\n",
       "    .dataframe tbody tr th:only-of-type {\n",
       "        vertical-align: middle;\n",
       "    }\n",
       "\n",
       "    .dataframe tbody tr th {\n",
       "        vertical-align: top;\n",
       "    }\n",
       "\n",
       "    .dataframe thead th {\n",
       "        text-align: right;\n",
       "    }\n",
       "</style>\n",
       "<table border=\"1\" class=\"dataframe\">\n",
       "  <thead>\n",
       "    <tr style=\"text-align: right;\">\n",
       "      <th></th>\n",
       "      <th>course_name</th>\n",
       "    </tr>\n",
       "  </thead>\n",
       "  <tbody>\n",
       "    <tr>\n",
       "      <th>0</th>\n",
       "      <td>Data Science</td>\n",
       "    </tr>\n",
       "    <tr>\n",
       "      <th>1</th>\n",
       "      <td>Machine Learning</td>\n",
       "    </tr>\n",
       "  </tbody>\n",
       "</table>\n",
       "</div>"
      ],
      "text/plain": [
       "        course_name\n",
       "0      Data Science\n",
       "1  Machine Learning"
      ]
     },
     "execution_count": 4,
     "metadata": {},
     "output_type": "execute_result"
    }
   ],
   "source": [
    "df.iloc[[0,1],[0]]"
   ]
  },
  {
   "cell_type": "markdown",
   "id": "273e3c23-df95-4d1c-b7e6-b4800b91e7b7",
   "metadata": {},
   "source": [
    "Q3. Reindex the given dataframe using a variable, reindex = [3,0,1,2] and store it in the variable, new_df\n",
    "then find the output for both new_df.loc[2] and new_df.iloc[2]."
   ]
  },
  {
   "cell_type": "code",
   "execution_count": 7,
   "id": "7bc12174-b326-4369-a760-87fa98ff440e",
   "metadata": {},
   "outputs": [
    {
     "data": {
      "text/html": [
       "<div>\n",
       "<style scoped>\n",
       "    .dataframe tbody tr th:only-of-type {\n",
       "        vertical-align: middle;\n",
       "    }\n",
       "\n",
       "    .dataframe tbody tr th {\n",
       "        vertical-align: top;\n",
       "    }\n",
       "\n",
       "    .dataframe thead th {\n",
       "        text-align: right;\n",
       "    }\n",
       "</style>\n",
       "<table border=\"1\" class=\"dataframe\">\n",
       "  <thead>\n",
       "    <tr style=\"text-align: right;\">\n",
       "      <th></th>\n",
       "      <th>course_name</th>\n",
       "      <th>duration</th>\n",
       "    </tr>\n",
       "  </thead>\n",
       "  <tbody>\n",
       "    <tr>\n",
       "      <th>3</th>\n",
       "      <td>Data Engineer</td>\n",
       "      <td>4</td>\n",
       "    </tr>\n",
       "    <tr>\n",
       "      <th>0</th>\n",
       "      <td>Data Science</td>\n",
       "      <td>2</td>\n",
       "    </tr>\n",
       "    <tr>\n",
       "      <th>1</th>\n",
       "      <td>Machine Learning</td>\n",
       "      <td>3</td>\n",
       "    </tr>\n",
       "    <tr>\n",
       "      <th>2</th>\n",
       "      <td>Big Data</td>\n",
       "      <td>6</td>\n",
       "    </tr>\n",
       "  </tbody>\n",
       "</table>\n",
       "</div>"
      ],
      "text/plain": [
       "        course_name  duration\n",
       "3     Data Engineer         4\n",
       "0      Data Science         2\n",
       "1  Machine Learning         3\n",
       "2          Big Data         6"
      ]
     },
     "execution_count": 7,
     "metadata": {},
     "output_type": "execute_result"
    }
   ],
   "source": [
    "re_index = [3,0,1,2]\n",
    "new_df = df.reindex(re_index)\n",
    "new_df"
   ]
  },
  {
   "cell_type": "code",
   "execution_count": 8,
   "id": "4f49d01c-d95b-4722-9a69-fd5899929439",
   "metadata": {},
   "outputs": [
    {
     "data": {
      "text/plain": [
       "course_name    Big Data\n",
       "duration              6\n",
       "Name: 2, dtype: object"
      ]
     },
     "execution_count": 8,
     "metadata": {},
     "output_type": "execute_result"
    }
   ],
   "source": [
    "new_df.loc[2]"
   ]
  },
  {
   "cell_type": "code",
   "execution_count": 9,
   "id": "1ca4e61f-1290-4fb0-bbf3-be2a1a0133ad",
   "metadata": {},
   "outputs": [
    {
     "data": {
      "text/plain": [
       "course_name    Machine Learning\n",
       "duration                      3\n",
       "Name: 1, dtype: object"
      ]
     },
     "execution_count": 9,
     "metadata": {},
     "output_type": "execute_result"
    }
   ],
   "source": [
    "new_df.iloc[2]"
   ]
  },
  {
   "cell_type": "markdown",
   "id": "398ccd1b-7413-4b81-9b9c-7f98c3fa2b6f",
   "metadata": {},
   "source": [
    "The loc method is giving the value where index value matches with given paramater. Whereas, iloc gives us the value at index position that matches given parameter. Here, 2 in loc is index value and in iloc 2 is position."
   ]
  },
  {
   "cell_type": "code",
   "execution_count": null,
   "id": "134264c6-53b9-43ee-8bd8-30be1988d825",
   "metadata": {},
   "outputs": [],
   "source": []
  },
  {
   "cell_type": "code",
   "execution_count": 40,
   "id": "16bc35fc-2e49-46e9-a4b4-8c340e16bacd",
   "metadata": {},
   "outputs": [
    {
     "data": {
      "text/html": [
       "<div>\n",
       "<style scoped>\n",
       "    .dataframe tbody tr th:only-of-type {\n",
       "        vertical-align: middle;\n",
       "    }\n",
       "\n",
       "    .dataframe tbody tr th {\n",
       "        vertical-align: top;\n",
       "    }\n",
       "\n",
       "    .dataframe thead th {\n",
       "        text-align: right;\n",
       "    }\n",
       "</style>\n",
       "<table border=\"1\" class=\"dataframe\">\n",
       "  <thead>\n",
       "    <tr style=\"text-align: right;\">\n",
       "      <th></th>\n",
       "      <th>column_1</th>\n",
       "      <th>column_2</th>\n",
       "      <th>column_3</th>\n",
       "      <th>column_4</th>\n",
       "      <th>column_5</th>\n",
       "      <th>column_6</th>\n",
       "    </tr>\n",
       "  </thead>\n",
       "  <tbody>\n",
       "    <tr>\n",
       "      <th>1</th>\n",
       "      <td>0.313811</td>\n",
       "      <td>0.398844</td>\n",
       "      <td>0.638801</td>\n",
       "      <td>0.978947</td>\n",
       "      <td>0.815953</td>\n",
       "      <td>0.251113</td>\n",
       "    </tr>\n",
       "    <tr>\n",
       "      <th>2</th>\n",
       "      <td>0.413957</td>\n",
       "      <td>0.062575</td>\n",
       "      <td>0.897443</td>\n",
       "      <td>0.570918</td>\n",
       "      <td>0.989546</td>\n",
       "      <td>0.377168</td>\n",
       "    </tr>\n",
       "    <tr>\n",
       "      <th>3</th>\n",
       "      <td>0.157640</td>\n",
       "      <td>0.192893</td>\n",
       "      <td>0.930354</td>\n",
       "      <td>0.829544</td>\n",
       "      <td>0.927307</td>\n",
       "      <td>0.613439</td>\n",
       "    </tr>\n",
       "    <tr>\n",
       "      <th>4</th>\n",
       "      <td>0.989030</td>\n",
       "      <td>0.828574</td>\n",
       "      <td>0.352404</td>\n",
       "      <td>0.734761</td>\n",
       "      <td>0.339646</td>\n",
       "      <td>0.074845</td>\n",
       "    </tr>\n",
       "    <tr>\n",
       "      <th>5</th>\n",
       "      <td>0.371656</td>\n",
       "      <td>0.805882</td>\n",
       "      <td>0.007631</td>\n",
       "      <td>0.178511</td>\n",
       "      <td>0.027649</td>\n",
       "      <td>0.784780</td>\n",
       "    </tr>\n",
       "    <tr>\n",
       "      <th>6</th>\n",
       "      <td>0.479854</td>\n",
       "      <td>0.298433</td>\n",
       "      <td>0.645314</td>\n",
       "      <td>0.294459</td>\n",
       "      <td>0.781081</td>\n",
       "      <td>0.272055</td>\n",
       "    </tr>\n",
       "  </tbody>\n",
       "</table>\n",
       "</div>"
      ],
      "text/plain": [
       "   column_1  column_2  column_3  column_4  column_5  column_6\n",
       "1  0.313811  0.398844  0.638801  0.978947  0.815953  0.251113\n",
       "2  0.413957  0.062575  0.897443  0.570918  0.989546  0.377168\n",
       "3  0.157640  0.192893  0.930354  0.829544  0.927307  0.613439\n",
       "4  0.989030  0.828574  0.352404  0.734761  0.339646  0.074845\n",
       "5  0.371656  0.805882  0.007631  0.178511  0.027649  0.784780\n",
       "6  0.479854  0.298433  0.645314  0.294459  0.781081  0.272055"
      ]
     },
     "execution_count": 40,
     "metadata": {},
     "output_type": "execute_result"
    }
   ],
   "source": [
    "import pandas as pd\n",
    "\n",
    "import numpy as np\n",
    "\n",
    "columns = ['column_1', 'column_2', 'column_3', 'column_4', 'column_5', 'column_6']\n",
    "\n",
    "indices = [1,2,3,4,5,6]\n",
    "\n",
    "#Creating a dataframe:\n",
    "\n",
    "df1 = pd.DataFrame(np.random.rand(6,6), columns = columns, index = indices)\n",
    "df1"
   ]
  },
  {
   "cell_type": "markdown",
   "id": "54099e32-c8a9-4603-8165-bbd712dbc376",
   "metadata": {},
   "source": [
    "Q4. Write a code to find the following statistical measurements for the above dataframe df1:\n",
    "\n",
    "(i) mean of each and every column present in the dataframe.\n",
    "\n",
    "(ii) standard deviation of column, ‘column_2’\n"
   ]
  },
  {
   "cell_type": "code",
   "execution_count": 45,
   "id": "568ffe06-11f8-4285-ab23-aa518089c529",
   "metadata": {},
   "outputs": [
    {
     "data": {
      "text/plain": [
       "column_1    0.454325\n",
       "column_2    0.431200\n",
       "column_3    0.578658\n",
       "column_4    0.597857\n",
       "column_5    0.646863\n",
       "column_6    0.395567\n",
       "dtype: float64"
      ]
     },
     "execution_count": 45,
     "metadata": {},
     "output_type": "execute_result"
    }
   ],
   "source": [
    "df1.mean()"
   ]
  },
  {
   "cell_type": "code",
   "execution_count": 46,
   "id": "b8ad1ad9-8126-475d-9d9b-120ab59e9448",
   "metadata": {},
   "outputs": [
    {
     "data": {
      "text/plain": [
       "0.31926204594376456"
      ]
     },
     "execution_count": 46,
     "metadata": {},
     "output_type": "execute_result"
    }
   ],
   "source": [
    "df1['column_2'].std()"
   ]
  },
  {
   "cell_type": "markdown",
   "id": "e43fb16e-a416-4e64-b1da-309630edcc4b",
   "metadata": {},
   "source": [
    "Q5.Replace the data present in the second row of column, ‘column_2’ by a string variable then find the\n",
    "mean of column, column_2. If you are getting errors in executing it then explain why"
   ]
  },
  {
   "cell_type": "code",
   "execution_count": 50,
   "id": "1ff5e7c9-3cdc-41d7-8093-4bb8e73d8c17",
   "metadata": {},
   "outputs": [],
   "source": [
    "df1.loc[[2],['column_2']] = 'Data'"
   ]
  },
  {
   "cell_type": "code",
   "execution_count": 51,
   "id": "52992d0c-8622-4c4a-904d-b5e3d17e9053",
   "metadata": {},
   "outputs": [
    {
     "data": {
      "text/html": [
       "<div>\n",
       "<style scoped>\n",
       "    .dataframe tbody tr th:only-of-type {\n",
       "        vertical-align: middle;\n",
       "    }\n",
       "\n",
       "    .dataframe tbody tr th {\n",
       "        vertical-align: top;\n",
       "    }\n",
       "\n",
       "    .dataframe thead th {\n",
       "        text-align: right;\n",
       "    }\n",
       "</style>\n",
       "<table border=\"1\" class=\"dataframe\">\n",
       "  <thead>\n",
       "    <tr style=\"text-align: right;\">\n",
       "      <th></th>\n",
       "      <th>column_1</th>\n",
       "      <th>column_2</th>\n",
       "      <th>column_3</th>\n",
       "      <th>column_4</th>\n",
       "      <th>column_5</th>\n",
       "      <th>column_6</th>\n",
       "    </tr>\n",
       "  </thead>\n",
       "  <tbody>\n",
       "    <tr>\n",
       "      <th>1</th>\n",
       "      <td>0.313811</td>\n",
       "      <td>0.398844</td>\n",
       "      <td>0.638801</td>\n",
       "      <td>0.978947</td>\n",
       "      <td>0.815953</td>\n",
       "      <td>0.251113</td>\n",
       "    </tr>\n",
       "    <tr>\n",
       "      <th>2</th>\n",
       "      <td>0.413957</td>\n",
       "      <td>Data</td>\n",
       "      <td>0.897443</td>\n",
       "      <td>0.570918</td>\n",
       "      <td>0.989546</td>\n",
       "      <td>0.377168</td>\n",
       "    </tr>\n",
       "    <tr>\n",
       "      <th>3</th>\n",
       "      <td>0.157640</td>\n",
       "      <td>0.192893</td>\n",
       "      <td>0.930354</td>\n",
       "      <td>0.829544</td>\n",
       "      <td>0.927307</td>\n",
       "      <td>0.613439</td>\n",
       "    </tr>\n",
       "    <tr>\n",
       "      <th>4</th>\n",
       "      <td>0.989030</td>\n",
       "      <td>0.828574</td>\n",
       "      <td>0.352404</td>\n",
       "      <td>0.734761</td>\n",
       "      <td>0.339646</td>\n",
       "      <td>0.074845</td>\n",
       "    </tr>\n",
       "    <tr>\n",
       "      <th>5</th>\n",
       "      <td>0.371656</td>\n",
       "      <td>0.805882</td>\n",
       "      <td>0.007631</td>\n",
       "      <td>0.178511</td>\n",
       "      <td>0.027649</td>\n",
       "      <td>0.784780</td>\n",
       "    </tr>\n",
       "    <tr>\n",
       "      <th>6</th>\n",
       "      <td>0.479854</td>\n",
       "      <td>0.298433</td>\n",
       "      <td>0.645314</td>\n",
       "      <td>0.294459</td>\n",
       "      <td>0.781081</td>\n",
       "      <td>0.272055</td>\n",
       "    </tr>\n",
       "  </tbody>\n",
       "</table>\n",
       "</div>"
      ],
      "text/plain": [
       "   column_1  column_2  column_3  column_4  column_5  column_6\n",
       "1  0.313811  0.398844  0.638801  0.978947  0.815953  0.251113\n",
       "2  0.413957      Data  0.897443  0.570918  0.989546  0.377168\n",
       "3  0.157640  0.192893  0.930354  0.829544  0.927307  0.613439\n",
       "4  0.989030  0.828574  0.352404  0.734761  0.339646  0.074845\n",
       "5  0.371656  0.805882  0.007631  0.178511  0.027649  0.784780\n",
       "6  0.479854  0.298433  0.645314  0.294459  0.781081  0.272055"
      ]
     },
     "execution_count": 51,
     "metadata": {},
     "output_type": "execute_result"
    }
   ],
   "source": [
    "df1"
   ]
  },
  {
   "cell_type": "markdown",
   "id": "9847e491-e5d8-4c4e-8c2f-d939d0d8c9c0",
   "metadata": {},
   "source": [
    "df1['column_2'].mean() gives me error because we can't find mean of data where string data type is present along with float."
   ]
  },
  {
   "cell_type": "code",
   "execution_count": 56,
   "id": "ef52b588-e708-4946-9af0-8f911d205aeb",
   "metadata": {},
   "outputs": [
    {
     "data": {
      "text/plain": [
       "0.5049253341068789"
      ]
     },
     "execution_count": 56,
     "metadata": {},
     "output_type": "execute_result"
    }
   ],
   "source": [
    "# To avoid error we can use the below code\n",
    "pd.to_numeric(df1['column_2'], errors='coerce').mean()"
   ]
  },
  {
   "cell_type": "code",
   "execution_count": null,
   "id": "98310ae2-4489-4498-ade8-ce38019bbe3e",
   "metadata": {},
   "outputs": [],
   "source": []
  },
  {
   "cell_type": "markdown",
   "id": "09e95e3c-57a2-4bdd-9407-6601231426b1",
   "metadata": {},
   "source": [
    "Q6. What do you understand about the windows function in pandas and list the types of windows\n",
    "functions?"
   ]
  },
  {
   "cell_type": "raw",
   "id": "477ca0d5-8af6-4995-ab85-64866490dd01",
   "metadata": {},
   "source": [
    "In Pandas, a window function is a function that applies a fixed-size sliding window over a series or DataFrame to calculate a new value for each position in the window. Window functions are useful for time series analysis, signal processing, and data smoothing.\n",
    "\n",
    "There are several types of window functions that can be applied using the rolling() method of a Pandas Series or DataFrame. Some common types of window functions include:\n",
    "\n",
    "Moving average: Calculates the average of a fixed-size window over a series or DataFrame.\n",
    "\n",
    "Moving sum: Calculates the sum of a fixed-size window over a series or DataFrame.\n",
    "\n",
    "Moving maximum/minimum: Calculates the maximum or minimum value of a fixed-size window over a series or DataFrame.\n",
    "\n",
    "Moving standard deviation/variance: Calculates the standard deviation or variance of a fixed-size window over a series or DataFrame.\n",
    "\n",
    "Exponential moving average: Calculates a weighted average of a series or DataFrame with more weight given to recent values.\n",
    "\n",
    "Rolling correlation/covariance: Calculates the correlation or covariance between two series or columns of a DataFrame over a fixed-size window."
   ]
  },
  {
   "cell_type": "code",
   "execution_count": null,
   "id": "b820f211-a568-47a7-a30a-a82781418748",
   "metadata": {},
   "outputs": [],
   "source": []
  },
  {
   "cell_type": "markdown",
   "id": "d8f38a20-ebd4-426f-ab7d-448059de5aae",
   "metadata": {},
   "source": [
    "Q7.Write a code to print only the current month and year at the time of answering this question."
   ]
  },
  {
   "cell_type": "code",
   "execution_count": 4,
   "id": "b8391656-ab8d-462c-a65b-a03875abd466",
   "metadata": {},
   "outputs": [],
   "source": [
    "import datetime\n",
    "\n",
    "s = pd.Series(datetime.datetime.now())"
   ]
  },
  {
   "cell_type": "code",
   "execution_count": 14,
   "id": "faf4294c-9e10-4256-9624-facce7e44b21",
   "metadata": {},
   "outputs": [],
   "source": [
    "s1 = s.dt.year.iloc[0]"
   ]
  },
  {
   "cell_type": "code",
   "execution_count": 15,
   "id": "2cc61d04-287f-44b4-8ff7-161ac1850550",
   "metadata": {},
   "outputs": [],
   "source": [
    "s2 = s.dt.month_name().iloc[0]"
   ]
  },
  {
   "cell_type": "code",
   "execution_count": 17,
   "id": "725bef7f-1165-452f-b9ac-1e3852bec438",
   "metadata": {},
   "outputs": [
    {
     "name": "stdout",
     "output_type": "stream",
     "text": [
      "March, 2023\n"
     ]
    }
   ],
   "source": [
    "print(f\"{s2}, {str(s1)}\")"
   ]
  },
  {
   "cell_type": "code",
   "execution_count": null,
   "id": "eb91757d-f8fa-40e5-a4eb-200d8d73c2ea",
   "metadata": {},
   "outputs": [],
   "source": []
  },
  {
   "cell_type": "markdown",
   "id": "5878471e-be9f-431f-bda8-0c1867be5ff6",
   "metadata": {},
   "source": [
    "Q8. Write a Python program that takes in two dates as input (in the format YYYY-MM-DD) and\n",
    "calculates the difference between them in days, hours, and minutes using Pandas time delta. The\n",
    "program should prompt the user to enter the dates and display the result."
   ]
  },
  {
   "cell_type": "code",
   "execution_count": 29,
   "id": "ba0a8eb5-9410-4eee-bd95-9de12adbf4c2",
   "metadata": {},
   "outputs": [
    {
     "name": "stdin",
     "output_type": "stream",
     "text": [
      "Enter the first date (YYYY-MM-DD):  2020-01-01\n",
      "Enter the second date (YYYY-MM-DD):  2021-10-01\n"
     ]
    },
    {
     "name": "stdout",
     "output_type": "stream",
     "text": [
      "The difference between 2020-01-01 and 2021-10-01 is:\n",
      "639 days, 15336 hours, and 2300400 minutes\n"
     ]
    }
   ],
   "source": [
    "import pandas as pd\n",
    "\n",
    "d1 = input(\"Enter the first date (YYYY-MM-DD): \")\n",
    "d2 = input(\"Enter the second date (YYYY-MM-DD): \")\n",
    "\n",
    "ts1 = pd.to_datetime(d1)\n",
    "ts2 = pd.to_datetime(d2)\n",
    "\n",
    "diff = ts2 - ts1\n",
    "\n",
    "days = diff.days\n",
    "hours = diff.days * 24\n",
    "minutes = diff.days * 3600\n",
    "\n",
    "# display the result\n",
    "print(f\"The difference between {d1} and {d2} is:\")\n",
    "print(f\"{days} days, {hours} hours, and {minutes} minutes\")"
   ]
  },
  {
   "cell_type": "code",
   "execution_count": null,
   "id": "c2614645-8203-4853-88f9-5fb026549671",
   "metadata": {},
   "outputs": [],
   "source": []
  },
  {
   "cell_type": "markdown",
   "id": "2d5b2ed4-1894-4fe4-a667-1f224e2fb4d4",
   "metadata": {},
   "source": [
    "Q9. Write a Python program that reads a CSV file containing categorical data and converts a specified column to a categorical data type. The program should prompt the user to enter the file path, column name, and category order, and then display the sorted data."
   ]
  },
  {
   "cell_type": "code",
   "execution_count": 11,
   "id": "d854ee1f-b326-490a-831b-df984e3cf1d3",
   "metadata": {},
   "outputs": [
    {
     "name": "stdin",
     "output_type": "stream",
     "text": [
      "Enter the file path:  student.csv\n",
      "Enter the name of the column to be converted:  gender\n",
      "Enter the category order separated by commas:  male,female\n"
     ]
    },
    {
     "name": "stdout",
     "output_type": "stream",
     "text": [
      "    id         name  class  mark  gender\n",
      "17  18        Honny   Five    75    male\n",
      "24  25     Giff Tow  Seven    88    male\n",
      "25  26       Crelea  Seven    79    male\n",
      "18  19        Tinny   Nine    18    male\n",
      "33  34     Gain Toe  Seven    69    male\n",
      "16  17        Tumyu    Six    54    male\n",
      "15  16        Gimmy   Four    88    male\n",
      "14  15     Tade Row   Four    88    male\n",
      "23  24    Tiddy Now  Seven    78    male\n",
      "28  29  Tess Played  Seven    55    male\n",
      "8    9      Tes Qry    Six    78    male\n",
      "7    8       Asruid   Five    85    male\n",
      "6    7  My John Rob  Fifth    78    male\n",
      "5    6    Alex John   Four    55    male\n",
      "2    3       Arnold  Three    55    male\n",
      "1    2     Max Ruin  Three    85    male\n",
      "30  31  Marry Toeey   Four    88    male\n",
      "22  23        Herod  Eight    79    male\n",
      "29  30    Reppy Red    Six    79  female\n",
      "27  28    Rojj Base  Seven    86  female\n",
      "26  27     Big Nose  Three    81  female\n",
      "31  32    Binn Rott  Seven    90  female\n",
      "32  33    Kenn Rein    Six    96  female\n",
      "0    1     John Deo   Four    75  female\n",
      "20  21   Babby John   Four    69  female\n",
      "19  20       Jackly   Nine    65  female\n",
      "13  14         Bigy  Seven    88  female\n",
      "12  13          Kty  Seven    88  female\n",
      "11  12        Recky    Six    94  female\n",
      "10  11       Ronald    Six    89  female\n",
      "9   10     Big John   Four    55  female\n",
      "4    5    John Mike   Four    60  female\n",
      "3    4   Krish Star   Four    60  female\n",
      "21  22       Reggid  Seven    55  female\n",
      "34  35   Rows Noump    Six    88  female\n"
     ]
    }
   ],
   "source": [
    "file_path = input(\"Enter the file path: \")\n",
    "\n",
    "df = pd.read_csv(file_path)\n",
    "\n",
    "column_name= input(\"Enter the name of the column to be converted: \")\n",
    "category_order = input(\"Enter the category order separated by commas: \").split(',')\n",
    "\n",
    "df[column_name] = pd.Categorical(df[column_name], categories=category_order)\n",
    "\n",
    "df_sorted = df.sort_values(column_name)\n",
    "\n",
    "print(df_sorted)"
   ]
  },
  {
   "cell_type": "code",
   "execution_count": null,
   "id": "fde4dded-f2bf-4d2f-9351-d850243396ff",
   "metadata": {},
   "outputs": [],
   "source": []
  },
  {
   "cell_type": "markdown",
   "id": "1860be05-617e-4e7a-9679-b1fd02fd43c8",
   "metadata": {},
   "source": [
    "Q10.Write a Python program that reads a CSV file containing sales data for different products and visualizes the data using a stacked bar chart to show the sales of each product category over time. The program should prompt the user to enter the file path and display the chart."
   ]
  },
  {
   "cell_type": "code",
   "execution_count": 16,
   "id": "ecbcbb17-3a81-4cba-a8ce-e2cdbe153b3c",
   "metadata": {},
   "outputs": [
    {
     "name": "stdin",
     "output_type": "stream",
     "text": [
      "Enter the file path:  sales.csv\n"
     ]
    },
    {
     "data": {
      "image/png": "[encoded data removed]",
      "text/plain": [
       "<Figure size 640x480 with 1 Axes>"
      ]
     },
     "metadata": {},
     "output_type": "display_data"
    }
   ],
   "source": [
    "import matplotlib.pyplot as plt\n",
    "\n",
    "file_path = input(\"Enter the file path: \")\n",
    "\n",
    "df = pd.read_csv(file_path)\n",
    "\n",
    "df['Date'] = pd.to_datetime(df['Date'])\n",
    "\n",
    "df_pivot = df.pivot_table(values='Sales_in_thousands', index='Date', columns='Product', aggfunc='sum')\n",
    "\n",
    "ax = df_pivot.plot(kind='bar', stacked=True)\n",
    "\n",
    "ax.set_title('Product Sales Over Time')\n",
    "ax.set_xlabel('Date')\n",
    "ax.set_ylabel('Sales')\n",
    "\n",
    "plt.show()"
   ]
  },
  {
   "cell_type": "code",
   "execution_count": null,
   "id": "2987dcb1-f9b9-4711-945a-849a338195ff",
   "metadata": {},
   "outputs": [],
   "source": []
  },
  {
   "cell_type": "markdown",
   "id": "44c3d675-634d-4134-a430-7d103281e71c",
   "metadata": {},
   "source": [
    "Q11.You are given a CS file containing student data that includes the student ID and their test score. Write a Python program that reads the CSV file, calculates the mean, median, and mode of the test scores, and displays the results in a table."
   ]
  },
  {
   "cell_type": "code",
   "execution_count": 30,
   "id": "dd14cbf0-df7d-4f2e-9239-f98a28b4e607",
   "metadata": {},
   "outputs": [
    {
     "name": "stdin",
     "output_type": "stream",
     "text": [
      "Enter the file path:  student.csv\n"
     ]
    },
    {
     "name": "stdout",
     "output_type": "stream",
     "text": [
      "  Statistic      Value\n",
      "0      Mean  74.657143\n",
      "1    Median  79.000000\n",
      "2      Mode  88.000000\n"
     ]
    }
   ],
   "source": [
    "from statistics import median, mode\n",
    "\n",
    "file_path = input(\"Enter the file path: \")\n",
    "\n",
    "df = pd.read_csv(file_path)\n",
    "\n",
    "mean = df['mark'].mean()\n",
    "median = df['mark'].median()\n",
    "mode = df['mark'].mode().loc[0]\n",
    "\n",
    "results = pd.DataFrame({'Statistic': ['Mean', 'Median', 'Mode'], 'Value': [mean, median, mode]})\n",
    "\n",
    "print(results)"
   ]
  },
  {
   "cell_type": "code",
   "execution_count": null,
   "id": "74259b52-8007-485a-972c-a5d047876fa0",
   "metadata": {},
   "outputs": [],
   "source": []
  }
 ],
 "metadata": {
  "kernelspec": {
   "display_name": "Python 3 (ipykernel)",
   "language": "python",
   "name": "python3"
  },
  "language_info": {
   "codemirror_mode": {
    "name": "ipython",
    "version": 3
   },
   "file_extension": ".py",
   "mimetype": "text/x-python",
   "name": "python",
   "nbconvert_exporter": "python",
   "pygments_lexer": "ipython3",
   "version": "3.10.8"
  }
 },
 "nbformat": 4,
 "nbformat_minor": 5
}
