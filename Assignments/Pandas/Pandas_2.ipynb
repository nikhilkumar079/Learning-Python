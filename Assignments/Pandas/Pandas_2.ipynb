{
 "cells": [
  {
   "cell_type": "code",
   "execution_count": 2,
   "id": "ea23b6f9-9ea8-4005-ad69-507d536d165c",
   "metadata": {},
   "outputs": [],
   "source": [
    "import pandas as pd"
   ]
  },
  {
   "cell_type": "code",
   "execution_count": null,
   "id": "20405abf-12f8-44fa-9a5c-721e234e6a47",
   "metadata": {},
   "outputs": [],
   "source": []
  },
  {
   "cell_type": "markdown",
   "id": "0047fbb4-14f1-4824-8e9e-4d73e414ba0d",
   "metadata": {},
   "source": [
    "Q1. List any five functions of the pandas library with execution."
   ]
  },
  {
   "cell_type": "markdown",
   "id": "7edaf0ba-ca75-4c80-b1e4-06fc39c17369",
   "metadata": {},
   "source": [
    "read_csv() - This function is used to read data from a CSV file and create a DataFrame object."
   ]
  },
  {
   "cell_type": "code",
   "execution_count": 24,
   "id": "9ba2e05c-ebd9-4fcf-adc0-6ef7b067c594",
   "metadata": {},
   "outputs": [
    {
     "name": "stdout",
     "output_type": "stream",
     "text": [
      "   id        name  class  mark  gender\n",
      "0   1    John Deo   Four    75  female\n",
      "1   2    Max Ruin  Three    85    male\n",
      "2   3      Arnold  Three    55    male\n",
      "3   4  Krish Star   Four    60  female\n",
      "4   5   John Mike   Four    60  female\n"
     ]
    }
   ],
   "source": [
    "df = pd.read_csv('student.csv')\n",
    "print(df.head())"
   ]
  },
  {
   "cell_type": "markdown",
   "id": "a36e6a26-189e-4d6e-bf7d-f86299a96b62",
   "metadata": {},
   "source": [
    "groupby() - This function is used to group data by one or more columns and apply an aggregate function to each group."
   ]
  },
  {
   "cell_type": "code",
   "execution_count": 25,
   "id": "05b503d9-f1ba-4ad9-b501-5b33a69dd217",
   "metadata": {},
   "outputs": [
    {
     "name": "stdout",
     "output_type": "stream",
     "text": [
      "name\n",
      "Alex John     55.0\n",
      "Arnold        55.0\n",
      "Asruid        85.0\n",
      "Babby John    69.0\n",
      "Big John      55.0\n",
      "Name: mark, dtype: float64\n"
     ]
    }
   ],
   "source": [
    "grouped = df.groupby('name')['mark'].mean()\n",
    "print(grouped.head())"
   ]
  },
  {
   "cell_type": "markdown",
   "id": "bfcb8d93-d404-4834-8cb5-6884e0b02507",
   "metadata": {},
   "source": [
    "fillna() - This function is used to fill missing values in a DataFrame with a specified value or method."
   ]
  },
  {
   "cell_type": "code",
   "execution_count": 15,
   "id": "3e8a0ca2-93f0-47a3-80cd-d82dad3b7abe",
   "metadata": {},
   "outputs": [
    {
     "name": "stdout",
     "output_type": "stream",
     "text": [
      "          A         B     C\n",
      "0  1.000000  5.000000  11.0\n",
      "1  2.000000  6.666667  10.0\n",
      "2  2.333333  7.000000  11.0\n",
      "3  4.000000  8.000000  12.0\n"
     ]
    }
   ],
   "source": [
    "import numpy as np\n",
    "df1 = pd.DataFrame({'A': [1, 2, np.nan, 4],\n",
    "                   'B': [5, np.nan, 7, 8],\n",
    "                   'C': [np.nan, 10, 11, 12]})\n",
    "\n",
    "df1 = df1.fillna(df1.mean())\n",
    "\n",
    "print(df1)\n"
   ]
  },
  {
   "cell_type": "markdown",
   "id": "eb6be890-ab96-4706-a43b-3e7c44ab2e29",
   "metadata": {},
   "source": [
    "pivot_table() - This function is used to create a pivot table from a DataFrame, which summarizes the data by one or more columns."
   ]
  },
  {
   "cell_type": "code",
   "execution_count": 21,
   "id": "3bfabe66-adc8-41ea-b698-e67cada9502e",
   "metadata": {},
   "outputs": [
    {
     "name": "stdout",
     "output_type": "stream",
     "text": [
      "class       Eight  Fifth  Five  Four  Nine  Seven  Six  Three\n",
      "name                                                         \n",
      "Alex John     NaN    NaN   NaN   6.0   NaN    NaN  NaN    NaN\n",
      "Arnold        NaN    NaN   NaN   NaN   NaN    NaN  NaN    3.0\n",
      "Asruid        NaN    NaN   8.0   NaN   NaN    NaN  NaN    NaN\n",
      "Babby John    NaN    NaN   NaN  21.0   NaN    NaN  NaN    NaN\n",
      "Big John      NaN    NaN   NaN  10.0   NaN    NaN  NaN    NaN\n"
     ]
    }
   ],
   "source": [
    "pivot = df.pivot_table(values='id', index='name', columns='class')\n",
    "print(pivot.head())"
   ]
  },
  {
   "cell_type": "markdown",
   "id": "87bbec3e-dfab-409a-b2d2-16ac4797da60",
   "metadata": {},
   "source": [
    "to_csv() - This function is used to write data from a DataFrame to a CSV file."
   ]
  },
  {
   "cell_type": "code",
   "execution_count": 23,
   "id": "7e3be128-7fb5-4c19-9581-6f3ed1d1cf05",
   "metadata": {},
   "outputs": [
    {
     "name": "stdout",
     "output_type": "stream",
     "text": [
      "    Name  Age  Salary\n",
      "0     nk   25   50000\n",
      "1    ram   30   60000\n",
      "2  krsna   35   70000\n"
     ]
    }
   ],
   "source": [
    "df2 = pd.DataFrame({'Name': ['nk', 'ram', 'krsna'],\n",
    "                   'Age': [25, 30, 35],\n",
    "                   'Salary': [50000, 60000, 70000]})\n",
    "\n",
    "df2.to_csv('output.csv', index=False)\n",
    "\n",
    "df2 = pd.read_csv('output.csv')\n",
    "print(df2)"
   ]
  },
  {
   "cell_type": "code",
   "execution_count": null,
   "id": "99edbeae-b14e-4719-b2d3-114571ec5b7b",
   "metadata": {},
   "outputs": [],
   "source": []
  },
  {
   "cell_type": "markdown",
   "id": "ae5ede9e-1cb0-489b-bf57-3771ea98f238",
   "metadata": {},
   "source": [
    "Q2. Given a Pandas DataFrame df with columns 'A', 'B', and 'C', write a Python function to re-index the\n",
    "DataFrame with a new index that starts from 1 and increments by 2 for each row."
   ]
  },
  {
   "cell_type": "code",
   "execution_count": 26,
   "id": "818cfaad-fd3a-4fe9-b483-f80931ee1601",
   "metadata": {},
   "outputs": [
    {
     "name": "stdout",
     "output_type": "stream",
     "text": [
      "   A  B  C\n",
      "0  1  4  7\n",
      "1  2  5  8\n",
      "2  3  6  9\n"
     ]
    }
   ],
   "source": [
    "df = pd.DataFrame({'A': [1, 2, 3], 'B': [4, 5, 6], 'C': [7, 8, 9]})\n",
    "print(df)"
   ]
  },
  {
   "cell_type": "code",
   "execution_count": 59,
   "id": "869e8d9a-69ba-4326-9bb5-dac7ca3eb8c7",
   "metadata": {},
   "outputs": [],
   "source": [
    "def index(df):\n",
    "    new_index = range(1, 2*len(df), 2)\n",
    "    df = df.set_index(pd.Index(new_index))\n",
    "    return df"
   ]
  },
  {
   "cell_type": "code",
   "execution_count": 60,
   "id": "3215a377-1ffb-4abe-afa8-fd2705250444",
   "metadata": {},
   "outputs": [
    {
     "name": "stdout",
     "output_type": "stream",
     "text": [
      "   A  B  C\n",
      "1  1  4  7\n",
      "3  2  5  8\n",
      "5  3  6  9\n"
     ]
    }
   ],
   "source": [
    "df = pd.DataFrame({'A': [1, 2, 3], 'B': [4, 5, 6], 'C': [7, 8, 9]})\n",
    "print(index(df))"
   ]
  },
  {
   "cell_type": "code",
   "execution_count": null,
   "id": "078eba4f-7192-4148-9933-c7816d56a6bf",
   "metadata": {},
   "outputs": [],
   "source": []
  },
  {
   "cell_type": "markdown",
   "id": "995a6391-9f6b-4f39-a959-ab1882982e3a",
   "metadata": {},
   "source": [
    "Q3. You have a Pandas DataFrame df with a column named 'Values'. Write a Python function that\n",
    "iterates over the DataFrame and calculates the sum of the first three values in the 'Values' column. The\n",
    "function should print the sum to the console."
   ]
  },
  {
   "cell_type": "code",
   "execution_count": 62,
   "id": "5115f6b0-4659-419d-a01f-d853d8218c91",
   "metadata": {},
   "outputs": [],
   "source": [
    "df = pd.DataFrame({'Values': [100, 20, 34, 41, 57,22,49]})"
   ]
  },
  {
   "cell_type": "code",
   "execution_count": 61,
   "id": "8b9b2cff-dc36-4e23-b3f1-45cd7cb3ef4d",
   "metadata": {},
   "outputs": [],
   "source": [
    "def values_sum(df):\n",
    "    ls = df.iloc[:3]['Values'].sum()\n",
    "    return ls"
   ]
  },
  {
   "cell_type": "code",
   "execution_count": 63,
   "id": "da98401e-2a14-42d7-85a8-d0c3b1f6b452",
   "metadata": {},
   "outputs": [
    {
     "data": {
      "text/plain": [
       "154"
      ]
     },
     "execution_count": 63,
     "metadata": {},
     "output_type": "execute_result"
    }
   ],
   "source": [
    "values_sum(df)"
   ]
  },
  {
   "cell_type": "code",
   "execution_count": null,
   "id": "2ef6e332-46de-4cba-b7fd-ccd9a8eecb29",
   "metadata": {},
   "outputs": [],
   "source": []
  },
  {
   "cell_type": "markdown",
   "id": "19f002d9-c5d2-4c0d-b589-0894def0bf4b",
   "metadata": {},
   "source": [
    "Q4. Given a Pandas DataFrame df with a column 'Text', write a Python function to create a new column\n",
    "'Word_Count' that contains the number of words in each row of the 'Text' column."
   ]
  },
  {
   "cell_type": "code",
   "execution_count": 64,
   "id": "76bd20a7-8210-4de8-8d75-5fb0a2510091",
   "metadata": {},
   "outputs": [],
   "source": [
    "df = pd.DataFrame({'Text': ['Data Science', 'Python', 'Web Dev']})"
   ]
  },
  {
   "cell_type": "code",
   "execution_count": 65,
   "id": "d8bff85f-0d19-4050-bb93-bdab9fa1d917",
   "metadata": {},
   "outputs": [],
   "source": [
    "def word_count(df):\n",
    "    df['Word_Count'] = df['Text'].apply(lambda s: len(str(s).split()))\n",
    "    return df"
   ]
  },
  {
   "cell_type": "code",
   "execution_count": 66,
   "id": "a4fa0a91-88a2-4e53-b2a1-5388d05e88b7",
   "metadata": {},
   "outputs": [
    {
     "data": {
      "text/html": [
       "<div>\n",
       "<style scoped>\n",
       "    .dataframe tbody tr th:only-of-type {\n",
       "        vertical-align: middle;\n",
       "    }\n",
       "\n",
       "    .dataframe tbody tr th {\n",
       "        vertical-align: top;\n",
       "    }\n",
       "\n",
       "    .dataframe thead th {\n",
       "        text-align: right;\n",
       "    }\n",
       "</style>\n",
       "<table border=\"1\" class=\"dataframe\">\n",
       "  <thead>\n",
       "    <tr style=\"text-align: right;\">\n",
       "      <th></th>\n",
       "      <th>Text</th>\n",
       "      <th>Word_Count</th>\n",
       "    </tr>\n",
       "  </thead>\n",
       "  <tbody>\n",
       "    <tr>\n",
       "      <th>0</th>\n",
       "      <td>Data Science</td>\n",
       "      <td>2</td>\n",
       "    </tr>\n",
       "    <tr>\n",
       "      <th>1</th>\n",
       "      <td>Python</td>\n",
       "      <td>1</td>\n",
       "    </tr>\n",
       "    <tr>\n",
       "      <th>2</th>\n",
       "      <td>Web Dev</td>\n",
       "      <td>2</td>\n",
       "    </tr>\n",
       "  </tbody>\n",
       "</table>\n",
       "</div>"
      ],
      "text/plain": [
       "           Text  Word_Count\n",
       "0  Data Science           2\n",
       "1        Python           1\n",
       "2       Web Dev           2"
      ]
     },
     "execution_count": 66,
     "metadata": {},
     "output_type": "execute_result"
    }
   ],
   "source": [
    "word_count(df)"
   ]
  },
  {
   "cell_type": "code",
   "execution_count": null,
   "id": "629fc45e-f341-436a-9d35-77cfc3363881",
   "metadata": {},
   "outputs": [],
   "source": []
  },
  {
   "cell_type": "markdown",
   "id": "a92aca1d-b3b7-4726-beeb-d0a8961628a6",
   "metadata": {},
   "source": [
    "Q5. How are DataFrame.size() and DataFrame.shape() different?"
   ]
  },
  {
   "cell_type": "markdown",
   "id": "51e3b1be-1ff7-42c8-8c95-0ab799ad3562",
   "metadata": {},
   "source": [
    "DataFrame.size() returns the number of elements in the DataFrame, which is equal to the number of rows times the number of columns. In other words, it returns the total number of cells in the DataFrame."
   ]
  },
  {
   "cell_type": "markdown",
   "id": "822fc29e-a922-48e3-89cd-b5974da48fdf",
   "metadata": {},
   "source": [
    "DataFrame.shape() returns a tuple that contains the number of rows and columns in the DataFrame. The first element of the tuple is the number of rows, and the second element is the number of columns."
   ]
  },
  {
   "cell_type": "code",
   "execution_count": 39,
   "id": "1f5c1658-ed33-4bcc-98c9-9d31aa99a8b2",
   "metadata": {},
   "outputs": [
    {
     "data": {
      "text/plain": [
       "6"
      ]
     },
     "execution_count": 39,
     "metadata": {},
     "output_type": "execute_result"
    }
   ],
   "source": [
    "df.size"
   ]
  },
  {
   "cell_type": "code",
   "execution_count": 40,
   "id": "ad825599-54ef-4d34-8784-9755313522ba",
   "metadata": {},
   "outputs": [
    {
     "data": {
      "text/plain": [
       "(3, 2)"
      ]
     },
     "execution_count": 40,
     "metadata": {},
     "output_type": "execute_result"
    }
   ],
   "source": [
    "df.shape"
   ]
  },
  {
   "cell_type": "markdown",
   "id": "964b017e-91a2-4de1-b1af-14f644afbc71",
   "metadata": {},
   "source": [
    "In the above cases, the size gives 6 because the dataframe has 6 cells. Whereas, shape gives tuple indicating 3 rows and 2 columns."
   ]
  },
  {
   "cell_type": "code",
   "execution_count": null,
   "id": "db793abe-4a27-4887-bbe0-0bc0378bd0f3",
   "metadata": {},
   "outputs": [],
   "source": []
  },
  {
   "cell_type": "markdown",
   "id": "be3ba7d1-f012-4fad-a2a7-5dee92b177d2",
   "metadata": {},
   "source": [
    "Q6. Which function of pandas do we use to read an excel file?"
   ]
  },
  {
   "cell_type": "markdown",
   "id": "047458bd-94a8-4b32-ad76-8083303159b8",
   "metadata": {},
   "source": [
    "The read_excel() function is a Pandas function that reads an Excel file into a DataFrame. It can read data from both .xls and .xlsx file formats."
   ]
  },
  {
   "cell_type": "code",
   "execution_count": null,
   "id": "dad39b4f-3f3b-49bb-8710-8284d86b1960",
   "metadata": {},
   "outputs": [],
   "source": []
  },
  {
   "cell_type": "markdown",
   "id": "20759d4c-5391-4c14-9b11-0cd9f34a8737",
   "metadata": {},
   "source": [
    "Q7. You have a Pandas DataFrame df that contains a column named 'Email' that contains email\n",
    "addresses in the format 'username@domain.com'. Write a Python function that creates a new column\n",
    "'Username' in df that contains only the username part of each email address."
   ]
  },
  {
   "cell_type": "code",
   "execution_count": 69,
   "id": "8c14b696-847e-4bad-83e5-4670b6b3bb32",
   "metadata": {},
   "outputs": [],
   "source": [
    "df = pd.DataFrame({'Email': ['nk@gmail.com', 'sun@twitter.com', 'dsm@pwskills.com','webdev@pwskills.com','java@pwskills.com']})\n",
    "def username(df):\n",
    "    df['Username'] = df['Email'].apply(lambda s: s.split('@')[0])\n",
    "    return df"
   ]
  },
  {
   "cell_type": "code",
   "execution_count": 70,
   "id": "888b3a8d-2e60-4df0-93c3-3c86ac7755be",
   "metadata": {},
   "outputs": [
    {
     "data": {
      "text/html": [
       "<div>\n",
       "<style scoped>\n",
       "    .dataframe tbody tr th:only-of-type {\n",
       "        vertical-align: middle;\n",
       "    }\n",
       "\n",
       "    .dataframe tbody tr th {\n",
       "        vertical-align: top;\n",
       "    }\n",
       "\n",
       "    .dataframe thead th {\n",
       "        text-align: right;\n",
       "    }\n",
       "</style>\n",
       "<table border=\"1\" class=\"dataframe\">\n",
       "  <thead>\n",
       "    <tr style=\"text-align: right;\">\n",
       "      <th></th>\n",
       "      <th>Email</th>\n",
       "      <th>Username</th>\n",
       "    </tr>\n",
       "  </thead>\n",
       "  <tbody>\n",
       "    <tr>\n",
       "      <th>0</th>\n",
       "      <td>nk@gmail.com</td>\n",
       "      <td>nk</td>\n",
       "    </tr>\n",
       "    <tr>\n",
       "      <th>1</th>\n",
       "      <td>sun@twitter.com</td>\n",
       "      <td>sun</td>\n",
       "    </tr>\n",
       "    <tr>\n",
       "      <th>2</th>\n",
       "      <td>dsm@pwskills.com</td>\n",
       "      <td>dsm</td>\n",
       "    </tr>\n",
       "    <tr>\n",
       "      <th>3</th>\n",
       "      <td>webdev@pwskills.com</td>\n",
       "      <td>webdev</td>\n",
       "    </tr>\n",
       "    <tr>\n",
       "      <th>4</th>\n",
       "      <td>java@pwskills.com</td>\n",
       "      <td>java</td>\n",
       "    </tr>\n",
       "  </tbody>\n",
       "</table>\n",
       "</div>"
      ],
      "text/plain": [
       "                 Email Username\n",
       "0         nk@gmail.com       nk\n",
       "1      sun@twitter.com      sun\n",
       "2     dsm@pwskills.com      dsm\n",
       "3  webdev@pwskills.com   webdev\n",
       "4    java@pwskills.com     java"
      ]
     },
     "execution_count": 70,
     "metadata": {},
     "output_type": "execute_result"
    }
   ],
   "source": [
    "username(df)"
   ]
  },
  {
   "cell_type": "code",
   "execution_count": null,
   "id": "8c77d4fa-fcec-4b5e-814b-a188cd9df103",
   "metadata": {},
   "outputs": [],
   "source": []
  },
  {
   "cell_type": "markdown",
   "id": "f786407c-3fdb-471b-bbe0-cfca6b6921ed",
   "metadata": {},
   "source": [
    "Q8. You have a Pandas DataFrame df with columns 'A', 'B', and 'C'. Write a Python function that selects\n",
    "all rows where the value in column 'A' is greater than 5 and the value in column 'B' is less than 10. The\n",
    "function should return a new DataFrame that contains only the selected rows."
   ]
  },
  {
   "cell_type": "code",
   "execution_count": 72,
   "id": "ecf45899-33a1-42aa-9f31-1bc28aa08171",
   "metadata": {},
   "outputs": [],
   "source": [
    "df = pd.DataFrame({'A': [1, 2, 3, 6, 7, 10, 11, 19, 16],\n",
    "                   'B': [4, 5, 6, 2, 5, 9, 10,12,16],\n",
    "                   'C': [7, 8, 9, 2, 6, 7, 8, 18, 20]})\n",
    "def new_df(df):\n",
    "    cond = (df['A'] > 5) & (df['B'] < 10)\n",
    "    df_new = df[cond]\n",
    "    return df_new"
   ]
  },
  {
   "cell_type": "code",
   "execution_count": 73,
   "id": "683ee24a-4a9f-4880-aa61-b03ab1b15f4f",
   "metadata": {},
   "outputs": [
    {
     "data": {
      "text/html": [
       "<div>\n",
       "<style scoped>\n",
       "    .dataframe tbody tr th:only-of-type {\n",
       "        vertical-align: middle;\n",
       "    }\n",
       "\n",
       "    .dataframe tbody tr th {\n",
       "        vertical-align: top;\n",
       "    }\n",
       "\n",
       "    .dataframe thead th {\n",
       "        text-align: right;\n",
       "    }\n",
       "</style>\n",
       "<table border=\"1\" class=\"dataframe\">\n",
       "  <thead>\n",
       "    <tr style=\"text-align: right;\">\n",
       "      <th></th>\n",
       "      <th>A</th>\n",
       "      <th>B</th>\n",
       "      <th>C</th>\n",
       "    </tr>\n",
       "  </thead>\n",
       "  <tbody>\n",
       "    <tr>\n",
       "      <th>3</th>\n",
       "      <td>6</td>\n",
       "      <td>2</td>\n",
       "      <td>2</td>\n",
       "    </tr>\n",
       "    <tr>\n",
       "      <th>4</th>\n",
       "      <td>7</td>\n",
       "      <td>5</td>\n",
       "      <td>6</td>\n",
       "    </tr>\n",
       "    <tr>\n",
       "      <th>5</th>\n",
       "      <td>10</td>\n",
       "      <td>9</td>\n",
       "      <td>7</td>\n",
       "    </tr>\n",
       "  </tbody>\n",
       "</table>\n",
       "</div>"
      ],
      "text/plain": [
       "    A  B  C\n",
       "3   6  2  2\n",
       "4   7  5  6\n",
       "5  10  9  7"
      ]
     },
     "execution_count": 73,
     "metadata": {},
     "output_type": "execute_result"
    }
   ],
   "source": [
    "new_df(df)"
   ]
  },
  {
   "cell_type": "markdown",
   "id": "451ec0cb-f270-40bb-8a3e-0f5868ef1521",
   "metadata": {},
   "source": [
    "Q9. Given a Pandas DataFrame df with a column 'Values', write a Python function to calculate the mean,\n",
    "median, and standard deviation of the values in the 'Values' column."
   ]
  },
  {
   "cell_type": "code",
   "execution_count": 75,
   "id": "07dfe9f9-2d99-4070-9c99-97bbf674a778",
   "metadata": {},
   "outputs": [],
   "source": [
    "df = pd.DataFrame({'Values': [1, 2, 3, 6, 7, 10, 11, 19, 16]})"
   ]
  },
  {
   "cell_type": "code",
   "execution_count": 80,
   "id": "fb76faf4-c186-4378-94cf-9d4497f64144",
   "metadata": {},
   "outputs": [],
   "source": [
    "def calculated(df):\n",
    "    mean = df['Values'].mean()\n",
    "    median = df['Values'].median()\n",
    "    sd = df['Values'].std()\n",
    "    return {'Mean':round(mean,2),'Median':median,'Standard Deviation':round(sd,2)}"
   ]
  },
  {
   "cell_type": "code",
   "execution_count": 81,
   "id": "7faa2603-9ffa-4c2c-8abe-e32e1c5f1572",
   "metadata": {},
   "outputs": [
    {
     "data": {
      "text/plain": [
       "{'Mean': 8.33, 'Median': 7.0, 'Standard Deviation': 6.24}"
      ]
     },
     "execution_count": 81,
     "metadata": {},
     "output_type": "execute_result"
    }
   ],
   "source": [
    "calculated(df)"
   ]
  },
  {
   "cell_type": "code",
   "execution_count": null,
   "id": "25d2ef28-e1c0-4958-a4c7-4b7864223b21",
   "metadata": {},
   "outputs": [],
   "source": []
  },
  {
   "cell_type": "markdown",
   "id": "8ae7437f-94d1-48ba-810c-3c56bbd1c014",
   "metadata": {},
   "source": [
    "Q10. Given a Pandas DataFrame df with a column 'Sales' and a column 'Date', write a Python function to\n",
    "create a new column 'MovingAverage' that contains the moving average of the sales for the past 7 days\n",
    "for each row in the DataFrame. The moving average should be calculated using a window of size 7 and\n",
    "should include the current day."
   ]
  },
  {
   "cell_type": "code",
   "execution_count": 94,
   "id": "7fd25702-79aa-481d-ace6-0e7b10895934",
   "metadata": {
    "tags": []
   },
   "outputs": [
    {
     "name": "stdout",
     "output_type": "stream",
     "text": [
      "        Date  Sales\n",
      "0 2023-02-01     13\n",
      "1 2023-02-02     65\n",
      "2 2023-02-03     32\n",
      "3 2023-02-04     25\n",
      "4 2023-02-05     50\n"
     ]
    }
   ],
   "source": [
    "import numpy as np\n",
    "\n",
    "dates = pd.date_range(start='2023-02-01', periods=28, freq='D')\n",
    "sales = np.random.randint(10, 100, size=28)\n",
    "df = pd.DataFrame({'Date': dates, 'Sales': sales})\n",
    "print(df.head())"
   ]
  },
  {
   "cell_type": "code",
   "execution_count": 95,
   "id": "0764b51a-e00d-4b4f-a530-99ab75bb64e8",
   "metadata": {},
   "outputs": [],
   "source": [
    "def moving_average_column(df):\n",
    "    df = df.sort_values(by='Date')\n",
    "    \n",
    "    avg = round(df['Sales'].rolling(window=7, min_periods=1).mean(),2)\n",
    "    \n",
    "    df['MovingAverage'] = avg\n",
    "    \n",
    "    return df"
   ]
  },
  {
   "cell_type": "code",
   "execution_count": 96,
   "id": "487e24ef-6880-4fd8-86c2-571c29ff1e16",
   "metadata": {},
   "outputs": [
    {
     "data": {
      "text/html": [
       "<div>\n",
       "<style scoped>\n",
       "    .dataframe tbody tr th:only-of-type {\n",
       "        vertical-align: middle;\n",
       "    }\n",
       "\n",
       "    .dataframe tbody tr th {\n",
       "        vertical-align: top;\n",
       "    }\n",
       "\n",
       "    .dataframe thead th {\n",
       "        text-align: right;\n",
       "    }\n",
       "</style>\n",
       "<table border=\"1\" class=\"dataframe\">\n",
       "  <thead>\n",
       "    <tr style=\"text-align: right;\">\n",
       "      <th></th>\n",
       "      <th>Date</th>\n",
       "      <th>Sales</th>\n",
       "      <th>MovingAverage</th>\n",
       "    </tr>\n",
       "  </thead>\n",
       "  <tbody>\n",
       "    <tr>\n",
       "      <th>0</th>\n",
       "      <td>2023-02-01</td>\n",
       "      <td>13</td>\n",
       "      <td>13.00</td>\n",
       "    </tr>\n",
       "    <tr>\n",
       "      <th>1</th>\n",
       "      <td>2023-02-02</td>\n",
       "      <td>65</td>\n",
       "      <td>39.00</td>\n",
       "    </tr>\n",
       "    <tr>\n",
       "      <th>2</th>\n",
       "      <td>2023-02-03</td>\n",
       "      <td>32</td>\n",
       "      <td>36.67</td>\n",
       "    </tr>\n",
       "    <tr>\n",
       "      <th>3</th>\n",
       "      <td>2023-02-04</td>\n",
       "      <td>25</td>\n",
       "      <td>33.75</td>\n",
       "    </tr>\n",
       "    <tr>\n",
       "      <th>4</th>\n",
       "      <td>2023-02-05</td>\n",
       "      <td>50</td>\n",
       "      <td>37.00</td>\n",
       "    </tr>\n",
       "    <tr>\n",
       "      <th>5</th>\n",
       "      <td>2023-02-06</td>\n",
       "      <td>78</td>\n",
       "      <td>43.83</td>\n",
       "    </tr>\n",
       "    <tr>\n",
       "      <th>6</th>\n",
       "      <td>2023-02-07</td>\n",
       "      <td>87</td>\n",
       "      <td>50.00</td>\n",
       "    </tr>\n",
       "    <tr>\n",
       "      <th>7</th>\n",
       "      <td>2023-02-08</td>\n",
       "      <td>17</td>\n",
       "      <td>50.57</td>\n",
       "    </tr>\n",
       "    <tr>\n",
       "      <th>8</th>\n",
       "      <td>2023-02-09</td>\n",
       "      <td>80</td>\n",
       "      <td>52.71</td>\n",
       "    </tr>\n",
       "    <tr>\n",
       "      <th>9</th>\n",
       "      <td>2023-02-10</td>\n",
       "      <td>61</td>\n",
       "      <td>56.86</td>\n",
       "    </tr>\n",
       "    <tr>\n",
       "      <th>10</th>\n",
       "      <td>2023-02-11</td>\n",
       "      <td>88</td>\n",
       "      <td>65.86</td>\n",
       "    </tr>\n",
       "    <tr>\n",
       "      <th>11</th>\n",
       "      <td>2023-02-12</td>\n",
       "      <td>52</td>\n",
       "      <td>66.14</td>\n",
       "    </tr>\n",
       "    <tr>\n",
       "      <th>12</th>\n",
       "      <td>2023-02-13</td>\n",
       "      <td>19</td>\n",
       "      <td>57.71</td>\n",
       "    </tr>\n",
       "    <tr>\n",
       "      <th>13</th>\n",
       "      <td>2023-02-14</td>\n",
       "      <td>31</td>\n",
       "      <td>49.71</td>\n",
       "    </tr>\n",
       "    <tr>\n",
       "      <th>14</th>\n",
       "      <td>2023-02-15</td>\n",
       "      <td>85</td>\n",
       "      <td>59.43</td>\n",
       "    </tr>\n",
       "    <tr>\n",
       "      <th>15</th>\n",
       "      <td>2023-02-16</td>\n",
       "      <td>62</td>\n",
       "      <td>56.86</td>\n",
       "    </tr>\n",
       "    <tr>\n",
       "      <th>16</th>\n",
       "      <td>2023-02-17</td>\n",
       "      <td>28</td>\n",
       "      <td>52.14</td>\n",
       "    </tr>\n",
       "    <tr>\n",
       "      <th>17</th>\n",
       "      <td>2023-02-18</td>\n",
       "      <td>46</td>\n",
       "      <td>46.14</td>\n",
       "    </tr>\n",
       "    <tr>\n",
       "      <th>18</th>\n",
       "      <td>2023-02-19</td>\n",
       "      <td>44</td>\n",
       "      <td>45.00</td>\n",
       "    </tr>\n",
       "    <tr>\n",
       "      <th>19</th>\n",
       "      <td>2023-02-20</td>\n",
       "      <td>54</td>\n",
       "      <td>50.00</td>\n",
       "    </tr>\n",
       "    <tr>\n",
       "      <th>20</th>\n",
       "      <td>2023-02-21</td>\n",
       "      <td>99</td>\n",
       "      <td>59.71</td>\n",
       "    </tr>\n",
       "    <tr>\n",
       "      <th>21</th>\n",
       "      <td>2023-02-22</td>\n",
       "      <td>60</td>\n",
       "      <td>56.14</td>\n",
       "    </tr>\n",
       "    <tr>\n",
       "      <th>22</th>\n",
       "      <td>2023-02-23</td>\n",
       "      <td>56</td>\n",
       "      <td>55.29</td>\n",
       "    </tr>\n",
       "    <tr>\n",
       "      <th>23</th>\n",
       "      <td>2023-02-24</td>\n",
       "      <td>98</td>\n",
       "      <td>65.29</td>\n",
       "    </tr>\n",
       "    <tr>\n",
       "      <th>24</th>\n",
       "      <td>2023-02-25</td>\n",
       "      <td>31</td>\n",
       "      <td>63.14</td>\n",
       "    </tr>\n",
       "    <tr>\n",
       "      <th>25</th>\n",
       "      <td>2023-02-26</td>\n",
       "      <td>42</td>\n",
       "      <td>62.86</td>\n",
       "    </tr>\n",
       "    <tr>\n",
       "      <th>26</th>\n",
       "      <td>2023-02-27</td>\n",
       "      <td>51</td>\n",
       "      <td>62.43</td>\n",
       "    </tr>\n",
       "    <tr>\n",
       "      <th>27</th>\n",
       "      <td>2023-02-28</td>\n",
       "      <td>43</td>\n",
       "      <td>54.43</td>\n",
       "    </tr>\n",
       "  </tbody>\n",
       "</table>\n",
       "</div>"
      ],
      "text/plain": [
       "         Date  Sales  MovingAverage\n",
       "0  2023-02-01     13          13.00\n",
       "1  2023-02-02     65          39.00\n",
       "2  2023-02-03     32          36.67\n",
       "3  2023-02-04     25          33.75\n",
       "4  2023-02-05     50          37.00\n",
       "5  2023-02-06     78          43.83\n",
       "6  2023-02-07     87          50.00\n",
       "7  2023-02-08     17          50.57\n",
       "8  2023-02-09     80          52.71\n",
       "9  2023-02-10     61          56.86\n",
       "10 2023-02-11     88          65.86\n",
       "11 2023-02-12     52          66.14\n",
       "12 2023-02-13     19          57.71\n",
       "13 2023-02-14     31          49.71\n",
       "14 2023-02-15     85          59.43\n",
       "15 2023-02-16     62          56.86\n",
       "16 2023-02-17     28          52.14\n",
       "17 2023-02-18     46          46.14\n",
       "18 2023-02-19     44          45.00\n",
       "19 2023-02-20     54          50.00\n",
       "20 2023-02-21     99          59.71\n",
       "21 2023-02-22     60          56.14\n",
       "22 2023-02-23     56          55.29\n",
       "23 2023-02-24     98          65.29\n",
       "24 2023-02-25     31          63.14\n",
       "25 2023-02-26     42          62.86\n",
       "26 2023-02-27     51          62.43\n",
       "27 2023-02-28     43          54.43"
      ]
     },
     "execution_count": 96,
     "metadata": {},
     "output_type": "execute_result"
    }
   ],
   "source": [
    "moving_average_column(df)"
   ]
  },
  {
   "cell_type": "code",
   "execution_count": null,
   "id": "628ff7f1-b0c4-41d2-9d3e-a927dabc2d65",
   "metadata": {},
   "outputs": [],
   "source": []
  },
  {
   "cell_type": "markdown",
   "id": "94196397-1214-49ce-b313-b94417eabac8",
   "metadata": {},
   "source": [
    "Q11. You have a Pandas DataFrame df with a column 'Date'. Write a Python function that creates a new\n",
    "column 'Weekday' in the DataFrame. The 'Weekday' column should contain the weekday name (e.g.\n",
    "Monday, Tuesday) corresponding to each date in the 'Date' column."
   ]
  },
  {
   "cell_type": "code",
   "execution_count": 90,
   "id": "b5305d4d-8a90-4921-933f-756cdcd71efb",
   "metadata": {},
   "outputs": [],
   "source": [
    "dates = pd.date_range(start='2022-02-01', periods=7, freq='D')\n",
    "df = pd.DataFrame({'Date': dates})"
   ]
  },
  {
   "cell_type": "code",
   "execution_count": 92,
   "id": "8877a4fb-9dbe-4f15-afe0-68186bf45015",
   "metadata": {},
   "outputs": [],
   "source": [
    "def weekday(df):\n",
    "    df['Weekday']=df['Date'].dt.day_name()\n",
    "    return df"
   ]
  },
  {
   "cell_type": "code",
   "execution_count": 93,
   "id": "97738eca-c3ac-4943-95e8-41558522c732",
   "metadata": {},
   "outputs": [
    {
     "data": {
      "text/html": [
       "<div>\n",
       "<style scoped>\n",
       "    .dataframe tbody tr th:only-of-type {\n",
       "        vertical-align: middle;\n",
       "    }\n",
       "\n",
       "    .dataframe tbody tr th {\n",
       "        vertical-align: top;\n",
       "    }\n",
       "\n",
       "    .dataframe thead th {\n",
       "        text-align: right;\n",
       "    }\n",
       "</style>\n",
       "<table border=\"1\" class=\"dataframe\">\n",
       "  <thead>\n",
       "    <tr style=\"text-align: right;\">\n",
       "      <th></th>\n",
       "      <th>Date</th>\n",
       "      <th>Weekday</th>\n",
       "    </tr>\n",
       "  </thead>\n",
       "  <tbody>\n",
       "    <tr>\n",
       "      <th>0</th>\n",
       "      <td>2022-02-01</td>\n",
       "      <td>Tuesday</td>\n",
       "    </tr>\n",
       "    <tr>\n",
       "      <th>1</th>\n",
       "      <td>2022-02-02</td>\n",
       "      <td>Wednesday</td>\n",
       "    </tr>\n",
       "    <tr>\n",
       "      <th>2</th>\n",
       "      <td>2022-02-03</td>\n",
       "      <td>Thursday</td>\n",
       "    </tr>\n",
       "    <tr>\n",
       "      <th>3</th>\n",
       "      <td>2022-02-04</td>\n",
       "      <td>Friday</td>\n",
       "    </tr>\n",
       "    <tr>\n",
       "      <th>4</th>\n",
       "      <td>2022-02-05</td>\n",
       "      <td>Saturday</td>\n",
       "    </tr>\n",
       "    <tr>\n",
       "      <th>5</th>\n",
       "      <td>2022-02-06</td>\n",
       "      <td>Sunday</td>\n",
       "    </tr>\n",
       "    <tr>\n",
       "      <th>6</th>\n",
       "      <td>2022-02-07</td>\n",
       "      <td>Monday</td>\n",
       "    </tr>\n",
       "  </tbody>\n",
       "</table>\n",
       "</div>"
      ],
      "text/plain": [
       "        Date    Weekday\n",
       "0 2022-02-01    Tuesday\n",
       "1 2022-02-02  Wednesday\n",
       "2 2022-02-03   Thursday\n",
       "3 2022-02-04     Friday\n",
       "4 2022-02-05   Saturday\n",
       "5 2022-02-06     Sunday\n",
       "6 2022-02-07     Monday"
      ]
     },
     "execution_count": 93,
     "metadata": {},
     "output_type": "execute_result"
    }
   ],
   "source": [
    "weekday(df)"
   ]
  },
  {
   "cell_type": "code",
   "execution_count": null,
   "id": "fb842768-54ff-4391-b190-1b02cda3adc2",
   "metadata": {},
   "outputs": [],
   "source": []
  },
  {
   "cell_type": "markdown",
   "id": "14f34f69-6af5-45d6-b3e9-5d701c5e406f",
   "metadata": {},
   "source": [
    "Q12. Given a Pandas DataFrame df with a column 'Date' that contains timestamps, write a Python\n",
    "function to select all rows where the date is between '2023-01-01' and '2023-01-31'."
   ]
  },
  {
   "cell_type": "code",
   "execution_count": 98,
   "id": "31433daf-4114-4e81-8335-4851d34082e7",
   "metadata": {},
   "outputs": [],
   "source": [
    "dates = pd.date_range(start='2023-01-25', periods=10, freq='D')\n",
    "df = pd.DataFrame({'Date': dates})"
   ]
  },
  {
   "cell_type": "code",
   "execution_count": 102,
   "id": "b165163a-7714-49ec-8f13-4e3c53c5b517",
   "metadata": {},
   "outputs": [],
   "source": [
    "def dates(df):\n",
    "    start = pd.Timestamp('2023-01-01')\n",
    "    end = pd.Timestamp('2023-01-31')\n",
    "    \n",
    "    df = df.loc[(df['Date'].between(start, end))]\n",
    "    \n",
    "    return df"
   ]
  },
  {
   "cell_type": "code",
   "execution_count": 103,
   "id": "3cef58f0-88ef-4511-b1fc-7b3046519d4a",
   "metadata": {},
   "outputs": [
    {
     "data": {
      "text/html": [
       "<div>\n",
       "<style scoped>\n",
       "    .dataframe tbody tr th:only-of-type {\n",
       "        vertical-align: middle;\n",
       "    }\n",
       "\n",
       "    .dataframe tbody tr th {\n",
       "        vertical-align: top;\n",
       "    }\n",
       "\n",
       "    .dataframe thead th {\n",
       "        text-align: right;\n",
       "    }\n",
       "</style>\n",
       "<table border=\"1\" class=\"dataframe\">\n",
       "  <thead>\n",
       "    <tr style=\"text-align: right;\">\n",
       "      <th></th>\n",
       "      <th>Date</th>\n",
       "    </tr>\n",
       "  </thead>\n",
       "  <tbody>\n",
       "    <tr>\n",
       "      <th>0</th>\n",
       "      <td>2023-01-25</td>\n",
       "    </tr>\n",
       "    <tr>\n",
       "      <th>1</th>\n",
       "      <td>2023-01-26</td>\n",
       "    </tr>\n",
       "    <tr>\n",
       "      <th>2</th>\n",
       "      <td>2023-01-27</td>\n",
       "    </tr>\n",
       "    <tr>\n",
       "      <th>3</th>\n",
       "      <td>2023-01-28</td>\n",
       "    </tr>\n",
       "    <tr>\n",
       "      <th>4</th>\n",
       "      <td>2023-01-29</td>\n",
       "    </tr>\n",
       "    <tr>\n",
       "      <th>5</th>\n",
       "      <td>2023-01-30</td>\n",
       "    </tr>\n",
       "    <tr>\n",
       "      <th>6</th>\n",
       "      <td>2023-01-31</td>\n",
       "    </tr>\n",
       "  </tbody>\n",
       "</table>\n",
       "</div>"
      ],
      "text/plain": [
       "        Date\n",
       "0 2023-01-25\n",
       "1 2023-01-26\n",
       "2 2023-01-27\n",
       "3 2023-01-28\n",
       "4 2023-01-29\n",
       "5 2023-01-30\n",
       "6 2023-01-31"
      ]
     },
     "execution_count": 103,
     "metadata": {},
     "output_type": "execute_result"
    }
   ],
   "source": [
    "dates(df)"
   ]
  },
  {
   "cell_type": "code",
   "execution_count": null,
   "id": "5bbc5306-5e0a-4eb9-842a-028307ab78f7",
   "metadata": {},
   "outputs": [],
   "source": []
  },
  {
   "cell_type": "markdown",
   "id": "d23d7ab5-6c16-4ded-bfd3-d6f32e91a65e",
   "metadata": {},
   "source": [
    "Q13. To use the basic functions of pandas, what is the first and foremost necessary library that needs to\n",
    "be imported?"
   ]
  },
  {
   "cell_type": "markdown",
   "id": "7cead331-88c4-4a41-8dad-4c6a5d49c8b0",
   "metadata": {},
   "source": [
    "Pandas is the first and foremost necessary library that needs to be imported to use basic functions of pandas."
   ]
  }
 ],
 "metadata": {
  "kernelspec": {
   "display_name": "Python 3 (ipykernel)",
   "language": "python",
   "name": "python3"
  },
  "language_info": {
   "codemirror_mode": {
    "name": "ipython",
    "version": 3
   },
   "file_extension": ".py",
   "mimetype": "text/x-python",
   "name": "python",
   "nbconvert_exporter": "python",
   "pygments_lexer": "ipython3",
   "version": "3.10.8"
  }
 },
 "nbformat": 4,
 "nbformat_minor": 5
}
