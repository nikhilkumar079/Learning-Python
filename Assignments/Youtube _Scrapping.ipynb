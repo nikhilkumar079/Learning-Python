{
 "cells": [
  {
   "cell_type": "code",
   "execution_count": 261,
   "id": "a10de9b7",
   "metadata": {},
   "outputs": [],
   "source": [
    "import requests\n",
    "from bs4 import BeautifulSoup as bs\n",
    "from urllib.request import urlopen\n",
    "import logging"
   ]
  },
  {
   "cell_type": "code",
   "execution_count": 262,
   "id": "3f466de2",
   "metadata": {},
   "outputs": [],
   "source": [
    "from bs4 import BeautifulSoup\n",
    "from selenium import webdriver\n",
    "from selenium.webdriver.chrome.options import Options\n",
    "\n",
    "# Set up ChromeDriver\n",
    "options = Options()\n",
    "options.add_argument('--headless')  # Set to False to see the browser window during scraping\n",
    "driver = webdriver.Chrome(options=options)\n",
    "\n",
    "# Navigate to the videos page\n",
    "url = \"https://www.youtube.com/@PW-Foundation/videos\"\n",
    "pw_url = driver.get(url)"
   ]
  },
  {
   "cell_type": "code",
   "execution_count": 263,
   "id": "c2961946",
   "metadata": {},
   "outputs": [],
   "source": [
    "html_content = driver.page_source\n",
    "soup = BeautifulSoup(html_content, 'html.parser')"
   ]
  },
  {
   "cell_type": "code",
   "execution_count": 264,
   "id": "46a779ae",
   "metadata": {},
   "outputs": [],
   "source": [
    "d = soup.find_all('a',{\"class\" , \"yt-simple-endpoint inline-block style-scope ytd-thumbnail\"})"
   ]
  },
  {
   "cell_type": "code",
   "execution_count": 272,
   "id": "6a828aee",
   "metadata": {},
   "outputs": [],
   "source": [
    "d1 = []\n",
    "for i in range(5):\n",
    "    d1.append(d[i]['href'])"
   ]
  },
  {
   "cell_type": "code",
   "execution_count": 427,
   "id": "2ba17795",
   "metadata": {},
   "outputs": [],
   "source": [
    "links = []\n",
    "for i in d1:\n",
    "    links.append('https://www.youtube.com' + i)"
   ]
  },
  {
   "cell_type": "code",
   "execution_count": 428,
   "id": "ddd3f0c7",
   "metadata": {},
   "outputs": [
    {
     "data": {
      "text/plain": [
       "['https://www.youtube.com/watch?v=nX5ONgCdLcc',\n",
       " 'https://www.youtube.com/watch?v=AM2Dt7cNebw',\n",
       " 'https://www.youtube.com/watch?v=7nMJVhey9TM',\n",
       " 'https://www.youtube.com/watch?v=FSVVlcFUCMk',\n",
       " 'https://www.youtube.com/watch?v=vKxdTuOirnI']"
      ]
     },
     "execution_count": 428,
     "metadata": {},
     "output_type": "execute_result"
    }
   ],
   "source": [
    "links"
   ]
  },
  {
   "cell_type": "code",
   "execution_count": 429,
   "id": "5ec961f1",
   "metadata": {},
   "outputs": [],
   "source": [
    "titles =[]\n",
    "def video_title(d1):\n",
    "    for i in d1:\n",
    "        response = requests.get('https://www.youtube.com' + i)\n",
    "        soup = bs(response.text, \"html.parser\")\n",
    "        titles.append(soup.find(\"meta\", itemprop=\"name\")['content'])\n",
    "    return titles"
   ]
  },
  {
   "cell_type": "code",
   "execution_count": 430,
   "id": "836de28a",
   "metadata": {},
   "outputs": [
    {
     "data": {
      "text/plain": [
       "['How to Attempt English Board Exam ????',\n",
       " 'Best technique to attempt SST paper in Board exam || Class 10th',\n",
       " 'Last Minute Strategy To Score More Than 98% || ICSE Boards || Class-10th',\n",
       " 'Why You Should Choose Commerce After 10th? || Complete Information💯',\n",
       " \"Follow This Plan To Score More Than 95% in Boards || Topper's Strategy\"]"
      ]
     },
     "execution_count": 430,
     "metadata": {},
     "output_type": "execute_result"
    }
   ],
   "source": [
    "video_title(d1)"
   ]
  },
  {
   "cell_type": "code",
   "execution_count": 431,
   "id": "29b8276a",
   "metadata": {},
   "outputs": [],
   "source": [
    "views =[]\n",
    "def video_views(d1):\n",
    "    for i in d1:\n",
    "        response = requests.get('https://www.youtube.com' + i)\n",
    "        soup = bs(response.text, \"html.parser\")\n",
    "        views.append(soup.find(\"meta\", itemprop=\"interactionCount\")['content'])\n",
    "    return views"
   ]
  },
  {
   "cell_type": "code",
   "execution_count": 432,
   "id": "af04fd12",
   "metadata": {},
   "outputs": [
    {
     "data": {
      "text/plain": [
       "['167316', '56584', '22969', '29165', '316259']"
      ]
     },
     "execution_count": 432,
     "metadata": {},
     "output_type": "execute_result"
    }
   ],
   "source": [
    "video_views(d1)"
   ]
  },
  {
   "cell_type": "code",
   "execution_count": 433,
   "id": "84369e2f",
   "metadata": {},
   "outputs": [],
   "source": [
    "date =[]\n",
    "def video_time(d1):\n",
    "    for i in d1:\n",
    "        response = requests.get('https://www.youtube.com' + i)\n",
    "        soup = bs(response.text, \"html.parser\")\n",
    "        date.append(soup.find(\"meta\", itemprop=\"uploadDate\")['content'])\n",
    "    return date"
   ]
  },
  {
   "cell_type": "code",
   "execution_count": 434,
   "id": "3222edef",
   "metadata": {},
   "outputs": [
    {
     "data": {
      "text/plain": [
       "['2023-02-23', '2023-02-22', '2023-02-21', '2023-02-20', '2023-02-15']"
      ]
     },
     "execution_count": 434,
     "metadata": {},
     "output_type": "execute_result"
    }
   ],
   "source": [
    "video_time(d1)"
   ]
  },
  {
   "cell_type": "code",
   "execution_count": 435,
   "id": "f43de1ba",
   "metadata": {},
   "outputs": [],
   "source": [
    "thumb =[]\n",
    "def video_thumbnail(d1):\n",
    "    for i in d1:\n",
    "        response = requests.get('https://www.youtube.com' + i)\n",
    "        soup = bs(response.text, \"html.parser\")\n",
    "        thumb.append(soup.find(\"link\", itemprop=\"thumbnailUrl\")['href'])\n",
    "    return thumb"
   ]
  },
  {
   "cell_type": "code",
   "execution_count": 436,
   "id": "a6945d5a",
   "metadata": {},
   "outputs": [
    {
     "data": {
      "text/plain": [
       "['https://i.ytimg.com/vi/nX5ONgCdLcc/maxresdefault.jpg',\n",
       " 'https://i.ytimg.com/vi/AM2Dt7cNebw/maxresdefault.jpg',\n",
       " 'https://i.ytimg.com/vi/7nMJVhey9TM/maxresdefault.jpg',\n",
       " 'https://i.ytimg.com/vi/FSVVlcFUCMk/maxresdefault.jpg',\n",
       " 'https://i.ytimg.com/vi/vKxdTuOirnI/maxresdefault.jpg']"
      ]
     },
     "execution_count": 436,
     "metadata": {},
     "output_type": "execute_result"
    }
   ],
   "source": [
    "video_thumbnail(d1)"
   ]
  },
  {
   "cell_type": "code",
   "execution_count": 438,
   "id": "c82ff211",
   "metadata": {},
   "outputs": [],
   "source": [
    "import csv\n",
    "\n",
    "with open(\"Youtube_Scraped.csv\", mode=\"w\", newline=\"\") as file:\n",
    "\n",
    "    writer = csv.writer(file)\n",
    "\n",
    "    # Write the header row\n",
    "    writer.writerow([\"Video Title\", \"Url\", \"Date Posted\", \"Views\", 'Thumbnail link'])\n",
    "\n",
    "    # Write each data row\n",
    "    for i in range(len(titles)):\n",
    "        writer.writerow([titles[i], links[i], date[i],views[i],thumb[i]])"
   ]
  },
  {
   "cell_type": "code",
   "execution_count": null,
   "id": "867a04c8",
   "metadata": {},
   "outputs": [],
   "source": []
  }
 ],
 "metadata": {
  "kernelspec": {
   "display_name": "Python 3 (ipykernel)",
   "language": "python",
   "name": "python3"
  },
  "language_info": {
   "codemirror_mode": {
    "name": "ipython",
    "version": 3
   },
   "file_extension": ".py",
   "mimetype": "text/x-python",
   "name": "python",
   "nbconvert_exporter": "python",
   "pygments_lexer": "ipython3",
   "version": "3.11.0"
  }
 },
 "nbformat": 4,
 "nbformat_minor": 5
}
