{
 "cells": [
  {
   "cell_type": "markdown",
   "id": "24026b1e-569f-4f3b-8ba9-cb7398810801",
   "metadata": {},
   "source": [
    "Q1. What are the characteristics of the tuples? Is tuple immutable?\n",
    "\n",
    "Ans. Tuple is one of built-in data type in Python used to store collections of data. It is ordered and unchangeable.\n",
    "Tuples are written with round brackets (). \n",
    "Ex. t1 = (1,2,4,5)\n",
    "Yes, the tuple is immutable."
   ]
  },
  {
   "cell_type": "markdown",
   "id": "37c78be8-f03a-4484-ae32-a3e4a2b6e2b7",
   "metadata": {},
   "source": [
    "Q2. What are the two tuple methods in python? Give an example of each method. Give a reason why tuples have only two in-built methods as compared to Lists.\n",
    "\n",
    "Ans. The two tuple methods are count() and index().\n",
    "1. count()\n",
    "It returns the number of times a specified value appears in the tuple.\n",
    "Ex. \n",
    "t1 = (1, 3, 7, 8, 7, 5, 4, 6, 8, 5)\n",
    "x = thistuple.count(5)\n",
    "print(x)\n",
    "output = 2.\n",
    "2. index()\n",
    "It finds the first occurrence of the specified value and raises error if the value is not found.\n",
    "Ex.\n",
    "t1 = (1, 3, 7, 8, 7, 5, 4, 6, 8, 5)\n",
    "x = t1.index(8)\n",
    "print(x)\n",
    "output = 3.\n",
    "\n",
    "Since, the tuples are immutable they don't possess many in-built functions."
   ]
  },
  {
   "cell_type": "markdown",
   "id": "df14bc8a-b8a7-4f22-b0e1-51efd2c9646f",
   "metadata": {},
   "source": [
    "Q3. Which collection datatypes in python do not allow duplicate items? Write a code using a set to remove duplicates from the given list.\n",
    "List = [1, 1, 1, 2, 1, 3, 1, 4, 2, 1, 2, 2, 2, 3, 2, 4, 3, 1, 3, 2, 3, 3, 3, 4, 4, 1, 4, 2, 4, 3, 4, 4]\n",
    "Ans. set and dictionary datatypes don't allow duplicate items.\n"
   ]
  },
  {
   "cell_type": "code",
   "execution_count": 4,
   "id": "e1e21bef-cf17-4d73-91d4-529e34d03955",
   "metadata": {},
   "outputs": [
    {
     "name": "stdout",
     "output_type": "stream",
     "text": [
      "{1, 2, 3, 4}\n"
     ]
    }
   ],
   "source": [
    "List = [1, 1, 1, 2, 1, 3, 1, 4, 2, 1, 2, 2, 2, 3, 2, 4, 3, 1, 3, 2, 3, 3, 3, 4, 4, 1, 4, 2, 4, 3, 4, 4]\n",
    "print(set(List))"
   ]
  },
  {
   "cell_type": "markdown",
   "id": "5158294a-7d51-4dc2-98b9-8d395d9b5f29",
   "metadata": {},
   "source": [
    "Q4. Explain the difference between the union and update methods for a set. Give an example of each method.\n",
    "\n",
    "Ans. The union() method returns a set that contains all items from the original set, and all items from the specified set(s).\n",
    "You can specify as many sets you want, separated by commas.\n",
    "\n",
    "The update() method updates the current set, by adding items from another set (or any other iterable). "
   ]
  },
  {
   "cell_type": "code",
   "execution_count": 8,
   "id": "ca868756-d3c0-4cb4-b9c1-05ac4e80e4e2",
   "metadata": {},
   "outputs": [
    {
     "name": "stdout",
     "output_type": "stream",
     "text": [
      "{'cherry', 'google', 'banana', 'apple', 'microsoft'}\n"
     ]
    }
   ],
   "source": [
    "x = {\"apple\", \"banana\", \"cherry\"}\n",
    "y = {\"google\", \"microsoft\", \"apple\"}\n",
    "x = x.union(y) #assigning to set is must here\n",
    "print(x)"
   ]
  },
  {
   "cell_type": "code",
   "execution_count": 6,
   "id": "03e2d2ad-7f82-4a01-9dfd-9b0970dac8ae",
   "metadata": {},
   "outputs": [
    {
     "name": "stdout",
     "output_type": "stream",
     "text": [
      "{'cherry', 'google', 'banana', 'apple', 'microsoft'}\n"
     ]
    }
   ],
   "source": [
    "x = {\"apple\", \"banana\", \"cherry\"}\n",
    "y = {\"google\", \"microsoft\", \"apple\"}\n",
    "x.update(y) #it just updates no need of any assignment\n",
    "print(x)"
   ]
  },
  {
   "cell_type": "markdown",
   "id": "c0ff7936-9820-45c0-bbec-e6795af61928",
   "metadata": {},
   "source": [
    "Q5. What is a dictionary? Give an example. Also, state whether a dictionary is ordered or unordered.\n",
    "\n",
    "Ans. A dictionary is a collection which is ordered, changeable and do not allow duplicates. Dictionaries are used to store data values in key:value pairs."
   ]
  },
  {
   "cell_type": "code",
   "execution_count": 9,
   "id": "ffb361e4-e1e5-49ac-88ee-40fd1dd06396",
   "metadata": {},
   "outputs": [
    {
     "name": "stdout",
     "output_type": "stream",
     "text": [
      "{'brand': 'Tata', 'model': 'Nexon', 'year': 2021} <class 'dict'>\n"
     ]
    }
   ],
   "source": [
    "#dicitonary\n",
    "d1 = {\n",
    "  \"brand\": \"Tata\",\n",
    "  \"model\": \"Nexon\",\n",
    "  \"year\": 2021\n",
    "}\n",
    "print(d1,type(d1))"
   ]
  },
  {
   "cell_type": "markdown",
   "id": "f3d208df-2379-41f0-9d35-e2775ba35985",
   "metadata": {},
   "source": [
    "Q6. Can we create a nested dictionary? If so, please give an example by creating a simple one- level nested dictionary.\n",
    "\n",
    "Ans. Yes, we can create a nested dictionary."
   ]
  },
  {
   "cell_type": "code",
   "execution_count": 14,
   "id": "a5526b27-c823-4cc3-a141-4e52d47ae9ec",
   "metadata": {},
   "outputs": [
    {
     "name": "stdout",
     "output_type": "stream",
     "text": [
      "{'Tata': {'model': 'Nexon', 'year': 2021}} <class 'dict'>\n"
     ]
    }
   ],
   "source": [
    "#nested dictionary\n",
    "d2 = {\n",
    "    \"Tata\": {\n",
    "        'model': 'Nexon',\n",
    "        'year': 2021\n",
    "    }\n",
    "}\n",
    "print(d2,type(d2))"
   ]
  },
  {
   "cell_type": "markdown",
   "id": "d730990c-55eb-4553-8044-91d3fdd75dd5",
   "metadata": {},
   "source": [
    "Q7. Using setdefault() method, create key named topics in the given dictionary and also add the value of the key as this list ['Python', 'Machine Learning', 'Deep Learning]\n",
    "dict1 = {'language': 'Python', 'course': 'Data Science Masters'}"
   ]
  },
  {
   "cell_type": "code",
   "execution_count": 24,
   "id": "f71d8580-6711-4da0-ba89-d24e3b859133",
   "metadata": {},
   "outputs": [
    {
     "data": {
      "text/plain": [
       "{'language': 'Python',\n",
       " 'course': 'Data Science Masters',\n",
       " 'topics': ['Python', 'Machine Learning', 'Deep Learning']}"
      ]
     },
     "execution_count": 24,
     "metadata": {},
     "output_type": "execute_result"
    }
   ],
   "source": [
    "d1 = {\n",
    "    'language': 'Python', \n",
    "    'course': 'Data Science Masters'\n",
    "}\n",
    "l1 = ['Python', 'Machine Learning', 'Deep Learning']\n",
    "d1.setdefault('topics',l1 )\n",
    "d1"
   ]
  },
  {
   "cell_type": "markdown",
   "id": "a4ca2c6c-a1fc-4b74-829d-3e4a599d6b5b",
   "metadata": {},
   "source": [
    "Q8. What are the three view objects in dictionaries? Use the three in- built methods in python to display these three view objects for the given dictionary.\n",
    "d2 = {'Sport': 'Cricket', 'Teams': ['India', 'Australia', 'England', 'South Africa', 'Sri Lanka', 'New Zealand]}\n",
    "\n",
    "Ans. keys(), values(), items(). "
   ]
  },
  {
   "cell_type": "code",
   "execution_count": 2,
   "id": "a3245011-8093-4983-b7b8-152b2ee03877",
   "metadata": {},
   "outputs": [],
   "source": [
    "d2 = {'Sport': 'Cricket', 'Teams': ['India', 'Australia', 'England', 'South Africa', 'Sri Lanka', 'New Zealand']}"
   ]
  },
  {
   "cell_type": "code",
   "execution_count": 7,
   "id": "53ec92f4-383a-41e5-a5b1-a95666eb28fb",
   "metadata": {},
   "outputs": [
    {
     "data": {
      "text/plain": [
       "dict_keys(['Sport', 'Teams'])"
      ]
     },
     "execution_count": 7,
     "metadata": {},
     "output_type": "execute_result"
    }
   ],
   "source": [
    "d2.keys()"
   ]
  },
  {
   "cell_type": "code",
   "execution_count": 4,
   "id": "8b725c86-9b63-4350-8e59-3bfcbea20c1e",
   "metadata": {},
   "outputs": [
    {
     "data": {
      "text/plain": [
       "dict_values(['Cricket', ['India', 'Australia', 'England', 'South Africa', 'Sri Lanka', 'New Zealand']])"
      ]
     },
     "execution_count": 4,
     "metadata": {},
     "output_type": "execute_result"
    }
   ],
   "source": [
    "d2.values()"
   ]
  },
  {
   "cell_type": "code",
   "execution_count": 5,
   "id": "518a31b3-fb25-40d2-83a7-c5e96b841c7d",
   "metadata": {},
   "outputs": [
    {
     "data": {
      "text/plain": [
       "dict_items([('Sport', 'Cricket'), ('Teams', ['India', 'Australia', 'England', 'South Africa', 'Sri Lanka', 'New Zealand'])])"
      ]
     },
     "execution_count": 5,
     "metadata": {},
     "output_type": "execute_result"
    }
   ],
   "source": [
    "d2.items()"
   ]
  }
 ],
 "metadata": {
  "kernelspec": {
   "display_name": "Python 3 (ipykernel)",
   "language": "python",
   "name": "python3"
  },
  "language_info": {
   "codemirror_mode": {
    "name": "ipython",
    "version": 3
   },
   "file_extension": ".py",
   "mimetype": "text/x-python",
   "name": "python",
   "nbconvert_exporter": "python",
   "pygments_lexer": "ipython3",
   "version": "3.10.8"
  }
 },
 "nbformat": 4,
 "nbformat_minor": 5
}
