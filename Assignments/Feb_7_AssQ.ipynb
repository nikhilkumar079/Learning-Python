{
 "cells": [
  {
   "cell_type": "markdown",
   "id": "644ee8ba-b7ad-4118-b1b3-84fc570b7346",
   "metadata": {},
   "source": [
    "Q1. Create a function which will take a list as an argument and return the product of all the numbers after creating a flat list.\n",
    "Use the below-given list as an argument for your function.\n",
    "list1 = [1, 2, 3, 4, [44, 55, 66, True], False, (34, 56, 78, 89, 34), {1, 2, 3, 3, 2, 1}, {1:34, \"key2\": [55, 67, 78, 89], 4: (45,\n",
    "22, 61, 34)}, [56, 'data science'], 'Machine Learning']\n",
    "Note: you must extract numeric keys and values of the dictionary also."
   ]
  },
  {
   "cell_type": "code",
   "execution_count": 29,
   "id": "12b45b6e-31a9-4de9-b86e-53603f399c94",
   "metadata": {},
   "outputs": [
    {
     "data": {
      "text/plain": [
       "4134711838987085478833841242112000"
      ]
     },
     "execution_count": 29,
     "metadata": {},
     "output_type": "execute_result"
    }
   ],
   "source": [
    "from functools import reduce\n",
    "\n",
    "def prod(ls):\n",
    "    ls1 = []\n",
    "    for i in ls:\n",
    "        if type(i) == int:\n",
    "            ls1.append(i)\n",
    "        elif type(i) == list or type(i) == tuple or type(i) == set:\n",
    "            for j in i:\n",
    "                if type(j) == int:\n",
    "                    ls1.append(j)\n",
    "        elif type(i) == dict:\n",
    "            for k in d1.items():\n",
    "                for l in k:\n",
    "                    if type(l) == int:\n",
    "                        ls1.append(l)\n",
    "                    elif type(l) == list or type(l) == tuple or type(l) == set:\n",
    "                        for j in l:\n",
    "                            if type(j) == int:\n",
    "                                ls1.append(j)\n",
    "    p = reduce((lambda x, y: x*y), ls1)\n",
    "    return p\n",
    "\n",
    "prod([1, 2, 3, 4, [44, 55, 66, True], False, (34, 56, 78, 89, 34), {1, 2, 3, 3, 2, 1}, {1:34, \"key2\": [55, 67, 78, 89], 4: (45,\n",
    "22, 61, 34)}, [56, 'data science'], 'Machine Learning'])         "
   ]
  },
  {
   "cell_type": "code",
   "execution_count": 36,
   "id": "1ca8013e-969f-4052-a7d3-f59b937fe6c1",
   "metadata": {},
   "outputs": [
    {
     "data": {
      "text/plain": [
       "'I'"
      ]
     },
     "execution_count": 36,
     "metadata": {},
     "output_type": "execute_result"
    }
   ],
   "source": [
    "import string\n",
    "s = list(string.ascii_lowercase)\n",
    "\n",
    "def encrypt(s1):\n",
    "    for i in range(len(s1)):\n",
    "        return s1[i]\n",
    "                \n",
    "encrypt(\"I want to become a Data Scientist.\")"
   ]
  },
  {
   "cell_type": "code",
   "execution_count": 2,
   "id": "bed221db-3433-4f3a-8832-cc33be6529e3",
   "metadata": {},
   "outputs": [
    {
     "name": "stdout",
     "output_type": "stream",
     "text": [
      "['a', 'b', 'c', 'd', 'e', 'f', 'g', 'h', 'i', 'j', 'k', 'l', 'm', 'n', 'o', 'p', 'q', 'r', 's', 't', 'u', 'v', 'w', 'x', 'y', 'z']\n"
     ]
    }
   ],
   "source": [
    "import string\n",
    "ls = list(string.ascii_lowercase)\n",
    "print(ls)"
   ]
  },
  {
   "cell_type": "code",
   "execution_count": 8,
   "id": "d0efa529-5471-4cdf-920f-45f9331ff75d",
   "metadata": {},
   "outputs": [
    {
     "name": "stdout",
     "output_type": "stream",
     "text": [
      "r$dzmg$gl$yvxlnv$z$wzgz$hxrvmgrhg.\n"
     ]
    }
   ],
   "source": [
    "s = \"I want to become a Data Scientist.\"\n",
    "s = s.lower()\n",
    "e = ''\n",
    "for i in s:\n",
    "    if i in ls:\n",
    "        j = ls.index(i)\n",
    "        e+=ls[-(j+1)]\n",
    "    elif i ==' ':\n",
    "        e+='$'\n",
    "    else:\n",
    "        e+=i\n",
    "print(e)"
   ]
  },
  {
   "cell_type": "code",
   "execution_count": null,
   "id": "94a364f7-cd37-4472-b286-0f2cf8723893",
   "metadata": {},
   "outputs": [],
   "source": []
  }
 ],
 "metadata": {
  "kernelspec": {
   "display_name": "Python 3 (ipykernel)",
   "language": "python",
   "name": "python3"
  },
  "language_info": {
   "codemirror_mode": {
    "name": "ipython",
    "version": 3
   },
   "file_extension": ".py",
   "mimetype": "text/x-python",
   "name": "python",
   "nbconvert_exporter": "python",
   "pygments_lexer": "ipython3",
   "version": "3.10.8"
  }
 },
 "nbformat": 4,
 "nbformat_minor": 5
}
