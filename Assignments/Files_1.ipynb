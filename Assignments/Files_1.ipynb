{
 "cells": [
  {
   "cell_type": "markdown",
   "id": "c5c39e0b-b8d6-43f6-b4b3-3ef846a48148",
   "metadata": {},
   "source": [
    "Q1. Which function is used to open a file? What are the different modes of opening a file? Explain each mode of file opening.\n",
    "\n",
    "open() function is used to open files. The format is:\n",
    "\n",
    "my_file = open(file_name, mode)\n",
    "\n",
    "The modes for opening files are various types:\n",
    "\n",
    "r - Open a file for reading.\n",
    "\n",
    "w - Open a file for writing also, creates a new file if it does not exist or truncates the file if it exists.\n",
    "\n",
    "x - Open a file for exclusive creation. If the file already exists, the operation fails.\n",
    "\n",
    "a - Open a file for appending at the end of the file without truncating it also, creates a new file if it does not exist.\n",
    "\n",
    "t - Open in text mode.\n",
    "\n",
    "b - Open in binary mode.\n",
    "\n",
    "'+' - Open a file for updating (reading and writing)."
   ]
  },
  {
   "cell_type": "code",
   "execution_count": null,
   "id": "8ec1d5bf-ed41-4017-99bb-92cc608ebafa",
   "metadata": {},
   "outputs": [],
   "source": []
  },
  {
   "cell_type": "markdown",
   "id": "ff9e333c-2210-4cfe-b81e-5f5d311bf5d3",
   "metadata": {},
   "source": [
    "Q2. Why close() function is used? Why is it important to close a file?\n",
    "\n",
    "The close() function is used to close an open file. It is a standard practice to close an opened file as a closed file reduces the risk of being unwarrantedly modified or read. Also, It's always recommended to close a file because in some cases it's observed that due to buffering when changes are made to a file then it may not necessarily reflect until you have closed the file"
   ]
  },
  {
   "cell_type": "code",
   "execution_count": null,
   "id": "13d2d5cd-3e5e-4a69-a5bb-b92ca326acbf",
   "metadata": {},
   "outputs": [],
   "source": []
  },
  {
   "cell_type": "markdown",
   "id": "40f708ac-4482-4adc-9e07-f44000056574",
   "metadata": {},
   "source": [
    "Q3. Write a python program to create a text file. Write 'I want to become a Data Scientist' in that file. Then close the file. Open this file and read the content of the file."
   ]
  },
  {
   "cell_type": "code",
   "execution_count": 2,
   "id": "ef7fe689-f738-4063-999c-ab49c52a4197",
   "metadata": {},
   "outputs": [],
   "source": [
    "f = open('DataScientist.txt',\"w+\")\n",
    "f.write('I want to become a Data Scientist')\n",
    "f.close()"
   ]
  },
  {
   "cell_type": "code",
   "execution_count": 5,
   "id": "4fd01fcf-3a02-4351-a518-37ad4f7bef8a",
   "metadata": {},
   "outputs": [
    {
     "name": "stdout",
     "output_type": "stream",
     "text": [
      "I want to become a Data Scientist\n"
     ]
    }
   ],
   "source": [
    "f1 = open('DataScientist.txt','r')\n",
    "print(f1.read())"
   ]
  },
  {
   "cell_type": "code",
   "execution_count": null,
   "id": "d91ba6cf-a95d-46f7-9ee1-3b1ad340ae71",
   "metadata": {},
   "outputs": [],
   "source": []
  },
  {
   "cell_type": "markdown",
   "id": "40a7e851-0237-41fb-ad51-8bf4c48a7ae8",
   "metadata": {},
   "source": [
    "Q4. Explain the following with python code: read(), readline() and readlines().\n",
    "\n",
    "read() - It returns the specified number of bytes from the file. Default is -1 which means the whole file.\n",
    "\n",
    "readline() - It reads a line of the file and return it in the form of the string. It takes a parameter size, which specifies the maximum number of characters that will be read.\n",
    "\n",
    "readlines() - It is used to read all the lines at a single go and then return them as each line a string element in a list."
   ]
  },
  {
   "cell_type": "code",
   "execution_count": null,
   "id": "ffd0aab4-b3ec-4669-bde6-a6602fb9c235",
   "metadata": {},
   "outputs": [],
   "source": []
  },
  {
   "cell_type": "markdown",
   "id": "808d27c4-d027-4e75-b493-b869fe02cd45",
   "metadata": {},
   "source": [
    "Q5. Explain why with statement is used with open(). What is the advantage of using with statement and open together?\n",
    "\n",
    "The with statement is used with the open() function to open a file. The advantage in using the combination of with and open() is the with statement closes the file for you and you get to write less code. Also, it is used for exception handling."
   ]
  },
  {
   "cell_type": "code",
   "execution_count": null,
   "id": "6bbb39b6-444f-4b1b-aa9c-fac171ae8e58",
   "metadata": {},
   "outputs": [],
   "source": []
  },
  {
   "cell_type": "markdown",
   "id": "053b4a8c-092f-4bb1-927c-6d3bb9d40847",
   "metadata": {},
   "source": [
    "Q6. Explain the write and writelines functions. Give a suitable example.\n",
    "\n",
    "The write() method writes a specified text to the file.\n",
    "\n",
    "The writelines() method writes the items of a list to the file."
   ]
  },
  {
   "cell_type": "code",
   "execution_count": 7,
   "id": "7d0cc575-cccc-4ee7-b82d-827f085dd8f9",
   "metadata": {},
   "outputs": [
    {
     "name": "stdout",
     "output_type": "stream",
     "text": [
      "I want to become a Data Scientist\n",
      "I have enrolled in a course.\n"
     ]
    }
   ],
   "source": [
    "f = open(\"DataScientist.txt\",'a')\n",
    "f.write(\"\\nI have enrolled in a course.\")\n",
    "f.close()\n",
    "\n",
    "#open and read the file after the appending:\n",
    "f = open(\"DataScientist.txt\", \"r\")\n",
    "print(f.read())"
   ]
  },
  {
   "cell_type": "code",
   "execution_count": 9,
   "id": "24fc5192-2efd-4f73-a26b-f2ec66758d77",
   "metadata": {},
   "outputs": [
    {
     "name": "stdout",
     "output_type": "stream",
     "text": [
      "I want to become a Data Scientist\n",
      "I have enrolled in a course.\n",
      "It is offered by PWSkills\n",
      "I am currently learning python from the course\n",
      "I hope to become a good Data Scientist\n"
     ]
    }
   ],
   "source": [
    "f = open(\"DataScientist.txt\", \"a\")\n",
    "f.writelines([\"\\nIt is offered by PWSkills\", \"\\nI am currently learning python from the course\",'\\nI hope to become a good Data Scientist'])\n",
    "f.close()\n",
    "\n",
    "#open and read the file after the appending:\n",
    "f = open(\"DataScientist.txt\", \"r\")\n",
    "print(f.read())"
   ]
  },
  {
   "cell_type": "code",
   "execution_count": null,
   "id": "1403bff6-ace3-4a15-a396-d85ad223477c",
   "metadata": {},
   "outputs": [],
   "source": []
  }
 ],
 "metadata": {
  "kernelspec": {
   "display_name": "Python 3 (ipykernel)",
   "language": "python",
   "name": "python3"
  },
  "language_info": {
   "codemirror_mode": {
    "name": "ipython",
    "version": 3
   },
   "file_extension": ".py",
   "mimetype": "text/x-python",
   "name": "python",
   "nbconvert_exporter": "python",
   "pygments_lexer": "ipython3",
   "version": "3.10.8"
  }
 },
 "nbformat": 4,
 "nbformat_minor": 5
}
