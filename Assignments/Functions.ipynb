{
 "cells": [
  {
   "cell_type": "markdown",
   "id": "990c8dc1-d9b9-493b-9d7c-05c1ff56b48c",
   "metadata": {},
   "source": [
    "Q1. Which keyword is used to create a function? Create a function to return a list of odd numbers in the range of 1 to 25.\n",
    "\n",
    "Ans. def is the keyword used to create a function."
   ]
  },
  {
   "cell_type": "code",
   "execution_count": 1,
   "id": "902de1c4-1093-4f58-b501-fd7cc12aa3bc",
   "metadata": {},
   "outputs": [
    {
     "data": {
      "text/plain": [
       "[1, 3, 5, 7, 9, 11, 13, 15, 17, 19, 21, 23, 25]"
      ]
     },
     "execution_count": 1,
     "metadata": {},
     "output_type": "execute_result"
    }
   ],
   "source": [
    "def oddnums(n):\n",
    "    l =[]\n",
    "    for i in range(1,n+1):\n",
    "        if i % 2 != 0:\n",
    "            l.append(i)\n",
    "    return l\n",
    "oddnums(25)"
   ]
  },
  {
   "cell_type": "markdown",
   "id": "5039f53f-6811-4171-bc6e-82c6d5388d00",
   "metadata": {},
   "source": [
    "Q2. Why *args and **kwargs is used in some functions? Create a function each for *args and **kwargs to demonstrate their use.\n",
    "Ans. *args are used when we don't know the number of parameters going into the funtion.\n",
    "    **kwargs are used when we want to send parameters in form of key-value pairs."
   ]
  },
  {
   "cell_type": "code",
   "execution_count": 4,
   "id": "85660224-a898-4b56-96b5-94fdb5595ae8",
   "metadata": {},
   "outputs": [
    {
     "name": "stdout",
     "output_type": "stream",
     "text": [
      "Hello\n",
      "Welcome\n",
      "to\n",
      "GeeksforGeeks\n",
      "1\n",
      "3\n",
      "4\n",
      "6\n"
     ]
    }
   ],
   "source": [
    "def test1(*args):\n",
    "    for i in args:\n",
    "        print(i)\n",
    " \n",
    " \n",
    "test1('Hello', 'Welcome', 'to', 'GeeksforGeeks',1,3,4,6)"
   ]
  },
  {
   "cell_type": "code",
   "execution_count": 13,
   "id": "852f78ff-9be0-47c7-b8b8-af5ae8f6e31c",
   "metadata": {},
   "outputs": [
    {
     "name": "stdout",
     "output_type": "stream",
     "text": [
      "first: Apple\n",
      "middle: Mac\n",
      "last: m1\n"
     ]
    }
   ],
   "source": [
    "def test2(**kwargs):\n",
    "    for key, value in kwargs.items():\n",
    "        print(key + ': ' + value)\n",
    "        \n",
    "test2(first='Apple', middle='Mac', last='m1')\n",
    "    "
   ]
  },
  {
   "cell_type": "markdown",
   "id": "487e4df3-80b5-484e-98fd-3844c03b685e",
   "metadata": {},
   "source": [
    "Q3. What is an iterator in python? Name the method used to initialise the iterator object and the method used for iteration. Use these methods to print the first five elements of the given list [2, 4, 6, 8, 10, 12, 14, 16,\n",
    "18, 20].\n",
    "\n",
    "Ans. An iterator is an object that can be iterated upon, meaning that you can traverse through all the values. The iterator object is initialized using the iter() method. It uses the next() method for iteration.\n"
   ]
  },
  {
   "cell_type": "code",
   "execution_count": 17,
   "id": "9a9c2c60-1c89-4842-b2e4-af56bb429a07",
   "metadata": {},
   "outputs": [
    {
     "name": "stdout",
     "output_type": "stream",
     "text": [
      "2\n",
      "4\n",
      "6\n",
      "8\n",
      "10\n"
     ]
    }
   ],
   "source": [
    "ls = [2, 4, 6, 8, 10, 12, 14, 16, 18, 20]\n",
    "ls1 = iter(ls)\n",
    " \n",
    "print(next(ls1))\n",
    "print(next(ls1))\n",
    "print(next(ls1))\n",
    "print(next(ls1))\n",
    "print(next(ls1))"
   ]
  },
  {
   "cell_type": "markdown",
   "id": "7093ae75-4cb8-40e8-87c3-3595e3b632d6",
   "metadata": {},
   "source": [
    "Q4. What is a generator function in python? Why yield keyword is used? Give an example of a generator function.\n",
    "\n",
    "Ans. In Python, a generator is a function that returns an iterator that produces a sequence of values when iterated over. Generators are useful when we want to produce a large sequence of values, but we don't want to store all of them in memory at once. The yield keyword is used to produce a value from the generator."
   ]
  },
  {
   "cell_type": "code",
   "execution_count": 34,
   "id": "b3ef5988-3957-4098-849b-829f53d42047",
   "metadata": {},
   "outputs": [
    {
     "name": "stdout",
     "output_type": "stream",
     "text": [
      "4 6 "
     ]
    }
   ],
   "source": [
    "def print_even(ls):\n",
    "    for i in ls:\n",
    "        if i % 2 == 0:\n",
    "            yield i\n",
    "ls = [1, 4, 5, 6, 7]\n",
    "for j in print_even(ls):\n",
    "    print(j, end=\" \")"
   ]
  },
  {
   "cell_type": "code",
   "execution_count": 35,
   "id": "044467dc-4890-48ba-bbba-b1fa503fbed5",
   "metadata": {},
   "outputs": [
    {
     "name": "stdout",
     "output_type": "stream",
     "text": [
      "1 4 9 16 25 "
     ]
    }
   ],
   "source": [
    "def square(n):\n",
    "    for i in range(1, n+1):\n",
    "        yield i**2\n",
    "for j in square(5):\n",
    "    print(j, end=' ')"
   ]
  },
  {
   "cell_type": "markdown",
   "id": "45e07005-76c4-49e9-8499-de5ade36e1d7",
   "metadata": {},
   "source": [
    "Q5. Create a generator function for prime numbers less than 1000. Use the next method to print the first 20 prime numbers."
   ]
  },
  {
   "cell_type": "code",
   "execution_count": 57,
   "id": "5013ce0f-21e5-429b-b39d-7cb66d397f6f",
   "metadata": {},
   "outputs": [],
   "source": [
    "from math import sqrt\n",
    "def is_prime(n):\n",
    "    if (n <= 1):\n",
    "        return False\n",
    "    if (n == 2):\n",
    "        return True\n",
    "    if (n % 2 == 0):\n",
    "        return False\n",
    "\n",
    "    i = 3\n",
    "    while i <= sqrt(n):\n",
    "        if n % i == 0:\n",
    "            return False\n",
    "        i = i + 2\n",
    "    return True\n",
    "def prime_generator():\n",
    "    n = 1\n",
    "    while True:\n",
    "        n += 1\n",
    "        if is_prime(n):\n",
    "            yield n"
   ]
  },
  {
   "cell_type": "code",
   "execution_count": 59,
   "id": "0c3f200c-b83f-4e8e-8dd4-5bbb546964f2",
   "metadata": {},
   "outputs": [
    {
     "name": "stdout",
     "output_type": "stream",
     "text": [
      "2,3,5,7,11,13,17,19,23,29,31,37,41,43,47,53,59,61,67,71,"
     ]
    }
   ],
   "source": [
    "generator = prime_generator()\n",
    "for i in range(20):\n",
    "    print(next(generator), end=',')"
   ]
  }
 ],
 "metadata": {
  "kernelspec": {
   "display_name": "Python 3 (ipykernel)",
   "language": "python",
   "name": "python3"
  },
  "language_info": {
   "codemirror_mode": {
    "name": "ipython",
    "version": 3
   },
   "file_extension": ".py",
   "mimetype": "text/x-python",
   "name": "python",
   "nbconvert_exporter": "python",
   "pygments_lexer": "ipython3",
   "version": "3.10.8"
  }
 },
 "nbformat": 4,
 "nbformat_minor": 5
}
