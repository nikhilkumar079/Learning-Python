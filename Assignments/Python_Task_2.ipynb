{
 "cells": [
  {
   "cell_type": "markdown",
   "id": "6d81535a-2c35-4223-8f90-19c91140a6f0",
   "metadata": {},
   "source": [
    "Q1. You are writing code for a company. The requirement of the company is that you create a python function that will check whether the password entered by the user is correct or not. The function should take the password as input and return the string \"Valid Password\" if the entered password follows the below-given password guidelines else it should return \"Invalid Password\".\n",
    "Note: \n",
    "1. The Password should contain at least two uppercase letters and at least two lowercase letters.\n",
    "2. The Password should contain at least a number and three special characters.\n",
    "3. The length of the password should be 10 characters long."
   ]
  },
  {
   "cell_type": "code",
   "execution_count": 30,
   "id": "17a1ab83-3a31-442c-bf20-fb04548ab222",
   "metadata": {},
   "outputs": [],
   "source": [
    "import string\n",
    "ls = list(string.ascii_letters)\n",
    "def password(st):\n",
    "    a=b=c=d=0\n",
    "    if len(st) == 10:\n",
    "        for i in st:\n",
    "            if i.isupper():\n",
    "                a+=1\n",
    "            elif i.islower():\n",
    "                b+=1\n",
    "            elif i in '\"!\"#$%&\\'()*+,-./:;<=>?@[\\]^_`{|}~\"':\n",
    "                c+=1\n",
    "            elif i.isdigit():\n",
    "                d+=1\n",
    "    if a>=2 and b>=2 and c>=3 and d>=1 and a+b+c+d==len(st):\n",
    "            return 'Valid Password'\n",
    "    else:\n",
    "         return 'Invalid Password'"
   ]
  },
  {
   "cell_type": "code",
   "execution_count": 34,
   "id": "7778602b-138b-4dc5-9d07-1cebd3950aa3",
   "metadata": {},
   "outputs": [
    {
     "data": {
      "text/plain": [
       "'Valid Password'"
      ]
     },
     "execution_count": 34,
     "metadata": {},
     "output_type": "execute_result"
    }
   ],
   "source": [
    "password('RamaK@$00@')"
   ]
  },
  {
   "cell_type": "markdown",
   "id": "a439e487-b3f2-46c4-b403-335190cc9079",
   "metadata": {},
   "source": [
    "Q2. Solve the below-given questions using at least one of the following:\n",
    "1. Lambda function\n",
    "2. Filter function\n",
    "3. Map function\n",
    "4. List Comprehension"
   ]
  },
  {
   "cell_type": "code",
   "execution_count": 55,
   "id": "841ac817-667d-4a3e-b285-8294e848dd8d",
   "metadata": {},
   "outputs": [
    {
     "name": "stdout",
     "output_type": "stream",
     "text": [
      "True\n",
      "False\n"
     ]
    }
   ],
   "source": [
    "# Check if the string starts with a particular letter.\n",
    "s = lambda x: True if x.startswith('R') else False\n",
    "print(s('Rama'))\n",
    "print (s('Krsna'))"
   ]
  },
  {
   "cell_type": "code",
   "execution_count": 89,
   "id": "ef699e4e-3fc0-4349-9a6d-806f18695456",
   "metadata": {},
   "outputs": [
    {
     "data": {
      "text/plain": [
       "[True, False]"
      ]
     },
     "execution_count": 89,
     "metadata": {},
     "output_type": "execute_result"
    }
   ],
   "source": [
    "#  Check if the string is numeric.\n",
    "s = ['1000','Jan']\n",
    "s1 = map(lambda x: True if x.isnumeric() else False, s)\n",
    "list(s1)"
   ]
  },
  {
   "cell_type": "code",
   "execution_count": 77,
   "id": "49d69feb-8a80-4776-8f3f-05c35f40c10a",
   "metadata": {},
   "outputs": [
    {
     "name": "stdout",
     "output_type": "stream",
     "text": [
      "[('orange', 80), ('mango', 99), ('grapes', 1000)]\n"
     ]
    }
   ],
   "source": [
    "# Sort a list of tuples having fruit names and their quantity. \n",
    "ls = [(\"mango\",99), (\"orange\",80), (\"grapes\", 1000)]\n",
    "ls.sort(key = lambda x: x[1])\n",
    "print(ls)"
   ]
  },
  {
   "cell_type": "code",
   "execution_count": 82,
   "id": "a7bd31c1-ed3f-4089-ad9d-85041778a1db",
   "metadata": {},
   "outputs": [
    {
     "data": {
      "text/plain": [
       "[1, 4, 9, 16, 25, 36, 49, 64, 81, 100]"
      ]
     },
     "execution_count": 82,
     "metadata": {},
     "output_type": "execute_result"
    }
   ],
   "source": [
    "# Find the squares of numbers from 1 to 10.\n",
    "ls = map(lambda x: x**2, range(1,11))\n",
    "list(ls)"
   ]
  },
  {
   "cell_type": "code",
   "execution_count": 87,
   "id": "59c45140-f3e1-420f-a6f3-597c268209b1",
   "metadata": {},
   "outputs": [
    {
     "name": "stdout",
     "output_type": "stream",
     "text": [
      "[1, 8, 27, 64, 125, 216, 343, 512, 729, 1000]\n"
     ]
    }
   ],
   "source": [
    "# Find the cube root of numbers from 1 to 10.\n",
    "print([i**3 for i in list(range(1,11))])"
   ]
  },
  {
   "cell_type": "code",
   "execution_count": 103,
   "id": "7da8add1-8bf3-45c7-a0f5-d26668f8002e",
   "metadata": {},
   "outputs": [
    {
     "data": {
      "text/plain": [
       "True"
      ]
     },
     "execution_count": 103,
     "metadata": {},
     "output_type": "execute_result"
    }
   ],
   "source": [
    "# Check if a given number is even.\n",
    "s = lambda x: x % 2 == 0\n",
    "s(12)"
   ]
  },
  {
   "cell_type": "code",
   "execution_count": 95,
   "id": "d4958437-fa31-42b7-bf66-e1ba4c80f847",
   "metadata": {},
   "outputs": [
    {
     "name": "stdout",
     "output_type": "stream",
     "text": [
      "[1, 3, 5, 7, 9]\n"
     ]
    }
   ],
   "source": [
    "# Filter odd numbers from the given list.\n",
    "print(list(filter(lambda x: x % 2 != 0,[1,2,3,4,5,6,7,8,9,10])))"
   ]
  },
  {
   "cell_type": "code",
   "execution_count": 118,
   "id": "2088aaf6-6437-4455-b743-82eca51767a7",
   "metadata": {},
   "outputs": [
    {
     "data": {
      "text/plain": [
       "[-1, -2, -3, -4, -5]"
      ]
     },
     "execution_count": 118,
     "metadata": {},
     "output_type": "execute_result"
    }
   ],
   "source": [
    "# Sort a list of integers into positive and negative integers lists.\n",
    "ls = [1,2,3,4,5,6,-1,-2,-3,-4,-5,0]\n",
    "pos = [i for i in ls if i > 0 ]\n",
    "neg = [x for x in ls if x < 0]\n",
    "neg"
   ]
  },
  {
   "cell_type": "code",
   "execution_count": 114,
   "id": "2fbd8e23-3e58-4836-9bc3-e17a0563c590",
   "metadata": {},
   "outputs": [
    {
     "data": {
      "text/plain": [
       "[1, 2, 3, 4, 5, 6]"
      ]
     },
     "execution_count": 114,
     "metadata": {},
     "output_type": "execute_result"
    }
   ],
   "source": [
    "pos"
   ]
  }
 ],
 "metadata": {
  "kernelspec": {
   "display_name": "Python 3 (ipykernel)",
   "language": "python",
   "name": "python3"
  },
  "language_info": {
   "codemirror_mode": {
    "name": "ipython",
    "version": 3
   },
   "file_extension": ".py",
   "mimetype": "text/x-python",
   "name": "python",
   "nbconvert_exporter": "python",
   "pygments_lexer": "ipython3",
   "version": "3.10.8"
  }
 },
 "nbformat": 4,
 "nbformat_minor": 5
}
