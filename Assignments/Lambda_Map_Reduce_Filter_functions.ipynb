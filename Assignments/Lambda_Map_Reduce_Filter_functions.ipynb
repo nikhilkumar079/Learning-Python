{
 "cells": [
  {
   "cell_type": "markdown",
   "id": "1639acf9-aec9-4a78-beb1-b09d73b48823",
   "metadata": {},
   "source": [
    "Q1. Create a python program to sort the given list of tuples based on integer value using a lambda function.\n",
    "[(Sachin Tendulkar', 34357), ('Ricky Ponting', 27483), ('Jack Kallis', 25534), ('Virat Kohli', 24936)]"
   ]
  },
  {
   "cell_type": "code",
   "execution_count": 16,
   "id": "9577bc79-ab78-4235-bec5-2c19114b945b",
   "metadata": {},
   "outputs": [
    {
     "name": "stdout",
     "output_type": "stream",
     "text": [
      "[('Virat Kohli', 24936), ('Jack Kallis', 25534), ('Ricky Ponting', 27483), ('Sachin Tendulkar', 34357)]\n"
     ]
    }
   ],
   "source": [
    "ls = [('Sachin Tendulkar', 34357), ('Ricky Ponting', 27483), ('Jack Kallis', 25534), ('Virat Kohli', 24936)]\n",
    "ls.sort(key = lambda x: x[1])\n",
    "print(ls)"
   ]
  },
  {
   "cell_type": "markdown",
   "id": "82d1af87-34d5-428f-8f2c-0ea4f2ffb54b",
   "metadata": {},
   "source": [
    "Q2. Write a Python Program to find the squares of all the numbers in the given list of integers using lambda and map functions.\n",
    "[1, 2, 3, 4, 5, 6, 7, 8, 9, 10]"
   ]
  },
  {
   "cell_type": "code",
   "execution_count": 25,
   "id": "6c4636ce-8eaa-4e21-bcb9-01b1851781a3",
   "metadata": {},
   "outputs": [
    {
     "name": "stdout",
     "output_type": "stream",
     "text": [
      "[1, 4, 9, 16, 25, 36, 49, 64, 81, 100]\n"
     ]
    }
   ],
   "source": [
    "l = [1, 2, 3, 4, 5, 6, 7, 8, 9, 10]\n",
    "ls = list(map(lambda x: x**2, l))\n",
    "print(ls)"
   ]
  },
  {
   "cell_type": "markdown",
   "id": "f658b801-8976-463a-b436-6920a57c0fad",
   "metadata": {},
   "source": [
    "Q3. Write a python program to convert the given list of integers into a tuple of strings. Use map and lambda functions\n",
    "Given String: [1, 2, 3, 4, 5, 6, 7, 8, 9, 10]\n",
    "Expected output: ('1', '2, 3', '4', '5', '6', '7', '8', '9', '10')"
   ]
  },
  {
   "cell_type": "code",
   "execution_count": 28,
   "id": "f955468f-c69e-496b-8bf9-d91c10a24cd0",
   "metadata": {},
   "outputs": [
    {
     "name": "stdout",
     "output_type": "stream",
     "text": [
      "('1', '2', '3', '4', '5', '6', '7', '8', '9', '10')\n"
     ]
    }
   ],
   "source": [
    "ls = [1, 2, 3, 4, 5, 6, 7, 8, 9, 10]\n",
    "t1 = tuple(map(lambda x: str(x), ls))\n",
    "print(t1)"
   ]
  },
  {
   "cell_type": "markdown",
   "id": "79889885-ee51-4316-a181-ea4cfc7eebe0",
   "metadata": {},
   "source": [
    "Q4. Write a python program using reduce function to compute the product of a list containing numbers from 1 to 25."
   ]
  },
  {
   "cell_type": "code",
   "execution_count": 37,
   "id": "121a5fa1-ab67-4e96-9062-65a4bc6491ff",
   "metadata": {},
   "outputs": [
    {
     "name": "stdout",
     "output_type": "stream",
     "text": [
      "15511210043330985984000000\n"
     ]
    }
   ],
   "source": [
    "from functools import reduce\n",
    "ls = list(range(1,26))\n",
    "prod = reduce((lambda x, y: x * y), ls)\n",
    "print(prod)"
   ]
  },
  {
   "cell_type": "markdown",
   "id": "bd4f1062-515e-4fe7-8d0c-3bb527551565",
   "metadata": {},
   "source": [
    "Q5. Write a python program to filter the numbers in a given list that are divisible by 2 and 3 using the filter function.\n",
    "[2, 3, 6, 9, 27, 60, 90, 120, 55, 46]"
   ]
  },
  {
   "cell_type": "code",
   "execution_count": 40,
   "id": "99d80dab-d3e0-4bd9-8f7c-b34656c6d36d",
   "metadata": {},
   "outputs": [
    {
     "name": "stdout",
     "output_type": "stream",
     "text": [
      "[6, 60, 90, 120]\n"
     ]
    }
   ],
   "source": [
    "ls = [2, 3, 6, 9, 27, 60, 90, 120, 55, 46]\n",
    "res = list(filter(lambda x: (x%2==0 and x%3==0), ls))\n",
    "print(res)"
   ]
  },
  {
   "cell_type": "markdown",
   "id": "d818e54f-f4b5-4cbb-bcfa-c71960776294",
   "metadata": {},
   "source": [
    "Q6. Write a python program to find palindromes in the given list of strings using lambda and filter function.\n",
    "['python', 'php', 'aba', 'radar', 'level']"
   ]
  },
  {
   "cell_type": "code",
   "execution_count": 43,
   "id": "1ed0ac99-376b-418f-9cd3-045b33f8f5ac",
   "metadata": {},
   "outputs": [
    {
     "name": "stdout",
     "output_type": "stream",
     "text": [
      "['php', 'aba', 'radar', 'level']\n"
     ]
    }
   ],
   "source": [
    "ls = ['python', 'php', 'aba', 'radar', 'level']\n",
    "ls1 = list(filter(lambda x: (x == x[::-1]),ls))\n",
    "print(ls1)"
   ]
  }
 ],
 "metadata": {
  "kernelspec": {
   "display_name": "Python 3 (ipykernel)",
   "language": "python",
   "name": "python3"
  },
  "language_info": {
   "codemirror_mode": {
    "name": "ipython",
    "version": 3
   },
   "file_extension": ".py",
   "mimetype": "text/x-python",
   "name": "python",
   "nbconvert_exporter": "python",
   "pygments_lexer": "ipython3",
   "version": "3.10.8"
  }
 },
 "nbformat": 4,
 "nbformat_minor": 5
}
